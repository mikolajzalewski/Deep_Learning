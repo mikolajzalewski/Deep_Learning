{
 "cells": [
  {
   "cell_type": "code",
   "execution_count": 1,
   "metadata": {},
   "outputs": [],
   "source": [
    "import torch\n",
    "import numpy as np\n",
    "import torch.optim as optim\n",
    "import torch.nn as nn\n",
    "from sklearn.model_selection import ParameterGrid\n",
    "from torch.utils.data import Dataset, DataLoader\n",
    "from torch.optim.lr_scheduler import StepLR\n",
    "import datasets\n",
    "import weighted_random_search"
   ]
  },
  {
   "cell_type": "code",
   "execution_count": 3,
   "metadata": {},
   "outputs": [],
   "source": [
    "import import_ipynb\n",
    "from CNN import CNN_3_class"
   ]
  },
  {
   "cell_type": "code",
   "execution_count": 19,
   "metadata": {},
   "outputs": [],
   "source": [
    "class Net_wrapper:\n",
    "    \"\"\" \n",
    "    Wrapper for neural network model. It combines the model itself (nn.Module) together with\n",
    "    optimizer, loss function and training parameters (such as max_epochs, learning rate and batch size)\n",
    "    \"\"\"\n",
    "        \n",
    "    def __init__(self, model=CNN_3_class, criterion=nn.CrossEntropyLoss, optimizer=optim.Adam,\n",
    "                 max_epochs=5, batch_size=32, learning_rate=0.001, step_size=10, gamma=0.5, **kwargs):\n",
    "        if kwargs:\n",
    "            self.model_params = kwargs\n",
    "        else:\n",
    "            self.model_params = {}\n",
    "        self.model = model\n",
    "        self.criterion = criterion\n",
    "        self.optimizer = optimizer\n",
    "        self.max_epochs = max_epochs\n",
    "        self.batch_size = batch_size\n",
    "        self.learning_rate = learning_rate\n",
    "        self.scheduler_step_size=step_size\n",
    "        self.scheduler_gamma=gamma\n",
    "    \n",
    "    def __setattr__(self, name, value):\n",
    "        self.__dict__[name] = value\n",
    "\n",
    "    def score(self, train_dataset, val_dataset):\n",
    "        \"\"\"\n",
    "        Train model on train_dataset and calculate validation acurracy on val_dataset. \n",
    "        \"\"\"\n",
    "        if self.model_params:\n",
    "            model = self.model(**self.model_params)\n",
    "            \n",
    "        else:\n",
    "            model = self.model()\n",
    "            \n",
    "        optimizer = self.optimizer(model.parameters(), lr=self.learning_rate)\n",
    "        scheduler = StepLR(optimizer, step_size=self.scheduler_step_size, gamma=self.scheduler_gamma)\n",
    "        \n",
    "        train_loader = DataLoader(train_dataset, batch_size=self.batch_size, shuffle=True)\n",
    "        val_loader = DataLoader(val_dataset, batch_size=self.batch_size, shuffle=False)\n",
    "\n",
    "        for epoch in range(self.max_epochs):\n",
    "            train_accuracies = []\n",
    "            for data in train_loader:\n",
    "                results = model.train_step(data, optimizer, self.criterion())\n",
    "                train_accuracies.append(results['accuracy'].item())\n",
    "\n",
    "            # Calculate average training loss and accuracy for the epoch\n",
    "            avg_train_accuracy = sum(train_accuracies) / len(train_accuracies)\n",
    "    \n",
    "\n",
    "            # Test the model\n",
    "            val_accuracies = []\n",
    "            \n",
    "            with torch.no_grad():\n",
    "                for data in val_loader:\n",
    "                    results = model.test_step(data, self.criterion())\n",
    "                    val_accuracies.append(results['accuracy'].item())\n",
    "\n",
    "            # Calculate average test loss and accuracy for the epoch\n",
    "            avg_validation_accuracy = sum(val_accuracies) / len(val_accuracies)\n",
    "\n",
    "            scheduler.step()\n",
    "\n",
    "        return avg_train_accuracy, avg_validation_accuracy\n",
    "        \n",
    "    "
   ]
  },
  {
   "cell_type": "code",
   "execution_count": 29,
   "metadata": {},
   "outputs": [],
   "source": [
    "class GridSearch():\n",
    "    \"\"\"\n",
    "    Class used to perform grid search on neural networks \n",
    "\n",
    "    Attributes:\n",
    "    self.net - Net_wrapper instance\n",
    "    self.param_grid - dictionary of parameters we want to search\n",
    "    self.scores - list for scores of each set of parameters\n",
    "    self.best_score - best score out of all parameters\n",
    "    self.best_params - best set of parameters\n",
    "    self.verbose - if set to 1 additional information (parameter set and accuracy) prints with each iteration of grid search. \n",
    "    \"\"\"\n",
    "    def __init__(self, net: Net_wrapper, param_grid, step_by_step=False, verbose=1):\n",
    "        \"\"\"\n",
    "\n",
    "        \"\"\"\n",
    "        self.net = net\n",
    "        self.param_grid = param_grid\n",
    "        self.scores = []\n",
    "        self.best_score = 0\n",
    "        self.best_params = {}\n",
    "        self.step_by_step = step_by_step\n",
    "        self.verbose = verbose\n",
    "\n",
    "\n",
    "    def fit(self, train_dataset, val_dataset):\n",
    "        \"\"\"\n",
    "        Fit the grid search with train and validation dataset. \n",
    "        Search for optimal parameters for neural network declared during \n",
    "        initialization of GridSearch instance.\n",
    "        \"\"\"\n",
    "        if self.step_by_step==False:\n",
    "            for params in ParameterGrid(self.param_grid):\n",
    "                for hyp_name, hyp_val in params.items():\n",
    "                    if hasattr(self.net, hyp_name):\n",
    "                        setattr(self.net, hyp_name, hyp_val)\n",
    "                    else:\n",
    "                        self.net.model_params[hyp_name] = hyp_val\n",
    "\n",
    "                _, val_accuracy = self.net.score(train_dataset, val_dataset)\n",
    "                self.scores.append(val_accuracy)\n",
    "                if val_accuracy > self.best_score:\n",
    "                    self.best_score = val_accuracy\n",
    "                    self.best_params = params\n",
    "                if self.verbose == 1:\n",
    "                    print('Parameter set:', params)\n",
    "                    print(f'val_accuracy: {val_accuracy:.4f}')\n",
    "        else:\n",
    "            \n",
    "            for hyp_name, hyp_vals in self.param_grid.items():\n",
    "                score = 0\n",
    "                for hyp_val in hyp_vals:\n",
    "                    if hasattr(self.net, hyp_name):\n",
    "                        setattr(self.net, hyp_name, hyp_val)\n",
    "                    else:\n",
    "                        self.net.model_params[hyp_name] = hyp_val \n",
    "\n",
    "                    val_loss, val_accuracy = self.net.score(train_dataset, val_dataset)\n",
    "                    self.scores.append(val_accuracy)\n",
    "                    \n",
    "                    if val_accuracy > score:\n",
    "                        if score > self.best_score:\n",
    "                            self.best_score = score\n",
    "                        score = val_accuracy\n",
    "                        self.best_params[hyp_name] = hyp_val\n",
    "                    \n",
    "                    if self.verbose == 1:\n",
    "                        print(f'Current parameter: {hyp_name}:', hyp_val, f'val_accuracy: {val_accuracy:.4f}', f'val_loss: {val_loss:.4f}')\n",
    "                        print(f'Best parameters till now:{self.best_params}')\n",
    "                \n",
    "                if hasattr(self.net, hyp_name):\n",
    "                    setattr(self.net, hyp_name, self.best_params[hyp_name])\n",
    "                    print(getattr(self.net, hyp_name))\n",
    "                else:\n",
    "                    self.net.model_params[hyp_name] = self.best_params[hyp_name]\n",
    "\n",
    "        return self"
   ]
  },
  {
   "cell_type": "code",
   "execution_count": 6,
   "metadata": {},
   "outputs": [],
   "source": [
    "from weighted_random_search import wrs\n",
    "\n",
    "class WeightedRandomSearch():\n",
    "    \"\"\"\n",
    "    Class used to perform grid search on neural networks \n",
    "\n",
    "    Attributes:\n",
    "    self.net - Net_wrapper instance\n",
    "    self.param_grid - dictionary of parameters we want to search\n",
    "    self.scores - list for scores of each set of parameters\n",
    "    self.best_score - best score out of all parameters\n",
    "    self.best_params - best set of parameters\n",
    "    self.verbose - if set to 1 additional information (parameter set and accuracy) prints with each iteration of grid search. \n",
    "    \"\"\"\n",
    "    def __init__(self, net, param_grid, verbose=1):\n",
    "        \"\"\"\n",
    "\n",
    "        \"\"\"\n",
    "        self.net = net\n",
    "        self.param_grid = param_grid\n",
    "        self.scores = []\n",
    "        self.best_score = 0\n",
    "        self.best_params = None\n",
    "        self.verbose = verbose\n",
    "\n",
    "    def fit(self, train_dataset, val_dataset, N, N_0):\n",
    "        \"\"\"\n",
    "        Fit the grid search with train and validation dataset. \n",
    "        Search for optimal parameters for neural network declared during \n",
    "        initialization of GridSearch instance.\n",
    "        \"\"\"\n",
    "        def goal_function(params):\n",
    "            \n",
    "            for hyp_name, hyp_val in params.items():\n",
    "                if hasattr(self.net, hyp_name):\n",
    "                    setattr(self.net, hyp_name, hyp_val)\n",
    "                else:\n",
    "                    self.net.model_params[hyp_name] = hyp_val\n",
    "            \n",
    "            return self.net.score(train_dataset, val_dataset)[1]\n",
    "            \n",
    "        self.best_params, self.best_score = wrs(F=goal_function, N=N, N_0=N_0, param_grid=self.param_grid )\n",
    "        \n",
    "        return self"
   ]
  },
  {
   "attachments": {},
   "cell_type": "markdown",
   "metadata": {},
   "source": [
    "### Example hyperparameters (from most to least important):"
   ]
  },
  {
   "cell_type": "code",
   "execution_count": 6,
   "metadata": {},
   "outputs": [],
   "source": [
    "hyperparams1 = {'learning_rate': [0.001, 0.005, 0.01],\n",
    "               'batch_size': [8, 32, 64],\n",
    "               'max_epochs': [5, 10, 15]}\n",
    "\n",
    "hyperparams2 = {\n",
    "                'no_neurons': [25, 50, 100],\n",
    "                'kernel_size': [2, 3, 5],\n",
    "                'number_of_filters': [16, 32, 64]\n",
    "                }\n",
    "\n",
    "hyperparams3 = {\n",
    "               'optimizer': [optim.Adam, optim.Adagrad, optim.SGD],\n",
    "               'activation_func': [nn.ReLU, nn.LeakyReLU, nn.Tanh],\n",
    "               'dropout_rate': [0.0, 0.25, 0.5]}\n",
    "\n"
   ]
  },
  {
   "attachments": {},
   "cell_type": "markdown",
   "metadata": {},
   "source": [
    "### Sample for testing GridSearch"
   ]
  },
  {
   "cell_type": "code",
   "execution_count": 8,
   "metadata": {},
   "outputs": [],
   "source": [
    "train_dataset = datasets.cifar_train\n",
    "val_dataset = datasets.cifar_val"
   ]
  },
  {
   "cell_type": "code",
   "execution_count": 9,
   "metadata": {},
   "outputs": [],
   "source": [
    "from torch.utils.data import DataLoader, SubsetRandomSampler, Subset\n",
    "\n",
    "subset_indices = list(range(500))\n",
    "subset_sampler = SubsetRandomSampler(subset_indices)\n",
    "\n",
    "subset_train_dataset = Subset(train_dataset, subset_indices)\n",
    "subset_val_dataset = Subset(val_dataset, subset_indices)"
   ]
  },
  {
   "attachments": {},
   "cell_type": "markdown",
   "metadata": {},
   "source": [
    "### GridSearch test"
   ]
  },
  {
   "cell_type": "code",
   "execution_count": 30,
   "metadata": {},
   "outputs": [
    {
     "name": "stdout",
     "output_type": "stream",
     "text": [
      "Current parameter: learning_rate: 0.001 val_accuracy: 0.3199 val_loss: 0.4449\n",
      "Best parameters till now:{'learning_rate': 0.001}\n",
      "Current parameter: learning_rate: 0.005 val_accuracy: 0.2973 val_loss: 0.3551\n",
      "Best parameters till now:{'learning_rate': 0.001}\n",
      "Current parameter: learning_rate: 0.01 val_accuracy: 0.1008 val_loss: 0.1277\n",
      "Best parameters till now:{'learning_rate': 0.001}\n",
      "0.001\n",
      "Current parameter: batch_size: 8 val_accuracy: 0.3750 val_loss: 0.5496\n",
      "Best parameters till now:{'learning_rate': 0.001, 'batch_size': 8}\n",
      "Current parameter: batch_size: 32 val_accuracy: 0.3234 val_loss: 0.4363\n",
      "Best parameters till now:{'learning_rate': 0.001, 'batch_size': 8}\n",
      "Current parameter: batch_size: 64 val_accuracy: 0.2828 val_loss: 0.3831\n",
      "Best parameters till now:{'learning_rate': 0.001, 'batch_size': 8}\n",
      "8\n",
      "Current parameter: no_neurons: 64 val_accuracy: 0.3234 val_loss: 0.4901\n",
      "Best parameters till now:{'learning_rate': 0.001, 'batch_size': 8, 'no_neurons': 64}\n",
      "Current parameter: no_neurons: 128 val_accuracy: 0.3552 val_loss: 0.4960\n",
      "Best parameters till now:{'learning_rate': 0.001, 'batch_size': 8, 'no_neurons': 128}\n"
     ]
    }
   ],
   "source": [
    "test_hyper_params = {'learning_rate': [0.001, 0.003, 0.005, 0.01], 'batch_size': [8, 32, 64], 'no_neurons': [64, 128] }\n",
    "my_net = Net_wrapper(model=CNN_3_class)\n",
    "gs = GridSearch(net=my_net, param_grid=test_hyper_params, step_by_step=True, verbose=1)\n",
    "gs = gs.fit(train_dataset, val_dataset)"
   ]
  },
  {
   "cell_type": "code",
   "execution_count": 31,
   "metadata": {},
   "outputs": [
    {
     "name": "stdout",
     "output_type": "stream",
     "text": [
      "0.32341269841269843\n",
      "{'learning_rate': 0.001, 'batch_size': 8, 'no_neurons': 128}\n"
     ]
    }
   ],
   "source": [
    "print(gs.best_score)\n",
    "print(gs.best_params)"
   ]
  },
  {
   "cell_type": "code",
   "execution_count": 28,
   "metadata": {},
   "outputs": [
    {
     "name": "stdout",
     "output_type": "stream",
     "text": [
      "{'learning_rate': 0.01, 'batch_size': 64, 'no_neurons': 64} 0.11944110598415136\n",
      "{'learning_rate': 0.005, 'batch_size': 64, 'no_neurons': 64} 0.28305288404226303\n",
      "{'learning_rate': 0.005, 'batch_size': 64, 'no_neurons': 64} 0.28305288404226303\n",
      "{'learning_rate': 0.005, 'batch_size': 64, 'no_neurons': 64} 0.28305288404226303\n",
      "{'learning_rate': 0.005, 'batch_size': 64, 'no_neurons': 64} 0.28305288404226303\n",
      "{'learning_rate': 0.005, 'batch_size': 64, 'no_neurons': 64} 0.28305288404226303\n",
      "{'learning_rate': 0.005, 'batch_size': 64, 'no_neurons': 64} 0.28305288404226303\n",
      "{'learning_rate': 0.005, 'batch_size': 64, 'no_neurons': 64} 0.28305288404226303\n",
      "{'learning_rate': 0.005, 'batch_size': 64, 'no_neurons': 64} 0.28305288404226303\n",
      "{'learning_rate': 0.005, 'batch_size': 64, 'no_neurons': 64} 0.28305288404226303\n",
      "{'learning_rate': 0.005, 'batch_size': 64, 'no_neurons': 64} 0.28305288404226303\n"
     ]
    },
    {
     "data": {
      "text/plain": [
       "<__main__.WeightedRandomSearch at 0x23a32821750>"
      ]
     },
     "execution_count": 28,
     "metadata": {},
     "output_type": "execute_result"
    }
   ],
   "source": [
    "my_net = Net_wrapper()\n",
    "param_grid = {'lr': [0.01, 0.05, 0.1, 0.5, 1, 2], 'batch_size': [16, 32, 64, 128, 256]}\n",
    "w = WeightedRandomSearch(net=my_net, param_grid=test_hyper_params)\n",
    "N, N_0 = 10, 3\n",
    "w.fit(subset_train_dataset, subset_val_dataset, N, N_0)"
   ]
  },
  {
   "cell_type": "code",
   "execution_count": 29,
   "metadata": {},
   "outputs": [
    {
     "data": {
      "text/plain": [
       "{'learning_rate': 0.005, 'batch_size': 64, 'no_neurons': 64}"
      ]
     },
     "execution_count": 29,
     "metadata": {},
     "output_type": "execute_result"
    }
   ],
   "source": [
    "w.best_params"
   ]
  }
 ],
 "metadata": {
  "kernelspec": {
   "display_name": "venv",
   "language": "python",
   "name": "python3"
  },
  "language_info": {
   "codemirror_mode": {
    "name": "ipython",
    "version": 3
   },
   "file_extension": ".py",
   "mimetype": "text/x-python",
   "name": "python",
   "nbconvert_exporter": "python",
   "pygments_lexer": "ipython3",
   "version": "3.10.7"
  },
  "orig_nbformat": 4
 },
 "nbformat": 4,
 "nbformat_minor": 2
}
