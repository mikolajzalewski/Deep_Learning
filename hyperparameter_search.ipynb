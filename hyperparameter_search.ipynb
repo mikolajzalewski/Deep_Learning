{
 "cells": [
  {
   "cell_type": "code",
   "execution_count": 2,
   "metadata": {},
   "outputs": [],
   "source": [
    "import torch\n",
    "import numpy as np\n",
    "import torch.optim as optim\n",
    "import torch.nn as nn\n",
    "from sklearn.model_selection import ParameterGrid\n",
    "from torch.utils.data import Dataset, DataLoader\n",
    "\n",
    "import datasets\n",
    "import weighted_random_search"
   ]
  },
  {
   "cell_type": "code",
   "execution_count": 4,
   "metadata": {},
   "outputs": [],
   "source": [
    "import import_ipynb\n",
    "from CNN import CNN_3_class"
   ]
  },
  {
   "cell_type": "code",
   "execution_count": 5,
   "metadata": {},
   "outputs": [],
   "source": [
    "class Net_wrapper:\n",
    "    \"\"\" \n",
    "    Wrapper for neural network model. It combines the model itself (nn.Module) together with\n",
    "    optimizer, loss function and training parameters (such as max_epochs, learning rate and batch size)\n",
    "    \"\"\"\n",
    "        \n",
    "    def __init__(self, model=CNN_3_class, criterion=nn.CrossEntropyLoss, optimizer=optim.Adam,\n",
    "                 max_epochs=2, batch_size=32, learning_rate=0.001, **kwargs):\n",
    "        self.model_params = kwargs\n",
    "        self.model = model\n",
    "        self.criterion = criterion\n",
    "        self.optimizer = optimizer\n",
    "        self.max_epochs = max_epochs\n",
    "        self.batch_size = batch_size\n",
    "        self.learning_rate = learning_rate\n",
    "    \n",
    "    def __setattr__(self, name, value):\n",
    "        self.__dict__[name] = value\n",
    "\n",
    "    def score(self, train_dataset, val_dataset):\n",
    "        \"\"\"\n",
    "        Train model on train_dataset and calculate validation acurracy on val_dataset. \n",
    "        \"\"\"\n",
    "        if self.model_params:\n",
    "            model = self.model(self.model_params)\n",
    "            \n",
    "        else:\n",
    "            model = self.model()\n",
    "            \n",
    "        optimizer = self.optimizer(model.parameters(), lr=self.learning_rate)\n",
    "        \n",
    "        train_loader = DataLoader(train_dataset, batch_size=self.batch_size, shuffle=True)\n",
    "        val_loader = DataLoader(val_dataset, batch_size=self.batch_size, shuffle=False)\n",
    "\n",
    "        for epoch in range(self.max_epochs):\n",
    "            # print(f'Epoch {epoch+1}/{self.max_epochs}')\n",
    "            train_accuracies = []\n",
    "            for data in train_loader:\n",
    "                results = model.train_step(data, optimizer, self.criterion())\n",
    "                train_accuracies.append(results['accuracy'].item())\n",
    "\n",
    "            # Calculate average training loss and accuracy for the epoch\n",
    "            avg_train_accuracy = sum(train_accuracies) / len(train_accuracies)\n",
    "            # print(f'Train loss: {avg_train_loss:.4f}, Train accuracy: {avg_train_accuracy:.4f}')\n",
    "\n",
    "            # Test the model\n",
    "            val_accuracies = []\n",
    "            \n",
    "            with torch.no_grad():\n",
    "                for data in val_loader:\n",
    "                    results = model.test_step(data, self.criterion())\n",
    "                    val_accuracies.append(results['accuracy'].item())\n",
    "\n",
    "            # Calculate average test loss and accuracy for the epoch\n",
    "            avg_validation_accuracy = sum(val_accuracies) / len(val_accuracies)\n",
    "            # print(f'Validation loss: {avg_validation_loss:.4f}, Validation accuracy: {avg_validation_accuracy:.4f}')\n",
    "\n",
    "        return avg_train_accuracy, avg_validation_accuracy\n",
    "        \n",
    "    "
   ]
  },
  {
   "cell_type": "code",
   "execution_count": 6,
   "metadata": {},
   "outputs": [],
   "source": [
    "class GridSearch():\n",
    "    \"\"\"\n",
    "    Class used to perform grid search on neural networks \n",
    "\n",
    "    Attributes:\n",
    "    self.net - Net_wrapper instance\n",
    "    self.param_grid - dictionary of parameters we want to search\n",
    "    self.scores - list for scores of each set of parameters\n",
    "    self.best_score - best score out of all parameters\n",
    "    self.best_params - best set of parameters\n",
    "    self.verbose - if set to 1 additional information (parameter set and accuracy) prints with each iteration of grid search. \n",
    "    \"\"\"\n",
    "    def __init__(self, net: Net_wrapper, param_grid, verbose=1):\n",
    "        \"\"\"\n",
    "\n",
    "        \"\"\"\n",
    "        self.net = net\n",
    "        self.param_grid = ParameterGrid(param_grid)\n",
    "        self.scores = []\n",
    "        self.best_score = 0\n",
    "        self.best_params = None\n",
    "        self.verbose = verbose\n",
    "\n",
    "    def fit(self, train_dataset, val_dataset):\n",
    "        \"\"\"\n",
    "        Fit the grid search with train and validation dataset. \n",
    "        Search for optimal parameters for neural network declared during \n",
    "        initialization of GridSearch instance.\n",
    "        \"\"\"\n",
    "        \n",
    "        for params in self.param_grid:\n",
    "            for hyp_name, hyp_val in params.items():\n",
    "                if hasattr(self.net, hyp_name):\n",
    "                    setattr(self.net, hyp_name, hyp_val)\n",
    "                else:\n",
    "                    setattr(self.net.model, hyp_name, hyp_val)\n",
    "            _, val_accuracy = self.net.score(train_dataset, val_dataset)\n",
    "            self.scores.append(val_accuracy)\n",
    "            if val_accuracy > self.best_score:\n",
    "                self.best_score = val_accuracy\n",
    "                self.best_params = params\n",
    "            if self.verbose == 1:\n",
    "                print('Parameter set:', params)\n",
    "                print(f'val_accuracy: {val_accuracy:.4f}')\n",
    "        \n",
    "        return self"
   ]
  },
  {
   "attachments": {},
   "cell_type": "markdown",
   "metadata": {},
   "source": [
    "### Example hyperparameters (from most to least important):"
   ]
  },
  {
   "cell_type": "code",
   "execution_count": 7,
   "metadata": {},
   "outputs": [],
   "source": [
    "hyperparams1 = {'learning_rate': [0.001, 0.005, 0.01],\n",
    "               'batch_size': [8, 32, 64],\n",
    "               'max_epochs': [5, 10, 15]}\n",
    "\n",
    "hyperparams2 = {\n",
    "                'no_neurons': [25, 50, 100],\n",
    "                'kernel_size': [2, 3, 5],\n",
    "                'number_of_filters': [16, 32, 64]\n",
    "                }\n",
    "\n",
    "hyperparams3 = {\n",
    "               'optimizer': [optim.Adam, optim.Adagrad, optim.SGD],\n",
    "               'activation_func': [nn.ReLU, nn.LeakyReLU, nn.Tanh],\n",
    "               'dropout_rate': [0.0, 0.25, 0.5]}\n",
    "\n"
   ]
  },
  {
   "attachments": {},
   "cell_type": "markdown",
   "metadata": {},
   "source": [
    "### Sample for testing GridSearch"
   ]
  },
  {
   "cell_type": "code",
   "execution_count": 8,
   "metadata": {},
   "outputs": [],
   "source": [
    "train_dataset = datasets.cifar_train\n",
    "val_dataset = datasets.cifar_val"
   ]
  },
  {
   "cell_type": "code",
   "execution_count": 10,
   "metadata": {},
   "outputs": [],
   "source": [
    "from torch.utils.data import DataLoader, SubsetRandomSampler, Subset\n",
    "\n",
    "subset_indices = list(range(500))\n",
    "subset_sampler = SubsetRandomSampler(subset_indices)\n",
    "\n",
    "subset_train_dataset = Subset(train_dataset, subset_indices)\n",
    "subset_val_dataset = Subset(val_dataset, subset_indices)"
   ]
  },
  {
   "attachments": {},
   "cell_type": "markdown",
   "metadata": {},
   "source": [
    "### GridSearch test"
   ]
  },
  {
   "cell_type": "code",
   "execution_count": 9,
   "metadata": {},
   "outputs": [
    {
     "name": "stdout",
     "output_type": "stream",
     "text": [
      "Parameter set: {'batch_size': 8, 'lr': 0.001, 'max_epochs': 5}\n",
      "val_accuracy: 0.5743\n"
     ]
    },
    {
     "ename": "KeyboardInterrupt",
     "evalue": "",
     "output_type": "error",
     "traceback": [
      "\u001b[1;31m---------------------------------------------------------------------------\u001b[0m",
      "\u001b[1;31mKeyboardInterrupt\u001b[0m                         Traceback (most recent call last)",
      "Cell \u001b[1;32mIn[9], line 4\u001b[0m\n\u001b[0;32m      2\u001b[0m my_net \u001b[39m=\u001b[39m Net_wrapper()\n\u001b[0;32m      3\u001b[0m gs \u001b[39m=\u001b[39m GridSearch(net\u001b[39m=\u001b[39mmy_net, param_grid\u001b[39m=\u001b[39mtest_hyper_params, verbose\u001b[39m=\u001b[39m\u001b[39m1\u001b[39m)\n\u001b[1;32m----> 4\u001b[0m gs \u001b[39m=\u001b[39m gs\u001b[39m.\u001b[39;49mfit(train_dataset, val_dataset)\n",
      "Cell \u001b[1;32mIn[6], line 37\u001b[0m, in \u001b[0;36mGridSearch.fit\u001b[1;34m(self, train_dataset, val_dataset)\u001b[0m\n\u001b[0;32m     35\u001b[0m     \u001b[39melse\u001b[39;00m:\n\u001b[0;32m     36\u001b[0m         \u001b[39msetattr\u001b[39m(\u001b[39mself\u001b[39m\u001b[39m.\u001b[39mnet\u001b[39m.\u001b[39mmodel, hyp_name, hyp_val)\n\u001b[1;32m---> 37\u001b[0m _, val_accuracy \u001b[39m=\u001b[39m \u001b[39mself\u001b[39;49m\u001b[39m.\u001b[39;49mnet\u001b[39m.\u001b[39;49mscore(train_dataset, val_dataset)\n\u001b[0;32m     38\u001b[0m \u001b[39mself\u001b[39m\u001b[39m.\u001b[39mscores\u001b[39m.\u001b[39mappend(val_accuracy)\n\u001b[0;32m     39\u001b[0m \u001b[39mif\u001b[39;00m val_accuracy \u001b[39m>\u001b[39m \u001b[39mself\u001b[39m\u001b[39m.\u001b[39mbest_score:\n",
      "Cell \u001b[1;32mIn[5], line 38\u001b[0m, in \u001b[0;36mNet_wrapper.score\u001b[1;34m(self, train_dataset, val_dataset)\u001b[0m\n\u001b[0;32m     35\u001b[0m \u001b[39mfor\u001b[39;00m epoch \u001b[39min\u001b[39;00m \u001b[39mrange\u001b[39m(\u001b[39mself\u001b[39m\u001b[39m.\u001b[39mmax_epochs):\n\u001b[0;32m     36\u001b[0m     \u001b[39m# print(f'Epoch {epoch+1}/{self.max_epochs}')\u001b[39;00m\n\u001b[0;32m     37\u001b[0m     train_accuracies \u001b[39m=\u001b[39m []\n\u001b[1;32m---> 38\u001b[0m     \u001b[39mfor\u001b[39;00m data \u001b[39min\u001b[39;00m train_loader:\n\u001b[0;32m     39\u001b[0m         results \u001b[39m=\u001b[39m model\u001b[39m.\u001b[39mtrain_step(data, optimizer, \u001b[39mself\u001b[39m\u001b[39m.\u001b[39mcriterion())\n\u001b[0;32m     40\u001b[0m         train_accuracies\u001b[39m.\u001b[39mappend(results[\u001b[39m'\u001b[39m\u001b[39maccuracy\u001b[39m\u001b[39m'\u001b[39m]\u001b[39m.\u001b[39mitem())\n",
      "File \u001b[1;32mc:\\Users\\jan20\\PycharmProjects\\PytorchProjects\\venv\\lib\\site-packages\\torch\\utils\\data\\dataloader.py:628\u001b[0m, in \u001b[0;36m_BaseDataLoaderIter.__next__\u001b[1;34m(self)\u001b[0m\n\u001b[0;32m    625\u001b[0m \u001b[39mif\u001b[39;00m \u001b[39mself\u001b[39m\u001b[39m.\u001b[39m_sampler_iter \u001b[39mis\u001b[39;00m \u001b[39mNone\u001b[39;00m:\n\u001b[0;32m    626\u001b[0m     \u001b[39m# TODO(https://github.com/pytorch/pytorch/issues/76750)\u001b[39;00m\n\u001b[0;32m    627\u001b[0m     \u001b[39mself\u001b[39m\u001b[39m.\u001b[39m_reset()  \u001b[39m# type: ignore[call-arg]\u001b[39;00m\n\u001b[1;32m--> 628\u001b[0m data \u001b[39m=\u001b[39m \u001b[39mself\u001b[39;49m\u001b[39m.\u001b[39;49m_next_data()\n\u001b[0;32m    629\u001b[0m \u001b[39mself\u001b[39m\u001b[39m.\u001b[39m_num_yielded \u001b[39m+\u001b[39m\u001b[39m=\u001b[39m \u001b[39m1\u001b[39m\n\u001b[0;32m    630\u001b[0m \u001b[39mif\u001b[39;00m \u001b[39mself\u001b[39m\u001b[39m.\u001b[39m_dataset_kind \u001b[39m==\u001b[39m _DatasetKind\u001b[39m.\u001b[39mIterable \u001b[39mand\u001b[39;00m \\\n\u001b[0;32m    631\u001b[0m         \u001b[39mself\u001b[39m\u001b[39m.\u001b[39m_IterableDataset_len_called \u001b[39mis\u001b[39;00m \u001b[39mnot\u001b[39;00m \u001b[39mNone\u001b[39;00m \u001b[39mand\u001b[39;00m \\\n\u001b[0;32m    632\u001b[0m         \u001b[39mself\u001b[39m\u001b[39m.\u001b[39m_num_yielded \u001b[39m>\u001b[39m \u001b[39mself\u001b[39m\u001b[39m.\u001b[39m_IterableDataset_len_called:\n",
      "File \u001b[1;32mc:\\Users\\jan20\\PycharmProjects\\PytorchProjects\\venv\\lib\\site-packages\\torch\\utils\\data\\dataloader.py:671\u001b[0m, in \u001b[0;36m_SingleProcessDataLoaderIter._next_data\u001b[1;34m(self)\u001b[0m\n\u001b[0;32m    669\u001b[0m \u001b[39mdef\u001b[39;00m \u001b[39m_next_data\u001b[39m(\u001b[39mself\u001b[39m):\n\u001b[0;32m    670\u001b[0m     index \u001b[39m=\u001b[39m \u001b[39mself\u001b[39m\u001b[39m.\u001b[39m_next_index()  \u001b[39m# may raise StopIteration\u001b[39;00m\n\u001b[1;32m--> 671\u001b[0m     data \u001b[39m=\u001b[39m \u001b[39mself\u001b[39;49m\u001b[39m.\u001b[39;49m_dataset_fetcher\u001b[39m.\u001b[39;49mfetch(index)  \u001b[39m# may raise StopIteration\u001b[39;00m\n\u001b[0;32m    672\u001b[0m     \u001b[39mif\u001b[39;00m \u001b[39mself\u001b[39m\u001b[39m.\u001b[39m_pin_memory:\n\u001b[0;32m    673\u001b[0m         data \u001b[39m=\u001b[39m _utils\u001b[39m.\u001b[39mpin_memory\u001b[39m.\u001b[39mpin_memory(data, \u001b[39mself\u001b[39m\u001b[39m.\u001b[39m_pin_memory_device)\n",
      "File \u001b[1;32mc:\\Users\\jan20\\PycharmProjects\\PytorchProjects\\venv\\lib\\site-packages\\torch\\utils\\data\\_utils\\fetch.py:58\u001b[0m, in \u001b[0;36m_MapDatasetFetcher.fetch\u001b[1;34m(self, possibly_batched_index)\u001b[0m\n\u001b[0;32m     56\u001b[0m         data \u001b[39m=\u001b[39m \u001b[39mself\u001b[39m\u001b[39m.\u001b[39mdataset\u001b[39m.\u001b[39m__getitems__(possibly_batched_index)\n\u001b[0;32m     57\u001b[0m     \u001b[39melse\u001b[39;00m:\n\u001b[1;32m---> 58\u001b[0m         data \u001b[39m=\u001b[39m [\u001b[39mself\u001b[39m\u001b[39m.\u001b[39mdataset[idx] \u001b[39mfor\u001b[39;00m idx \u001b[39min\u001b[39;00m possibly_batched_index]\n\u001b[0;32m     59\u001b[0m \u001b[39melse\u001b[39;00m:\n\u001b[0;32m     60\u001b[0m     data \u001b[39m=\u001b[39m \u001b[39mself\u001b[39m\u001b[39m.\u001b[39mdataset[possibly_batched_index]\n",
      "File \u001b[1;32mc:\\Users\\jan20\\PycharmProjects\\PytorchProjects\\venv\\lib\\site-packages\\torch\\utils\\data\\_utils\\fetch.py:58\u001b[0m, in \u001b[0;36m<listcomp>\u001b[1;34m(.0)\u001b[0m\n\u001b[0;32m     56\u001b[0m         data \u001b[39m=\u001b[39m \u001b[39mself\u001b[39m\u001b[39m.\u001b[39mdataset\u001b[39m.\u001b[39m__getitems__(possibly_batched_index)\n\u001b[0;32m     57\u001b[0m     \u001b[39melse\u001b[39;00m:\n\u001b[1;32m---> 58\u001b[0m         data \u001b[39m=\u001b[39m [\u001b[39mself\u001b[39;49m\u001b[39m.\u001b[39;49mdataset[idx] \u001b[39mfor\u001b[39;00m idx \u001b[39min\u001b[39;00m possibly_batched_index]\n\u001b[0;32m     59\u001b[0m \u001b[39melse\u001b[39;00m:\n\u001b[0;32m     60\u001b[0m     data \u001b[39m=\u001b[39m \u001b[39mself\u001b[39m\u001b[39m.\u001b[39mdataset[possibly_batched_index]\n",
      "File \u001b[1;32mc:\\Users\\jan20\\OneDrive\\Pulpit\\DS\\sem2\\Deep_learning\\Deep_Learning\\datasets.py:57\u001b[0m, in \u001b[0;36mCifarDataset.__getitem__\u001b[1;34m(self, index)\u001b[0m\n\u001b[0;32m     54\u001b[0m label \u001b[39m=\u001b[39m \u001b[39mself\u001b[39m\u001b[39m.\u001b[39mclass_dict[\u001b[39mself\u001b[39m\u001b[39m.\u001b[39mlabels\u001b[39m.\u001b[39miloc[index, \u001b[39m1\u001b[39m]]\n\u001b[0;32m     56\u001b[0m \u001b[39mif\u001b[39;00m \u001b[39mself\u001b[39m\u001b[39m.\u001b[39mtransform \u001b[39mis\u001b[39;00m \u001b[39mnot\u001b[39;00m \u001b[39mNone\u001b[39;00m:\n\u001b[1;32m---> 57\u001b[0m     img \u001b[39m=\u001b[39m \u001b[39mself\u001b[39;49m\u001b[39m.\u001b[39;49mtransform(img)\n\u001b[0;32m     59\u001b[0m \u001b[39mreturn\u001b[39;00m (img, label)\n",
      "File \u001b[1;32mc:\\Users\\jan20\\PycharmProjects\\PytorchProjects\\venv\\lib\\site-packages\\torchvision\\transforms\\transforms.py:135\u001b[0m, in \u001b[0;36mToTensor.__call__\u001b[1;34m(self, pic)\u001b[0m\n\u001b[0;32m    127\u001b[0m \u001b[39mdef\u001b[39;00m \u001b[39m__call__\u001b[39m(\u001b[39mself\u001b[39m, pic):\n\u001b[0;32m    128\u001b[0m \u001b[39m    \u001b[39m\u001b[39m\"\"\"\u001b[39;00m\n\u001b[0;32m    129\u001b[0m \u001b[39m    Args:\u001b[39;00m\n\u001b[0;32m    130\u001b[0m \u001b[39m        pic (PIL Image or numpy.ndarray): Image to be converted to tensor.\u001b[39;00m\n\u001b[1;32m   (...)\u001b[0m\n\u001b[0;32m    133\u001b[0m \u001b[39m        Tensor: Converted image.\u001b[39;00m\n\u001b[0;32m    134\u001b[0m \u001b[39m    \"\"\"\u001b[39;00m\n\u001b[1;32m--> 135\u001b[0m     \u001b[39mreturn\u001b[39;00m F\u001b[39m.\u001b[39;49mto_tensor(pic)\n",
      "File \u001b[1;32mc:\\Users\\jan20\\PycharmProjects\\PytorchProjects\\venv\\lib\\site-packages\\torchvision\\transforms\\functional.py:167\u001b[0m, in \u001b[0;36mto_tensor\u001b[1;34m(pic)\u001b[0m\n\u001b[0;32m    165\u001b[0m \u001b[39mif\u001b[39;00m pic\u001b[39m.\u001b[39mmode \u001b[39m==\u001b[39m \u001b[39m\"\u001b[39m\u001b[39m1\u001b[39m\u001b[39m\"\u001b[39m:\n\u001b[0;32m    166\u001b[0m     img \u001b[39m=\u001b[39m \u001b[39m255\u001b[39m \u001b[39m*\u001b[39m img\n\u001b[1;32m--> 167\u001b[0m img \u001b[39m=\u001b[39m img\u001b[39m.\u001b[39;49mview(pic\u001b[39m.\u001b[39;49msize[\u001b[39m1\u001b[39;49m], pic\u001b[39m.\u001b[39;49msize[\u001b[39m0\u001b[39;49m], \u001b[39mlen\u001b[39;49m(pic\u001b[39m.\u001b[39;49mgetbands()))\n\u001b[0;32m    168\u001b[0m \u001b[39m# put it from HWC to CHW format\u001b[39;00m\n\u001b[0;32m    169\u001b[0m img \u001b[39m=\u001b[39m img\u001b[39m.\u001b[39mpermute((\u001b[39m2\u001b[39m, \u001b[39m0\u001b[39m, \u001b[39m1\u001b[39m))\u001b[39m.\u001b[39mcontiguous()\n",
      "\u001b[1;31mKeyboardInterrupt\u001b[0m: "
     ]
    }
   ],
   "source": [
    "test_hyper_params = {'lr': [0.001, 0.005, 0.01], 'batch_size': [8, 32, 64], 'max_epochs': [5, 10]}\n",
    "my_net = Net_wrapper()\n",
    "gs = GridSearch(net=my_net, param_grid=test_hyper_params, verbose=1)\n",
    "gs = gs.fit(train_dataset, val_dataset)"
   ]
  },
  {
   "cell_type": "code",
   "execution_count": 30,
   "metadata": {},
   "outputs": [
    {
     "name": "stdout",
     "output_type": "stream",
     "text": [
      "0.2857142857142857\n",
      "{'batch_size': 8, 'lr': 0.001, 'max_epochs': 5}\n"
     ]
    }
   ],
   "source": [
    "print(gs.best_score)\n",
    "print(gs.best_params)"
   ]
  },
  {
   "cell_type": "code",
   "execution_count": 19,
   "metadata": {},
   "outputs": [],
   "source": [
    "from weighted_random_search import wrs\n",
    "\n",
    "class WeightedRandomSearch():\n",
    "    \"\"\"\n",
    "    Class used to perform grid search on neural networks \n",
    "\n",
    "    Attributes:\n",
    "    self.net - Net_wrapper instance\n",
    "    self.param_grid - dictionary of parameters we want to search\n",
    "    self.scores - list for scores of each set of parameters\n",
    "    self.best_score - best score out of all parameters\n",
    "    self.best_params - best set of parameters\n",
    "    self.verbose - if set to 1 additional information (parameter set and accuracy) prints with each iteration of grid search. \n",
    "    \"\"\"\n",
    "    def __init__(self, net, param_grid, verbose=1):\n",
    "        \"\"\"\n",
    "\n",
    "        \"\"\"\n",
    "        self.net = net\n",
    "        self.param_grid = param_grid\n",
    "        self.scores = []\n",
    "        self.best_score = 0\n",
    "        self.best_params = None\n",
    "        self.verbose = verbose\n",
    "\n",
    "    def fit(self, train_dataset, val_dataset, N, N_0):\n",
    "        \"\"\"\n",
    "        Fit the grid search with train and validation dataset. \n",
    "        Search for optimal parameters for neural network declared during \n",
    "        initialization of GridSearch instance.\n",
    "        \"\"\"\n",
    "        def goal_function(params):\n",
    "            \n",
    "            for hyp_name, hyp_val in params.items():\n",
    "                if hasattr(self.net, hyp_name):\n",
    "                    setattr(self.net, hyp_name, hyp_val)\n",
    "                else:\n",
    "                    setattr(self.net.model, hyp_name, hyp_val)\n",
    "            \n",
    "            return self.net.score(train_dataset, val_dataset)[1]\n",
    "            \n",
    "        self.best_params, self.best_score = wrs(F=goal_function, N=N, N_0=N_0, param_grid=self.param_grid )\n",
    "        \n",
    "        return self"
   ]
  },
  {
   "cell_type": "code",
   "execution_count": 29,
   "metadata": {},
   "outputs": [
    {
     "name": "stdout",
     "output_type": "stream",
     "text": [
      "{'lr': 0.01, 'batch_size': 16, 'max_epochs': 3} 0.205078125\n",
      "{'lr': 0.001, 'batch_size': 8, 'max_epochs': 3} 0.21031746031746032\n",
      "{'lr': 0.001, 'batch_size': 8, 'max_epochs': 3} 0.21031746031746032\n",
      "{'lr': 0.01, 'batch_size': 8, 'max_epochs': 3} 0.22420634920634921\n",
      "{'lr': 0.01, 'batch_size': 8, 'max_epochs': 3} 0.22420634920634921\n",
      "{'lr': 0.01, 'batch_size': 8, 'max_epochs': 3} 0.22420634920634921\n",
      "{'lr': 0.01, 'batch_size': 8, 'max_epochs': 3} 0.22420634920634921\n",
      "{'lr': 0.01, 'batch_size': 8, 'max_epochs': 3} 0.22420634920634921\n",
      "{'lr': 0.01, 'batch_size': 16, 'max_epochs': 3} 0.23828125\n",
      "{'lr': 0.01, 'batch_size': 16, 'max_epochs': 3} 0.23828125\n",
      "{'lr': 0.01, 'batch_size': 16, 'max_epochs': 3} 0.23828125\n",
      "{'lr': 0.01, 'batch_size': 16, 'max_epochs': 3} 0.23828125\n",
      "{'lr': 0.01, 'batch_size': 16, 'max_epochs': 3} 0.23828125\n",
      "{'lr': 0.01, 'batch_size': 16, 'max_epochs': 3} 0.23828125\n",
      "{'lr': 0.01, 'batch_size': 16, 'max_epochs': 3} 0.23828125\n",
      "{'lr': 0.01, 'batch_size': 16, 'max_epochs': 3} 0.23828125\n",
      "{'lr': 0.01, 'batch_size': 16, 'max_epochs': 3} 0.23828125\n",
      "{'lr': 0.005, 'batch_size': 32, 'max_epochs': 5} 0.25742187537252903\n",
      "{'lr': 0.005, 'batch_size': 32, 'max_epochs': 5} 0.25742187537252903\n",
      "{'lr': 0.005, 'batch_size': 32, 'max_epochs': 5} 0.25742187537252903\n",
      "{'lr': 0.005, 'batch_size': 32, 'max_epochs': 5} 0.25742187537252903\n",
      "{'lr': 0.005, 'batch_size': 32, 'max_epochs': 5} 0.25742187537252903\n",
      "{'lr': 0.005, 'batch_size': 32, 'max_epochs': 5} 0.25742187537252903\n",
      "{'lr': 0.005, 'batch_size': 8, 'max_epochs': 5} 0.2718253968253968\n",
      "{'lr': 0.005, 'batch_size': 8, 'max_epochs': 5} 0.2718253968253968\n",
      "{'lr': 0.005, 'batch_size': 8, 'max_epochs': 5} 0.2718253968253968\n"
     ]
    },
    {
     "data": {
      "text/plain": [
       "<__main__.WeightedRandomSearch at 0x2a3e6804460>"
      ]
     },
     "execution_count": 29,
     "metadata": {},
     "output_type": "execute_result"
    }
   ],
   "source": [
    "my_net = Net_wrapper()\n",
    "param_grid = {'lr': [0.01, 0.05, 0.1, 0.5, 1, 2], 'batch_size': [16, 32, 64, 128, 256]}\n",
    "w = WeightedRandomSearch(net=my_net, param_grid=test_hyper_params)\n",
    "N, N_0 = 25, 3\n",
    "w.fit(subset_train_dataset, subset_val_dataset, N, N_0)"
   ]
  },
  {
   "cell_type": "code",
   "execution_count": 25,
   "metadata": {},
   "outputs": [
    {
     "data": {
      "text/plain": [
       "{'lr': 0.005, 'batch_size': 16, 'max_epochs': 5}"
      ]
     },
     "execution_count": 25,
     "metadata": {},
     "output_type": "execute_result"
    }
   ],
   "source": [
    "w.best_params"
   ]
  }
 ],
 "metadata": {
  "kernelspec": {
   "display_name": "venv",
   "language": "python",
   "name": "python3"
  },
  "language_info": {
   "codemirror_mode": {
    "name": "ipython",
    "version": 3
   },
   "file_extension": ".py",
   "mimetype": "text/x-python",
   "name": "python",
   "nbconvert_exporter": "python",
   "pygments_lexer": "ipython3",
   "version": "3.10.7"
  },
  "orig_nbformat": 4
 },
 "nbformat": 4,
 "nbformat_minor": 2
}
