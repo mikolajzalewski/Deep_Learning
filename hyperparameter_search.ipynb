{
 "cells": [
  {
   "attachments": {},
   "cell_type": "markdown",
   "metadata": {},
   "source": [
    "# Imports"
   ]
  },
  {
   "cell_type": "code",
   "execution_count": 1,
   "metadata": {},
   "outputs": [],
   "source": [
    "%load_ext autoreload\n",
    "%autoreload 2"
   ]
  },
  {
   "cell_type": "code",
   "execution_count": 2,
   "metadata": {},
   "outputs": [],
   "source": [
    "import torch\n",
    "import numpy as np\n",
    "import torch.optim as optim\n",
    "import torch.nn as nn\n",
    "from sklearn.model_selection import ParameterGrid\n",
    "from torch.utils.data import Dataset, DataLoader\n",
    "from torch.optim.lr_scheduler import StepLR\n",
    "import datasets\n",
    "from weighted_random_search import wrs\n",
    "from tqdm import tqdm\n",
    "import matplotlib.pyplot as plt"
   ]
  },
  {
   "cell_type": "code",
   "execution_count": 5,
   "metadata": {},
   "outputs": [],
   "source": [
    "import import_ipynb\n",
    "from CNN import CNN_3_class"
   ]
  },
  {
   "attachments": {},
   "cell_type": "markdown",
   "metadata": {},
   "source": [
    "# Classes"
   ]
  },
  {
   "cell_type": "code",
   "execution_count": 12,
   "metadata": {},
   "outputs": [],
   "source": [
    "class Net_wrapper:\n",
    "    \"\"\" \n",
    "    Wrapper for neural network model. It combines the model itself (nn.Module) together with\n",
    "    optimizer, loss function and training parameters (such as max_epochs, learning rate and batch size)\n",
    "    \"\"\"\n",
    "        \n",
    "    def __init__(self, model=CNN_3_class, criterion=nn.CrossEntropyLoss, optimizer=optim.Adam, weight_decay = 0,\n",
    "                 max_epochs=5, batch_size=32, learning_rate=0.001, step_size=10, gamma=0.5, **kwargs):\n",
    "        if kwargs:\n",
    "            self.model_params = kwargs\n",
    "        else:\n",
    "            self.model_params = {}\n",
    "        self.model = model\n",
    "        self.criterion = criterion\n",
    "        self.optimizer = optimizer\n",
    "        self.max_epochs = max_epochs\n",
    "        self.batch_size = batch_size\n",
    "        self.learning_rate = learning_rate\n",
    "        self.scheduler_step_size=step_size\n",
    "        self.scheduler_gamma=gamma\n",
    "        self.weight_decay = weight_decay\n",
    "    \n",
    "    def __setattr__(self, name, value):\n",
    "        self.__dict__[name] = value\n",
    "\n",
    "    def score(self, train_dataset, val_dataset, verbose=0):\n",
    "        \"\"\"\n",
    "        Train model on train_dataset and calculate validation acurracy on val_dataset. \n",
    "        \"\"\"\n",
    "        if self.model_params:\n",
    "            model = self.model(**self.model_params)\n",
    "            \n",
    "        else:\n",
    "            model = self.model()\n",
    "        optimizer = self.optimizer(model.parameters(), lr=self.learning_rate, weight_decay=self.weight_decay)\n",
    "        scheduler = StepLR(optimizer, step_size=self.scheduler_step_size, gamma=self.scheduler_gamma)\n",
    "        \n",
    "        train_loader = DataLoader(train_dataset, batch_size=self.batch_size, shuffle=True)\n",
    "        val_loader = DataLoader(val_dataset, batch_size=self.batch_size, shuffle=False)\n",
    "\n",
    "        for epoch in range(self.max_epochs):\n",
    "            \n",
    "            if verbose == 1:\n",
    "                print(f'Epoch {epoch+1}/{self.max_epochs}')\n",
    "                t_loader = tqdm(train_loader)\n",
    "                v_loader = tqdm(val_loader)\n",
    "            else:\n",
    "                t_loader = train_loader\n",
    "                v_loader = val_loader\n",
    "           \n",
    "            train_accuracies = []\n",
    "            train_losses = []\n",
    "            for data in t_loader:\n",
    "                results = model.train_step(data, optimizer, self.criterion())\n",
    "                train_accuracies.append(results['accuracy'].item())\n",
    "                train_losses.append(results['loss'].item())\n",
    "            # Calculate average training loss and accuracy for the epoch\n",
    "            avg_train_accuracy = sum(train_accuracies) / len(train_accuracies)\n",
    "            avg_train_loss = sum(train_losses) / len(train_losses)\n",
    "            \n",
    "            if verbose == 1:\n",
    "                print(f'train_loss:{avg_train_loss}, train_acc: {avg_train_accuracy}')\n",
    "\n",
    "            # Test the model\n",
    "            val_losses = []\n",
    "            val_accuracies = []\n",
    "            \n",
    "            with torch.no_grad():\n",
    "                for data in val_loader:\n",
    "                    results = model.test_step(data, self.criterion())\n",
    "                    val_losses.append(results['loss'].item())\n",
    "                    val_accuracies.append(results['accuracy'].item())\n",
    "\n",
    "            # Calculate average test loss and accuracy for the epoch\n",
    "            avg_validation_accuracy = sum(val_accuracies) / len(val_accuracies)\n",
    "            avg_validation_loss = sum(val_losses) / len(val_losses)\n",
    "\n",
    "            if verbose == 1:\n",
    "                print(f'val_loss:{avg_validation_loss}, val_acc: {avg_validation_accuracy}')\n",
    "\n",
    "            scheduler.step()\n",
    "\n",
    "        return avg_train_accuracy, avg_train_loss, avg_validation_accuracy, avg_validation_loss\n",
    "        \n",
    "    "
   ]
  },
  {
   "cell_type": "code",
   "execution_count": 7,
   "metadata": {},
   "outputs": [],
   "source": [
    "class GridSearch():\n",
    "    \"\"\"\n",
    "    Class used to perform grid search on neural networks \n",
    "\n",
    "    Attributes:\n",
    "    self.net - Net_wrapper instance\n",
    "    self.param_grid - dictionary of parameters we want to search\n",
    "    self.scores - list for scores of each set of parameters\n",
    "    self.best_score - best score out of all parameters\n",
    "    self.best_params - best set of parameters\n",
    "    self.verbose - if set to 1 additional information (parameter set and accuracy) prints with each iteration of grid search. \n",
    "    \"\"\"\n",
    "    def __init__(self, net: Net_wrapper, param_grid, step_by_step=False, verbose=1):\n",
    "        \"\"\"\n",
    "\n",
    "        \"\"\"\n",
    "        self.net = net\n",
    "        self.param_grid = param_grid\n",
    "        self.scores = []\n",
    "        self.best_score = 0\n",
    "        self.best_params = {}\n",
    "        self.step_by_step = step_by_step\n",
    "        self.verbose = verbose\n",
    "\n",
    "\n",
    "    def fit(self, train_dataset, val_dataset):\n",
    "        \"\"\"\n",
    "        Fit the grid search with train and validation dataset. \n",
    "        Search for optimal parameters for neural network declared during \n",
    "        initialization of GridSearch instance.\n",
    "        \"\"\"\n",
    "        if self.step_by_step==False:\n",
    "            for params in ParameterGrid(self.param_grid):\n",
    "                for hyp_name, hyp_val in params.items():\n",
    "                    if hasattr(self.net, hyp_name):\n",
    "                        setattr(self.net, hyp_name, hyp_val)\n",
    "                    else:\n",
    "                        self.net.model_params[hyp_name] = hyp_val\n",
    "\n",
    "                _, _, _, val_accuracy = self.net.score(train_dataset, val_dataset)\n",
    "                self.scores.append(val_accuracy)\n",
    "                if val_accuracy > self.best_score:\n",
    "                    self.best_score = val_accuracy\n",
    "                    self.best_params = params\n",
    "                if self.verbose == 1:\n",
    "                    print('Parameter set:', params)\n",
    "                    print(f'val_accuracy: {val_accuracy:.4f}')\n",
    "        else:\n",
    "            \n",
    "            for hyp_name, hyp_vals in self.param_grid.items():\n",
    "                score = 0\n",
    "                for hyp_val in hyp_vals:\n",
    "                    if hasattr(self.net, hyp_name):\n",
    "                        setattr(self.net, hyp_name, hyp_val)\n",
    "                    else:\n",
    "                        self.net.model_params[hyp_name] = hyp_val \n",
    "\n",
    "                    _, _, _, val_accuracy = self.net.score(train_dataset, val_dataset)\n",
    "                    self.scores.append(val_accuracy)\n",
    "                    \n",
    "                    if val_accuracy > score:\n",
    "                        if score > self.best_score:\n",
    "                            self.best_score = score\n",
    "                        score = val_accuracy\n",
    "                        self.best_params[hyp_name] = hyp_val\n",
    "                    \n",
    "                    if self.verbose == 1:\n",
    "                        print(f'Current parameter: {hyp_name}:', hyp_val, f'  val_accuracy: {val_accuracy:.4f}')\n",
    "                        print(f'Best parameters till now:{self.best_params}')\n",
    "                \n",
    "                if hasattr(self.net, hyp_name):\n",
    "                    setattr(self.net, hyp_name, self.best_params[hyp_name])\n",
    "                    print(getattr(self.net, hyp_name))\n",
    "                else:\n",
    "                    self.net.model_params[hyp_name] = self.best_params[hyp_name]\n",
    "\n",
    "        return self"
   ]
  },
  {
   "cell_type": "code",
   "execution_count": 8,
   "metadata": {},
   "outputs": [],
   "source": [
    "class WeightedRandomSearch():\n",
    "    \"\"\"\n",
    "    Class used to perform grid search on neural networks \n",
    "\n",
    "    Attributes:\n",
    "    self.net - Net_wrapper instance\n",
    "    self.param_grid - dictionary of parameters we want to search\n",
    "    self.scores - list for scores of each set of parameters\n",
    "    self.best_score - best score out of all parameters\n",
    "    self.best_params - best set of parameters\n",
    "    self.verbose - if set to 1 additional information (parameter set and accuracy) prints with each iteration of grid search. \n",
    "    \"\"\"\n",
    "    def __init__(self, net, param_grid, verbose=1):\n",
    "        \"\"\"\n",
    "\n",
    "        \"\"\"\n",
    "        self.net = net\n",
    "        self.param_grid = param_grid\n",
    "        self.scores = []\n",
    "        self.best_score = 0\n",
    "        self.best_params = None\n",
    "        self.verbose = verbose\n",
    "\n",
    "    def fit(self, train_dataset, val_dataset, N, N_0):\n",
    "        \"\"\"\n",
    "        Fit the grid search with train and validation dataset. \n",
    "        Search for optimal parameters for neural network declared during \n",
    "        initialization of GridSearch instance.\n",
    "        \"\"\"\n",
    "        def goal_function(params):\n",
    "            \n",
    "            for hyp_name, hyp_val in params.items():\n",
    "                if hasattr(self.net, hyp_name):\n",
    "                    setattr(self.net, hyp_name, hyp_val)\n",
    "                else:\n",
    "                    self.net.model_params[hyp_name] = hyp_val\n",
    "            \n",
    "            return self.net.score(train_dataset, val_dataset)[1]\n",
    "            \n",
    "        self.best_params, self.best_score = wrs(F=goal_function, N=N, N_0=N_0, param_grid=self.param_grid )\n",
    "        \n",
    "        return self"
   ]
  },
  {
   "attachments": {},
   "cell_type": "markdown",
   "metadata": {},
   "source": [
    "### Example hyperparameters (from most to least important):"
   ]
  },
  {
   "cell_type": "code",
   "execution_count": 6,
   "metadata": {},
   "outputs": [],
   "source": [
    "hyperparams1 = {'learning_rate': [0.001, 0.005, 0.01],\n",
    "               'batch_size': [8, 32, 64],\n",
    "               'max_epochs': [5, 10, 15]}\n",
    "\n",
    "hyperparams2 = {\n",
    "                'no_neurons': [25, 50, 100],\n",
    "                'kernel_size': [2, 3, 5],\n",
    "                'number_of_filters': [16, 32, 64]\n",
    "                }\n",
    "\n",
    "hyperparams3 = {\n",
    "               'optimizer': [optim.Adam, optim.Adagrad, optim.SGD],\n",
    "               'activation_func': [nn.ReLU, nn.LeakyReLU, nn.Tanh],\n",
    "               'dropout_rate': [0.0, 0.25, 0.5]}\n",
    "\n"
   ]
  },
  {
   "attachments": {},
   "cell_type": "markdown",
   "metadata": {},
   "source": [
    "### Sample for testing GridSearch"
   ]
  },
  {
   "cell_type": "code",
   "execution_count": 8,
   "metadata": {},
   "outputs": [],
   "source": [
    "train_dataset = datasets.cifar_train\n",
    "val_dataset = datasets.cifar_val"
   ]
  },
  {
   "cell_type": "code",
   "execution_count": 8,
   "metadata": {},
   "outputs": [],
   "source": [
    "from torch.utils.data import DataLoader, SubsetRandomSampler, Subset\n",
    "\n",
    "subset_indices = list(range(500))\n",
    "subset_sampler = SubsetRandomSampler(subset_indices)\n",
    "\n",
    "subset_train_dataset = Subset(train_dataset, subset_indices)\n",
    "subset_val_dataset = Subset(val_dataset, subset_indices)"
   ]
  },
  {
   "attachments": {},
   "cell_type": "markdown",
   "metadata": {},
   "source": [
    "### GridSearch test"
   ]
  },
  {
   "cell_type": "code",
   "execution_count": 15,
   "metadata": {},
   "outputs": [
    {
     "name": "stdout",
     "output_type": "stream",
     "text": [
      "Current parameter: learning_rate: 0.0001   val_accuracy: 0.2344\n",
      "Best parameters till now:{'learning_rate': 0.0001}\n",
      "Current parameter: learning_rate: 0.0005   val_accuracy: 0.3148\n",
      "Best parameters till now:{'learning_rate': 0.0005}\n",
      "Current parameter: learning_rate: 0.001   val_accuracy: 0.3156\n",
      "Best parameters till now:{'learning_rate': 0.001}\n",
      "Current parameter: learning_rate: 0.005   val_accuracy: 0.2574\n",
      "Best parameters till now:{'learning_rate': 0.001}\n",
      "Current parameter: learning_rate: 0.01   val_accuracy: 0.1008\n",
      "Best parameters till now:{'learning_rate': 0.001}\n",
      "0.001\n",
      "Current parameter: batch_size: 8   val_accuracy: 0.3313\n",
      "Best parameters till now:{'learning_rate': 0.001, 'batch_size': 8}\n",
      "Current parameter: batch_size: 16   val_accuracy: 0.3418\n",
      "Best parameters till now:{'learning_rate': 0.001, 'batch_size': 16}\n",
      "Current parameter: batch_size: 32   val_accuracy: 0.3164\n",
      "Best parameters till now:{'learning_rate': 0.001, 'batch_size': 16}\n",
      "Current parameter: batch_size: 64   val_accuracy: 0.3015\n",
      "Best parameters till now:{'learning_rate': 0.001, 'batch_size': 16}\n",
      "Current parameter: batch_size: 128   val_accuracy: 0.3023\n",
      "Best parameters till now:{'learning_rate': 0.001, 'batch_size': 16}\n",
      "16\n"
     ]
    }
   ],
   "source": [
    "test_hyper_params = {'learning_rate': [0.0001, 0.0005, 0.001, 0.005, 0.01], 'batch_size': [8, 16, 32, 64, 128]}\n",
    "my_net = Net_wrapper(model=CNN_3_class, max_epochs=5)\n",
    "gs = GridSearch(net=my_net, param_grid=test_hyper_params, step_by_step=True, verbose=1)\n",
    "gs = gs.fit(subset_train_dataset, subset_val_dataset)"
   ]
  },
  {
   "cell_type": "code",
   "execution_count": 31,
   "metadata": {},
   "outputs": [
    {
     "name": "stdout",
     "output_type": "stream",
     "text": [
      "0.32341269841269843\n",
      "{'learning_rate': 0.001, 'batch_size': 8, 'no_neurons': 128}\n"
     ]
    }
   ],
   "source": [
    "print(gs.best_score)\n",
    "print(gs.best_params)"
   ]
  },
  {
   "attachments": {},
   "cell_type": "markdown",
   "metadata": {},
   "source": [
    "### Weighted random search test"
   ]
  },
  {
   "cell_type": "code",
   "execution_count": 28,
   "metadata": {},
   "outputs": [
    {
     "name": "stdout",
     "output_type": "stream",
     "text": [
      "{'learning_rate': 0.01, 'batch_size': 64, 'no_neurons': 64} 0.11944110598415136\n",
      "{'learning_rate': 0.005, 'batch_size': 64, 'no_neurons': 64} 0.28305288404226303\n",
      "{'learning_rate': 0.005, 'batch_size': 64, 'no_neurons': 64} 0.28305288404226303\n",
      "{'learning_rate': 0.005, 'batch_size': 64, 'no_neurons': 64} 0.28305288404226303\n",
      "{'learning_rate': 0.005, 'batch_size': 64, 'no_neurons': 64} 0.28305288404226303\n",
      "{'learning_rate': 0.005, 'batch_size': 64, 'no_neurons': 64} 0.28305288404226303\n",
      "{'learning_rate': 0.005, 'batch_size': 64, 'no_neurons': 64} 0.28305288404226303\n",
      "{'learning_rate': 0.005, 'batch_size': 64, 'no_neurons': 64} 0.28305288404226303\n",
      "{'learning_rate': 0.005, 'batch_size': 64, 'no_neurons': 64} 0.28305288404226303\n",
      "{'learning_rate': 0.005, 'batch_size': 64, 'no_neurons': 64} 0.28305288404226303\n",
      "{'learning_rate': 0.005, 'batch_size': 64, 'no_neurons': 64} 0.28305288404226303\n"
     ]
    },
    {
     "data": {
      "text/plain": [
       "<__main__.WeightedRandomSearch at 0x23a32821750>"
      ]
     },
     "execution_count": 28,
     "metadata": {},
     "output_type": "execute_result"
    }
   ],
   "source": [
    "my_net = Net_wrapper()\n",
    "param_grid = {'lr': [0.01, 0.05, 0.1, 0.5, 1, 2], 'batch_size': [16, 32, 64, 128, 256]}\n",
    "w = WeightedRandomSearch(net=my_net, param_grid=test_hyper_params)\n",
    "N, N_0 = 10, 3\n",
    "w.fit(subset_train_dataset, subset_val_dataset, N, N_0)\n",
    "print(w.best_params)"
   ]
  },
  {
   "attachments": {},
   "cell_type": "markdown",
   "metadata": {},
   "source": [
    "# Hyperparameter Tuning"
   ]
  },
  {
   "attachments": {},
   "cell_type": "markdown",
   "metadata": {},
   "source": [
    "## CNN_3_class on original dataset (without augmentation)"
   ]
  },
  {
   "attachments": {},
   "cell_type": "markdown",
   "metadata": {},
   "source": [
    "1. Learning rate + batch size"
   ]
  },
  {
   "cell_type": "code",
   "execution_count": 16,
   "metadata": {},
   "outputs": [
    {
     "name": "stdout",
     "output_type": "stream",
     "text": [
      "Current parameter: learning_rate: 0.0001   val_accuracy: 0.5830\n",
      "Best parameters till now:{'learning_rate': 0.0001}\n",
      "Current parameter: learning_rate: 0.0005   val_accuracy: 0.6887\n",
      "Best parameters till now:{'learning_rate': 0.0005}\n",
      "Current parameter: learning_rate: 0.001   val_accuracy: 0.6761\n",
      "Best parameters till now:{'learning_rate': 0.0005}\n",
      "Current parameter: learning_rate: 0.005   val_accuracy: 0.5991\n",
      "Best parameters till now:{'learning_rate': 0.0005}\n",
      "Current parameter: learning_rate: 0.01   val_accuracy: 0.1000\n",
      "Best parameters till now:{'learning_rate': 0.0005}\n",
      "0.0005\n",
      "Current parameter: batch_size: 8   val_accuracy: 0.6954\n",
      "Best parameters till now:{'learning_rate': 0.0005, 'batch_size': 8}\n",
      "Current parameter: batch_size: 16   val_accuracy: 0.6823\n",
      "Best parameters till now:{'learning_rate': 0.0005, 'batch_size': 8}\n",
      "Current parameter: batch_size: 32   val_accuracy: 0.6785\n",
      "Best parameters till now:{'learning_rate': 0.0005, 'batch_size': 8}\n",
      "Current parameter: batch_size: 64   val_accuracy: 0.6427\n",
      "Best parameters till now:{'learning_rate': 0.0005, 'batch_size': 8}\n",
      "Current parameter: batch_size: 128   val_accuracy: 0.6242\n",
      "Best parameters till now:{'learning_rate': 0.0005, 'batch_size': 8}\n",
      "8\n"
     ]
    }
   ],
   "source": [
    "my_net = Net_wrapper(model=CNN_3_class, max_epochs=5)\n",
    "param_grid = {'learning_rate': [0.0001, 0.0005, 0.001, 0.005, 0.01], 'batch_size': [8, 16, 32, 64, 128]}\n",
    "gs = GridSearch(net=my_net, param_grid=param_grid, step_by_step=True, verbose=1)\n",
    "gs = gs.fit(train_dataset, val_dataset)"
   ]
  },
  {
   "cell_type": "code",
   "execution_count": 21,
   "metadata": {},
   "outputs": [
    {
     "data": {
      "image/png": "[encoded data removed]",
      "text/plain": [
       "<Figure size 1200x800 with 2 Axes>"
      ]
     },
     "metadata": {},
     "output_type": "display_data"
    }
   ],
   "source": [
    "param_grid = {'learning_rate': [0.0001, 0.0005, 0.001, 0.005, 0.01], 'batch_size': [8, 16, 32, 64, 128]}\n",
    "learning_rate = [0.583, 0.6887, 0.6761, 0.5991, 0.1]\n",
    "batch_size = [0.6954, 0.6823, 0.6785, 0.6427, 0.6242]\n",
    "\n",
    "fig, ax = plt.subplots(1, 2, figsize=(12, 8))\n",
    "ax[0].plot(param_grid['learning_rate'], learning_rate, marker='o')\n",
    "ax[0].set_title(\"Accuracy dependence on learning rate\")\n",
    "ax[0].set_xlabel(\"learning rate\")\n",
    "ax[0].set_ylabel(\"accuracy\")\n",
    "ax[0].set_xscale(\"log\")\n",
    "ax[0].set_xticks(param_grid['learning_rate'])\n",
    "ax[1].plot(param_grid['batch_size'], batch_size, marker = 'o')\n",
    "ax[1].set_title(\"Accuracy dependence on batch size\")\n",
    "ax[1].set_xlabel(\"batch size\")\n",
    "ax[1].set_ylabel(\"accuracy\")\n",
    "ax[1].set_xticks(param_grid['batch_size'])\n",
    "plt.show()"
   ]
  },
  {
   "attachments": {},
   "cell_type": "markdown",
   "metadata": {},
   "source": [
    "2. Dropout, weight_decay"
   ]
  },
  {
   "cell_type": "code",
   "execution_count": 14,
   "metadata": {},
   "outputs": [
    {
     "name": "stdout",
     "output_type": "stream",
     "text": [
      "Current parameter: dr: Dropout(p=0, inplace=False)   val_accuracy: 0.8986\n",
      "Best parameters till now:{'dr': Dropout(p=0, inplace=False)}\n",
      "Current parameter: dr: Dropout(p=0.1, inplace=False)   val_accuracy: 0.9367\n",
      "Best parameters till now:{'dr': Dropout(p=0.1, inplace=False)}\n"
     ]
    }
   ],
   "source": [
    "my_net = Net_wrapper(model=CNN_3_class, max_epochs=5, learning_rate=0.0005, batch_size=8)\n",
    "param_grid = {'dr': [nn.Dropout(0), nn.Dropout(0.1), nn.Dropout(0.2), nn.Dropout(0.3), nn.Dropout(0.5)], 'weight_decay': [0, 1e-5, 1e-4, 1e-3]}\n",
    "gs = GridSearch(net=my_net, param_grid=param_grid, step_by_step=True, verbose=1)\n",
    "gs = gs.fit(train_dataset, val_dataset)"
   ]
  },
  {
   "attachments": {},
   "cell_type": "markdown",
   "metadata": {},
   "source": [
    "3. Num of epochs (run a lot of epochs and stop when validation accuracy starts to decrease)"
   ]
  },
  {
   "cell_type": "code",
   "execution_count": 43,
   "metadata": {},
   "outputs": [
    {
     "name": "stdout",
     "output_type": "stream",
     "text": [
      "Epoch 1/20\n"
     ]
    },
    {
     "name": "stderr",
     "output_type": "stream",
     "text": [
      "100%|██████████| 5000/5000 [02:22<00:00, 35.16it/s]\n"
     ]
    },
    {
     "name": "stdout",
     "output_type": "stream",
     "text": [
      "train_loss:1.367179244017601, train_acc: 0.5074\n"
     ]
    },
    {
     "name": "stderr",
     "output_type": "stream",
     "text": [
      "100%|██████████| 1250/1250 [00:19<00:00, 62.74it/s]\n"
     ]
    },
    {
     "name": "stdout",
     "output_type": "stream",
     "text": [
      "val_loss:1.1311261782169342, val_acc: 0.6056\n",
      "Epoch 2/20\n"
     ]
    },
    {
     "name": "stderr",
     "output_type": "stream",
     "text": [
      "100%|██████████| 5000/5000 [02:23<00:00, 34.88it/s]\n"
     ]
    },
    {
     "name": "stdout",
     "output_type": "stream",
     "text": [
      "train_loss:1.0221099519059063, train_acc: 0.637175\n"
     ]
    },
    {
     "name": "stderr",
     "output_type": "stream",
     "text": [
      "100%|██████████| 1250/1250 [00:18<00:00, 66.59it/s]\n"
     ]
    },
    {
     "name": "stdout",
     "output_type": "stream",
     "text": [
      "val_loss:0.993101014137268, val_acc: 0.6527\n",
      "Epoch 3/20\n"
     ]
    },
    {
     "name": "stderr",
     "output_type": "stream",
     "text": [
      "100%|██████████| 5000/5000 [02:30<00:00, 33.33it/s]\n"
     ]
    },
    {
     "name": "stdout",
     "output_type": "stream",
     "text": [
      "train_loss:0.8751001523837447, train_acc: 0.690425\n"
     ]
    },
    {
     "name": "stderr",
     "output_type": "stream",
     "text": [
      "100%|██████████| 1250/1250 [00:21<00:00, 58.75it/s]\n"
     ]
    },
    {
     "name": "stdout",
     "output_type": "stream",
     "text": [
      "val_loss:0.9432699997067452, val_acc: 0.6715\n",
      "Epoch 4/20\n"
     ]
    },
    {
     "name": "stderr",
     "output_type": "stream",
     "text": [
      "100%|██████████| 5000/5000 [02:15<00:00, 37.02it/s]\n"
     ]
    },
    {
     "name": "stdout",
     "output_type": "stream",
     "text": [
      "train_loss:0.7678421761438251, train_acc: 0.73045\n"
     ]
    },
    {
     "name": "stderr",
     "output_type": "stream",
     "text": [
      "100%|██████████| 1250/1250 [00:16<00:00, 73.90it/s]\n"
     ]
    },
    {
     "name": "stdout",
     "output_type": "stream",
     "text": [
      "val_loss:0.901851232546568, val_acc: 0.6923\n",
      "Epoch 5/20\n"
     ]
    },
    {
     "name": "stderr",
     "output_type": "stream",
     "text": [
      "100%|██████████| 5000/5000 [02:03<00:00, 40.53it/s]\n"
     ]
    },
    {
     "name": "stdout",
     "output_type": "stream",
     "text": [
      "train_loss:0.6812195054091513, train_acc: 0.76025\n"
     ]
    },
    {
     "name": "stderr",
     "output_type": "stream",
     "text": [
      "100%|██████████| 1250/1250 [00:17<00:00, 70.63it/s]\n"
     ]
    },
    {
     "name": "stdout",
     "output_type": "stream",
     "text": [
      "val_loss:0.8833921184927225, val_acc: 0.6964\n",
      "Epoch 6/20\n"
     ]
    },
    {
     "name": "stderr",
     "output_type": "stream",
     "text": [
      "100%|██████████| 5000/5000 [02:06<00:00, 39.62it/s]\n"
     ]
    },
    {
     "name": "stdout",
     "output_type": "stream",
     "text": [
      "train_loss:0.6047580602146685, train_acc: 0.7869\n"
     ]
    },
    {
     "name": "stderr",
     "output_type": "stream",
     "text": [
      "100%|██████████| 1250/1250 [00:18<00:00, 69.33it/s]\n"
     ]
    },
    {
     "name": "stdout",
     "output_type": "stream",
     "text": [
      "val_loss:0.9163684277355671, val_acc: 0.6984\n",
      "Epoch 7/20\n"
     ]
    },
    {
     "name": "stderr",
     "output_type": "stream",
     "text": [
      "100%|██████████| 5000/5000 [02:24<00:00, 34.71it/s]\n"
     ]
    },
    {
     "name": "stdout",
     "output_type": "stream",
     "text": [
      "train_loss:0.5349723679063841, train_acc: 0.8111\n"
     ]
    },
    {
     "name": "stderr",
     "output_type": "stream",
     "text": [
      "100%|██████████| 1250/1250 [00:17<00:00, 73.16it/s]\n"
     ]
    },
    {
     "name": "stdout",
     "output_type": "stream",
     "text": [
      "val_loss:0.9288069393068552, val_acc: 0.7\n",
      "Epoch 8/20\n"
     ]
    },
    {
     "name": "stderr",
     "output_type": "stream",
     "text": [
      "100%|██████████| 5000/5000 [02:08<00:00, 38.93it/s]\n"
     ]
    },
    {
     "name": "stdout",
     "output_type": "stream",
     "text": [
      "train_loss:0.46668085316661745, train_acc: 0.836475\n"
     ]
    },
    {
     "name": "stderr",
     "output_type": "stream",
     "text": [
      "100%|██████████| 1250/1250 [00:16<00:00, 74.35it/s]\n"
     ]
    },
    {
     "name": "stdout",
     "output_type": "stream",
     "text": [
      "val_loss:0.9727133320122957, val_acc: 0.7042\n",
      "Epoch 9/20\n"
     ]
    },
    {
     "name": "stderr",
     "output_type": "stream",
     "text": [
      "100%|██████████| 5000/5000 [02:14<00:00, 37.22it/s]\n"
     ]
    },
    {
     "name": "stdout",
     "output_type": "stream",
     "text": [
      "train_loss:0.40310598198021763, train_acc: 0.859075\n"
     ]
    },
    {
     "name": "stderr",
     "output_type": "stream",
     "text": [
      "100%|██████████| 1250/1250 [00:16<00:00, 75.02it/s]\n"
     ]
    },
    {
     "name": "stdout",
     "output_type": "stream",
     "text": [
      "val_loss:1.0612843801558018, val_acc: 0.6872\n",
      "Epoch 10/20\n"
     ]
    },
    {
     "name": "stderr",
     "output_type": "stream",
     "text": [
      "100%|██████████| 5000/5000 [02:31<00:00, 32.94it/s]\n"
     ]
    },
    {
     "name": "stdout",
     "output_type": "stream",
     "text": [
      "train_loss:0.34871114134127273, train_acc: 0.87725\n"
     ]
    },
    {
     "name": "stderr",
     "output_type": "stream",
     "text": [
      "100%|██████████| 1250/1250 [00:27<00:00, 45.46it/s]\n"
     ]
    },
    {
     "name": "stdout",
     "output_type": "stream",
     "text": [
      "val_loss:1.1207977756097913, val_acc: 0.6886\n",
      "Epoch 11/20\n"
     ]
    },
    {
     "name": "stderr",
     "output_type": "stream",
     "text": [
      "100%|██████████| 5000/5000 [02:43<00:00, 30.67it/s]\n"
     ]
    },
    {
     "name": "stdout",
     "output_type": "stream",
     "text": [
      "train_loss:0.21719751578164578, train_acc: 0.927925\n"
     ]
    },
    {
     "name": "stderr",
     "output_type": "stream",
     "text": [
      "100%|██████████| 1250/1250 [00:21<00:00, 58.99it/s]\n"
     ]
    },
    {
     "name": "stdout",
     "output_type": "stream",
     "text": [
      "val_loss:1.1960707105569541, val_acc: 0.7002\n",
      "Epoch 12/20\n"
     ]
    },
    {
     "name": "stderr",
     "output_type": "stream",
     "text": [
      "100%|██████████| 5000/5000 [02:29<00:00, 33.53it/s]\n"
     ]
    },
    {
     "name": "stdout",
     "output_type": "stream",
     "text": [
      "train_loss:0.17249927212976035, train_acc: 0.944875\n"
     ]
    },
    {
     "name": "stderr",
     "output_type": "stream",
     "text": [
      "100%|██████████| 1250/1250 [00:23<00:00, 54.08it/s]\n"
     ]
    },
    {
     "name": "stdout",
     "output_type": "stream",
     "text": [
      "val_loss:1.335640177924186, val_acc: 0.7\n",
      "Epoch 13/20\n"
     ]
    },
    {
     "name": "stderr",
     "output_type": "stream",
     "text": [
      "100%|██████████| 5000/5000 [02:25<00:00, 34.45it/s]\n"
     ]
    },
    {
     "name": "stdout",
     "output_type": "stream",
     "text": [
      "train_loss:0.13608480416923704, train_acc: 0.9582\n"
     ]
    },
    {
     "name": "stderr",
     "output_type": "stream",
     "text": [
      "100%|██████████| 1250/1250 [00:19<00:00, 62.87it/s]\n"
     ]
    },
    {
     "name": "stdout",
     "output_type": "stream",
     "text": [
      "val_loss:1.465663416982442, val_acc: 0.6915\n",
      "Epoch 14/20\n"
     ]
    },
    {
     "name": "stderr",
     "output_type": "stream",
     "text": [
      "100%|██████████| 5000/5000 [02:25<00:00, 34.36it/s]\n"
     ]
    },
    {
     "name": "stdout",
     "output_type": "stream",
     "text": [
      "train_loss:0.10815417145311804, train_acc: 0.968275\n"
     ]
    },
    {
     "name": "stderr",
     "output_type": "stream",
     "text": [
      "100%|██████████| 1250/1250 [00:19<00:00, 65.38it/s]\n"
     ]
    },
    {
     "name": "stdout",
     "output_type": "stream",
     "text": [
      "val_loss:1.598927933447808, val_acc: 0.6911\n",
      "Epoch 15/20\n"
     ]
    },
    {
     "name": "stderr",
     "output_type": "stream",
     "text": [
      "100%|██████████| 5000/5000 [02:28<00:00, 33.61it/s]\n"
     ]
    },
    {
     "name": "stdout",
     "output_type": "stream",
     "text": [
      "train_loss:0.08646666240554222, train_acc: 0.9746\n"
     ]
    },
    {
     "name": "stderr",
     "output_type": "stream",
     "text": [
      "100%|██████████| 1250/1250 [00:17<00:00, 71.20it/s]\n"
     ]
    },
    {
     "name": "stdout",
     "output_type": "stream",
     "text": [
      "val_loss:1.7931744132095948, val_acc: 0.6888\n",
      "Epoch 16/20\n"
     ]
    },
    {
     "name": "stderr",
     "output_type": "stream",
     "text": [
      "  7%|▋         | 356/5000 [00:11<02:25, 31.96it/s]\n"
     ]
    },
    {
     "ename": "KeyboardInterrupt",
     "evalue": "",
     "output_type": "error",
     "traceback": [
      "\u001b[1;31m---------------------------------------------------------------------------\u001b[0m",
      "\u001b[1;31mKeyboardInterrupt\u001b[0m                         Traceback (most recent call last)",
      "Cell \u001b[1;32mIn[43], line 2\u001b[0m\n\u001b[0;32m      1\u001b[0m my_net \u001b[39m=\u001b[39m Net_wrapper(model\u001b[39m=\u001b[39mCNN_3_class, max_epochs\u001b[39m=\u001b[39m\u001b[39m20\u001b[39m, learning_rate\u001b[39m=\u001b[39m\u001b[39m0.0005\u001b[39m, batch_size\u001b[39m=\u001b[39m\u001b[39m8\u001b[39m, verbose\u001b[39m=\u001b[39m\u001b[39m1\u001b[39m)\n\u001b[1;32m----> 2\u001b[0m my_net\u001b[39m.\u001b[39;49mscore(train_dataset, val_dataset)\n",
      "Cell \u001b[1;32mIn[42], line 49\u001b[0m, in \u001b[0;36mNet_wrapper.score\u001b[1;34m(self, train_dataset, val_dataset)\u001b[0m\n\u001b[0;32m     47\u001b[0m train_accuracies \u001b[39m=\u001b[39m []\n\u001b[0;32m     48\u001b[0m train_losses \u001b[39m=\u001b[39m []\n\u001b[1;32m---> 49\u001b[0m \u001b[39mfor\u001b[39;00m data \u001b[39min\u001b[39;00m tqdm(train_loader):\n\u001b[0;32m     50\u001b[0m     results \u001b[39m=\u001b[39m model\u001b[39m.\u001b[39mtrain_step(data, optimizer, \u001b[39mself\u001b[39m\u001b[39m.\u001b[39mcriterion())\n\u001b[0;32m     51\u001b[0m     train_accuracies\u001b[39m.\u001b[39mappend(results[\u001b[39m'\u001b[39m\u001b[39maccuracy\u001b[39m\u001b[39m'\u001b[39m]\u001b[39m.\u001b[39mitem())\n",
      "File \u001b[1;32mc:\\Users\\jan20\\PycharmProjects\\PytorchProjects\\venv\\lib\\site-packages\\tqdm\\std.py:1178\u001b[0m, in \u001b[0;36mtqdm.__iter__\u001b[1;34m(self)\u001b[0m\n\u001b[0;32m   1175\u001b[0m time \u001b[39m=\u001b[39m \u001b[39mself\u001b[39m\u001b[39m.\u001b[39m_time\n\u001b[0;32m   1177\u001b[0m \u001b[39mtry\u001b[39;00m:\n\u001b[1;32m-> 1178\u001b[0m     \u001b[39mfor\u001b[39;00m obj \u001b[39min\u001b[39;00m iterable:\n\u001b[0;32m   1179\u001b[0m         \u001b[39myield\u001b[39;00m obj\n\u001b[0;32m   1180\u001b[0m         \u001b[39m# Update and possibly print the progressbar.\u001b[39;00m\n\u001b[0;32m   1181\u001b[0m         \u001b[39m# Note: does not call self.update(1) for speed optimisation.\u001b[39;00m\n",
      "File \u001b[1;32mc:\\Users\\jan20\\PycharmProjects\\PytorchProjects\\venv\\lib\\site-packages\\torch\\utils\\data\\dataloader.py:628\u001b[0m, in \u001b[0;36m_BaseDataLoaderIter.__next__\u001b[1;34m(self)\u001b[0m\n\u001b[0;32m    625\u001b[0m \u001b[39mif\u001b[39;00m \u001b[39mself\u001b[39m\u001b[39m.\u001b[39m_sampler_iter \u001b[39mis\u001b[39;00m \u001b[39mNone\u001b[39;00m:\n\u001b[0;32m    626\u001b[0m     \u001b[39m# TODO(https://github.com/pytorch/pytorch/issues/76750)\u001b[39;00m\n\u001b[0;32m    627\u001b[0m     \u001b[39mself\u001b[39m\u001b[39m.\u001b[39m_reset()  \u001b[39m# type: ignore[call-arg]\u001b[39;00m\n\u001b[1;32m--> 628\u001b[0m data \u001b[39m=\u001b[39m \u001b[39mself\u001b[39;49m\u001b[39m.\u001b[39;49m_next_data()\n\u001b[0;32m    629\u001b[0m \u001b[39mself\u001b[39m\u001b[39m.\u001b[39m_num_yielded \u001b[39m+\u001b[39m\u001b[39m=\u001b[39m \u001b[39m1\u001b[39m\n\u001b[0;32m    630\u001b[0m \u001b[39mif\u001b[39;00m \u001b[39mself\u001b[39m\u001b[39m.\u001b[39m_dataset_kind \u001b[39m==\u001b[39m _DatasetKind\u001b[39m.\u001b[39mIterable \u001b[39mand\u001b[39;00m \\\n\u001b[0;32m    631\u001b[0m         \u001b[39mself\u001b[39m\u001b[39m.\u001b[39m_IterableDataset_len_called \u001b[39mis\u001b[39;00m \u001b[39mnot\u001b[39;00m \u001b[39mNone\u001b[39;00m \u001b[39mand\u001b[39;00m \\\n\u001b[0;32m    632\u001b[0m         \u001b[39mself\u001b[39m\u001b[39m.\u001b[39m_num_yielded \u001b[39m>\u001b[39m \u001b[39mself\u001b[39m\u001b[39m.\u001b[39m_IterableDataset_len_called:\n",
      "File \u001b[1;32mc:\\Users\\jan20\\PycharmProjects\\PytorchProjects\\venv\\lib\\site-packages\\torch\\utils\\data\\dataloader.py:671\u001b[0m, in \u001b[0;36m_SingleProcessDataLoaderIter._next_data\u001b[1;34m(self)\u001b[0m\n\u001b[0;32m    669\u001b[0m \u001b[39mdef\u001b[39;00m \u001b[39m_next_data\u001b[39m(\u001b[39mself\u001b[39m):\n\u001b[0;32m    670\u001b[0m     index \u001b[39m=\u001b[39m \u001b[39mself\u001b[39m\u001b[39m.\u001b[39m_next_index()  \u001b[39m# may raise StopIteration\u001b[39;00m\n\u001b[1;32m--> 671\u001b[0m     data \u001b[39m=\u001b[39m \u001b[39mself\u001b[39;49m\u001b[39m.\u001b[39;49m_dataset_fetcher\u001b[39m.\u001b[39;49mfetch(index)  \u001b[39m# may raise StopIteration\u001b[39;00m\n\u001b[0;32m    672\u001b[0m     \u001b[39mif\u001b[39;00m \u001b[39mself\u001b[39m\u001b[39m.\u001b[39m_pin_memory:\n\u001b[0;32m    673\u001b[0m         data \u001b[39m=\u001b[39m _utils\u001b[39m.\u001b[39mpin_memory\u001b[39m.\u001b[39mpin_memory(data, \u001b[39mself\u001b[39m\u001b[39m.\u001b[39m_pin_memory_device)\n",
      "File \u001b[1;32mc:\\Users\\jan20\\PycharmProjects\\PytorchProjects\\venv\\lib\\site-packages\\torch\\utils\\data\\_utils\\fetch.py:58\u001b[0m, in \u001b[0;36m_MapDatasetFetcher.fetch\u001b[1;34m(self, possibly_batched_index)\u001b[0m\n\u001b[0;32m     56\u001b[0m         data \u001b[39m=\u001b[39m \u001b[39mself\u001b[39m\u001b[39m.\u001b[39mdataset\u001b[39m.\u001b[39m__getitems__(possibly_batched_index)\n\u001b[0;32m     57\u001b[0m     \u001b[39melse\u001b[39;00m:\n\u001b[1;32m---> 58\u001b[0m         data \u001b[39m=\u001b[39m [\u001b[39mself\u001b[39m\u001b[39m.\u001b[39mdataset[idx] \u001b[39mfor\u001b[39;00m idx \u001b[39min\u001b[39;00m possibly_batched_index]\n\u001b[0;32m     59\u001b[0m \u001b[39melse\u001b[39;00m:\n\u001b[0;32m     60\u001b[0m     data \u001b[39m=\u001b[39m \u001b[39mself\u001b[39m\u001b[39m.\u001b[39mdataset[possibly_batched_index]\n",
      "File \u001b[1;32mc:\\Users\\jan20\\PycharmProjects\\PytorchProjects\\venv\\lib\\site-packages\\torch\\utils\\data\\_utils\\fetch.py:58\u001b[0m, in \u001b[0;36m<listcomp>\u001b[1;34m(.0)\u001b[0m\n\u001b[0;32m     56\u001b[0m         data \u001b[39m=\u001b[39m \u001b[39mself\u001b[39m\u001b[39m.\u001b[39mdataset\u001b[39m.\u001b[39m__getitems__(possibly_batched_index)\n\u001b[0;32m     57\u001b[0m     \u001b[39melse\u001b[39;00m:\n\u001b[1;32m---> 58\u001b[0m         data \u001b[39m=\u001b[39m [\u001b[39mself\u001b[39;49m\u001b[39m.\u001b[39;49mdataset[idx] \u001b[39mfor\u001b[39;00m idx \u001b[39min\u001b[39;00m possibly_batched_index]\n\u001b[0;32m     59\u001b[0m \u001b[39melse\u001b[39;00m:\n\u001b[0;32m     60\u001b[0m     data \u001b[39m=\u001b[39m \u001b[39mself\u001b[39m\u001b[39m.\u001b[39mdataset[possibly_batched_index]\n",
      "File \u001b[1;32mc:\\Users\\jan20\\OneDrive\\Pulpit\\DS\\sem2\\Deep_learning\\Deep_Learning\\datasets.py:62\u001b[0m, in \u001b[0;36mCifarDataset.__getitem__\u001b[1;34m(self, index)\u001b[0m\n\u001b[0;32m     59\u001b[0m label \u001b[39m=\u001b[39m \u001b[39mself\u001b[39m\u001b[39m.\u001b[39mclass_dict[\u001b[39mself\u001b[39m\u001b[39m.\u001b[39mlabels\u001b[39m.\u001b[39miloc[index, \u001b[39m1\u001b[39m]]\n\u001b[0;32m     61\u001b[0m \u001b[39mif\u001b[39;00m \u001b[39mself\u001b[39m\u001b[39m.\u001b[39mtransform \u001b[39mis\u001b[39;00m \u001b[39mnot\u001b[39;00m \u001b[39mNone\u001b[39;00m:\n\u001b[1;32m---> 62\u001b[0m     img \u001b[39m=\u001b[39m \u001b[39mself\u001b[39;49m\u001b[39m.\u001b[39;49mtransform(img)\n\u001b[0;32m     64\u001b[0m \u001b[39mreturn\u001b[39;00m (img, label)\n",
      "File \u001b[1;32mc:\\Users\\jan20\\PycharmProjects\\PytorchProjects\\venv\\lib\\site-packages\\torchvision\\transforms\\transforms.py:95\u001b[0m, in \u001b[0;36mCompose.__call__\u001b[1;34m(self, img)\u001b[0m\n\u001b[0;32m     93\u001b[0m \u001b[39mdef\u001b[39;00m \u001b[39m__call__\u001b[39m(\u001b[39mself\u001b[39m, img):\n\u001b[0;32m     94\u001b[0m     \u001b[39mfor\u001b[39;00m t \u001b[39min\u001b[39;00m \u001b[39mself\u001b[39m\u001b[39m.\u001b[39mtransforms:\n\u001b[1;32m---> 95\u001b[0m         img \u001b[39m=\u001b[39m t(img)\n\u001b[0;32m     96\u001b[0m     \u001b[39mreturn\u001b[39;00m img\n",
      "File \u001b[1;32mc:\\Users\\jan20\\PycharmProjects\\PytorchProjects\\venv\\lib\\site-packages\\torchvision\\transforms\\transforms.py:135\u001b[0m, in \u001b[0;36mToTensor.__call__\u001b[1;34m(self, pic)\u001b[0m\n\u001b[0;32m    127\u001b[0m \u001b[39mdef\u001b[39;00m \u001b[39m__call__\u001b[39m(\u001b[39mself\u001b[39m, pic):\n\u001b[0;32m    128\u001b[0m \u001b[39m    \u001b[39m\u001b[39m\"\"\"\u001b[39;00m\n\u001b[0;32m    129\u001b[0m \u001b[39m    Args:\u001b[39;00m\n\u001b[0;32m    130\u001b[0m \u001b[39m        pic (PIL Image or numpy.ndarray): Image to be converted to tensor.\u001b[39;00m\n\u001b[1;32m   (...)\u001b[0m\n\u001b[0;32m    133\u001b[0m \u001b[39m        Tensor: Converted image.\u001b[39;00m\n\u001b[0;32m    134\u001b[0m \u001b[39m    \"\"\"\u001b[39;00m\n\u001b[1;32m--> 135\u001b[0m     \u001b[39mreturn\u001b[39;00m F\u001b[39m.\u001b[39;49mto_tensor(pic)\n",
      "File \u001b[1;32mc:\\Users\\jan20\\PycharmProjects\\PytorchProjects\\venv\\lib\\site-packages\\torchvision\\transforms\\functional.py:167\u001b[0m, in \u001b[0;36mto_tensor\u001b[1;34m(pic)\u001b[0m\n\u001b[0;32m    165\u001b[0m \u001b[39mif\u001b[39;00m pic\u001b[39m.\u001b[39mmode \u001b[39m==\u001b[39m \u001b[39m\"\u001b[39m\u001b[39m1\u001b[39m\u001b[39m\"\u001b[39m:\n\u001b[0;32m    166\u001b[0m     img \u001b[39m=\u001b[39m \u001b[39m255\u001b[39m \u001b[39m*\u001b[39m img\n\u001b[1;32m--> 167\u001b[0m img \u001b[39m=\u001b[39m img\u001b[39m.\u001b[39;49mview(pic\u001b[39m.\u001b[39;49msize[\u001b[39m1\u001b[39;49m], pic\u001b[39m.\u001b[39;49msize[\u001b[39m0\u001b[39;49m], \u001b[39mlen\u001b[39;49m(pic\u001b[39m.\u001b[39;49mgetbands()))\n\u001b[0;32m    168\u001b[0m \u001b[39m# put it from HWC to CHW format\u001b[39;00m\n\u001b[0;32m    169\u001b[0m img \u001b[39m=\u001b[39m img\u001b[39m.\u001b[39mpermute((\u001b[39m2\u001b[39m, \u001b[39m0\u001b[39m, \u001b[39m1\u001b[39m))\u001b[39m.\u001b[39mcontiguous()\n",
      "\u001b[1;31mKeyboardInterrupt\u001b[0m: "
     ]
    }
   ],
   "source": [
    "my_net = Net_wrapper(model=CNN_3_class, max_epochs=20, learning_rate=0.0005, batch_size=8, verbose=1)\n",
    "my_net.score(train_dataset, val_dataset)"
   ]
  },
  {
   "cell_type": "code",
   "execution_count": 44,
   "metadata": {},
   "outputs": [
    {
     "data": {
      "text/plain": [
       "[<matplotlib.lines.Line2D at 0x18471d8e5f0>]"
      ]
     },
     "execution_count": 44,
     "metadata": {},
     "output_type": "execute_result"
    },
    {
     "data": {
      "image/png": "[encoded data removed]",
      "text/plain": [
       "<Figure size 640x480 with 1 Axes>"
      ]
     },
     "metadata": {},
     "output_type": "display_data"
    }
   ],
   "source": [
    "train = [0.574, 0.6371, 0.69, 0.73, 0.76, 0.7869, 0.8111, 0.8364, 0.859, 0.877, 0.927, 0.945, 0.958, 0.968, 0.975 ]\n",
    "val = [0.6056, 0.6527, 0.67, 0.6923, 0.6964, 0.6984, 0.7, 0.7042, 0.6872, 0.6886, 0.7002, 0.7, 0.6915, 0.6911, 0.6888]\n",
    "\n",
    "plt.plot(list(range(1, 16)), train, color='blue')\n",
    "plt.plot(list(range(1, 16)), val, color='orange')"
   ]
  },
  {
   "attachments": {},
   "cell_type": "markdown",
   "metadata": {},
   "source": [
    "4. Regularization, dropout "
   ]
  }
 ],
 "metadata": {
  "kernelspec": {
   "display_name": "venv",
   "language": "python",
   "name": "python3"
  },
  "language_info": {
   "codemirror_mode": {
    "name": "ipython",
    "version": 3
   },
   "file_extension": ".py",
   "mimetype": "text/x-python",
   "name": "python",
   "nbconvert_exporter": "python",
   "pygments_lexer": "ipython3",
   "version": "3.10.7"
  },
  "orig_nbformat": 4
 },
 "nbformat": 4,
 "nbformat_minor": 2
}
