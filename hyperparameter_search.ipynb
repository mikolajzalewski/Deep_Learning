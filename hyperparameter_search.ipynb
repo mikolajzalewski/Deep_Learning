{
 "cells": [
  {
   "cell_type": "code",
   "execution_count": 1,
   "metadata": {},
   "outputs": [],
   "source": [
    "import torch\n",
    "import numpy as np\n",
    "import torch.optim as optim\n",
    "import torch.nn as nn\n",
    "from sklearn.model_selection import ParameterGrid\n",
    "from torch.utils.data import Dataset, DataLoader\n",
    "\n",
    "import datasets\n",
    "import weighted_random_search"
   ]
  },
  {
   "cell_type": "code",
   "execution_count": 3,
   "metadata": {},
   "outputs": [],
   "source": [
    "import import_ipynb\n",
    "from CNN import CNN_3_class"
   ]
  },
  {
   "cell_type": "code",
   "execution_count": 21,
   "metadata": {},
   "outputs": [],
   "source": [
    "class Net_wrapper:\n",
    "    \"\"\" \n",
    "    Wrapper for neural network model. It combines the model itself (nn.Module) together with\n",
    "    optimizer, loss function and training parameters (such as max_epochs, learning rate and batch size)\n",
    "    \"\"\"\n",
    "        \n",
    "    def __init__(self, model=CNN_3_class, criterion=nn.CrossEntropyLoss, optimizer=optim.Adam,\n",
    "                 max_epochs=3, batch_size=32, learning_rate=0.001, **kwargs):\n",
    "        self.model_params = kwargs\n",
    "        self.model = model\n",
    "        self.criterion = criterion\n",
    "        self.optimizer = optimizer\n",
    "        self.max_epochs = max_epochs\n",
    "        self.batch_size = batch_size\n",
    "        self.learning_rate = learning_rate\n",
    "    \n",
    "    def __setattr__(self, name, value):\n",
    "        self.__dict__[name] = value\n",
    "\n",
    "    def score(self, train_dataset, val_dataset):\n",
    "        \"\"\"\n",
    "        Train model on train_dataset and calculate validation acurracy on val_dataset. \n",
    "        \"\"\"\n",
    "        if self.model_params:\n",
    "            model = self.model(**self.model_params)\n",
    "            \n",
    "        else:\n",
    "            model = self.model()\n",
    "            \n",
    "        optimizer = self.optimizer(model.parameters(), lr=self.learning_rate)\n",
    "        \n",
    "        train_loader = DataLoader(train_dataset, batch_size=self.batch_size, shuffle=True)\n",
    "        val_loader = DataLoader(val_dataset, batch_size=self.batch_size, shuffle=False)\n",
    "\n",
    "        for epoch in range(self.max_epochs):\n",
    "            train_accuracies = []\n",
    "            for data in train_loader:\n",
    "                results = model.train_step(data, optimizer, self.criterion())\n",
    "                train_accuracies.append(results['accuracy'].item())\n",
    "\n",
    "            # Calculate average training loss and accuracy for the epoch\n",
    "            avg_train_accuracy = sum(train_accuracies) / len(train_accuracies)\n",
    "    \n",
    "\n",
    "            # Test the model\n",
    "            val_accuracies = []\n",
    "            \n",
    "            with torch.no_grad():\n",
    "                for data in val_loader:\n",
    "                    results = model.test_step(data, self.criterion())\n",
    "                    val_accuracies.append(results['accuracy'].item())\n",
    "\n",
    "            # Calculate average test loss and accuracy for the epoch\n",
    "            avg_validation_accuracy = sum(val_accuracies) / len(val_accuracies)\n",
    "\n",
    "        return avg_train_accuracy, avg_validation_accuracy\n",
    "        \n",
    "    "
   ]
  },
  {
   "cell_type": "code",
   "execution_count": 22,
   "metadata": {},
   "outputs": [],
   "source": [
    "class GridSearch():\n",
    "    \"\"\"\n",
    "    Class used to perform grid search on neural networks \n",
    "\n",
    "    Attributes:\n",
    "    self.net - Net_wrapper instance\n",
    "    self.param_grid - dictionary of parameters we want to search\n",
    "    self.scores - list for scores of each set of parameters\n",
    "    self.best_score - best score out of all parameters\n",
    "    self.best_params - best set of parameters\n",
    "    self.verbose - if set to 1 additional information (parameter set and accuracy) prints with each iteration of grid search. \n",
    "    \"\"\"\n",
    "    def __init__(self, net: Net_wrapper, param_grid, verbose=1):\n",
    "        \"\"\"\n",
    "\n",
    "        \"\"\"\n",
    "        self.net = net\n",
    "        self.param_grid = ParameterGrid(param_grid)\n",
    "        self.scores = []\n",
    "        self.best_score = 0\n",
    "        self.best_params = None\n",
    "        self.verbose = verbose\n",
    "\n",
    "    def fit(self, train_dataset, val_dataset):\n",
    "        \"\"\"\n",
    "        Fit the grid search with train and validation dataset. \n",
    "        Search for optimal parameters for neural network declared during \n",
    "        initialization of GridSearch instance.\n",
    "        \"\"\"\n",
    "        \n",
    "        for params in self.param_grid:\n",
    "            for hyp_name, hyp_val in params.items():\n",
    "                if hasattr(self.net, hyp_name):\n",
    "                    setattr(self.net, hyp_name, hyp_val)\n",
    "                else:\n",
    "                    self.net.model_params[hyp_name] = hyp_val\n",
    "\n",
    "            _, val_accuracy = self.net.score(train_dataset, val_dataset)\n",
    "            self.scores.append(val_accuracy)\n",
    "            if val_accuracy > self.best_score:\n",
    "                self.best_score = val_accuracy\n",
    "                self.best_params = params\n",
    "            if self.verbose == 1:\n",
    "                print('Parameter set:', params)\n",
    "                print(f'val_accuracy: {val_accuracy:.4f}')\n",
    "        \n",
    "        return self"
   ]
  },
  {
   "attachments": {},
   "cell_type": "markdown",
   "metadata": {},
   "source": [
    "### Example hyperparameters (from most to least important):"
   ]
  },
  {
   "cell_type": "code",
   "execution_count": 6,
   "metadata": {},
   "outputs": [],
   "source": [
    "hyperparams1 = {'learning_rate': [0.001, 0.005, 0.01],\n",
    "               'batch_size': [8, 32, 64],\n",
    "               'max_epochs': [5, 10, 15]}\n",
    "\n",
    "hyperparams2 = {\n",
    "                'no_neurons': [25, 50, 100],\n",
    "                'kernel_size': [2, 3, 5],\n",
    "                'number_of_filters': [16, 32, 64]\n",
    "                }\n",
    "\n",
    "hyperparams3 = {\n",
    "               'optimizer': [optim.Adam, optim.Adagrad, optim.SGD],\n",
    "               'activation_func': [nn.ReLU, nn.LeakyReLU, nn.Tanh],\n",
    "               'dropout_rate': [0.0, 0.25, 0.5]}\n",
    "\n"
   ]
  },
  {
   "attachments": {},
   "cell_type": "markdown",
   "metadata": {},
   "source": [
    "### Sample for testing GridSearch"
   ]
  },
  {
   "cell_type": "code",
   "execution_count": 7,
   "metadata": {},
   "outputs": [],
   "source": [
    "train_dataset = datasets.cifar_train\n",
    "val_dataset = datasets.cifar_val"
   ]
  },
  {
   "cell_type": "code",
   "execution_count": 23,
   "metadata": {},
   "outputs": [],
   "source": [
    "from torch.utils.data import DataLoader, SubsetRandomSampler, Subset\n",
    "\n",
    "subset_indices = list(range(500))\n",
    "subset_sampler = SubsetRandomSampler(subset_indices)\n",
    "\n",
    "subset_train_dataset = Subset(train_dataset, subset_indices)\n",
    "subset_val_dataset = Subset(val_dataset, subset_indices)"
   ]
  },
  {
   "attachments": {},
   "cell_type": "markdown",
   "metadata": {},
   "source": [
    "### GridSearch test"
   ]
  },
  {
   "cell_type": "code",
   "execution_count": 24,
   "metadata": {},
   "outputs": [
    {
     "name": "stdout",
     "output_type": "stream",
     "text": [
      "Parameter set: {'batch_size': 8, 'learning_rate': 0.001, 'no_neurons': 64}\n",
      "val_accuracy: 0.2698\n",
      "Parameter set: {'batch_size': 8, 'learning_rate': 0.001, 'no_neurons': 128}\n",
      "val_accuracy: 0.2976\n",
      "Parameter set: {'batch_size': 8, 'learning_rate': 0.005, 'no_neurons': 64}\n",
      "val_accuracy: 0.1032\n",
      "Parameter set: {'batch_size': 8, 'learning_rate': 0.005, 'no_neurons': 128}\n",
      "val_accuracy: 0.2619\n",
      "Parameter set: {'batch_size': 8, 'learning_rate': 0.01, 'no_neurons': 64}\n",
      "val_accuracy: 0.1567\n",
      "Parameter set: {'batch_size': 8, 'learning_rate': 0.01, 'no_neurons': 128}\n",
      "val_accuracy: 0.1032\n",
      "Parameter set: {'batch_size': 32, 'learning_rate': 0.001, 'no_neurons': 64}\n",
      "val_accuracy: 0.2758\n",
      "Parameter set: {'batch_size': 32, 'learning_rate': 0.001, 'no_neurons': 128}\n",
      "val_accuracy: 0.2418\n",
      "Parameter set: {'batch_size': 32, 'learning_rate': 0.005, 'no_neurons': 64}\n",
      "val_accuracy: 0.2969\n",
      "Parameter set: {'batch_size': 32, 'learning_rate': 0.005, 'no_neurons': 128}\n",
      "val_accuracy: 0.2305\n",
      "Parameter set: {'batch_size': 32, 'learning_rate': 0.01, 'no_neurons': 64}\n",
      "val_accuracy: 0.1008\n",
      "Parameter set: {'batch_size': 32, 'learning_rate': 0.01, 'no_neurons': 128}\n",
      "val_accuracy: 0.1008\n",
      "Parameter set: {'batch_size': 64, 'learning_rate': 0.001, 'no_neurons': 64}\n",
      "val_accuracy: 0.2964\n",
      "Parameter set: {'batch_size': 64, 'learning_rate': 0.001, 'no_neurons': 128}\n",
      "val_accuracy: 0.2778\n",
      "Parameter set: {'batch_size': 64, 'learning_rate': 0.005, 'no_neurons': 64}\n",
      "val_accuracy: 0.2607\n",
      "Parameter set: {'batch_size': 64, 'learning_rate': 0.005, 'no_neurons': 128}\n",
      "val_accuracy: 0.2933\n",
      "Parameter set: {'batch_size': 64, 'learning_rate': 0.01, 'no_neurons': 64}\n",
      "val_accuracy: 0.1014\n",
      "Parameter set: {'batch_size': 64, 'learning_rate': 0.01, 'no_neurons': 128}\n",
      "val_accuracy: 0.1203\n"
     ]
    }
   ],
   "source": [
    "test_hyper_params = {'learning_rate': [0.001, 0.005, 0.01], 'batch_size': [8, 32, 64], 'no_neurons': [64, 128] }\n",
    "my_net = Net_wrapper()\n",
    "gs = GridSearch(net=my_net, param_grid=test_hyper_params, verbose=1)\n",
    "gs = gs.fit(subset_train_dataset, subset_val_dataset)"
   ]
  },
  {
   "cell_type": "code",
   "execution_count": 30,
   "metadata": {},
   "outputs": [
    {
     "name": "stdout",
     "output_type": "stream",
     "text": [
      "0.2857142857142857\n",
      "{'batch_size': 8, 'lr': 0.001, 'max_epochs': 5}\n"
     ]
    }
   ],
   "source": [
    "print(gs.best_score)\n",
    "print(gs.best_params)"
   ]
  },
  {
   "cell_type": "code",
   "execution_count": 26,
   "metadata": {},
   "outputs": [],
   "source": [
    "from weighted_random_search import wrs\n",
    "\n",
    "class WeightedRandomSearch():\n",
    "    \"\"\"\n",
    "    Class used to perform grid search on neural networks \n",
    "\n",
    "    Attributes:\n",
    "    self.net - Net_wrapper instance\n",
    "    self.param_grid - dictionary of parameters we want to search\n",
    "    self.scores - list for scores of each set of parameters\n",
    "    self.best_score - best score out of all parameters\n",
    "    self.best_params - best set of parameters\n",
    "    self.verbose - if set to 1 additional information (parameter set and accuracy) prints with each iteration of grid search. \n",
    "    \"\"\"\n",
    "    def __init__(self, net, param_grid, verbose=1):\n",
    "        \"\"\"\n",
    "\n",
    "        \"\"\"\n",
    "        self.net = net\n",
    "        self.param_grid = param_grid\n",
    "        self.scores = []\n",
    "        self.best_score = 0\n",
    "        self.best_params = None\n",
    "        self.verbose = verbose\n",
    "\n",
    "    def fit(self, train_dataset, val_dataset, N, N_0):\n",
    "        \"\"\"\n",
    "        Fit the grid search with train and validation dataset. \n",
    "        Search for optimal parameters for neural network declared during \n",
    "        initialization of GridSearch instance.\n",
    "        \"\"\"\n",
    "        def goal_function(params):\n",
    "            \n",
    "            for hyp_name, hyp_val in params.items():\n",
    "                if hasattr(self.net, hyp_name):\n",
    "                    setattr(self.net, hyp_name, hyp_val)\n",
    "                else:\n",
    "                    self.net.model_params[hyp_name] = hyp_val\n",
    "            \n",
    "            return self.net.score(train_dataset, val_dataset)[1]\n",
    "            \n",
    "        self.best_params, self.best_score = wrs(F=goal_function, N=N, N_0=N_0, param_grid=self.param_grid )\n",
    "        \n",
    "        return self"
   ]
  },
  {
   "cell_type": "code",
   "execution_count": 27,
   "metadata": {},
   "outputs": [
    {
     "name": "stdout",
     "output_type": "stream",
     "text": [
      "{'learning_rate': 0.01, 'batch_size': 64, 'no_neurons': 128} 0.10621995199471712\n"
     ]
    },
    {
     "ename": "KeyboardInterrupt",
     "evalue": "",
     "output_type": "error",
     "traceback": [
      "\u001b[1;31m---------------------------------------------------------------------------\u001b[0m",
      "\u001b[1;31mKeyboardInterrupt\u001b[0m                         Traceback (most recent call last)",
      "Cell \u001b[1;32mIn[27], line 5\u001b[0m\n\u001b[0;32m      3\u001b[0m w \u001b[39m=\u001b[39m WeightedRandomSearch(net\u001b[39m=\u001b[39mmy_net, param_grid\u001b[39m=\u001b[39mtest_hyper_params)\n\u001b[0;32m      4\u001b[0m N, N_0 \u001b[39m=\u001b[39m \u001b[39m25\u001b[39m, \u001b[39m3\u001b[39m\n\u001b[1;32m----> 5\u001b[0m w\u001b[39m.\u001b[39;49mfit(subset_train_dataset, subset_val_dataset, N, N_0)\n",
      "Cell \u001b[1;32mIn[26], line 42\u001b[0m, in \u001b[0;36mWeightedRandomSearch.fit\u001b[1;34m(self, train_dataset, val_dataset, N, N_0)\u001b[0m\n\u001b[0;32m     38\u001b[0m             \u001b[39mself\u001b[39m\u001b[39m.\u001b[39mnet\u001b[39m.\u001b[39mmodel_params[hyp_name] \u001b[39m=\u001b[39m hyp_val\n\u001b[0;32m     40\u001b[0m     \u001b[39mreturn\u001b[39;00m \u001b[39mself\u001b[39m\u001b[39m.\u001b[39mnet\u001b[39m.\u001b[39mscore(train_dataset, val_dataset)[\u001b[39m1\u001b[39m]\n\u001b[1;32m---> 42\u001b[0m \u001b[39mself\u001b[39m\u001b[39m.\u001b[39mbest_params, \u001b[39mself\u001b[39m\u001b[39m.\u001b[39mbest_score \u001b[39m=\u001b[39m wrs(F\u001b[39m=\u001b[39;49mgoal_function, N\u001b[39m=\u001b[39;49mN, N_0\u001b[39m=\u001b[39;49mN_0, param_grid\u001b[39m=\u001b[39;49m\u001b[39mself\u001b[39;49m\u001b[39m.\u001b[39;49mparam_grid )\n\u001b[0;32m     44\u001b[0m \u001b[39mreturn\u001b[39;00m \u001b[39mself\u001b[39m\n",
      "File \u001b[1;32mc:\\Users\\jan20\\OneDrive\\Pulpit\\DS\\sem2\\Deep_learning\\Deep_Learning\\weighted_random_search.py:38\u001b[0m, in \u001b[0;36mwrs\u001b[1;34m(F, N, N_0, param_grid)\u001b[0m\n\u001b[0;32m     35\u001b[0m \u001b[39mprint\u001b[39m(params, F_value)\n\u001b[0;32m     37\u001b[0m \u001b[39mfor\u001b[39;00m \u001b[39miter\u001b[39m \u001b[39min\u001b[39;00m \u001b[39mrange\u001b[39m(N_0):\n\u001b[1;32m---> 38\u001b[0m     params, F_value \u001b[39m=\u001b[39m wrs_step(F\u001b[39m=\u001b[39;49mF, params\u001b[39m=\u001b[39;49mparams, F_value\u001b[39m=\u001b[39;49mF_value, p\u001b[39m=\u001b[39;49mp, k\u001b[39m=\u001b[39;49mk, \n\u001b[0;32m     39\u001b[0m                                iteration\u001b[39m=\u001b[39;49m\u001b[39miter\u001b[39;49m, param_grid\u001b[39m=\u001b[39;49mparam_grid )\n\u001b[0;32m     40\u001b[0m     param_history[\u001b[39miter\u001b[39m] \u001b[39m=\u001b[39m params\n\u001b[0;32m     41\u001b[0m     F_value_history[\u001b[39miter\u001b[39m] \u001b[39m=\u001b[39m F_value\n",
      "File \u001b[1;32mc:\\Users\\jan20\\OneDrive\\Pulpit\\DS\\sem2\\Deep_learning\\Deep_Learning\\weighted_random_search.py:14\u001b[0m, in \u001b[0;36mwrs_step\u001b[1;34m(F, params, F_value, p, k, iteration, param_grid)\u001b[0m\n\u001b[0;32m     11\u001b[0m \u001b[39mif\u001b[39;00m new_params \u001b[39m==\u001b[39m params:\n\u001b[0;32m     12\u001b[0m     \u001b[39mreturn\u001b[39;00m params, F_value\n\u001b[1;32m---> 14\u001b[0m F_new_value \u001b[39m=\u001b[39m F(new_params)\n\u001b[0;32m     16\u001b[0m \u001b[39mif\u001b[39;00m F_new_value \u001b[39m>\u001b[39m F_value:\n\u001b[0;32m     17\u001b[0m     \u001b[39mreturn\u001b[39;00m new_params, F_new_value  \n",
      "Cell \u001b[1;32mIn[26], line 40\u001b[0m, in \u001b[0;36mWeightedRandomSearch.fit.<locals>.goal_function\u001b[1;34m(params)\u001b[0m\n\u001b[0;32m     37\u001b[0m     \u001b[39melse\u001b[39;00m:\n\u001b[0;32m     38\u001b[0m         \u001b[39mself\u001b[39m\u001b[39m.\u001b[39mnet\u001b[39m.\u001b[39mmodel_params[hyp_name] \u001b[39m=\u001b[39m hyp_val\n\u001b[1;32m---> 40\u001b[0m \u001b[39mreturn\u001b[39;00m \u001b[39mself\u001b[39;49m\u001b[39m.\u001b[39;49mnet\u001b[39m.\u001b[39;49mscore(train_dataset, val_dataset)[\u001b[39m1\u001b[39m]\n",
      "Cell \u001b[1;32mIn[21], line 38\u001b[0m, in \u001b[0;36mNet_wrapper.score\u001b[1;34m(self, train_dataset, val_dataset)\u001b[0m\n\u001b[0;32m     35\u001b[0m \u001b[39mfor\u001b[39;00m epoch \u001b[39min\u001b[39;00m \u001b[39mrange\u001b[39m(\u001b[39mself\u001b[39m\u001b[39m.\u001b[39mmax_epochs):\n\u001b[0;32m     36\u001b[0m     \u001b[39m# print(f'Epoch {epoch+1}/{self.max_epochs}')\u001b[39;00m\n\u001b[0;32m     37\u001b[0m     train_accuracies \u001b[39m=\u001b[39m []\n\u001b[1;32m---> 38\u001b[0m     \u001b[39mfor\u001b[39;00m data \u001b[39min\u001b[39;00m train_loader:\n\u001b[0;32m     39\u001b[0m         results \u001b[39m=\u001b[39m model\u001b[39m.\u001b[39mtrain_step(data, optimizer, \u001b[39mself\u001b[39m\u001b[39m.\u001b[39mcriterion())\n\u001b[0;32m     40\u001b[0m         train_accuracies\u001b[39m.\u001b[39mappend(results[\u001b[39m'\u001b[39m\u001b[39maccuracy\u001b[39m\u001b[39m'\u001b[39m]\u001b[39m.\u001b[39mitem())\n",
      "File \u001b[1;32mc:\\Users\\jan20\\PycharmProjects\\PytorchProjects\\venv\\lib\\site-packages\\torch\\utils\\data\\dataloader.py:628\u001b[0m, in \u001b[0;36m_BaseDataLoaderIter.__next__\u001b[1;34m(self)\u001b[0m\n\u001b[0;32m    625\u001b[0m \u001b[39mif\u001b[39;00m \u001b[39mself\u001b[39m\u001b[39m.\u001b[39m_sampler_iter \u001b[39mis\u001b[39;00m \u001b[39mNone\u001b[39;00m:\n\u001b[0;32m    626\u001b[0m     \u001b[39m# TODO(https://github.com/pytorch/pytorch/issues/76750)\u001b[39;00m\n\u001b[0;32m    627\u001b[0m     \u001b[39mself\u001b[39m\u001b[39m.\u001b[39m_reset()  \u001b[39m# type: ignore[call-arg]\u001b[39;00m\n\u001b[1;32m--> 628\u001b[0m data \u001b[39m=\u001b[39m \u001b[39mself\u001b[39;49m\u001b[39m.\u001b[39;49m_next_data()\n\u001b[0;32m    629\u001b[0m \u001b[39mself\u001b[39m\u001b[39m.\u001b[39m_num_yielded \u001b[39m+\u001b[39m\u001b[39m=\u001b[39m \u001b[39m1\u001b[39m\n\u001b[0;32m    630\u001b[0m \u001b[39mif\u001b[39;00m \u001b[39mself\u001b[39m\u001b[39m.\u001b[39m_dataset_kind \u001b[39m==\u001b[39m _DatasetKind\u001b[39m.\u001b[39mIterable \u001b[39mand\u001b[39;00m \\\n\u001b[0;32m    631\u001b[0m         \u001b[39mself\u001b[39m\u001b[39m.\u001b[39m_IterableDataset_len_called \u001b[39mis\u001b[39;00m \u001b[39mnot\u001b[39;00m \u001b[39mNone\u001b[39;00m \u001b[39mand\u001b[39;00m \\\n\u001b[0;32m    632\u001b[0m         \u001b[39mself\u001b[39m\u001b[39m.\u001b[39m_num_yielded \u001b[39m>\u001b[39m \u001b[39mself\u001b[39m\u001b[39m.\u001b[39m_IterableDataset_len_called:\n",
      "File \u001b[1;32mc:\\Users\\jan20\\PycharmProjects\\PytorchProjects\\venv\\lib\\site-packages\\torch\\utils\\data\\dataloader.py:671\u001b[0m, in \u001b[0;36m_SingleProcessDataLoaderIter._next_data\u001b[1;34m(self)\u001b[0m\n\u001b[0;32m    669\u001b[0m \u001b[39mdef\u001b[39;00m \u001b[39m_next_data\u001b[39m(\u001b[39mself\u001b[39m):\n\u001b[0;32m    670\u001b[0m     index \u001b[39m=\u001b[39m \u001b[39mself\u001b[39m\u001b[39m.\u001b[39m_next_index()  \u001b[39m# may raise StopIteration\u001b[39;00m\n\u001b[1;32m--> 671\u001b[0m     data \u001b[39m=\u001b[39m \u001b[39mself\u001b[39;49m\u001b[39m.\u001b[39;49m_dataset_fetcher\u001b[39m.\u001b[39;49mfetch(index)  \u001b[39m# may raise StopIteration\u001b[39;00m\n\u001b[0;32m    672\u001b[0m     \u001b[39mif\u001b[39;00m \u001b[39mself\u001b[39m\u001b[39m.\u001b[39m_pin_memory:\n\u001b[0;32m    673\u001b[0m         data \u001b[39m=\u001b[39m _utils\u001b[39m.\u001b[39mpin_memory\u001b[39m.\u001b[39mpin_memory(data, \u001b[39mself\u001b[39m\u001b[39m.\u001b[39m_pin_memory_device)\n",
      "File \u001b[1;32mc:\\Users\\jan20\\PycharmProjects\\PytorchProjects\\venv\\lib\\site-packages\\torch\\utils\\data\\_utils\\fetch.py:58\u001b[0m, in \u001b[0;36m_MapDatasetFetcher.fetch\u001b[1;34m(self, possibly_batched_index)\u001b[0m\n\u001b[0;32m     56\u001b[0m         data \u001b[39m=\u001b[39m \u001b[39mself\u001b[39m\u001b[39m.\u001b[39mdataset\u001b[39m.\u001b[39m__getitems__(possibly_batched_index)\n\u001b[0;32m     57\u001b[0m     \u001b[39melse\u001b[39;00m:\n\u001b[1;32m---> 58\u001b[0m         data \u001b[39m=\u001b[39m [\u001b[39mself\u001b[39m\u001b[39m.\u001b[39mdataset[idx] \u001b[39mfor\u001b[39;00m idx \u001b[39min\u001b[39;00m possibly_batched_index]\n\u001b[0;32m     59\u001b[0m \u001b[39melse\u001b[39;00m:\n\u001b[0;32m     60\u001b[0m     data \u001b[39m=\u001b[39m \u001b[39mself\u001b[39m\u001b[39m.\u001b[39mdataset[possibly_batched_index]\n",
      "File \u001b[1;32mc:\\Users\\jan20\\PycharmProjects\\PytorchProjects\\venv\\lib\\site-packages\\torch\\utils\\data\\_utils\\fetch.py:58\u001b[0m, in \u001b[0;36m<listcomp>\u001b[1;34m(.0)\u001b[0m\n\u001b[0;32m     56\u001b[0m         data \u001b[39m=\u001b[39m \u001b[39mself\u001b[39m\u001b[39m.\u001b[39mdataset\u001b[39m.\u001b[39m__getitems__(possibly_batched_index)\n\u001b[0;32m     57\u001b[0m     \u001b[39melse\u001b[39;00m:\n\u001b[1;32m---> 58\u001b[0m         data \u001b[39m=\u001b[39m [\u001b[39mself\u001b[39;49m\u001b[39m.\u001b[39;49mdataset[idx] \u001b[39mfor\u001b[39;00m idx \u001b[39min\u001b[39;00m possibly_batched_index]\n\u001b[0;32m     59\u001b[0m \u001b[39melse\u001b[39;00m:\n\u001b[0;32m     60\u001b[0m     data \u001b[39m=\u001b[39m \u001b[39mself\u001b[39m\u001b[39m.\u001b[39mdataset[possibly_batched_index]\n",
      "File \u001b[1;32mc:\\Users\\jan20\\PycharmProjects\\PytorchProjects\\venv\\lib\\site-packages\\torch\\utils\\data\\dataset.py:295\u001b[0m, in \u001b[0;36mSubset.__getitem__\u001b[1;34m(self, idx)\u001b[0m\n\u001b[0;32m    293\u001b[0m \u001b[39mif\u001b[39;00m \u001b[39misinstance\u001b[39m(idx, \u001b[39mlist\u001b[39m):\n\u001b[0;32m    294\u001b[0m     \u001b[39mreturn\u001b[39;00m \u001b[39mself\u001b[39m\u001b[39m.\u001b[39mdataset[[\u001b[39mself\u001b[39m\u001b[39m.\u001b[39mindices[i] \u001b[39mfor\u001b[39;00m i \u001b[39min\u001b[39;00m idx]]\n\u001b[1;32m--> 295\u001b[0m \u001b[39mreturn\u001b[39;00m \u001b[39mself\u001b[39;49m\u001b[39m.\u001b[39;49mdataset[\u001b[39mself\u001b[39;49m\u001b[39m.\u001b[39;49mindices[idx]]\n",
      "File \u001b[1;32mc:\\Users\\jan20\\OneDrive\\Pulpit\\DS\\sem2\\Deep_learning\\Deep_Learning\\datasets.py:57\u001b[0m, in \u001b[0;36mCifarDataset.__getitem__\u001b[1;34m(self, index)\u001b[0m\n\u001b[0;32m     54\u001b[0m label \u001b[39m=\u001b[39m \u001b[39mself\u001b[39m\u001b[39m.\u001b[39mclass_dict[\u001b[39mself\u001b[39m\u001b[39m.\u001b[39mlabels\u001b[39m.\u001b[39miloc[index, \u001b[39m1\u001b[39m]]\n\u001b[0;32m     56\u001b[0m \u001b[39mif\u001b[39;00m \u001b[39mself\u001b[39m\u001b[39m.\u001b[39mtransform \u001b[39mis\u001b[39;00m \u001b[39mnot\u001b[39;00m \u001b[39mNone\u001b[39;00m:\n\u001b[1;32m---> 57\u001b[0m     img \u001b[39m=\u001b[39m \u001b[39mself\u001b[39;49m\u001b[39m.\u001b[39;49mtransform(img)\n\u001b[0;32m     59\u001b[0m \u001b[39mreturn\u001b[39;00m (img, label)\n",
      "File \u001b[1;32mc:\\Users\\jan20\\PycharmProjects\\PytorchProjects\\venv\\lib\\site-packages\\torchvision\\transforms\\transforms.py:95\u001b[0m, in \u001b[0;36mCompose.__call__\u001b[1;34m(self, img)\u001b[0m\n\u001b[0;32m     93\u001b[0m \u001b[39mdef\u001b[39;00m \u001b[39m__call__\u001b[39m(\u001b[39mself\u001b[39m, img):\n\u001b[0;32m     94\u001b[0m     \u001b[39mfor\u001b[39;00m t \u001b[39min\u001b[39;00m \u001b[39mself\u001b[39m\u001b[39m.\u001b[39mtransforms:\n\u001b[1;32m---> 95\u001b[0m         img \u001b[39m=\u001b[39m t(img)\n\u001b[0;32m     96\u001b[0m     \u001b[39mreturn\u001b[39;00m img\n",
      "File \u001b[1;32mc:\\Users\\jan20\\PycharmProjects\\PytorchProjects\\venv\\lib\\site-packages\\torchvision\\transforms\\transforms.py:135\u001b[0m, in \u001b[0;36mToTensor.__call__\u001b[1;34m(self, pic)\u001b[0m\n\u001b[0;32m    127\u001b[0m \u001b[39mdef\u001b[39;00m \u001b[39m__call__\u001b[39m(\u001b[39mself\u001b[39m, pic):\n\u001b[0;32m    128\u001b[0m \u001b[39m    \u001b[39m\u001b[39m\"\"\"\u001b[39;00m\n\u001b[0;32m    129\u001b[0m \u001b[39m    Args:\u001b[39;00m\n\u001b[0;32m    130\u001b[0m \u001b[39m        pic (PIL Image or numpy.ndarray): Image to be converted to tensor.\u001b[39;00m\n\u001b[1;32m   (...)\u001b[0m\n\u001b[0;32m    133\u001b[0m \u001b[39m        Tensor: Converted image.\u001b[39;00m\n\u001b[0;32m    134\u001b[0m \u001b[39m    \"\"\"\u001b[39;00m\n\u001b[1;32m--> 135\u001b[0m     \u001b[39mreturn\u001b[39;00m F\u001b[39m.\u001b[39;49mto_tensor(pic)\n",
      "File \u001b[1;32mc:\\Users\\jan20\\PycharmProjects\\PytorchProjects\\venv\\lib\\site-packages\\torchvision\\transforms\\functional.py:163\u001b[0m, in \u001b[0;36mto_tensor\u001b[1;34m(pic)\u001b[0m\n\u001b[0;32m    161\u001b[0m \u001b[39m# handle PIL Image\u001b[39;00m\n\u001b[0;32m    162\u001b[0m mode_to_nptype \u001b[39m=\u001b[39m {\u001b[39m\"\u001b[39m\u001b[39mI\u001b[39m\u001b[39m\"\u001b[39m: np\u001b[39m.\u001b[39mint32, \u001b[39m\"\u001b[39m\u001b[39mI;16\u001b[39m\u001b[39m\"\u001b[39m: np\u001b[39m.\u001b[39mint16, \u001b[39m\"\u001b[39m\u001b[39mF\u001b[39m\u001b[39m\"\u001b[39m: np\u001b[39m.\u001b[39mfloat32}\n\u001b[1;32m--> 163\u001b[0m img \u001b[39m=\u001b[39m torch\u001b[39m.\u001b[39mfrom_numpy(np\u001b[39m.\u001b[39;49marray(pic, mode_to_nptype\u001b[39m.\u001b[39;49mget(pic\u001b[39m.\u001b[39;49mmode, np\u001b[39m.\u001b[39;49muint8), copy\u001b[39m=\u001b[39;49m\u001b[39mTrue\u001b[39;49;00m))\n\u001b[0;32m    165\u001b[0m \u001b[39mif\u001b[39;00m pic\u001b[39m.\u001b[39mmode \u001b[39m==\u001b[39m \u001b[39m\"\u001b[39m\u001b[39m1\u001b[39m\u001b[39m\"\u001b[39m:\n\u001b[0;32m    166\u001b[0m     img \u001b[39m=\u001b[39m \u001b[39m255\u001b[39m \u001b[39m*\u001b[39m img\n",
      "File \u001b[1;32mc:\\Users\\jan20\\PycharmProjects\\PytorchProjects\\venv\\lib\\site-packages\\PIL\\Image.py:688\u001b[0m, in \u001b[0;36mImage.__array_interface__\u001b[1;34m(self)\u001b[0m\n\u001b[0;32m    686\u001b[0m         new[\u001b[39m\"\u001b[39m\u001b[39mdata\u001b[39m\u001b[39m\"\u001b[39m] \u001b[39m=\u001b[39m \u001b[39mself\u001b[39m\u001b[39m.\u001b[39mtobytes(\u001b[39m\"\u001b[39m\u001b[39mraw\u001b[39m\u001b[39m\"\u001b[39m, \u001b[39m\"\u001b[39m\u001b[39mL\u001b[39m\u001b[39m\"\u001b[39m)\n\u001b[0;32m    687\u001b[0m     \u001b[39melse\u001b[39;00m:\n\u001b[1;32m--> 688\u001b[0m         new[\u001b[39m\"\u001b[39m\u001b[39mdata\u001b[39m\u001b[39m\"\u001b[39m] \u001b[39m=\u001b[39m \u001b[39mself\u001b[39;49m\u001b[39m.\u001b[39;49mtobytes()\n\u001b[0;32m    689\u001b[0m \u001b[39mexcept\u001b[39;00m \u001b[39mException\u001b[39;00m \u001b[39mas\u001b[39;00m e:\n\u001b[0;32m    690\u001b[0m     \u001b[39mif\u001b[39;00m \u001b[39mnot\u001b[39;00m \u001b[39misinstance\u001b[39m(e, (\u001b[39mMemoryError\u001b[39;00m, \u001b[39mRecursionError\u001b[39;00m)):\n",
      "File \u001b[1;32mc:\\Users\\jan20\\PycharmProjects\\PytorchProjects\\venv\\lib\\site-packages\\PIL\\Image.py:746\u001b[0m, in \u001b[0;36mImage.tobytes\u001b[1;34m(self, encoder_name, *args)\u001b[0m\n\u001b[0;32m    743\u001b[0m \u001b[39mif\u001b[39;00m encoder_name \u001b[39m==\u001b[39m \u001b[39m\"\u001b[39m\u001b[39mraw\u001b[39m\u001b[39m\"\u001b[39m \u001b[39mand\u001b[39;00m args \u001b[39m==\u001b[39m ():\n\u001b[0;32m    744\u001b[0m     args \u001b[39m=\u001b[39m \u001b[39mself\u001b[39m\u001b[39m.\u001b[39mmode\n\u001b[1;32m--> 746\u001b[0m \u001b[39mself\u001b[39;49m\u001b[39m.\u001b[39;49mload()\n\u001b[0;32m    748\u001b[0m \u001b[39mif\u001b[39;00m \u001b[39mself\u001b[39m\u001b[39m.\u001b[39mwidth \u001b[39m==\u001b[39m \u001b[39m0\u001b[39m \u001b[39mor\u001b[39;00m \u001b[39mself\u001b[39m\u001b[39m.\u001b[39mheight \u001b[39m==\u001b[39m \u001b[39m0\u001b[39m:\n\u001b[0;32m    749\u001b[0m     \u001b[39mreturn\u001b[39;00m \u001b[39mb\u001b[39m\u001b[39m\"\u001b[39m\u001b[39m\"\u001b[39m\n",
      "File \u001b[1;32mc:\\Users\\jan20\\PycharmProjects\\PytorchProjects\\venv\\lib\\site-packages\\PIL\\ImageFile.py:260\u001b[0m, in \u001b[0;36mImageFile.load\u001b[1;34m(self)\u001b[0m\n\u001b[0;32m    254\u001b[0m         \u001b[39mraise\u001b[39;00m \u001b[39mOSError\u001b[39;00m(\n\u001b[0;32m    255\u001b[0m             \u001b[39m\"\u001b[39m\u001b[39mimage file is truncated \u001b[39m\u001b[39m\"\u001b[39m\n\u001b[0;32m    256\u001b[0m             \u001b[39mf\u001b[39m\u001b[39m\"\u001b[39m\u001b[39m(\u001b[39m\u001b[39m{\u001b[39;00m\u001b[39mlen\u001b[39m(b)\u001b[39m}\u001b[39;00m\u001b[39m bytes not processed)\u001b[39m\u001b[39m\"\u001b[39m\n\u001b[0;32m    257\u001b[0m         )\n\u001b[0;32m    259\u001b[0m b \u001b[39m=\u001b[39m b \u001b[39m+\u001b[39m s\n\u001b[1;32m--> 260\u001b[0m n, err_code \u001b[39m=\u001b[39m decoder\u001b[39m.\u001b[39;49mdecode(b)\n\u001b[0;32m    261\u001b[0m \u001b[39mif\u001b[39;00m n \u001b[39m<\u001b[39m \u001b[39m0\u001b[39m:\n\u001b[0;32m    262\u001b[0m     \u001b[39mbreak\u001b[39;00m\n",
      "\u001b[1;31mKeyboardInterrupt\u001b[0m: "
     ]
    }
   ],
   "source": [
    "my_net = Net_wrapper()\n",
    "param_grid = {'lr': [0.01, 0.05, 0.1, 0.5, 1, 2], 'batch_size': [16, 32, 64, 128, 256]}\n",
    "w = WeightedRandomSearch(net=my_net, param_grid=test_hyper_params)\n",
    "N, N_0 = 25, 3\n",
    "w.fit(subset_train_dataset, subset_val_dataset, N, N_0)"
   ]
  },
  {
   "cell_type": "code",
   "execution_count": 25,
   "metadata": {},
   "outputs": [
    {
     "data": {
      "text/plain": [
       "{'lr': 0.005, 'batch_size': 16, 'max_epochs': 5}"
      ]
     },
     "execution_count": 25,
     "metadata": {},
     "output_type": "execute_result"
    }
   ],
   "source": [
    "w.best_params"
   ]
  }
 ],
 "metadata": {
  "kernelspec": {
   "display_name": "venv",
   "language": "python",
   "name": "python3"
  },
  "language_info": {
   "codemirror_mode": {
    "name": "ipython",
    "version": 3
   },
   "file_extension": ".py",
   "mimetype": "text/x-python",
   "name": "python",
   "nbconvert_exporter": "python",
   "pygments_lexer": "ipython3",
   "version": "3.10.7"
  },
  "orig_nbformat": 4
 },
 "nbformat": 4,
 "nbformat_minor": 2
}
