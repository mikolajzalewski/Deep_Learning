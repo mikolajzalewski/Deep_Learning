{
 "cells": [
  {
   "attachments": {},
   "cell_type": "markdown",
   "metadata": {},
   "source": [
    "# Imports"
   ]
  },
  {
   "cell_type": "code",
   "execution_count": 2,
   "metadata": {},
   "outputs": [],
   "source": [
    "import torch\n",
    "import numpy as np\n",
    "import torch.optim as optim\n",
    "import torch.nn as nn\n",
    "from sklearn.model_selection import ParameterGrid\n",
    "from torch.utils.data import Dataset, DataLoader\n",
    "from torch.optim.lr_scheduler import StepLR\n",
    "import datasets\n",
    "from weighted_random_search import wrs\n",
    "import tqdm\n",
    "import matplotlib.pyplot as plt"
   ]
  },
  {
   "cell_type": "code",
   "execution_count": 4,
   "metadata": {},
   "outputs": [],
   "source": [
    "import import_ipynb\n",
    "from CNN import CNN_3_class"
   ]
  },
  {
   "attachments": {},
   "cell_type": "markdown",
   "metadata": {},
   "source": [
    "# Classes"
   ]
  },
  {
   "cell_type": "code",
   "execution_count": 5,
   "metadata": {},
   "outputs": [],
   "source": [
    "class Net_wrapper:\n",
    "    \"\"\" \n",
    "    Wrapper for neural network model. It combines the model itself (nn.Module) together with\n",
    "    optimizer, loss function and training parameters (such as max_epochs, learning rate and batch size)\n",
    "    \"\"\"\n",
    "        \n",
    "    def __init__(self, model=CNN_3_class, criterion=nn.CrossEntropyLoss, optimizer=optim.Adam,\n",
    "                 max_epochs=5, batch_size=32, learning_rate=0.001, step_size=10, gamma=0.5, tqdm=False, **kwargs):\n",
    "        if kwargs:\n",
    "            self.model_params = kwargs\n",
    "        else:\n",
    "            self.model_params = {}\n",
    "        self.model = model\n",
    "        self.criterion = criterion\n",
    "        self.optimizer = optimizer\n",
    "        self.max_epochs = max_epochs\n",
    "        self.batch_size = batch_size\n",
    "        self.learning_rate = learning_rate\n",
    "        self.scheduler_step_size=step_size\n",
    "        self.scheduler_gamma=gamma\n",
    "    \n",
    "    def __setattr__(self, name, value):\n",
    "        self.__dict__[name] = value\n",
    "\n",
    "    def score(self, train_dataset, val_dataset):\n",
    "        \"\"\"\n",
    "        Train model on train_dataset and calculate validation acurracy on val_dataset. \n",
    "        \"\"\"\n",
    "        if self.model_params:\n",
    "            model = self.model(**self.model_params)\n",
    "            \n",
    "        else:\n",
    "            model = self.model()\n",
    "            \n",
    "        optimizer = self.optimizer(model.parameters(), lr=self.learning_rate)\n",
    "        scheduler = StepLR(optimizer, step_size=self.scheduler_step_size, gamma=self.scheduler_gamma)\n",
    "        \n",
    "        train_loader = DataLoader(train_dataset, batch_size=self.batch_size, shuffle=True)\n",
    "        val_loader = DataLoader(val_dataset, batch_size=self.batch_size, shuffle=False)\n",
    "\n",
    "        for epoch in range(self.max_epochs):\n",
    "            train_accuracies = []\n",
    "            train_losses = []\n",
    "            for data in tqdm(train_loader):\n",
    "                results = model.train_step(data, optimizer, self.criterion())\n",
    "                train_accuracies.append(results['accuracy'].item())\n",
    "                train_losses.append(results['loss'].item())\n",
    "            # Calculate average training loss and accuracy for the epoch\n",
    "            avg_train_accuracy = sum(train_accuracies) / len(train_accuracies)\n",
    "            avg_train_loss = sum(train_losses) / len(train_losses)\n",
    "\n",
    "            # Test the model\n",
    "            val_losses = []\n",
    "            val_accuracies = []\n",
    "            \n",
    "            with torch.no_grad():\n",
    "                for data in tqdm(val_loader):\n",
    "                    results = model.test_step(data, self.criterion())\n",
    "                    val_losses.append(results['loss'].item())\n",
    "                    val_accuracies.append(results['accuracy'].item())\n",
    "\n",
    "            # Calculate average test loss and accuracy for the epoch\n",
    "            avg_validation_accuracy = sum(val_accuracies) / len(val_accuracies)\n",
    "            avg_validation_loss = sum(val_losses) / len(val_losses)\n",
    "\n",
    "            scheduler.step()\n",
    "\n",
    "        return avg_train_accuracy, avg_train_loss, avg_validation_accuracy, avg_vallidation_loss\n",
    "        \n",
    "    "
   ]
  },
  {
   "cell_type": "code",
   "execution_count": 6,
   "metadata": {},
   "outputs": [],
   "source": [
    "class GridSearch():\n",
    "    \"\"\"\n",
    "    Class used to perform grid search on neural networks \n",
    "\n",
    "    Attributes:\n",
    "    self.net - Net_wrapper instance\n",
    "    self.param_grid - dictionary of parameters we want to search\n",
    "    self.scores - list for scores of each set of parameters\n",
    "    self.best_score - best score out of all parameters\n",
    "    self.best_params - best set of parameters\n",
    "    self.verbose - if set to 1 additional information (parameter set and accuracy) prints with each iteration of grid search. \n",
    "    \"\"\"\n",
    "    def __init__(self, net: Net_wrapper, param_grid, step_by_step=False, verbose=1):\n",
    "        \"\"\"\n",
    "\n",
    "        \"\"\"\n",
    "        self.net = net\n",
    "        self.param_grid = param_grid\n",
    "        self.scores = []\n",
    "        self.best_score = 0\n",
    "        self.best_params = {}\n",
    "        self.step_by_step = step_by_step\n",
    "        self.verbose = verbose\n",
    "\n",
    "\n",
    "    def fit(self, train_dataset, val_dataset):\n",
    "        \"\"\"\n",
    "        Fit the grid search with train and validation dataset. \n",
    "        Search for optimal parameters for neural network declared during \n",
    "        initialization of GridSearch instance.\n",
    "        \"\"\"\n",
    "        if self.step_by_step==False:\n",
    "            for params in ParameterGrid(self.param_grid):\n",
    "                for hyp_name, hyp_val in params.items():\n",
    "                    if hasattr(self.net, hyp_name):\n",
    "                        setattr(self.net, hyp_name, hyp_val)\n",
    "                    else:\n",
    "                        self.net.model_params[hyp_name] = hyp_val\n",
    "\n",
    "                _, val_accuracy = self.net.score(train_dataset, val_dataset)\n",
    "                self.scores.append(val_accuracy)\n",
    "                if val_accuracy > self.best_score:\n",
    "                    self.best_score = val_accuracy\n",
    "                    self.best_params = params\n",
    "                if self.verbose == 1:\n",
    "                    print('Parameter set:', params)\n",
    "                    print(f'val_accuracy: {val_accuracy:.4f}')\n",
    "        else:\n",
    "            \n",
    "            for hyp_name, hyp_vals in self.param_grid.items():\n",
    "                score = 0\n",
    "                for hyp_val in hyp_vals:\n",
    "                    if hasattr(self.net, hyp_name):\n",
    "                        setattr(self.net, hyp_name, hyp_val)\n",
    "                    else:\n",
    "                        self.net.model_params[hyp_name] = hyp_val \n",
    "\n",
    "                    _, val_accuracy = self.net.score(train_dataset, val_dataset)\n",
    "                    self.scores.append(val_accuracy)\n",
    "                    \n",
    "                    if val_accuracy > score:\n",
    "                        if score > self.best_score:\n",
    "                            self.best_score = score\n",
    "                        score = val_accuracy\n",
    "                        self.best_params[hyp_name] = hyp_val\n",
    "                    \n",
    "                    if self.verbose == 1:\n",
    "                        print(f'Current parameter: {hyp_name}:', hyp_val, f'  val_accuracy: {val_accuracy:.4f}')\n",
    "                        print(f'Best parameters till now:{self.best_params}')\n",
    "                \n",
    "                if hasattr(self.net, hyp_name):\n",
    "                    setattr(self.net, hyp_name, self.best_params[hyp_name])\n",
    "                    print(getattr(self.net, hyp_name))\n",
    "                else:\n",
    "                    self.net.model_params[hyp_name] = self.best_params[hyp_name]\n",
    "\n",
    "        return self"
   ]
  },
  {
   "cell_type": "code",
   "execution_count": 6,
   "metadata": {},
   "outputs": [],
   "source": [
    "class WeightedRandomSearch():\n",
    "    \"\"\"\n",
    "    Class used to perform grid search on neural networks \n",
    "\n",
    "    Attributes:\n",
    "    self.net - Net_wrapper instance\n",
    "    self.param_grid - dictionary of parameters we want to search\n",
    "    self.scores - list for scores of each set of parameters\n",
    "    self.best_score - best score out of all parameters\n",
    "    self.best_params - best set of parameters\n",
    "    self.verbose - if set to 1 additional information (parameter set and accuracy) prints with each iteration of grid search. \n",
    "    \"\"\"\n",
    "    def __init__(self, net, param_grid, verbose=1):\n",
    "        \"\"\"\n",
    "\n",
    "        \"\"\"\n",
    "        self.net = net\n",
    "        self.param_grid = param_grid\n",
    "        self.scores = []\n",
    "        self.best_score = 0\n",
    "        self.best_params = None\n",
    "        self.verbose = verbose\n",
    "\n",
    "    def fit(self, train_dataset, val_dataset, N, N_0):\n",
    "        \"\"\"\n",
    "        Fit the grid search with train and validation dataset. \n",
    "        Search for optimal parameters for neural network declared during \n",
    "        initialization of GridSearch instance.\n",
    "        \"\"\"\n",
    "        def goal_function(params):\n",
    "            \n",
    "            for hyp_name, hyp_val in params.items():\n",
    "                if hasattr(self.net, hyp_name):\n",
    "                    setattr(self.net, hyp_name, hyp_val)\n",
    "                else:\n",
    "                    self.net.model_params[hyp_name] = hyp_val\n",
    "            \n",
    "            return self.net.score(train_dataset, val_dataset)[1]\n",
    "            \n",
    "        self.best_params, self.best_score = wrs(F=goal_function, N=N, N_0=N_0, param_grid=self.param_grid )\n",
    "        \n",
    "        return self"
   ]
  },
  {
   "attachments": {},
   "cell_type": "markdown",
   "metadata": {},
   "source": [
    "### Example hyperparameters (from most to least important):"
   ]
  },
  {
   "cell_type": "code",
   "execution_count": 6,
   "metadata": {},
   "outputs": [],
   "source": [
    "hyperparams1 = {'learning_rate': [0.001, 0.005, 0.01],\n",
    "               'batch_size': [8, 32, 64],\n",
    "               'max_epochs': [5, 10, 15]}\n",
    "\n",
    "hyperparams2 = {\n",
    "                'no_neurons': [25, 50, 100],\n",
    "                'kernel_size': [2, 3, 5],\n",
    "                'number_of_filters': [16, 32, 64]\n",
    "                }\n",
    "\n",
    "hyperparams3 = {\n",
    "               'optimizer': [optim.Adam, optim.Adagrad, optim.SGD],\n",
    "               'activation_func': [nn.ReLU, nn.LeakyReLU, nn.Tanh],\n",
    "               'dropout_rate': [0.0, 0.25, 0.5]}\n",
    "\n"
   ]
  },
  {
   "attachments": {},
   "cell_type": "markdown",
   "metadata": {},
   "source": [
    "### Sample for testing GridSearch"
   ]
  },
  {
   "cell_type": "code",
   "execution_count": 7,
   "metadata": {},
   "outputs": [],
   "source": [
    "train_dataset = datasets.cifar_train\n",
    "val_dataset = datasets.cifar_val"
   ]
  },
  {
   "cell_type": "code",
   "execution_count": 7,
   "metadata": {},
   "outputs": [],
   "source": [
    "from torch.utils.data import DataLoader, SubsetRandomSampler, Subset\n",
    "\n",
    "subset_indices = list(range(500))\n",
    "subset_sampler = SubsetRandomSampler(subset_indices)\n",
    "\n",
    "subset_train_dataset = Subset(train_dataset, subset_indices)\n",
    "subset_val_dataset = Subset(val_dataset, subset_indices)"
   ]
  },
  {
   "attachments": {},
   "cell_type": "markdown",
   "metadata": {},
   "source": [
    "### GridSearch test"
   ]
  },
  {
   "cell_type": "code",
   "execution_count": 15,
   "metadata": {},
   "outputs": [
    {
     "name": "stdout",
     "output_type": "stream",
     "text": [
      "Current parameter: learning_rate: 0.0001   val_accuracy: 0.2344\n",
      "Best parameters till now:{'learning_rate': 0.0001}\n",
      "Current parameter: learning_rate: 0.0005   val_accuracy: 0.3148\n",
      "Best parameters till now:{'learning_rate': 0.0005}\n",
      "Current parameter: learning_rate: 0.001   val_accuracy: 0.3156\n",
      "Best parameters till now:{'learning_rate': 0.001}\n",
      "Current parameter: learning_rate: 0.005   val_accuracy: 0.2574\n",
      "Best parameters till now:{'learning_rate': 0.001}\n",
      "Current parameter: learning_rate: 0.01   val_accuracy: 0.1008\n",
      "Best parameters till now:{'learning_rate': 0.001}\n",
      "0.001\n",
      "Current parameter: batch_size: 8   val_accuracy: 0.3313\n",
      "Best parameters till now:{'learning_rate': 0.001, 'batch_size': 8}\n",
      "Current parameter: batch_size: 16   val_accuracy: 0.3418\n",
      "Best parameters till now:{'learning_rate': 0.001, 'batch_size': 16}\n",
      "Current parameter: batch_size: 32   val_accuracy: 0.3164\n",
      "Best parameters till now:{'learning_rate': 0.001, 'batch_size': 16}\n",
      "Current parameter: batch_size: 64   val_accuracy: 0.3015\n",
      "Best parameters till now:{'learning_rate': 0.001, 'batch_size': 16}\n",
      "Current parameter: batch_size: 128   val_accuracy: 0.3023\n",
      "Best parameters till now:{'learning_rate': 0.001, 'batch_size': 16}\n",
      "16\n"
     ]
    }
   ],
   "source": [
    "test_hyper_params = {'learning_rate': [0.0001, 0.0005, 0.001, 0.005, 0.01], 'batch_size': [8, 16, 32, 64, 128]}\n",
    "my_net = Net_wrapper(model=CNN_3_class, max_epochs=5)\n",
    "gs = GridSearch(net=my_net, param_grid=test_hyper_params, step_by_step=True, verbose=1)\n",
    "gs = gs.fit(subset_train_dataset, subset_val_dataset)"
   ]
  },
  {
   "cell_type": "code",
   "execution_count": 31,
   "metadata": {},
   "outputs": [
    {
     "name": "stdout",
     "output_type": "stream",
     "text": [
      "0.32341269841269843\n",
      "{'learning_rate': 0.001, 'batch_size': 8, 'no_neurons': 128}\n"
     ]
    }
   ],
   "source": [
    "print(gs.best_score)\n",
    "print(gs.best_params)"
   ]
  },
  {
   "attachments": {},
   "cell_type": "markdown",
   "metadata": {},
   "source": [
    "### Weighted random search test"
   ]
  },
  {
   "cell_type": "code",
   "execution_count": 28,
   "metadata": {},
   "outputs": [
    {
     "name": "stdout",
     "output_type": "stream",
     "text": [
      "{'learning_rate': 0.01, 'batch_size': 64, 'no_neurons': 64} 0.11944110598415136\n",
      "{'learning_rate': 0.005, 'batch_size': 64, 'no_neurons': 64} 0.28305288404226303\n",
      "{'learning_rate': 0.005, 'batch_size': 64, 'no_neurons': 64} 0.28305288404226303\n",
      "{'learning_rate': 0.005, 'batch_size': 64, 'no_neurons': 64} 0.28305288404226303\n",
      "{'learning_rate': 0.005, 'batch_size': 64, 'no_neurons': 64} 0.28305288404226303\n",
      "{'learning_rate': 0.005, 'batch_size': 64, 'no_neurons': 64} 0.28305288404226303\n",
      "{'learning_rate': 0.005, 'batch_size': 64, 'no_neurons': 64} 0.28305288404226303\n",
      "{'learning_rate': 0.005, 'batch_size': 64, 'no_neurons': 64} 0.28305288404226303\n",
      "{'learning_rate': 0.005, 'batch_size': 64, 'no_neurons': 64} 0.28305288404226303\n",
      "{'learning_rate': 0.005, 'batch_size': 64, 'no_neurons': 64} 0.28305288404226303\n",
      "{'learning_rate': 0.005, 'batch_size': 64, 'no_neurons': 64} 0.28305288404226303\n"
     ]
    },
    {
     "data": {
      "text/plain": [
       "<__main__.WeightedRandomSearch at 0x23a32821750>"
      ]
     },
     "execution_count": 28,
     "metadata": {},
     "output_type": "execute_result"
    }
   ],
   "source": [
    "my_net = Net_wrapper()\n",
    "param_grid = {'lr': [0.01, 0.05, 0.1, 0.5, 1, 2], 'batch_size': [16, 32, 64, 128, 256]}\n",
    "w = WeightedRandomSearch(net=my_net, param_grid=test_hyper_params)\n",
    "N, N_0 = 10, 3\n",
    "w.fit(subset_train_dataset, subset_val_dataset, N, N_0)\n",
    "print(w.best_params)"
   ]
  },
  {
   "attachments": {},
   "cell_type": "markdown",
   "metadata": {},
   "source": [
    "# Hyperparameter Tuning"
   ]
  },
  {
   "attachments": {},
   "cell_type": "markdown",
   "metadata": {},
   "source": [
    "## CNN_3_class on original dataset (without augmentation)"
   ]
  },
  {
   "attachments": {},
   "cell_type": "markdown",
   "metadata": {},
   "source": [
    "1. Learning rate + batch size"
   ]
  },
  {
   "cell_type": "code",
   "execution_count": 16,
   "metadata": {},
   "outputs": [
    {
     "name": "stdout",
     "output_type": "stream",
     "text": [
      "Current parameter: learning_rate: 0.0001   val_accuracy: 0.5830\n",
      "Best parameters till now:{'learning_rate': 0.0001}\n",
      "Current parameter: learning_rate: 0.0005   val_accuracy: 0.6887\n",
      "Best parameters till now:{'learning_rate': 0.0005}\n",
      "Current parameter: learning_rate: 0.001   val_accuracy: 0.6761\n",
      "Best parameters till now:{'learning_rate': 0.0005}\n",
      "Current parameter: learning_rate: 0.005   val_accuracy: 0.5991\n",
      "Best parameters till now:{'learning_rate': 0.0005}\n",
      "Current parameter: learning_rate: 0.01   val_accuracy: 0.1000\n",
      "Best parameters till now:{'learning_rate': 0.0005}\n",
      "0.0005\n",
      "Current parameter: batch_size: 8   val_accuracy: 0.6954\n",
      "Best parameters till now:{'learning_rate': 0.0005, 'batch_size': 8}\n",
      "Current parameter: batch_size: 16   val_accuracy: 0.6823\n",
      "Best parameters till now:{'learning_rate': 0.0005, 'batch_size': 8}\n",
      "Current parameter: batch_size: 32   val_accuracy: 0.6785\n",
      "Best parameters till now:{'learning_rate': 0.0005, 'batch_size': 8}\n",
      "Current parameter: batch_size: 64   val_accuracy: 0.6427\n",
      "Best parameters till now:{'learning_rate': 0.0005, 'batch_size': 8}\n",
      "Current parameter: batch_size: 128   val_accuracy: 0.6242\n",
      "Best parameters till now:{'learning_rate': 0.0005, 'batch_size': 8}\n",
      "8\n"
     ]
    }
   ],
   "source": [
    "my_net = Net_wrapper(model=CNN_3_class, max_epochs=5)\n",
    "param_grid = {'learning_rate': [0.0001, 0.0005, 0.001, 0.005, 0.01], 'batch_size': [8, 16, 32, 64, 128]}\n",
    "gs = GridSearch(net=my_net, param_grid=param_grid, step_by_step=True, verbose=1)\n",
    "gs = gs.fit(train_dataset, val_dataset)"
   ]
  },
  {
   "cell_type": "code",
   "execution_count": null,
   "metadata": {},
   "outputs": [],
   "source": [
    "learning_rate = [0.583, 0.6887, 0.6761, 0.5991, 0.1]\n",
    "batch_size = [0.6954, 0.6823, 0.6785, 0.6427, 0.6242]\n",
    "\n",
    "fig, ax = plt.subplots(1, 2, figsize=(12, 8))\n",
    "ax[1].plot(param_grid['learning_rate'], learning_rate)\n",
    "ax[2].plot(param_grid['batch_size'], batch_size)\n",
    "plt.show()"
   ]
  },
  {
   "attachments": {},
   "cell_type": "markdown",
   "metadata": {},
   "source": [
    "Check if smaller batch size yields even better performance"
   ]
  },
  {
   "cell_type": "code",
   "execution_count": 8,
   "metadata": {},
   "outputs": [],
   "source": [
    "my_net = Net_wrapper(model=CNN_3_class, max_epochs=5, learning_rate=0.005)\n",
    "param_grid = {'batch_size': [1, 2, 4, 8]}\n",
    "gs = GridSearch(net=my_net, param_grid=param_grid, step_by_step=True, verbose=1)\n",
    "gs = gs.fit(train_dataset, val_dataset)"
   ]
  },
  {
   "attachments": {},
   "cell_type": "markdown",
   "metadata": {},
   "source": [
    "2. Num of epochs (run a lot of epochs and stop when validation accuracy starts to decrease)"
   ]
  },
  {
   "cell_type": "code",
   "execution_count": null,
   "metadata": {},
   "outputs": [],
   "source": [
    "my_net = Net_wrapper(model=CNN_3_class, max_epochs=20, learning_rate=0.005, batch_size=8)\n",
    "my_net.score(train_dataset, val_dataset)"
   ]
  },
  {
   "attachments": {},
   "cell_type": "markdown",
   "metadata": {},
   "source": [
    "3. "
   ]
  }
 ],
 "metadata": {
  "kernelspec": {
   "display_name": "venv",
   "language": "python",
   "name": "python3"
  },
  "language_info": {
   "codemirror_mode": {
    "name": "ipython",
    "version": 3
   },
   "file_extension": ".py",
   "mimetype": "text/x-python",
   "name": "python",
   "nbconvert_exporter": "python",
   "pygments_lexer": "ipython3",
   "version": "3.10.7"
  },
  "orig_nbformat": 4
 },
 "nbformat": 4,
 "nbformat_minor": 2
}
