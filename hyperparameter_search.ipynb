{
 "cells": [
  {
   "attachments": {},
   "cell_type": "markdown",
   "metadata": {},
   "source": [
    "# Imports"
   ]
  },
  {
   "cell_type": "code",
   "execution_count": 1,
   "metadata": {},
   "outputs": [],
   "source": [
    "%load_ext autoreload\n",
    "%autoreload 2"
   ]
  },
  {
   "cell_type": "code",
   "execution_count": 2,
   "metadata": {},
   "outputs": [
    {
     "name": "stderr",
     "output_type": "stream",
     "text": [
      "c:\\Users\\mikol\\AppData\\Local\\Programs\\Python\\Python310\\lib\\site-packages\\tqdm\\auto.py:22: TqdmWarning: IProgress not found. Please update jupyter and ipywidgets. See https://ipywidgets.readthedocs.io/en/stable/user_install.html\n",
      "  from .autonotebook import tqdm as notebook_tqdm\n"
     ]
    }
   ],
   "source": [
    "import torch\n",
    "import numpy as np\n",
    "import torch.optim as optim\n",
    "import torch.nn as nn\n",
    "from sklearn.model_selection import ParameterGrid\n",
    "from torch.utils.data import Dataset, DataLoader\n",
    "from torch.optim.lr_scheduler import StepLR\n",
    "import datasets\n",
    "from weighted_random_search import wrs\n",
    "from tqdm import tqdm\n",
    "import matplotlib.pyplot as plt"
   ]
  },
  {
   "cell_type": "code",
   "execution_count": 3,
   "metadata": {},
   "outputs": [],
   "source": [
    "import import_ipynb\n",
    "from CNNpy import CNN_3_class"
   ]
  },
  {
   "attachments": {},
   "cell_type": "markdown",
   "metadata": {},
   "source": [
    "# Classes"
   ]
  },
  {
   "cell_type": "code",
   "execution_count": 4,
   "metadata": {},
   "outputs": [],
   "source": [
    "class Net_wrapper:\n",
    "    \"\"\" \n",
    "    Wrapper for neural network model. It combines the model itself (nn.Module) together with\n",
    "    optimizer, loss function and training parameters (such as max_epochs, learning rate and batch size)\n",
    "    \"\"\"\n",
    "        \n",
    "    def __init__(self, model=CNN_3_class, criterion=nn.CrossEntropyLoss(), optimizer=optim.Adam, weight_decay = 0,\n",
    "                 max_epochs=5, batch_size=32, learning_rate=0.001, step_size=10, gamma=0.5, **kwargs):\n",
    "        if kwargs:\n",
    "            self.model_params = kwargs\n",
    "        else:\n",
    "            self.model_params = {}\n",
    "        self.model = model\n",
    "        self.criterion = criterion\n",
    "        self.optimizer = optimizer\n",
    "        self.max_epochs = max_epochs\n",
    "        self.batch_size = batch_size\n",
    "        self.learning_rate = learning_rate\n",
    "        self.scheduler_step_size=step_size\n",
    "        self.scheduler_gamma=gamma\n",
    "        self.weight_decay = weight_decay\n",
    "    \n",
    "    def __setattr__(self, name, value):\n",
    "        self.__dict__[name] = value\n",
    "\n",
    "    def score(self, train_dataset, val_dataset, verbose=0):\n",
    "        \"\"\"\n",
    "        Train model on train_dataset and calculate validation acurracy on val_dataset. \n",
    "        \"\"\"\n",
    "        if self.model_params:\n",
    "            model = self.model(**self.model_params)\n",
    "            \n",
    "        else:\n",
    "            model = self.model()\n",
    "        \n",
    "        optimizer = self.optimizer(model.parameters(), lr=self.learning_rate, weight_decay=self.weight_decay)\n",
    "        scheduler = StepLR(optimizer, step_size=self.scheduler_step_size, gamma=self.scheduler_gamma)\n",
    "        \n",
    "        train_loader = DataLoader(train_dataset, batch_size=self.batch_size, shuffle=True)\n",
    "        val_loader = DataLoader(val_dataset, batch_size=self.batch_size, shuffle=False)\n",
    "\n",
    "        \n",
    "        # TRAINING LOOP\n",
    "        for epoch in range(self.max_epochs):\n",
    "            \n",
    "            if verbose == 1:\n",
    "                print(f'Epoch {epoch+1}/{self.max_epochs}')\n",
    "                t_loader = tqdm(train_loader)\n",
    "                v_loader = tqdm(val_loader)\n",
    "            else:\n",
    "                t_loader = train_loader\n",
    "                v_loader = val_loader\n",
    "           \n",
    "           # Train the model\n",
    "            avg_train_accuracy = 0\n",
    "            avg_train_loss = 0\n",
    "            \n",
    "            for x, y in t_loader:\n",
    "                optimizer.zero_grad()\n",
    "\n",
    "                output = model(x)\n",
    "                train_loss = self.criterion(output, y)\n",
    "                train_loss.backward()\n",
    "                optimizer.step()\n",
    "\n",
    "                train_accuracy = (output.argmax(dim=1) == y).float().mean()\n",
    "\n",
    "                avg_train_accuracy += train_accuracy.item()\n",
    "                avg_train_loss += train_loss.item()\n",
    "            \n",
    "            # Calculate average training loss and accuracy for the epoch\n",
    "            avg_train_accuracy = avg_train_accuracy / len(train_loader)\n",
    "            avg_train_loss = avg_train_loss / len(train_loader)\n",
    "            \n",
    "            if verbose == 1:\n",
    "                print(f'train_acc:{avg_train_accuracy}, train_loss: {avg_train_loss}')\n",
    "\n",
    "            # Test the model\n",
    "            avg_val_loss = 0\n",
    "            avg_val_accuracy = 0\n",
    "            \n",
    "            with torch.no_grad():\n",
    "                for x, y in v_loader:\n",
    "                    output = model(x)\n",
    "                    val_loss = self.criterion(output, y)\n",
    "                    val_accuracy = (output.argmax(dim=1) == y).float().mean()\n",
    "                    avg_val_loss += val_loss.item()\n",
    "                    avg_val_accuracy += val_accuracy.item()\n",
    "\n",
    "            # Calculate average test loss and accuracy for the epoch\n",
    "            avg_val_accuracy = avg_val_accuracy / len(val_loader)\n",
    "            avg_val_loss = avg_val_loss / len(val_loader)\n",
    "\n",
    "            if verbose == 1:\n",
    "                print(f'val_acc:{avg_val_accuracy}, val_loss: {avg_val_loss}')\n",
    "\n",
    "            scheduler.step()\n",
    "\n",
    "        return avg_train_accuracy, avg_train_loss, avg_val_accuracy, avg_val_loss\n",
    "        \n",
    "    "
   ]
  },
  {
   "cell_type": "code",
   "execution_count": 5,
   "metadata": {},
   "outputs": [],
   "source": [
    "class RandomSearch:\n",
    "    \n",
    "    def __init__(self, net: Net_wrapper, param_grid, verbose=1):\n",
    "      \"\"\"\n",
    "\n",
    "      \"\"\"\n",
    "      self.net = net\n",
    "      self.param_grid = param_grid\n",
    "      self.scores = []\n",
    "      self.best_score = 0\n",
    "      self.best_params = {}\n",
    "      self.verbose = verbose\n",
    "\n",
    "     \n",
    "    @staticmethod\n",
    "    def choose_random__params(parameters, seed=1):\n",
    "      random_params = {}\n",
    "      rnd = np.random.RandomState(seed)\n",
    "      \n",
    "      for param in parameters:\n",
    "\n",
    "        if isinstance(parameters[param][0], float):\n",
    "          random_params[param] = rnd.uniform(low=parameters[param][0], high=parameters[param][1])\n",
    "        elif isinstance(parameters[param][0], int):\n",
    "          random_params[param] = rnd.randint(low=parameters[param][0], high=parameters[param][1])\n",
    "        else:\n",
    "          random_params[param] = parameters[param][rnd.randint(0, len(parameters[param]))]\n",
    "      \n",
    "      return random_params\n",
    "\n",
    "      \n",
    "    def fit(self, train_dataset, val_dataset, n_trials = 10):\n",
    "      \"\"\"\n",
    "      Fit the grid search with train and validation dataset. \n",
    "      Search for optimal parameters for neural network declared during \n",
    "      initialization of GridSearch instance.\n",
    "      \"\"\"\n",
    "      \n",
    "      for trial in range(n_trials):\n",
    "          random_params = RandomSearch.choose_random__params(parameters=self.param_grid, seed=trial)\n",
    "          for hyp_name, hyp_val in random_params.items():\n",
    "              if hasattr(self.net, hyp_name):\n",
    "                  setattr(self.net, hyp_name, hyp_val)\n",
    "              else:\n",
    "                  self.net.model_params[hyp_name] = hyp_val\n",
    "\n",
    "          _, _, val_accuracy, _ = self.net.score(train_dataset, val_dataset)\n",
    "          self.scores.append(val_accuracy)\n",
    "          if val_accuracy > self.best_score:\n",
    "              self.best_score = val_accuracy\n",
    "              self.best_params = random_params\n",
    "          if self.verbose == 1:\n",
    "              print('Parameter set:', random_params)\n",
    "              print(f'val_accuracy: {val_accuracy:.4f}')\n",
    "\n",
    "      return self\n"
   ]
  },
  {
   "cell_type": "code",
   "execution_count": 6,
   "metadata": {},
   "outputs": [],
   "source": [
    "class GridSearch:\n",
    "    \"\"\"\n",
    "    Class used to perform grid search on neural networks \n",
    "\n",
    "    Attributes:\n",
    "    self.net - Net_wrapper instance\n",
    "    self.param_grid - dictionary of parameters we want to search\n",
    "    self.scores - list for scores of each set of parameters\n",
    "    self.best_score - best score out of all parameters\n",
    "    self.best_params - best set of parameters\n",
    "    self.verbose - if set to 1 additional information (parameter set and accuracy) prints with each iteration of grid search. \n",
    "    \"\"\"\n",
    "    def __init__(self, net: Net_wrapper, param_grid, step_by_step=False, verbose=1):\n",
    "        \"\"\"\n",
    "\n",
    "        \"\"\"\n",
    "        self.net = net\n",
    "        self.param_grid = param_grid\n",
    "        self.scores = []\n",
    "        self.best_score = 0\n",
    "        self.best_params = {}\n",
    "        self.step_by_step = step_by_step\n",
    "        self.verbose = verbose\n",
    "\n",
    "\n",
    "    def fit(self, train_dataset, val_dataset):\n",
    "        \"\"\"\n",
    "        Fit the grid search with train and validation dataset. \n",
    "        Search for optimal parameters for neural network declared during \n",
    "        initialization of GridSearch instance.\n",
    "        \"\"\"\n",
    "        if self.step_by_step==False:\n",
    "            for params in ParameterGrid(self.param_grid):\n",
    "                for hyp_name, hyp_val in params.items():\n",
    "                    if hasattr(self.net, hyp_name):\n",
    "                        setattr(self.net, hyp_name, hyp_val)\n",
    "                    else:\n",
    "                        self.net.model_params[hyp_name] = hyp_val\n",
    "\n",
    "                _, _, val_accuracy, _ = self.net.score(train_dataset, val_dataset)\n",
    "                self.scores.append(val_accuracy)\n",
    "                if val_accuracy > self.best_score:\n",
    "                    self.best_score = val_accuracy\n",
    "                    self.best_params = params\n",
    "                if self.verbose == 1:\n",
    "                    print('Parameter set:', params)\n",
    "                    print(f'val_accuracy: {val_accuracy:.4f}')\n",
    "        else:\n",
    "            \n",
    "            for hyp_name, hyp_vals in self.param_grid.items():\n",
    "                score = 0\n",
    "                for hyp_val in hyp_vals:\n",
    "                    if hasattr(self.net, hyp_name):\n",
    "                        setattr(self.net, hyp_name, hyp_val)\n",
    "                    else:\n",
    "                        self.net.model_params[hyp_name] = hyp_val \n",
    "\n",
    "                    _, _, val_accuracy, _ = self.net.score(train_dataset, val_dataset)\n",
    "                    self.scores.append(val_accuracy)\n",
    "                    \n",
    "                    if val_accuracy > score:\n",
    "                        if score > self.best_score:\n",
    "                            self.best_score = score\n",
    "                        score = val_accuracy\n",
    "                        self.best_params[hyp_name] = hyp_val\n",
    "                    \n",
    "                    if self.verbose == 1:\n",
    "                        print(f'Current parameter: {hyp_name}:', hyp_val, f'  val_accuracy: {val_accuracy:.4f}')\n",
    "                        print(f'Best parameters till now:{self.best_params}')\n",
    "                \n",
    "                if hasattr(self.net, hyp_name):\n",
    "                    setattr(self.net, hyp_name, self.best_params[hyp_name])\n",
    "                    print(getattr(self.net, hyp_name))\n",
    "                else:\n",
    "                    self.net.model_params[hyp_name] = self.best_params[hyp_name]\n",
    "\n",
    "        return self"
   ]
  },
  {
   "cell_type": "code",
   "execution_count": 7,
   "metadata": {},
   "outputs": [],
   "source": [
    "class WeightedRandomSearch():\n",
    "    \"\"\"\n",
    "    Class used to perform grid search on neural networks \n",
    "\n",
    "    Attributes:\n",
    "    self.net - Net_wrapper instance\n",
    "    self.param_grid - dictionary of parameters we want to search\n",
    "    self.scores - list for scores of each set of parameters\n",
    "    self.best_score - best score out of all parameters\n",
    "    self.best_params - best set of parameters\n",
    "    self.verbose - if set to 1 additional information (parameter set and accuracy) prints with each iteration of grid search. \n",
    "    \"\"\"\n",
    "    def __init__(self, net, param_grid, verbose=1):\n",
    "        \"\"\"\n",
    "\n",
    "        \"\"\"\n",
    "        self.net = net\n",
    "        self.param_grid = param_grid\n",
    "        self.scores = []\n",
    "        self.best_score = 0\n",
    "        self.best_params = None\n",
    "        self.verbose = verbose\n",
    "\n",
    "    def fit(self, train_dataset, val_dataset, N, N_0):\n",
    "        \"\"\"\n",
    "        Fit the grid search with train and validation dataset. \n",
    "        Search for optimal parameters for neural network declared during \n",
    "        initialization of GridSearch instance.\n",
    "        \"\"\"\n",
    "        def goal_function(params):\n",
    "            \n",
    "            for hyp_name, hyp_val in params.items():\n",
    "                if hasattr(self.net, hyp_name):\n",
    "                    setattr(self.net, hyp_name, hyp_val)\n",
    "                else:\n",
    "                    self.net.model_params[hyp_name] = hyp_val\n",
    "            \n",
    "            return self.net.score(train_dataset, val_dataset)[1]\n",
    "            \n",
    "        self.best_params, self.best_score = wrs(F=goal_function, N=N, N_0=N_0, param_grid=self.param_grid )\n",
    "        \n",
    "        return self"
   ]
  },
  {
   "attachments": {},
   "cell_type": "markdown",
   "metadata": {},
   "source": [
    "### Example hyperparameters (from most to least important):"
   ]
  },
  {
   "cell_type": "code",
   "execution_count": 8,
   "metadata": {},
   "outputs": [],
   "source": [
    "hyperparams1 = {'learning_rate': [0.001, 0.005, 0.01],\n",
    "               'batch_size': [8, 32, 64],\n",
    "               'max_epochs': [5, 10, 15]}\n",
    "\n",
    "hyperparams2 = {\n",
    "                'no_neurons': [25, 50, 100],\n",
    "                'kernel_size': [2, 3, 5],\n",
    "                'number_of_filters': [16, 32, 64]\n",
    "                }\n",
    "\n",
    "hyperparams3 = {\n",
    "               'optimizer': [optim.Adam, optim.Adagrad, optim.SGD],\n",
    "               'activation_func': [nn.ReLU, nn.LeakyReLU, nn.Tanh],\n",
    "               'dropout_rate': [0.0, 0.25, 0.5]}\n",
    "\n"
   ]
  },
  {
   "attachments": {},
   "cell_type": "markdown",
   "metadata": {},
   "source": [
    "### Sample for testing GridSearch"
   ]
  },
  {
   "cell_type": "code",
   "execution_count": 9,
   "metadata": {},
   "outputs": [],
   "source": [
    "train_dataset = datasets.cifar_train\n",
    "val_dataset = datasets.cifar_val"
   ]
  },
  {
   "cell_type": "code",
   "execution_count": 10,
   "metadata": {},
   "outputs": [],
   "source": [
    "from torch.utils.data import DataLoader, SubsetRandomSampler, Subset\n",
    "\n",
    "subset_indices = list(range(500))\n",
    "subset_sampler = SubsetRandomSampler(subset_indices)\n",
    "\n",
    "subset_train_dataset = Subset(train_dataset, subset_indices)\n",
    "subset_val_dataset = Subset(val_dataset, subset_indices)"
   ]
  },
  {
   "attachments": {},
   "cell_type": "markdown",
   "metadata": {},
   "source": [
    "### GridSearch / RandomSearch test"
   ]
  },
  {
   "cell_type": "code",
   "execution_count": 14,
   "metadata": {},
   "outputs": [
    {
     "ename": "RuntimeError",
     "evalue": "shape '[-1, 18496]' is invalid for input of size 131072",
     "output_type": "error",
     "traceback": [
      "\u001b[1;31m---------------------------------------------------------------------------\u001b[0m",
      "\u001b[1;31mRuntimeError\u001b[0m                              Traceback (most recent call last)",
      "\u001b[1;32mc:\\Users\\mikol\\Desktop\\Deep_Learning\\hyperparameter_search.ipynb Cell 16\u001b[0m in \u001b[0;36m6\n\u001b[0;32m      <a href='vscode-notebook-cell:/c%3A/Users/mikol/Desktop/Deep_Learning/hyperparameter_search.ipynb#X21sZmlsZQ%3D%3D?line=3'>4</a>\u001b[0m gs \u001b[39m=\u001b[39m GridSearch(net\u001b[39m=\u001b[39mmy_net, param_grid\u001b[39m=\u001b[39mtest_hyper_params, step_by_step\u001b[39m=\u001b[39m\u001b[39mTrue\u001b[39;00m, verbose\u001b[39m=\u001b[39m\u001b[39m1\u001b[39m)\n\u001b[0;32m      <a href='vscode-notebook-cell:/c%3A/Users/mikol/Desktop/Deep_Learning/hyperparameter_search.ipynb#X21sZmlsZQ%3D%3D?line=4'>5</a>\u001b[0m \u001b[39m# gs = gs.fit(subset_train_dataset, subset_val_dataset)\u001b[39;00m\n\u001b[1;32m----> <a href='vscode-notebook-cell:/c%3A/Users/mikol/Desktop/Deep_Learning/hyperparameter_search.ipynb#X21sZmlsZQ%3D%3D?line=5'>6</a>\u001b[0m gs \u001b[39m=\u001b[39m gs\u001b[39m.\u001b[39;49mfit(train_dataset, val_dataset)\n",
      "\u001b[1;32mc:\\Users\\mikol\\Desktop\\Deep_Learning\\hyperparameter_search.ipynb Cell 16\u001b[0m in \u001b[0;36m5\n\u001b[0;32m     <a href='vscode-notebook-cell:/c%3A/Users/mikol/Desktop/Deep_Learning/hyperparameter_search.ipynb#X21sZmlsZQ%3D%3D?line=54'>55</a>\u001b[0m \u001b[39melse\u001b[39;00m:\n\u001b[0;32m     <a href='vscode-notebook-cell:/c%3A/Users/mikol/Desktop/Deep_Learning/hyperparameter_search.ipynb#X21sZmlsZQ%3D%3D?line=55'>56</a>\u001b[0m     \u001b[39mself\u001b[39m\u001b[39m.\u001b[39mnet\u001b[39m.\u001b[39mmodel_params[hyp_name] \u001b[39m=\u001b[39m hyp_val \n\u001b[1;32m---> <a href='vscode-notebook-cell:/c%3A/Users/mikol/Desktop/Deep_Learning/hyperparameter_search.ipynb#X21sZmlsZQ%3D%3D?line=57'>58</a>\u001b[0m _, _, val_accuracy, _ \u001b[39m=\u001b[39m \u001b[39mself\u001b[39;49m\u001b[39m.\u001b[39;49mnet\u001b[39m.\u001b[39;49mscore(train_dataset, val_dataset)\n\u001b[0;32m     <a href='vscode-notebook-cell:/c%3A/Users/mikol/Desktop/Deep_Learning/hyperparameter_search.ipynb#X21sZmlsZQ%3D%3D?line=58'>59</a>\u001b[0m \u001b[39mself\u001b[39m\u001b[39m.\u001b[39mscores\u001b[39m.\u001b[39mappend(val_accuracy)\n\u001b[0;32m     <a href='vscode-notebook-cell:/c%3A/Users/mikol/Desktop/Deep_Learning/hyperparameter_search.ipynb#X21sZmlsZQ%3D%3D?line=60'>61</a>\u001b[0m \u001b[39mif\u001b[39;00m val_accuracy \u001b[39m>\u001b[39m score:\n",
      "\u001b[1;32mc:\\Users\\mikol\\Desktop\\Deep_Learning\\hyperparameter_search.ipynb Cell 16\u001b[0m in \u001b[0;36m6\n\u001b[0;32m     <a href='vscode-notebook-cell:/c%3A/Users/mikol/Desktop/Deep_Learning/hyperparameter_search.ipynb#X21sZmlsZQ%3D%3D?line=57'>58</a>\u001b[0m \u001b[39mfor\u001b[39;00m x, y \u001b[39min\u001b[39;00m t_loader:\n\u001b[0;32m     <a href='vscode-notebook-cell:/c%3A/Users/mikol/Desktop/Deep_Learning/hyperparameter_search.ipynb#X21sZmlsZQ%3D%3D?line=58'>59</a>\u001b[0m     optimizer\u001b[39m.\u001b[39mzero_grad()\n\u001b[1;32m---> <a href='vscode-notebook-cell:/c%3A/Users/mikol/Desktop/Deep_Learning/hyperparameter_search.ipynb#X21sZmlsZQ%3D%3D?line=60'>61</a>\u001b[0m     output \u001b[39m=\u001b[39m model(x)\n\u001b[0;32m     <a href='vscode-notebook-cell:/c%3A/Users/mikol/Desktop/Deep_Learning/hyperparameter_search.ipynb#X21sZmlsZQ%3D%3D?line=61'>62</a>\u001b[0m     train_loss \u001b[39m=\u001b[39m \u001b[39mself\u001b[39m\u001b[39m.\u001b[39mcriterion(output, y)\n\u001b[0;32m     <a href='vscode-notebook-cell:/c%3A/Users/mikol/Desktop/Deep_Learning/hyperparameter_search.ipynb#X21sZmlsZQ%3D%3D?line=62'>63</a>\u001b[0m     train_loss\u001b[39m.\u001b[39mbackward()\n",
      "File \u001b[1;32mc:\\Users\\mikol\\AppData\\Local\\Programs\\Python\\Python310\\lib\\site-packages\\torch\\nn\\modules\\module.py:1194\u001b[0m, in \u001b[0;36mModule._call_impl\u001b[1;34m(self, *input, **kwargs)\u001b[0m\n\u001b[0;32m   1190\u001b[0m \u001b[39m# If we don't have any hooks, we want to skip the rest of the logic in\u001b[39;00m\n\u001b[0;32m   1191\u001b[0m \u001b[39m# this function, and just call forward.\u001b[39;00m\n\u001b[0;32m   1192\u001b[0m \u001b[39mif\u001b[39;00m \u001b[39mnot\u001b[39;00m (\u001b[39mself\u001b[39m\u001b[39m.\u001b[39m_backward_hooks \u001b[39mor\u001b[39;00m \u001b[39mself\u001b[39m\u001b[39m.\u001b[39m_forward_hooks \u001b[39mor\u001b[39;00m \u001b[39mself\u001b[39m\u001b[39m.\u001b[39m_forward_pre_hooks \u001b[39mor\u001b[39;00m _global_backward_hooks\n\u001b[0;32m   1193\u001b[0m         \u001b[39mor\u001b[39;00m _global_forward_hooks \u001b[39mor\u001b[39;00m _global_forward_pre_hooks):\n\u001b[1;32m-> 1194\u001b[0m     \u001b[39mreturn\u001b[39;00m forward_call(\u001b[39m*\u001b[39m\u001b[39minput\u001b[39m, \u001b[39m*\u001b[39m\u001b[39m*\u001b[39mkwargs)\n\u001b[0;32m   1195\u001b[0m \u001b[39m# Do not call functions when jit is used\u001b[39;00m\n\u001b[0;32m   1196\u001b[0m full_backward_hooks, non_full_backward_hooks \u001b[39m=\u001b[39m [], []\n",
      "File \u001b[1;32mc:\\Users\\mikol\\Desktop\\Deep_Learning\\CNNpy.py:90\u001b[0m, in \u001b[0;36mCNN_3_class.forward\u001b[1;34m(self, x)\u001b[0m\n\u001b[0;32m     88\u001b[0m x \u001b[39m=\u001b[39m \u001b[39mself\u001b[39m\u001b[39m.\u001b[39mpool2(x)\n\u001b[0;32m     89\u001b[0m length_of_input2 \u001b[39m=\u001b[39m \u001b[39mself\u001b[39m\u001b[39m.\u001b[39mConv2d_output_size(length_of_input1, \u001b[39mself\u001b[39m\u001b[39m.\u001b[39mkernel_size2, \u001b[39mself\u001b[39m\u001b[39m.\u001b[39mstride, \u001b[39mself\u001b[39m\u001b[39m.\u001b[39mpadding)\u001b[39m/\u001b[39m\u001b[39m2\u001b[39m\n\u001b[1;32m---> 90\u001b[0m x \u001b[39m=\u001b[39m x\u001b[39m.\u001b[39;49mview(\u001b[39m-\u001b[39;49m\u001b[39m1\u001b[39;49m, \u001b[39mint\u001b[39;49m(\u001b[39mself\u001b[39;49m\u001b[39m.\u001b[39;49mnumber_of_filters1\u001b[39m*\u001b[39;49mlength_of_input2\u001b[39m*\u001b[39;49mlength_of_input2))\n\u001b[0;32m     91\u001b[0m x \u001b[39m=\u001b[39m \u001b[39mself\u001b[39m\u001b[39m.\u001b[39mfc1(x)\n\u001b[0;32m     92\u001b[0m x \u001b[39m=\u001b[39m \u001b[39mself\u001b[39m\u001b[39m.\u001b[39mactivation_function(x)\n",
      "\u001b[1;31mRuntimeError\u001b[0m: shape '[-1, 18496]' is invalid for input of size 131072"
     ]
    }
   ],
   "source": [
    "test_hyper_params = {'learning_rate': [0.0001, 0.0005, 0.001, 0.005], 'batch_size': [8, 16, 32, 64]}#, 'kernel_size1': [3, 4, 8]}\n",
    "my_net = Net_wrapper(model=CNN_3_class, optimizer=optim.Adam, max_epochs=5, learning_rate=0.0005, batch_size=8, \n",
    "                     number_of_filters0=32, number_of_filters1=256, no_neurons=500)\n",
    "gs = GridSearch(net=my_net, param_grid=test_hyper_params, step_by_step=True, verbose=1)\n",
    "# gs = gs.fit(subset_train_dataset, subset_val_dataset)\n",
    "gs = gs.fit(train_dataset, val_dataset)"
   ]
  },
  {
   "cell_type": "code",
   "execution_count": 13,
   "metadata": {},
   "outputs": [
    {
     "name": "stdout",
     "output_type": "stream",
     "text": [
      "0.3333333333333333\n",
      "{'learning_rate': 0.0005, 'batch_size': 16}\n"
     ]
    }
   ],
   "source": [
    "print(gs.best_score)\n",
    "print(gs.best_params)"
   ]
  },
  {
   "cell_type": "code",
   "execution_count": 14,
   "metadata": {},
   "outputs": [
    {
     "name": "stdout",
     "output_type": "stream",
     "text": [
      "Parameter set: {'learning_rate': 0.0003195254015709299, 'batch_size': 13}\n",
      "val_accuracy: 0.3353\n",
      "Parameter set: {'learning_rate': 0.0002668088018810296, 'batch_size': 12}\n",
      "val_accuracy: 0.3552\n",
      "Parameter set: {'learning_rate': 0.0002743979608568015, 'batch_size': 13}\n",
      "val_accuracy: 0.3478\n",
      "Parameter set: {'learning_rate': 0.0003203191610298302, 'batch_size': 9}\n",
      "val_accuracy: 0.3448\n",
      "Parameter set: {'learning_rate': 0.0004868119356054707, 'batch_size': 15}\n",
      "val_accuracy: 0.3510\n"
     ]
    },
    {
     "data": {
      "text/plain": [
       "<__main__.RandomSearch at 0x1bd4aedeb90>"
      ]
     },
     "execution_count": 14,
     "metadata": {},
     "output_type": "execute_result"
    }
   ],
   "source": [
    "test_hyper_params = {'learning_rate': [0.0001, 0.0005, 0.001, 0.005, 0.01, 0.05, 0.1], 'batch_size': [8, 16, 32, 64, 128]}\n",
    "rs = RandomSearch(my_net, test_hyper_params, verbose=1)\n",
    "rs.fit(subset_train_dataset, subset_val_dataset, n_trials = 5)"
   ]
  },
  {
   "cell_type": "code",
   "execution_count": 15,
   "metadata": {},
   "outputs": [
    {
     "name": "stdout",
     "output_type": "stream",
     "text": [
      "0.35515872903522994\n",
      "{'learning_rate': 0.0002668088018810296, 'batch_size': 12}\n"
     ]
    }
   ],
   "source": [
    "print(rs.best_score)\n",
    "print(rs.best_params)"
   ]
  },
  {
   "attachments": {},
   "cell_type": "markdown",
   "metadata": {},
   "source": [
    "### Weighted random search test"
   ]
  },
  {
   "cell_type": "code",
   "execution_count": 28,
   "metadata": {},
   "outputs": [
    {
     "name": "stdout",
     "output_type": "stream",
     "text": [
      "{'learning_rate': 0.01, 'batch_size': 64, 'no_neurons': 64} 0.11944110598415136\n",
      "{'learning_rate': 0.005, 'batch_size': 64, 'no_neurons': 64} 0.28305288404226303\n",
      "{'learning_rate': 0.005, 'batch_size': 64, 'no_neurons': 64} 0.28305288404226303\n",
      "{'learning_rate': 0.005, 'batch_size': 64, 'no_neurons': 64} 0.28305288404226303\n",
      "{'learning_rate': 0.005, 'batch_size': 64, 'no_neurons': 64} 0.28305288404226303\n",
      "{'learning_rate': 0.005, 'batch_size': 64, 'no_neurons': 64} 0.28305288404226303\n",
      "{'learning_rate': 0.005, 'batch_size': 64, 'no_neurons': 64} 0.28305288404226303\n",
      "{'learning_rate': 0.005, 'batch_size': 64, 'no_neurons': 64} 0.28305288404226303\n",
      "{'learning_rate': 0.005, 'batch_size': 64, 'no_neurons': 64} 0.28305288404226303\n",
      "{'learning_rate': 0.005, 'batch_size': 64, 'no_neurons': 64} 0.28305288404226303\n",
      "{'learning_rate': 0.005, 'batch_size': 64, 'no_neurons': 64} 0.28305288404226303\n"
     ]
    },
    {
     "data": {
      "text/plain": [
       "<__main__.WeightedRandomSearch at 0x23a32821750>"
      ]
     },
     "execution_count": 28,
     "metadata": {},
     "output_type": "execute_result"
    }
   ],
   "source": [
    "my_net = Net_wrapper()\n",
    "param_grid = {'lr': [0.01, 0.05, 0.1, 0.5, 1, 2], 'batch_size': [16, 32, 64, 128, 256]}\n",
    "w = WeightedRandomSearch(net=my_net, param_grid=test_hyper_params)\n",
    "N, N_0 = 10, 3\n",
    "w.fit(subset_train_dataset, subset_val_dataset, N, N_0)\n",
    "print(w.best_params)"
   ]
  },
  {
   "attachments": {},
   "cell_type": "markdown",
   "metadata": {},
   "source": [
    "# Hyperparameter Tuning"
   ]
  },
  {
   "attachments": {},
   "cell_type": "markdown",
   "metadata": {},
   "source": [
    "## CNN_3_class on original dataset (without augmentation)"
   ]
  },
  {
   "attachments": {},
   "cell_type": "markdown",
   "metadata": {},
   "source": [
    "1. Learning rate + batch size"
   ]
  },
  {
   "cell_type": "code",
   "execution_count": 16,
   "metadata": {},
   "outputs": [
    {
     "name": "stdout",
     "output_type": "stream",
     "text": [
      "Current parameter: learning_rate: 0.0001   val_accuracy: 0.5830\n",
      "Best parameters till now:{'learning_rate': 0.0001}\n",
      "Current parameter: learning_rate: 0.0005   val_accuracy: 0.6887\n",
      "Best parameters till now:{'learning_rate': 0.0005}\n",
      "Current parameter: learning_rate: 0.001   val_accuracy: 0.6761\n",
      "Best parameters till now:{'learning_rate': 0.0005}\n",
      "Current parameter: learning_rate: 0.005   val_accuracy: 0.5991\n",
      "Best parameters till now:{'learning_rate': 0.0005}\n",
      "Current parameter: learning_rate: 0.01   val_accuracy: 0.1000\n",
      "Best parameters till now:{'learning_rate': 0.0005}\n",
      "0.0005\n",
      "Current parameter: batch_size: 8   val_accuracy: 0.6954\n",
      "Best parameters till now:{'learning_rate': 0.0005, 'batch_size': 8}\n",
      "Current parameter: batch_size: 16   val_accuracy: 0.6823\n",
      "Best parameters till now:{'learning_rate': 0.0005, 'batch_size': 8}\n",
      "Current parameter: batch_size: 32   val_accuracy: 0.6785\n",
      "Best parameters till now:{'learning_rate': 0.0005, 'batch_size': 8}\n",
      "Current parameter: batch_size: 64   val_accuracy: 0.6427\n",
      "Best parameters till now:{'learning_rate': 0.0005, 'batch_size': 8}\n",
      "Current parameter: batch_size: 128   val_accuracy: 0.6242\n",
      "Best parameters till now:{'learning_rate': 0.0005, 'batch_size': 8}\n",
      "8\n"
     ]
    }
   ],
   "source": [
    "my_net = Net_wrapper(model=CNN_3_class, max_epochs=5)\n",
    "param_grid = {'learning_rate': [0.0001, 0.0005, 0.001, 0.005, 0.01], 'batch_size': [8, 16, 32, 64, 128]}\n",
    "gs = GridSearch(net=my_net, param_grid=param_grid, step_by_step=True, verbose=1)\n",
    "gs = gs.fit(train_dataset, val_dataset)"
   ]
  },
  {
   "cell_type": "code",
   "execution_count": 21,
   "metadata": {},
   "outputs": [
    {
     "data": {
      "image/png": "[encoded data removed]",
      "text/plain": [
       "<Figure size 1200x800 with 2 Axes>"
      ]
     },
     "metadata": {},
     "output_type": "display_data"
    }
   ],
   "source": [
    "param_grid = {'learning_rate': [0.0001, 0.0005, 0.001, 0.005, 0.01], 'batch_size': [8, 16, 32, 64, 128]}\n",
    "learning_rate = [0.583, 0.6887, 0.6761, 0.5991, 0.1]\n",
    "batch_size = [0.6954, 0.6823, 0.6785, 0.6427, 0.6242]\n",
    "\n",
    "fig, ax = plt.subplots(1, 2, figsize=(12, 8))\n",
    "ax[0].plot(param_grid['learning_rate'], learning_rate, marker='o')\n",
    "ax[0].set_title(\"Accuracy dependence on learning rate\")\n",
    "ax[0].set_xlabel(\"learning rate\")\n",
    "ax[0].set_ylabel(\"accuracy\")\n",
    "ax[0].set_xscale(\"log\")\n",
    "ax[0].set_xticks(param_grid['learning_rate'])\n",
    "ax[1].plot(param_grid['batch_size'], batch_size, marker = 'o')\n",
    "ax[1].set_title(\"Accuracy dependence on batch size\")\n",
    "ax[1].set_xlabel(\"batch size\")\n",
    "ax[1].set_ylabel(\"accuracy\")\n",
    "ax[1].set_ylim((0.5, 1))\n",
    "ax[1].set_xticks(param_grid['batch_size'])\n",
    "plt.show()"
   ]
  },
  {
   "attachments": {},
   "cell_type": "markdown",
   "metadata": {},
   "source": [
    "2. Dropout, weight_decay"
   ]
  },
  {
   "cell_type": "code",
   "execution_count": 20,
   "metadata": {},
   "outputs": [
    {
     "name": "stdout",
     "output_type": "stream",
     "text": [
      "Current parameter: dr: Dropout(p=0, inplace=False)   val_accuracy: 0.7061\n",
      "Best parameters till now:{'dr': Dropout(p=0, inplace=False)}\n",
      "Current parameter: dr: Dropout(p=0.1, inplace=False)   val_accuracy: 0.6770\n",
      "Best parameters till now:{'dr': Dropout(p=0, inplace=False)}\n",
      "Current parameter: dr: Dropout(p=0.25, inplace=False)   val_accuracy: 0.6614\n",
      "Best parameters till now:{'dr': Dropout(p=0, inplace=False)}\n",
      "Current parameter: dr: Dropout(p=0.4, inplace=False)   val_accuracy: 0.6550\n",
      "Best parameters till now:{'dr': Dropout(p=0, inplace=False)}\n",
      "Current parameter: dr: Dropout(p=0.5, inplace=False)   val_accuracy: 0.6351\n",
      "Best parameters till now:{'dr': Dropout(p=0, inplace=False)}\n",
      "Current parameter: weight_decay: 0   val_accuracy: 0.7047\n",
      "Best parameters till now:{'dr': Dropout(p=0, inplace=False), 'weight_decay': 0}\n",
      "Current parameter: weight_decay: 1e-05   val_accuracy: 0.6925\n",
      "Best parameters till now:{'dr': Dropout(p=0, inplace=False), 'weight_decay': 0}\n",
      "Current parameter: weight_decay: 0.0001   val_accuracy: 0.6957\n",
      "Best parameters till now:{'dr': Dropout(p=0, inplace=False), 'weight_decay': 0}\n",
      "Current parameter: weight_decay: 0.001   val_accuracy: 0.6903\n",
      "Best parameters till now:{'dr': Dropout(p=0, inplace=False), 'weight_decay': 0}\n",
      "0\n"
     ]
    }
   ],
   "source": [
    "my_net = Net_wrapper(model=CNN_3_class, max_epochs=5, learning_rate=0.0005, batch_size=8)\n",
    "param_grid = {'dr': [nn.Dropout(0), nn.Dropout(0.1), nn.Dropout(0.25), nn.Dropout(0.4), nn.Dropout(0.5)], 'weight_decay': [0, 1e-5, 1e-4, 1e-3]}\n",
    "gs = GridSearch(net=my_net, param_grid=param_grid, step_by_step=True, verbose=1)\n",
    "gs = gs.fit(train_dataset, val_dataset)"
   ]
  },
  {
   "attachments": {},
   "cell_type": "markdown",
   "metadata": {},
   "source": [
    "3. Net architecture (kernel size, number of filters)"
   ]
  },
  {
   "cell_type": "code",
   "execution_count": 10,
   "metadata": {},
   "outputs": [
    {
     "name": "stdout",
     "output_type": "stream",
     "text": [
      "Current parameter: number_of_filters0: 32   val_accuracy: 0.7007\n",
      "Best parameters till now:{'number_of_filters0': 32}\n",
      "Current parameter: number_of_filters0: 64   val_accuracy: 0.6869\n",
      "Best parameters till now:{'number_of_filters0': 32}\n",
      "Current parameter: number_of_filters0: 128   val_accuracy: 0.7005\n",
      "Best parameters till now:{'number_of_filters0': 32}\n",
      "Current parameter: number_of_filters0: 256   val_accuracy: 0.6403\n",
      "Best parameters till now:{'number_of_filters0': 32}\n",
      "Current parameter: number_of_filters1: 32   val_accuracy: 0.6976\n",
      "Best parameters till now:{'number_of_filters0': 32, 'number_of_filters1': 32}\n",
      "Current parameter: number_of_filters1: 64   val_accuracy: 0.7197\n",
      "Best parameters till now:{'number_of_filters0': 32, 'number_of_filters1': 64}\n",
      "Current parameter: number_of_filters1: 128   val_accuracy: 0.7115\n",
      "Best parameters till now:{'number_of_filters0': 32, 'number_of_filters1': 64}\n",
      "Current parameter: number_of_filters1: 256   val_accuracy: 0.7270\n",
      "Best parameters till now:{'number_of_filters0': 32, 'number_of_filters1': 256}\n"
     ]
    },
    {
     "ename": "TypeError",
     "evalue": "CNN_3_class.__init__() got an unexpected keyword argument 'kernel_size1'",
     "output_type": "error",
     "traceback": [
      "\u001b[1;31m---------------------------------------------------------------------------\u001b[0m",
      "\u001b[1;31mTypeError\u001b[0m                                 Traceback (most recent call last)",
      "Cell \u001b[1;32mIn[10], line 4\u001b[0m\n\u001b[0;32m      2\u001b[0m param_grid \u001b[39m=\u001b[39m {\u001b[39m'\u001b[39m\u001b[39mnumber_of_filters0\u001b[39m\u001b[39m'\u001b[39m: [\u001b[39m32\u001b[39m, \u001b[39m64\u001b[39m, \u001b[39m128\u001b[39m, \u001b[39m256\u001b[39m], \u001b[39m'\u001b[39m\u001b[39mnumber_of_filters1\u001b[39m\u001b[39m'\u001b[39m: [\u001b[39m32\u001b[39m, \u001b[39m64\u001b[39m, \u001b[39m128\u001b[39m, \u001b[39m256\u001b[39m], \u001b[39m'\u001b[39m\u001b[39mkernel_size1\u001b[39m\u001b[39m'\u001b[39m: [\u001b[39m3\u001b[39m,\u001b[39m4\u001b[39m,\u001b[39m5\u001b[39m], \u001b[39m'\u001b[39m\u001b[39mkernel_size2\u001b[39m\u001b[39m'\u001b[39m:[\u001b[39m3\u001b[39m,\u001b[39m4\u001b[39m,\u001b[39m5\u001b[39m], \u001b[39m'\u001b[39m\u001b[39mno_neurons\u001b[39m\u001b[39m'\u001b[39m: [\u001b[39m32\u001b[39m, \u001b[39m64\u001b[39m, \u001b[39m128\u001b[39m, \u001b[39m256\u001b[39m]}\n\u001b[0;32m      3\u001b[0m gs \u001b[39m=\u001b[39m GridSearch(net\u001b[39m=\u001b[39mmy_net, param_grid\u001b[39m=\u001b[39mparam_grid, step_by_step\u001b[39m=\u001b[39m\u001b[39mTrue\u001b[39;00m, verbose\u001b[39m=\u001b[39m\u001b[39m1\u001b[39m)\n\u001b[1;32m----> 4\u001b[0m gs \u001b[39m=\u001b[39m gs\u001b[39m.\u001b[39;49mfit(train_dataset, val_dataset)\n",
      "Cell \u001b[1;32mIn[5], line 58\u001b[0m, in \u001b[0;36mGridSearch.fit\u001b[1;34m(self, train_dataset, val_dataset)\u001b[0m\n\u001b[0;32m     55\u001b[0m \u001b[39melse\u001b[39;00m:\n\u001b[0;32m     56\u001b[0m     \u001b[39mself\u001b[39m\u001b[39m.\u001b[39mnet\u001b[39m.\u001b[39mmodel_params[hyp_name] \u001b[39m=\u001b[39m hyp_val \n\u001b[1;32m---> 58\u001b[0m _, _, val_accuracy, _ \u001b[39m=\u001b[39m \u001b[39mself\u001b[39;49m\u001b[39m.\u001b[39;49mnet\u001b[39m.\u001b[39;49mscore(train_dataset, val_dataset)\n\u001b[0;32m     59\u001b[0m \u001b[39mself\u001b[39m\u001b[39m.\u001b[39mscores\u001b[39m.\u001b[39mappend(val_accuracy)\n\u001b[0;32m     61\u001b[0m \u001b[39mif\u001b[39;00m val_accuracy \u001b[39m>\u001b[39m score:\n",
      "Cell \u001b[1;32mIn[4], line 31\u001b[0m, in \u001b[0;36mNet_wrapper.score\u001b[1;34m(self, train_dataset, val_dataset, verbose)\u001b[0m\n\u001b[0;32m     27\u001b[0m \u001b[39m\u001b[39m\u001b[39m\"\"\"\u001b[39;00m\n\u001b[0;32m     28\u001b[0m \u001b[39mTrain model on train_dataset and calculate validation acurracy on val_dataset. \u001b[39;00m\n\u001b[0;32m     29\u001b[0m \u001b[39m\"\"\"\u001b[39;00m\n\u001b[0;32m     30\u001b[0m \u001b[39mif\u001b[39;00m \u001b[39mself\u001b[39m\u001b[39m.\u001b[39mmodel_params:\n\u001b[1;32m---> 31\u001b[0m     model \u001b[39m=\u001b[39m \u001b[39mself\u001b[39m\u001b[39m.\u001b[39mmodel(\u001b[39m*\u001b[39m\u001b[39m*\u001b[39m\u001b[39mself\u001b[39m\u001b[39m.\u001b[39mmodel_params)\n\u001b[0;32m     33\u001b[0m \u001b[39melse\u001b[39;00m:\n\u001b[0;32m     34\u001b[0m     model \u001b[39m=\u001b[39m \u001b[39mself\u001b[39m\u001b[39m.\u001b[39mmodel()\n",
      "\u001b[1;31mTypeError\u001b[0m: CNN_3_class.__init__() got an unexpected keyword argument 'kernel_size1'"
     ]
    }
   ],
   "source": [
    "my_net = Net_wrapper(model=CNN_3_class, max_epochs=5, learning_rate=0.0005, batch_size=8)\n",
    "param_grid = {'number_of_filters0': [32, 64, 128, 256], 'number_of_filters1': [32, 64, 128, 256]}\n",
    "gs = GridSearch(net=my_net, param_grid=param_grid, step_by_step=True, verbose=1)\n",
    "gs = gs.fit(train_dataset, val_dataset)"
   ]
  },
  {
   "cell_type": "code",
   "execution_count": null,
   "metadata": {},
   "outputs": [],
   "source": [
    "filter0 = [0.7007, 0.6869, 0.7005, 0.6403]\n",
    "filter1 = [0.6976, 0.7197, 0.7115, 0.727]"
   ]
  },
  {
   "cell_type": "code",
   "execution_count": 19,
   "metadata": {},
   "outputs": [],
   "source": [
    "my_net = Net_wrapper(model=CNN_3_class, max_epochs=5, learning_rate=0.0005, batch_size=8, \n",
    "                     number_of_filters0=32, number_of_filters1=256)\n",
    "param_grid = {'kernel_size1': [3,4,5], 'kernel_size2':[3,4,5], 'no_neurons': [32, 64, 128, 256]}\n",
    "gs = GridSearch(net=my_net, param_grid=param_grid, step_by_step=True, verbose=1)\n",
    "gs = gs.fit(train_dataset, val_dataset)"
   ]
  },
  {
   "attachments": {},
   "cell_type": "markdown",
   "metadata": {},
   "source": [
    "4. Num of epochs (run a lot of epochs and stop when validation accuracy starts to decrease)"
   ]
  },
  {
   "cell_type": "code",
   "execution_count": 43,
   "metadata": {},
   "outputs": [
    {
     "name": "stdout",
     "output_type": "stream",
     "text": [
      "Epoch 1/20\n"
     ]
    },
    {
     "name": "stderr",
     "output_type": "stream",
     "text": [
      "100%|██████████| 5000/5000 [02:22<00:00, 35.16it/s]\n"
     ]
    },
    {
     "name": "stdout",
     "output_type": "stream",
     "text": [
      "train_loss:1.367179244017601, train_acc: 0.5074\n"
     ]
    },
    {
     "name": "stderr",
     "output_type": "stream",
     "text": [
      "100%|██████████| 1250/1250 [00:19<00:00, 62.74it/s]\n"
     ]
    },
    {
     "name": "stdout",
     "output_type": "stream",
     "text": [
      "val_loss:1.1311261782169342, val_acc: 0.6056\n",
      "Epoch 2/20\n"
     ]
    },
    {
     "name": "stderr",
     "output_type": "stream",
     "text": [
      "100%|██████████| 5000/5000 [02:23<00:00, 34.88it/s]\n"
     ]
    },
    {
     "name": "stdout",
     "output_type": "stream",
     "text": [
      "train_loss:1.0221099519059063, train_acc: 0.637175\n"
     ]
    },
    {
     "name": "stderr",
     "output_type": "stream",
     "text": [
      "100%|██████████| 1250/1250 [00:18<00:00, 66.59it/s]\n"
     ]
    },
    {
     "name": "stdout",
     "output_type": "stream",
     "text": [
      "val_loss:0.993101014137268, val_acc: 0.6527\n",
      "Epoch 3/20\n"
     ]
    },
    {
     "name": "stderr",
     "output_type": "stream",
     "text": [
      "100%|██████████| 5000/5000 [02:30<00:00, 33.33it/s]\n"
     ]
    },
    {
     "name": "stdout",
     "output_type": "stream",
     "text": [
      "train_loss:0.8751001523837447, train_acc: 0.690425\n"
     ]
    },
    {
     "name": "stderr",
     "output_type": "stream",
     "text": [
      "100%|██████████| 1250/1250 [00:21<00:00, 58.75it/s]\n"
     ]
    },
    {
     "name": "stdout",
     "output_type": "stream",
     "text": [
      "val_loss:0.9432699997067452, val_acc: 0.6715\n",
      "Epoch 4/20\n"
     ]
    },
    {
     "name": "stderr",
     "output_type": "stream",
     "text": [
      "100%|██████████| 5000/5000 [02:15<00:00, 37.02it/s]\n"
     ]
    },
    {
     "name": "stdout",
     "output_type": "stream",
     "text": [
      "train_loss:0.7678421761438251, train_acc: 0.73045\n"
     ]
    },
    {
     "name": "stderr",
     "output_type": "stream",
     "text": [
      "100%|██████████| 1250/1250 [00:16<00:00, 73.90it/s]\n"
     ]
    },
    {
     "name": "stdout",
     "output_type": "stream",
     "text": [
      "val_loss:0.901851232546568, val_acc: 0.6923\n",
      "Epoch 5/20\n"
     ]
    },
    {
     "name": "stderr",
     "output_type": "stream",
     "text": [
      "100%|██████████| 5000/5000 [02:03<00:00, 40.53it/s]\n"
     ]
    },
    {
     "name": "stdout",
     "output_type": "stream",
     "text": [
      "train_loss:0.6812195054091513, train_acc: 0.76025\n"
     ]
    },
    {
     "name": "stderr",
     "output_type": "stream",
     "text": [
      "100%|██████████| 1250/1250 [00:17<00:00, 70.63it/s]\n"
     ]
    },
    {
     "name": "stdout",
     "output_type": "stream",
     "text": [
      "val_loss:0.8833921184927225, val_acc: 0.6964\n",
      "Epoch 6/20\n"
     ]
    },
    {
     "name": "stderr",
     "output_type": "stream",
     "text": [
      "100%|██████████| 5000/5000 [02:06<00:00, 39.62it/s]\n"
     ]
    },
    {
     "name": "stdout",
     "output_type": "stream",
     "text": [
      "train_loss:0.6047580602146685, train_acc: 0.7869\n"
     ]
    },
    {
     "name": "stderr",
     "output_type": "stream",
     "text": [
      "100%|██████████| 1250/1250 [00:18<00:00, 69.33it/s]\n"
     ]
    },
    {
     "name": "stdout",
     "output_type": "stream",
     "text": [
      "val_loss:0.9163684277355671, val_acc: 0.6984\n",
      "Epoch 7/20\n"
     ]
    },
    {
     "name": "stderr",
     "output_type": "stream",
     "text": [
      "100%|██████████| 5000/5000 [02:24<00:00, 34.71it/s]\n"
     ]
    },
    {
     "name": "stdout",
     "output_type": "stream",
     "text": [
      "train_loss:0.5349723679063841, train_acc: 0.8111\n"
     ]
    },
    {
     "name": "stderr",
     "output_type": "stream",
     "text": [
      "100%|██████████| 1250/1250 [00:17<00:00, 73.16it/s]\n"
     ]
    },
    {
     "name": "stdout",
     "output_type": "stream",
     "text": [
      "val_loss:0.9288069393068552, val_acc: 0.7\n",
      "Epoch 8/20\n"
     ]
    },
    {
     "name": "stderr",
     "output_type": "stream",
     "text": [
      "100%|██████████| 5000/5000 [02:08<00:00, 38.93it/s]\n"
     ]
    },
    {
     "name": "stdout",
     "output_type": "stream",
     "text": [
      "train_loss:0.46668085316661745, train_acc: 0.836475\n"
     ]
    },
    {
     "name": "stderr",
     "output_type": "stream",
     "text": [
      "100%|██████████| 1250/1250 [00:16<00:00, 74.35it/s]\n"
     ]
    },
    {
     "name": "stdout",
     "output_type": "stream",
     "text": [
      "val_loss:0.9727133320122957, val_acc: 0.7042\n",
      "Epoch 9/20\n"
     ]
    },
    {
     "name": "stderr",
     "output_type": "stream",
     "text": [
      "100%|██████████| 5000/5000 [02:14<00:00, 37.22it/s]\n"
     ]
    },
    {
     "name": "stdout",
     "output_type": "stream",
     "text": [
      "train_loss:0.40310598198021763, train_acc: 0.859075\n"
     ]
    },
    {
     "name": "stderr",
     "output_type": "stream",
     "text": [
      "100%|██████████| 1250/1250 [00:16<00:00, 75.02it/s]\n"
     ]
    },
    {
     "name": "stdout",
     "output_type": "stream",
     "text": [
      "val_loss:1.0612843801558018, val_acc: 0.6872\n",
      "Epoch 10/20\n"
     ]
    },
    {
     "name": "stderr",
     "output_type": "stream",
     "text": [
      "100%|██████████| 5000/5000 [02:31<00:00, 32.94it/s]\n"
     ]
    },
    {
     "name": "stdout",
     "output_type": "stream",
     "text": [
      "train_loss:0.34871114134127273, train_acc: 0.87725\n"
     ]
    },
    {
     "name": "stderr",
     "output_type": "stream",
     "text": [
      "100%|██████████| 1250/1250 [00:27<00:00, 45.46it/s]\n"
     ]
    },
    {
     "name": "stdout",
     "output_type": "stream",
     "text": [
      "val_loss:1.1207977756097913, val_acc: 0.6886\n",
      "Epoch 11/20\n"
     ]
    },
    {
     "name": "stderr",
     "output_type": "stream",
     "text": [
      "100%|██████████| 5000/5000 [02:43<00:00, 30.67it/s]\n"
     ]
    },
    {
     "name": "stdout",
     "output_type": "stream",
     "text": [
      "train_loss:0.21719751578164578, train_acc: 0.927925\n"
     ]
    },
    {
     "name": "stderr",
     "output_type": "stream",
     "text": [
      "100%|██████████| 1250/1250 [00:21<00:00, 58.99it/s]\n"
     ]
    },
    {
     "name": "stdout",
     "output_type": "stream",
     "text": [
      "val_loss:1.1960707105569541, val_acc: 0.7002\n",
      "Epoch 12/20\n"
     ]
    },
    {
     "name": "stderr",
     "output_type": "stream",
     "text": [
      "100%|██████████| 5000/5000 [02:29<00:00, 33.53it/s]\n"
     ]
    },
    {
     "name": "stdout",
     "output_type": "stream",
     "text": [
      "train_loss:0.17249927212976035, train_acc: 0.944875\n"
     ]
    },
    {
     "name": "stderr",
     "output_type": "stream",
     "text": [
      "100%|██████████| 1250/1250 [00:23<00:00, 54.08it/s]\n"
     ]
    },
    {
     "name": "stdout",
     "output_type": "stream",
     "text": [
      "val_loss:1.335640177924186, val_acc: 0.7\n",
      "Epoch 13/20\n"
     ]
    },
    {
     "name": "stderr",
     "output_type": "stream",
     "text": [
      "100%|██████████| 5000/5000 [02:25<00:00, 34.45it/s]\n"
     ]
    },
    {
     "name": "stdout",
     "output_type": "stream",
     "text": [
      "train_loss:0.13608480416923704, train_acc: 0.9582\n"
     ]
    },
    {
     "name": "stderr",
     "output_type": "stream",
     "text": [
      "100%|██████████| 1250/1250 [00:19<00:00, 62.87it/s]\n"
     ]
    },
    {
     "name": "stdout",
     "output_type": "stream",
     "text": [
      "val_loss:1.465663416982442, val_acc: 0.6915\n",
      "Epoch 14/20\n"
     ]
    },
    {
     "name": "stderr",
     "output_type": "stream",
     "text": [
      "100%|██████████| 5000/5000 [02:25<00:00, 34.36it/s]\n"
     ]
    },
    {
     "name": "stdout",
     "output_type": "stream",
     "text": [
      "train_loss:0.10815417145311804, train_acc: 0.968275\n"
     ]
    },
    {
     "name": "stderr",
     "output_type": "stream",
     "text": [
      "100%|██████████| 1250/1250 [00:19<00:00, 65.38it/s]\n"
     ]
    },
    {
     "name": "stdout",
     "output_type": "stream",
     "text": [
      "val_loss:1.598927933447808, val_acc: 0.6911\n",
      "Epoch 15/20\n"
     ]
    },
    {
     "name": "stderr",
     "output_type": "stream",
     "text": [
      "100%|██████████| 5000/5000 [02:28<00:00, 33.61it/s]\n"
     ]
    },
    {
     "name": "stdout",
     "output_type": "stream",
     "text": [
      "train_loss:0.08646666240554222, train_acc: 0.9746\n"
     ]
    },
    {
     "name": "stderr",
     "output_type": "stream",
     "text": [
      "100%|██████████| 1250/1250 [00:17<00:00, 71.20it/s]\n"
     ]
    },
    {
     "name": "stdout",
     "output_type": "stream",
     "text": [
      "val_loss:1.7931744132095948, val_acc: 0.6888\n",
      "Epoch 16/20\n"
     ]
    },
    {
     "name": "stderr",
     "output_type": "stream",
     "text": [
      "  7%|▋         | 356/5000 [00:11<02:25, 31.96it/s]\n"
     ]
    },
    {
     "ename": "KeyboardInterrupt",
     "evalue": "",
     "output_type": "error",
     "traceback": [
      "\u001b[1;31m---------------------------------------------------------------------------\u001b[0m",
      "\u001b[1;31mKeyboardInterrupt\u001b[0m                         Traceback (most recent call last)",
      "Cell \u001b[1;32mIn[43], line 2\u001b[0m\n\u001b[0;32m      1\u001b[0m my_net \u001b[39m=\u001b[39m Net_wrapper(model\u001b[39m=\u001b[39mCNN_3_class, max_epochs\u001b[39m=\u001b[39m\u001b[39m20\u001b[39m, learning_rate\u001b[39m=\u001b[39m\u001b[39m0.0005\u001b[39m, batch_size\u001b[39m=\u001b[39m\u001b[39m8\u001b[39m, verbose\u001b[39m=\u001b[39m\u001b[39m1\u001b[39m)\n\u001b[1;32m----> 2\u001b[0m my_net\u001b[39m.\u001b[39;49mscore(train_dataset, val_dataset)\n",
      "Cell \u001b[1;32mIn[42], line 49\u001b[0m, in \u001b[0;36mNet_wrapper.score\u001b[1;34m(self, train_dataset, val_dataset)\u001b[0m\n\u001b[0;32m     47\u001b[0m train_accuracies \u001b[39m=\u001b[39m []\n\u001b[0;32m     48\u001b[0m train_losses \u001b[39m=\u001b[39m []\n\u001b[1;32m---> 49\u001b[0m \u001b[39mfor\u001b[39;00m data \u001b[39min\u001b[39;00m tqdm(train_loader):\n\u001b[0;32m     50\u001b[0m     results \u001b[39m=\u001b[39m model\u001b[39m.\u001b[39mtrain_step(data, optimizer, \u001b[39mself\u001b[39m\u001b[39m.\u001b[39mcriterion())\n\u001b[0;32m     51\u001b[0m     train_accuracies\u001b[39m.\u001b[39mappend(results[\u001b[39m'\u001b[39m\u001b[39maccuracy\u001b[39m\u001b[39m'\u001b[39m]\u001b[39m.\u001b[39mitem())\n",
      "File \u001b[1;32mc:\\Users\\jan20\\PycharmProjects\\PytorchProjects\\venv\\lib\\site-packages\\tqdm\\std.py:1178\u001b[0m, in \u001b[0;36mtqdm.__iter__\u001b[1;34m(self)\u001b[0m\n\u001b[0;32m   1175\u001b[0m time \u001b[39m=\u001b[39m \u001b[39mself\u001b[39m\u001b[39m.\u001b[39m_time\n\u001b[0;32m   1177\u001b[0m \u001b[39mtry\u001b[39;00m:\n\u001b[1;32m-> 1178\u001b[0m     \u001b[39mfor\u001b[39;00m obj \u001b[39min\u001b[39;00m iterable:\n\u001b[0;32m   1179\u001b[0m         \u001b[39myield\u001b[39;00m obj\n\u001b[0;32m   1180\u001b[0m         \u001b[39m# Update and possibly print the progressbar.\u001b[39;00m\n\u001b[0;32m   1181\u001b[0m         \u001b[39m# Note: does not call self.update(1) for speed optimisation.\u001b[39;00m\n",
      "File \u001b[1;32mc:\\Users\\jan20\\PycharmProjects\\PytorchProjects\\venv\\lib\\site-packages\\torch\\utils\\data\\dataloader.py:628\u001b[0m, in \u001b[0;36m_BaseDataLoaderIter.__next__\u001b[1;34m(self)\u001b[0m\n\u001b[0;32m    625\u001b[0m \u001b[39mif\u001b[39;00m \u001b[39mself\u001b[39m\u001b[39m.\u001b[39m_sampler_iter \u001b[39mis\u001b[39;00m \u001b[39mNone\u001b[39;00m:\n\u001b[0;32m    626\u001b[0m     \u001b[39m# TODO(https://github.com/pytorch/pytorch/issues/76750)\u001b[39;00m\n\u001b[0;32m    627\u001b[0m     \u001b[39mself\u001b[39m\u001b[39m.\u001b[39m_reset()  \u001b[39m# type: ignore[call-arg]\u001b[39;00m\n\u001b[1;32m--> 628\u001b[0m data \u001b[39m=\u001b[39m \u001b[39mself\u001b[39;49m\u001b[39m.\u001b[39;49m_next_data()\n\u001b[0;32m    629\u001b[0m \u001b[39mself\u001b[39m\u001b[39m.\u001b[39m_num_yielded \u001b[39m+\u001b[39m\u001b[39m=\u001b[39m \u001b[39m1\u001b[39m\n\u001b[0;32m    630\u001b[0m \u001b[39mif\u001b[39;00m \u001b[39mself\u001b[39m\u001b[39m.\u001b[39m_dataset_kind \u001b[39m==\u001b[39m _DatasetKind\u001b[39m.\u001b[39mIterable \u001b[39mand\u001b[39;00m \\\n\u001b[0;32m    631\u001b[0m         \u001b[39mself\u001b[39m\u001b[39m.\u001b[39m_IterableDataset_len_called \u001b[39mis\u001b[39;00m \u001b[39mnot\u001b[39;00m \u001b[39mNone\u001b[39;00m \u001b[39mand\u001b[39;00m \\\n\u001b[0;32m    632\u001b[0m         \u001b[39mself\u001b[39m\u001b[39m.\u001b[39m_num_yielded \u001b[39m>\u001b[39m \u001b[39mself\u001b[39m\u001b[39m.\u001b[39m_IterableDataset_len_called:\n",
      "File \u001b[1;32mc:\\Users\\jan20\\PycharmProjects\\PytorchProjects\\venv\\lib\\site-packages\\torch\\utils\\data\\dataloader.py:671\u001b[0m, in \u001b[0;36m_SingleProcessDataLoaderIter._next_data\u001b[1;34m(self)\u001b[0m\n\u001b[0;32m    669\u001b[0m \u001b[39mdef\u001b[39;00m \u001b[39m_next_data\u001b[39m(\u001b[39mself\u001b[39m):\n\u001b[0;32m    670\u001b[0m     index \u001b[39m=\u001b[39m \u001b[39mself\u001b[39m\u001b[39m.\u001b[39m_next_index()  \u001b[39m# may raise StopIteration\u001b[39;00m\n\u001b[1;32m--> 671\u001b[0m     data \u001b[39m=\u001b[39m \u001b[39mself\u001b[39;49m\u001b[39m.\u001b[39;49m_dataset_fetcher\u001b[39m.\u001b[39;49mfetch(index)  \u001b[39m# may raise StopIteration\u001b[39;00m\n\u001b[0;32m    672\u001b[0m     \u001b[39mif\u001b[39;00m \u001b[39mself\u001b[39m\u001b[39m.\u001b[39m_pin_memory:\n\u001b[0;32m    673\u001b[0m         data \u001b[39m=\u001b[39m _utils\u001b[39m.\u001b[39mpin_memory\u001b[39m.\u001b[39mpin_memory(data, \u001b[39mself\u001b[39m\u001b[39m.\u001b[39m_pin_memory_device)\n",
      "File \u001b[1;32mc:\\Users\\jan20\\PycharmProjects\\PytorchProjects\\venv\\lib\\site-packages\\torch\\utils\\data\\_utils\\fetch.py:58\u001b[0m, in \u001b[0;36m_MapDatasetFetcher.fetch\u001b[1;34m(self, possibly_batched_index)\u001b[0m\n\u001b[0;32m     56\u001b[0m         data \u001b[39m=\u001b[39m \u001b[39mself\u001b[39m\u001b[39m.\u001b[39mdataset\u001b[39m.\u001b[39m__getitems__(possibly_batched_index)\n\u001b[0;32m     57\u001b[0m     \u001b[39melse\u001b[39;00m:\n\u001b[1;32m---> 58\u001b[0m         data \u001b[39m=\u001b[39m [\u001b[39mself\u001b[39m\u001b[39m.\u001b[39mdataset[idx] \u001b[39mfor\u001b[39;00m idx \u001b[39min\u001b[39;00m possibly_batched_index]\n\u001b[0;32m     59\u001b[0m \u001b[39melse\u001b[39;00m:\n\u001b[0;32m     60\u001b[0m     data \u001b[39m=\u001b[39m \u001b[39mself\u001b[39m\u001b[39m.\u001b[39mdataset[possibly_batched_index]\n",
      "File \u001b[1;32mc:\\Users\\jan20\\PycharmProjects\\PytorchProjects\\venv\\lib\\site-packages\\torch\\utils\\data\\_utils\\fetch.py:58\u001b[0m, in \u001b[0;36m<listcomp>\u001b[1;34m(.0)\u001b[0m\n\u001b[0;32m     56\u001b[0m         data \u001b[39m=\u001b[39m \u001b[39mself\u001b[39m\u001b[39m.\u001b[39mdataset\u001b[39m.\u001b[39m__getitems__(possibly_batched_index)\n\u001b[0;32m     57\u001b[0m     \u001b[39melse\u001b[39;00m:\n\u001b[1;32m---> 58\u001b[0m         data \u001b[39m=\u001b[39m [\u001b[39mself\u001b[39;49m\u001b[39m.\u001b[39;49mdataset[idx] \u001b[39mfor\u001b[39;00m idx \u001b[39min\u001b[39;00m possibly_batched_index]\n\u001b[0;32m     59\u001b[0m \u001b[39melse\u001b[39;00m:\n\u001b[0;32m     60\u001b[0m     data \u001b[39m=\u001b[39m \u001b[39mself\u001b[39m\u001b[39m.\u001b[39mdataset[possibly_batched_index]\n",
      "File \u001b[1;32mc:\\Users\\jan20\\OneDrive\\Pulpit\\DS\\sem2\\Deep_learning\\Deep_Learning\\datasets.py:62\u001b[0m, in \u001b[0;36mCifarDataset.__getitem__\u001b[1;34m(self, index)\u001b[0m\n\u001b[0;32m     59\u001b[0m label \u001b[39m=\u001b[39m \u001b[39mself\u001b[39m\u001b[39m.\u001b[39mclass_dict[\u001b[39mself\u001b[39m\u001b[39m.\u001b[39mlabels\u001b[39m.\u001b[39miloc[index, \u001b[39m1\u001b[39m]]\n\u001b[0;32m     61\u001b[0m \u001b[39mif\u001b[39;00m \u001b[39mself\u001b[39m\u001b[39m.\u001b[39mtransform \u001b[39mis\u001b[39;00m \u001b[39mnot\u001b[39;00m \u001b[39mNone\u001b[39;00m:\n\u001b[1;32m---> 62\u001b[0m     img \u001b[39m=\u001b[39m \u001b[39mself\u001b[39;49m\u001b[39m.\u001b[39;49mtransform(img)\n\u001b[0;32m     64\u001b[0m \u001b[39mreturn\u001b[39;00m (img, label)\n",
      "File \u001b[1;32mc:\\Users\\jan20\\PycharmProjects\\PytorchProjects\\venv\\lib\\site-packages\\torchvision\\transforms\\transforms.py:95\u001b[0m, in \u001b[0;36mCompose.__call__\u001b[1;34m(self, img)\u001b[0m\n\u001b[0;32m     93\u001b[0m \u001b[39mdef\u001b[39;00m \u001b[39m__call__\u001b[39m(\u001b[39mself\u001b[39m, img):\n\u001b[0;32m     94\u001b[0m     \u001b[39mfor\u001b[39;00m t \u001b[39min\u001b[39;00m \u001b[39mself\u001b[39m\u001b[39m.\u001b[39mtransforms:\n\u001b[1;32m---> 95\u001b[0m         img \u001b[39m=\u001b[39m t(img)\n\u001b[0;32m     96\u001b[0m     \u001b[39mreturn\u001b[39;00m img\n",
      "File \u001b[1;32mc:\\Users\\jan20\\PycharmProjects\\PytorchProjects\\venv\\lib\\site-packages\\torchvision\\transforms\\transforms.py:135\u001b[0m, in \u001b[0;36mToTensor.__call__\u001b[1;34m(self, pic)\u001b[0m\n\u001b[0;32m    127\u001b[0m \u001b[39mdef\u001b[39;00m \u001b[39m__call__\u001b[39m(\u001b[39mself\u001b[39m, pic):\n\u001b[0;32m    128\u001b[0m \u001b[39m    \u001b[39m\u001b[39m\"\"\"\u001b[39;00m\n\u001b[0;32m    129\u001b[0m \u001b[39m    Args:\u001b[39;00m\n\u001b[0;32m    130\u001b[0m \u001b[39m        pic (PIL Image or numpy.ndarray): Image to be converted to tensor.\u001b[39;00m\n\u001b[1;32m   (...)\u001b[0m\n\u001b[0;32m    133\u001b[0m \u001b[39m        Tensor: Converted image.\u001b[39;00m\n\u001b[0;32m    134\u001b[0m \u001b[39m    \"\"\"\u001b[39;00m\n\u001b[1;32m--> 135\u001b[0m     \u001b[39mreturn\u001b[39;00m F\u001b[39m.\u001b[39;49mto_tensor(pic)\n",
      "File \u001b[1;32mc:\\Users\\jan20\\PycharmProjects\\PytorchProjects\\venv\\lib\\site-packages\\torchvision\\transforms\\functional.py:167\u001b[0m, in \u001b[0;36mto_tensor\u001b[1;34m(pic)\u001b[0m\n\u001b[0;32m    165\u001b[0m \u001b[39mif\u001b[39;00m pic\u001b[39m.\u001b[39mmode \u001b[39m==\u001b[39m \u001b[39m\"\u001b[39m\u001b[39m1\u001b[39m\u001b[39m\"\u001b[39m:\n\u001b[0;32m    166\u001b[0m     img \u001b[39m=\u001b[39m \u001b[39m255\u001b[39m \u001b[39m*\u001b[39m img\n\u001b[1;32m--> 167\u001b[0m img \u001b[39m=\u001b[39m img\u001b[39m.\u001b[39;49mview(pic\u001b[39m.\u001b[39;49msize[\u001b[39m1\u001b[39;49m], pic\u001b[39m.\u001b[39;49msize[\u001b[39m0\u001b[39;49m], \u001b[39mlen\u001b[39;49m(pic\u001b[39m.\u001b[39;49mgetbands()))\n\u001b[0;32m    168\u001b[0m \u001b[39m# put it from HWC to CHW format\u001b[39;00m\n\u001b[0;32m    169\u001b[0m img \u001b[39m=\u001b[39m img\u001b[39m.\u001b[39mpermute((\u001b[39m2\u001b[39m, \u001b[39m0\u001b[39m, \u001b[39m1\u001b[39m))\u001b[39m.\u001b[39mcontiguous()\n",
      "\u001b[1;31mKeyboardInterrupt\u001b[0m: "
     ]
    }
   ],
   "source": [
    "my_net = Net_wrapper(model=CNN_3_class, max_epochs=20, learning_rate=0.0005, batch_size=8, verbose=1)\n",
    "my_net.score(train_dataset, val_dataset)"
   ]
  },
  {
   "cell_type": "code",
   "execution_count": 9,
   "metadata": {},
   "outputs": [
    {
     "data": {
      "text/plain": [
       "<matplotlib.legend.Legend at 0x29fec406b00>"
      ]
     },
     "execution_count": 9,
     "metadata": {},
     "output_type": "execute_result"
    },
    {
     "data": {
      "image/png": "[encoded data removed]",
      "text/plain": [
       "<Figure size 640x480 with 1 Axes>"
      ]
     },
     "metadata": {},
     "output_type": "display_data"
    }
   ],
   "source": [
    "train = [0.574, 0.6371, 0.69, 0.73, 0.76, 0.7869, 0.8111, 0.8364, 0.859, 0.877, 0.927, 0.945, 0.958, 0.968, 0.975 ]\n",
    "val = [0.6056, 0.6527, 0.67, 0.6923, 0.6964, 0.6984, 0.7, 0.7042, 0.6872, 0.6886, 0.7002, 0.7, 0.6915, 0.6911, 0.6888]\n",
    "\n",
    "plt.plot(list(range(1, 16)), train, color='blue', label='train')\n",
    "plt.plot(list(range(1, 16)), val, color='orange', label='valid')\n",
    "plt.title(\"Train and validation accuracies\")\n",
    "plt.ylabel(\"accuracy\")\n",
    "plt.xlabel(\"no epochs\")\n",
    "plt.ylim((0.3, 1))\n",
    "plt.legend()"
   ]
  },
  {
   "attachments": {},
   "cell_type": "markdown",
   "metadata": {},
   "source": [
    "4. Regularization, dropout "
   ]
  }
 ],
 "metadata": {
  "kernelspec": {
   "display_name": "venv",
   "language": "python",
   "name": "python3"
  },
  "language_info": {
   "codemirror_mode": {
    "name": "ipython",
    "version": 3
   },
   "file_extension": ".py",
   "mimetype": "text/x-python",
   "name": "python",
   "nbconvert_exporter": "python",
   "pygments_lexer": "ipython3",
   "version": "3.10.8"
  },
  "orig_nbformat": 4
 },
 "nbformat": 4,
 "nbformat_minor": 2
}
