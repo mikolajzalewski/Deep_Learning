{
 "cells": [
  {
   "cell_type": "code",
   "execution_count": 1,
   "metadata": {},
   "outputs": [
    {
     "name": "stderr",
     "output_type": "stream",
     "text": [
      "c:\\Users\\mikol\\AppData\\Local\\Programs\\Python\\Python310\\lib\\site-packages\\tqdm\\auto.py:22: TqdmWarning: IProgress not found. Please update jupyter and ipywidgets. See https://ipywidgets.readthedocs.io/en/stable/user_install.html\n",
      "  from .autonotebook import tqdm as notebook_tqdm\n"
     ]
    }
   ],
   "source": [
    "# LSTM\n",
    "import pandas as pd\n",
    "import numpy as np\n",
    "from dataset import LABELS\n",
    "from sklearn.preprocessing import LabelEncoder\n",
    "import random\n"
   ]
  },
  {
   "cell_type": "code",
   "execution_count": 2,
   "metadata": {},
   "outputs": [],
   "source": [
    "from dataset import silence_detection_training, silence_detection_validation, silence_detection_full"
   ]
  },
  {
   "cell_type": "code",
   "execution_count": 3,
   "metadata": {},
   "outputs": [],
   "source": [
    "from models import Lstm"
   ]
  },
  {
   "cell_type": "code",
   "execution_count": 61,
   "metadata": {},
   "outputs": [],
   "source": [
    "model = Lstm(lstm_units=64, dropout_rate=0.2, epoch=4, batch_size=32, learning_rate=0.001, input_shape=(39,44), num_classes=2, model_path='models\\\\lstm_silence.h5')"
   ]
  },
  {
   "cell_type": "code",
   "execution_count": 82,
   "metadata": {},
   "outputs": [
    {
     "name": "stdout",
     "output_type": "stream",
     "text": [
      "Epoch 1/4\n",
      "435/435 [==============================] - ETA: 0s - loss: 0.0702 - accuracy: 0.9887\n",
      "Epoch 1: accuracy improved from -inf to 0.98872, saving model to models\\lstm_silence.h5\n",
      "435/435 [==============================] - 98s 225ms/step - loss: 0.0702 - accuracy: 0.9887\n",
      "Epoch 2/4\n",
      "435/435 [==============================] - ETA: 0s - loss: 0.0198 - accuracy: 0.9966\n",
      "Epoch 2: accuracy improved from 0.98872 to 0.99655, saving model to models\\lstm_silence.h5\n",
      "435/435 [==============================] - 65s 149ms/step - loss: 0.0198 - accuracy: 0.9966\n",
      "Epoch 3/4\n",
      "435/435 [==============================] - ETA: 0s - loss: 0.0143 - accuracy: 0.9974\n",
      "Epoch 3: accuracy improved from 0.99655 to 0.99741, saving model to models\\lstm_silence.h5\n",
      "435/435 [==============================] - 69s 159ms/step - loss: 0.0143 - accuracy: 0.9974\n",
      "Epoch 4/4\n",
      "435/435 [==============================] - ETA: 0s - loss: 0.0128 - accuracy: 0.9973\n",
      "Epoch 4: accuracy did not improve from 0.99741\n",
      "435/435 [==============================] - 76s 175ms/step - loss: 0.0128 - accuracy: 0.9973\n"
     ]
    }
   ],
   "source": [
    "model.train(silence_detection_full)"
   ]
  },
  {
   "cell_type": "code",
   "execution_count": 60,
   "metadata": {},
   "outputs": [
    {
     "name": "stdout",
     "output_type": "stream",
     "text": [
      "688/688 [==============================] - 25s 32ms/step\n"
     ]
    },
    {
     "data": {
      "text/plain": [
       "array([23,  1,  1, ..., 23,  1,  1], dtype=int64)"
      ]
     },
     "execution_count": 60,
     "metadata": {},
     "output_type": "execute_result"
    }
   ],
   "source": [
    "model.predict(silence_detection_validation)"
   ]
  },
  {
   "cell_type": "code",
   "execution_count": null,
   "metadata": {},
   "outputs": [],
   "source": [
    "from dataset import TensorflowDataset"
   ]
  },
  {
   "cell_type": "code",
   "execution_count": 17,
   "metadata": {},
   "outputs": [],
   "source": [
    "# LSTM\n",
    "import pandas as pd\n",
    "import numpy as np\n",
    "from dataset import LABELS\n",
    "from sklearn.preprocessing import LabelEncoder\n",
    "import random\n"
   ]
  },
  {
   "cell_type": "code",
   "execution_count": 18,
   "metadata": {},
   "outputs": [
    {
     "data": {
      "text/plain": [
       "62923"
      ]
     },
     "execution_count": 18,
     "metadata": {},
     "output_type": "execute_result"
    }
   ],
   "source": [
    "len(train)"
   ]
  },
  {
   "cell_type": "code",
   "execution_count": 19,
   "metadata": {},
   "outputs": [
    {
     "data": {
      "text/plain": [
       "6879"
      ]
     },
     "execution_count": 19,
     "metadata": {},
     "output_type": "execute_result"
    }
   ],
   "source": [
    "len(val)"
   ]
  },
  {
   "cell_type": "code",
   "execution_count": 29,
   "metadata": {},
   "outputs": [],
   "source": [
    "from sklearn.utils import resample\n",
    "train = pd.read_pickle('extracted_features\\\\silence_detection_training.pkl')\n",
    "val = pd.read_pickle('extracted_features\\\\silence_detection_validation.pkl')\n",
    "\n",
    "# Separate 'silence' and 'non-silence' observations\n",
    "train_silence = [x for x in train if x[1] == 'silence']\n",
    "train_non_silence = [x for x in train if x[1] != 'silence']\n",
    "\n",
    "# Resample 'silence' observations to match the number of 'non-silence' observations\n",
    "train_silence_resampled = resample(train_silence, replace=True, n_samples=len(train_non_silence))\n",
    "\n",
    "# Combine resampled 'silence' and 'non-silence' observations into the final training set\n",
    "train_final = train_non_silence + train_silence_resampled\n",
    "\n",
    "# Change all 'non-silence' labels greater than 'silence' to 'non-silence'\n",
    "for i in range(len(train_final)):\n",
    "    if train_final[i][1] != 'silence':\n",
    "        train_final[i][1] = 'non-silence'\n",
    "\n",
    "for i in range(len(val)):\n",
    "    if val[i][1] != 'silence':\n",
    "        val[i][1] = 'non-silence'\n",
    "\n",
    "# randomly sort the training set\n",
    "random.shuffle(train_final)\n"
   ]
  },
  {
   "cell_type": "code",
   "execution_count": 30,
   "metadata": {},
   "outputs": [],
   "source": [
    "X_train = np.array([x[0] for x in train_final])\n",
    "y_train = np.array([x[1] for x in train_final])\n",
    "X_val = np.array([x[0] for x in val])\n",
    "y_val = np.array([x[1] for x in val])"
   ]
  },
  {
   "cell_type": "code",
   "execution_count": 31,
   "metadata": {},
   "outputs": [],
   "source": [
    "\n",
    "\n",
    "# Create a label encoder object\n",
    "label_encoder = LabelEncoder()\n",
    "\n",
    "# Fit the label encoder using your labels (combine both train and val labels if they have different classes)\n",
    "label_encoder.fit(np.concatenate((y_train, y_val)))\n",
    "\n",
    "# Transform your string labels to integer labels for both training and validation sets\n",
    "y_train_encoded = label_encoder.transform(y_train)\n",
    "y_val_encoded = label_encoder.transform(y_val)"
   ]
  },
  {
   "cell_type": "code",
   "execution_count": 32,
   "metadata": {},
   "outputs": [
    {
     "data": {
      "text/plain": [
       "57923"
      ]
     },
     "execution_count": 32,
     "metadata": {},
     "output_type": "execute_result"
    }
   ],
   "source": [
    "(y_train!='silence').sum()"
   ]
  },
  {
   "cell_type": "code",
   "execution_count": 33,
   "metadata": {},
   "outputs": [
    {
     "data": {
      "text/plain": [
       "57923"
      ]
     },
     "execution_count": 33,
     "metadata": {},
     "output_type": "execute_result"
    }
   ],
   "source": [
    "(y_train=='silence').sum()"
   ]
  },
  {
   "cell_type": "code",
   "execution_count": 27,
   "metadata": {},
   "outputs": [],
   "source": [
    "from dataset import silence_detection_validation"
   ]
  },
  {
   "cell_type": "code",
   "execution_count": 28,
   "metadata": {},
   "outputs": [
    {
     "data": {
      "text/plain": [
       "<ShuffleDataset element_spec=(TensorSpec(shape=(39, 44), dtype=tf.float32, name=None), TensorSpec(shape=(), dtype=tf.int32, name=None))>"
      ]
     },
     "execution_count": 28,
     "metadata": {},
     "output_type": "execute_result"
    }
   ],
   "source": [
    "silence_detection_validation"
   ]
  },
  {
   "cell_type": "code",
   "execution_count": 37,
   "metadata": {},
   "outputs": [
    {
     "data": {
      "text/plain": [
       "2"
      ]
     },
     "execution_count": 37,
     "metadata": {},
     "output_type": "execute_result"
    }
   ],
   "source": [
    "len(np.unique(y_train_encoded))"
   ]
  },
  {
   "cell_type": "code",
   "execution_count": 38,
   "metadata": {},
   "outputs": [
    {
     "name": "stdout",
     "output_type": "stream",
     "text": [
      "Epoch 1/4\n",
      "3621/3621 [==============================] - 309s 77ms/step - loss: 0.0224 - accuracy: 0.9942 - val_loss: 0.0151 - val_accuracy: 0.9956\n",
      "Epoch 2/4\n",
      "3621/3621 [==============================] - 229s 63ms/step - loss: 0.0111 - accuracy: 0.9974 - val_loss: 0.0099 - val_accuracy: 0.9980\n",
      "Epoch 3/4\n",
      "3621/3621 [==============================] - 226s 62ms/step - loss: 0.0070 - accuracy: 0.9983 - val_loss: 0.0131 - val_accuracy: 0.9983\n",
      "Epoch 4/4\n",
      "3621/3621 [==============================] - 221s 61ms/step - loss: 0.0055 - accuracy: 0.9987 - val_loss: 0.0110 - val_accuracy: 0.9974\n"
     ]
    }
   ],
   "source": [
    "import numpy as np\n",
    "import tensorflow as tf\n",
    "from tensorflow.keras.models import Sequential\n",
    "from tensorflow.keras.layers import LSTM, Dense, Embedding, Dropout\n",
    "from tensorflow.keras.layers import LSTM, Dropout, Dense, Bidirectional, TimeDistributed, BatchNormalization\n",
    "\n",
    "results = pd.DataFrame(columns=['lstm_units', 'dropout_rate', 'epoch', 'batch', 'loss', 'loss_max', 'accuracy', 'accuracy_max', 'val_loss', 'val_loss_max', 'val_accuracy', 'val_accuracy_max'])\n",
    "\n",
    "# Set your model's hyperparameters\n",
    "for lstm_units in [64]:\n",
    "    for dropout_rate in [0.2]:\n",
    "            for epoch in [4]:\n",
    "                  for batch in [32]:\n",
    "\n",
    "                        num_classes = len(np.unique(y_train_encoded))  # Number of unique classes in your dataset\n",
    "\n",
    "                        input_shape = (39, 44)\n",
    "\n",
    "                        model = Sequential([\n",
    "                            Bidirectional(LSTM(lstm_units, return_sequences=True), input_shape=input_shape),\n",
    "                            BatchNormalization(),\n",
    "                            Dropout(dropout_rate),\n",
    "                            Bidirectional(LSTM(lstm_units, return_sequences=True)),\n",
    "                            BatchNormalization(),\n",
    "                            Dropout(dropout_rate),\n",
    "                            LSTM(lstm_units, return_sequences=True),\n",
    "                            BatchNormalization(),\n",
    "                            Dropout(dropout_rate),\n",
    "                            TimeDistributed(Dense(64, activation='relu')),\n",
    "                            BatchNormalization(),\n",
    "                            Dropout(dropout_rate),\n",
    "                            TimeDistributed(Dense(32, activation='relu')),\n",
    "                            BatchNormalization(),\n",
    "                            Dropout(dropout_rate),\n",
    "                            LSTM(lstm_units),\n",
    "                            BatchNormalization(),\n",
    "                            Dropout(dropout_rate),\n",
    "                            Dense(num_classes, activation='softmax')\n",
    "                        ])\n",
    "\n",
    "\n",
    "                        # Compile the model\n",
    "                        model.compile(optimizer='adam', loss='sparse_categorical_crossentropy', metrics=['accuracy'])\n",
    "\n",
    "                        # Train the model with your training set and validate it with your validation set\n",
    "                        epochs = epoch\n",
    "                        batch_size = batch\n",
    "                        history = model.fit(X_train, y_train_encoded, epochs=epochs, batch_size=batch_size, validation_data=(X_val, y_val_encoded))\n",
    "\n",
    "                        results = np.concatenate((results, pd.DataFrame([[lstm_units, dropout_rate, epoch, batch, history.history['loss'][-1], history.history['loss'], history.history['accuracy'][-1], history.history['accuracy'], history.history['val_loss'][-1], history.history['val_loss'], history.history['val_accuracy'][-1], history.history['val_accuracy']]], \n",
    "                                                                        columns=['lstm_units', 'dropout_rate', 'epoch', 'batch', 'loss', 'loss_max', 'accuracy', 'accuracy_max', 'val_loss', 'val_loss_max', 'val_accuracy', 'val_accuracy_max'])), axis=0)\n"
   ]
  },
  {
   "cell_type": "code",
   "execution_count": 39,
   "metadata": {},
   "outputs": [],
   "source": [
    "# save model \n",
    "model.save('models\\\\lstm_silence_model.h5')"
   ]
  },
  {
   "cell_type": "code",
   "execution_count": 40,
   "metadata": {},
   "outputs": [],
   "source": [
    "# upload model from models\\\\\n",
    "from tensorflow.keras.models import load_model\n",
    "model = load_model('models\\\\lstm_silence_model.h5')"
   ]
  },
  {
   "cell_type": "code",
   "execution_count": 41,
   "metadata": {},
   "outputs": [
    {
     "data": {
      "text/plain": [
       "<keras.engine.sequential.Sequential at 0x1da9ccbd2d0>"
      ]
     },
     "execution_count": 41,
     "metadata": {},
     "output_type": "execute_result"
    }
   ],
   "source": [
    "model"
   ]
  },
  {
   "cell_type": "code",
   "execution_count": null,
   "metadata": {},
   "outputs": [],
   "source": []
  }
 ],
 "metadata": {
  "kernelspec": {
   "display_name": "Python 3",
   "language": "python",
   "name": "python3"
  },
  "language_info": {
   "codemirror_mode": {
    "name": "ipython",
    "version": 3
   },
   "file_extension": ".py",
   "mimetype": "text/x-python",
   "name": "python",
   "nbconvert_exporter": "python",
   "pygments_lexer": "ipython3",
   "version": "3.10.8"
  },
  "orig_nbformat": 4
 },
 "nbformat": 4,
 "nbformat_minor": 2
}
