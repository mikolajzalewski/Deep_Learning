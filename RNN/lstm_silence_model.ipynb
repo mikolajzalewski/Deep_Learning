{
 "cells": [
  {
   "cell_type": "code",
   "execution_count": 4,
   "metadata": {},
   "outputs": [],
   "source": [
    "import pandas as pd\n",
    "import numpy as np\n",
    "from dataset import LABELS, silence_detection_training, silence_detection_validation, silence_detection_full, TensorflowDataset\n",
    "from models import Lstm\n",
    "from sklearn.preprocessing import LabelEncoder\n",
    "import random\n",
    "from sklearn.utils import resample\n",
    "import tensorflow as tf\n"
   ]
  },
  {
   "cell_type": "code",
   "execution_count": 61,
   "metadata": {},
   "outputs": [],
   "source": [
    "model = Lstm(lstm_units=64, dropout_rate=0.2, epoch=4, batch_size=32, learning_rate=0.001, input_shape=(39,44), num_classes=2, model_path='models\\\\lstm_silence.h5')\n",
    "model.train(silence_detection_full)"
   ]
  },
  {
   "cell_type": "code",
   "execution_count": 5,
   "metadata": {},
   "outputs": [],
   "source": [
    "train = pd.read_pickle('extracted_features\\\\silence_detection_training.pkl')\n",
    "val = pd.read_pickle('extracted_features\\\\silence_detection_validation.pkl')\n",
    "\n",
    "# Separate 'silence' and 'non-silence' observations\n",
    "train_silence = [x for x in train if x[1] == 'silence']\n",
    "train_non_silence = [x for x in train if x[1] != 'silence']\n",
    "\n",
    "# Resample 'silence' observations to match the number of 'non-silence' observations\n",
    "train_silence_resampled = resample(train_silence, replace=True, n_samples=len(train_non_silence))\n",
    "\n",
    "# Combine resampled 'silence' and 'non-silence' observations into the final training set\n",
    "train_final = train_non_silence + train_silence_resampled\n",
    "\n",
    "# Change all 'non-silence' labels greater than 'silence' to 'non-silence'\n",
    "for i in range(len(train_final)):\n",
    "    if train_final[i][1] != 'silence':\n",
    "        train_final[i][1] = 'non-silence'\n",
    "\n",
    "for i in range(len(val)):\n",
    "    if val[i][1] != 'silence':\n",
    "        val[i][1] = 'non-silence'\n",
    "\n",
    "# randomly sort the training set\n",
    "random.shuffle(train_final)\n"
   ]
  },
  {
   "cell_type": "code",
   "execution_count": 6,
   "metadata": {},
   "outputs": [],
   "source": [
    "X_train = np.array([x[0] for x in train_final])\n",
    "y_train = np.array([x[1] for x in train_final])\n",
    "X_val = np.array([x[0] for x in val])\n",
    "y_val = np.array([x[1] for x in val])"
   ]
  },
  {
   "cell_type": "code",
   "execution_count": 12,
   "metadata": {},
   "outputs": [
    {
     "name": "stdout",
     "output_type": "stream",
     "text": [
      "non-silence observations: 6835\n",
      "silence observations: 6835\n"
     ]
    }
   ],
   "source": [
    "print('non-silence observations:', (y_train!='silence').sum())\n",
    "print('silence observations:', (y_train=='silence').sum())"
   ]
  },
  {
   "cell_type": "code",
   "execution_count": null,
   "metadata": {},
   "outputs": [],
   "source": [
    "training = tf.data.Dataset.from_tensor_slices((X_train, y_train))\n",
    "validation = tf.data.Dataset.from_tensor_slices((X_val, y_val))"
   ]
  },
  {
   "cell_type": "code",
   "execution_count": null,
   "metadata": {},
   "outputs": [],
   "source": [
    "results = pd.DataFrame(columns=['lstm_units', 'dropout_rate', 'epoch', 'batch', 'loss', 'loss_max', 'accuracy', 'accuracy_max', 'val_loss', 'val_loss_max', 'val_accuracy', 'val_accuracy_max'])\n",
    "\n",
    "# Set your model's hyperparameters\n",
    "for lstm_units in [64]:\n",
    "    for dropout_rate in [0.2]:\n",
    "            for epoch in [4]:\n",
    "                  for batch in [32]:\n",
    "\n",
    "                        num_classes = len(np.unique(y_train))  # Number of unique classes in your dataset\n",
    "\n",
    "                        input_shape = (39, 44)\n",
    "\n",
    "                        model = Lstm(lstm_units=lstm_units, dropout_rate=0.1, learning_rate=lr, num_classes=10, batch_size=batch, epoch=epoch)\n",
    "                        model.train(training, validation)\n",
    "                        results = np.concatenate((results, pd.DataFrame([[lstm_units,dropout_rate, epoch, batch, model.history.history['loss'][-1], model.history.history['accuracy'][-1], model.history.history['val_loss'][-1], model.history.history['val_accuracy'][-1]]], \n",
    "                                                                        columns=['lstm_units', 'dropout_rate', 'learning_rate', 'epoch', 'batch', 'loss_max','accuracy_max','val_loss_max', 'val_accuracy_max'])))\n"
   ]
  },
  {
   "cell_type": "code",
   "execution_count": 39,
   "metadata": {},
   "outputs": [],
   "source": [
    "# save model \n",
    "model.save('models\\\\lstm_silence_model.h5')"
   ]
  }
 ],
 "metadata": {
  "kernelspec": {
   "display_name": "Python 3",
   "language": "python",
   "name": "python3"
  },
  "language_info": {
   "codemirror_mode": {
    "name": "ipython",
    "version": 3
   },
   "file_extension": ".py",
   "mimetype": "text/x-python",
   "name": "python",
   "nbconvert_exporter": "python",
   "pygments_lexer": "ipython3",
   "version": "3.10.7"
  },
  "orig_nbformat": 4
 },
 "nbformat": 4,
 "nbformat_minor": 2
}
