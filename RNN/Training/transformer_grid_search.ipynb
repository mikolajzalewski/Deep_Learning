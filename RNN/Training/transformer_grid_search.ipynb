{
 "cells": [
  {
   "cell_type": "code",
   "execution_count": 1,
   "metadata": {},
   "outputs": [],
   "source": [
    "import sys\n",
    "sys.path.insert(0, '..')  \n",
    "import pandas as pd\n",
    "import numpy as np\n",
    "from dataset import LABELS, labels_only_detection_training, labels_only_detection_validation, labels_only_detection_full\n",
    "from models import Transformer"
   ]
  },
  {
   "cell_type": "code",
   "execution_count": null,
   "metadata": {},
   "outputs": [],
   "source": [
    "res = pd.DataFrame(columns=['num_heads', 'dropout_rate', 'learning_rate', 'epoch', 'batch', 'num_layer', 'loss_max','accuracy_max','val_loss_max', 'val_accuracy_max'])\n",
    "\n",
    "for num_heads in [2,4]:\n",
    "    for num_layer in [2,4]:\n",
    "        for lr in [0.001, 0.0005, 0.005]:\n",
    "            for batch in [64,128]:\n",
    "                model = Transformer(num_heads=num_heads, num_layers=num_layer, dropout_rate=0.1, learning_rate=lr, num_classes=10, batch_size=batch, epoch=20)\n",
    "                model.train(labels_only_detection_training, labels_only_detection_validation)\n",
    "                res = np.concatenate((res, pd.DataFrame([[num_heads,0.1, lr, 20, batch,num_layer, model.history.history['loss'][-1], model.history.history['accuracy'][-1], model.history.history['val_loss'][-1], model.history.history['val_accuracy'][-1]]], \n",
    "                                                                        columns=['num_heads', 'dropout_rate', 'learning_rate', 'epoch', 'batch', 'num_layer', 'loss_max','accuracy_max','val_loss_max', 'val_accuracy_max'])))"
   ]
  },
  {
   "cell_type": "code",
   "execution_count": 5,
   "metadata": {},
   "outputs": [],
   "source": [
    "pd.DataFrame(res,columns=['num_heads', 'dropout_rate', 'learning_rate', 'epoch', 'batch', 'num_layer', 'loss_max','accuracy_max','val_loss_max', 'val_accuracy_max']).to_pickle('..\\\\results\\\\transformer_wyniki_only_known.pkl')"
   ]
  }
 ],
 "metadata": {
  "kernelspec": {
   "display_name": "Python 3",
   "language": "python",
   "name": "python3"
  },
  "language_info": {
   "codemirror_mode": {
    "name": "ipython",
    "version": 3
   },
   "file_extension": ".py",
   "mimetype": "text/x-python",
   "name": "python",
   "nbconvert_exporter": "python",
   "pygments_lexer": "ipython3",
   "version": "3.10.7"
  },
  "orig_nbformat": 4
 },
 "nbformat": 4,
 "nbformat_minor": 2
}
