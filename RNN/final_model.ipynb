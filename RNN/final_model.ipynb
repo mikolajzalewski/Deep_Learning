{
 "cells": [
  {
   "cell_type": "code",
   "execution_count": 34,
   "metadata": {},
   "outputs": [],
   "source": [
    "from dataset import TensorflowDataset\n",
    "import tensorflow as tf\n",
    "import numpy as np\n",
    "import pandas as pd\n",
    "import csv\n",
    "# "
   ]
  },
  {
   "cell_type": "code",
   "execution_count": 21,
   "metadata": {},
   "outputs": [],
   "source": [
    "test_data = pd.read_pickle('extracted_features\\\\features_test.pkl')\n",
    "test = tf.data.Dataset.from_tensor_slices((test_data, np.zeros(len(test_data))))"
   ]
  },
  {
   "cell_type": "code",
   "execution_count": 22,
   "metadata": {},
   "outputs": [],
   "source": [
    "test_silence_data = pd.read_pickle('extracted_features\\\\features_test_silence.pkl')\n",
    "test_silence = tf.data.Dataset.from_tensor_slices((test_silence_data, np.zeros(len(test_silence_data))))"
   ]
  },
  {
   "cell_type": "code",
   "execution_count": 3,
   "metadata": {},
   "outputs": [
    {
     "name": "stderr",
     "output_type": "stream",
     "text": [
      "c:\\Users\\mikol\\AppData\\Local\\Programs\\Python\\Python310\\lib\\site-packages\\tqdm\\auto.py:22: TqdmWarning: IProgress not found. Please update jupyter and ipywidgets. See https://ipywidgets.readthedocs.io/en/stable/user_install.html\n",
      "  from .autonotebook import tqdm as notebook_tqdm\n"
     ]
    }
   ],
   "source": [
    "import numpy as np\n",
    "import models\n",
    "from models import Lstm, Gru, Transformer, TransformerBlock\n",
    "from dataset import LABELS\n",
    "import pandas as pd\n",
    "\n",
    "class final_model:\n",
    "    def __init__(self, model, test, test_silence, batch_size=32):\n",
    "\n",
    "        self.model = model\n",
    "        self.test = test\n",
    "        self.test_silence = test_silence\n",
    "        self.batch_size = batch_size\n",
    "\n",
    "        LABELS_dict = {i:LABELS[i] for i in range(len(LABELS))}\n",
    "        LABELS_dict[10] = 'unknown'\n",
    "        self.LABELS_dict = LABELS_dict\n",
    "\n",
    "        self.predicted_labels = None\n",
    "        self.silence_labels = None\n",
    "\n",
    "    def predict_silence(self, model_path='models\\\\lstm_silence.h5'):\n",
    "        model_sil = tf.keras.models.load_model(model_path)\n",
    "        self.silence_labels = np.argmax(model_sil.predict(self.test.batch(self.batch_size)), axis=1)\n",
    "    \n",
    "    def predict_label(self):\n",
    "        self.predicted_labels = self.model.predict(self.test)\n",
    "    \n",
    "    def predict_label_transformer(self):\n",
    "        self.predicted_labels = self.model.predict(self.test)\n",
    "\n",
    "    # def save_results(self, submission_name=''):\n",
    "    #     x = pd.concat([pd.DataFrame(self.predicted_labels), pd.DataFrame(self.silence_labels)], axis=1)\n",
    "    #     x.columns = ['label', 'silence']\n",
    "    #     res = np.where(x['silence'] == 0 , 'silence', x['label'].apply(lambda x: self.LABELS_dict[x]))\n",
    "    #     res = pd.DataFrame(res)\n",
    "    #     res.columns = ['label_prediction']\n",
    "    #     res.to_csv(f'results\\\\submission_{submission_name}.csv', index=False, header=True)\n",
    "\n",
    "    def save_results(self, name):\n",
    "        df = pd.read_csv('sample_submission.csv')\n",
    "        x = pd.concat([pd.DataFrame(self.predicted_labels), pd.DataFrame(self.silence_labels)], axis=1)\n",
    "        x.columns = ['label', 'silence']\n",
    "        res = np.where(x['silence'] == 0 , 'silence', x['label'].apply(lambda x: self.LABELS_dict[x]))\n",
    "        df['label'] = res\n",
    "        df.to_csv(f'results\\\\submission_{name}.csv', index=False, header=True)"
   ]
  },
  {
   "cell_type": "code",
   "execution_count": 4,
   "metadata": {},
   "outputs": [],
   "source": [
    "model = Gru(from_path = 'models\\\\gru_mod.h5')\n",
    "model2 = Transformer(from_path = 'models\\\\transformer_mod.h5')\n",
    "d = final_model(model, test, test_silence)"
   ]
  },
  {
   "cell_type": "code",
   "execution_count": 24,
   "metadata": {},
   "outputs": [],
   "source": [
    "d.predict_silence()"
   ]
  },
  {
   "cell_type": "code",
   "execution_count": null,
   "metadata": {},
   "outputs": [],
   "source": [
    "d.predict_label()"
   ]
  },
  {
   "cell_type": "code",
   "execution_count": 32,
   "metadata": {},
   "outputs": [
    {
     "name": "stdout",
     "output_type": "stream",
     "text": [
      "Number of silences: 801\n",
      "Total number of observations: 158538\n"
     ]
    }
   ],
   "source": [
    "print('Number of silences:', len(d.test) - d.silence_labels.sum())\n",
    "print('Total number of observations:', len(d.test))"
   ]
  },
  {
   "cell_type": "code",
   "execution_count": null,
   "metadata": {},
   "outputs": [],
   "source": [
    "d.save_results()"
   ]
  },
  {
   "cell_type": "code",
   "execution_count": 33,
   "metadata": {},
   "outputs": [],
   "source": [
    "\n",
    "class ensamble_model:\n",
    "    def __init__(self):\n",
    "        # train = pd.read_pickle('features_test_silence.pkl')\n",
    "        # y_train = np.array([x[1] for x in train])\n",
    "        # labels = list(np.unique(y_train))\n",
    "        # self.labels_silence = labels\n",
    "        # self.silence_det = TensorflowDataset('features_test_silence.pkl', labels=self.labels_silence).dataset\n",
    "        \n",
    "        train = pd.read_pickle('features_test.pkl')\n",
    "        y_train = np.array([x[1] for x in train])\n",
    "        labels = list(np.unique(y_train))\n",
    "        self.labels_label = labels\n",
    "        self.label_det = TensorflowDataset('features_test.pkl', labels=self.labels_label).dataset\n",
    "    \n",
    "        self.silence_model = tf.keras.models.load_model('models\\\\silence_model.h5')\n",
    "        self.final_model = 'dupa'#tf.keras.models.load_model('models\\\\final_model.h5')\n",
    "    \n",
    "    def predict_silence(self):\n",
    "        pred = self.silence_model.predict(self.silence_det)\n",
    "\n",
    "\n",
    "    def save():\n",
    "        # otwórz plik csv do zapisu\n",
    "        with open('predictions.csv', mode='w', newline='') as file:\n",
    "            # utwórz obiekt writer i ustaw separator na przecinek\n",
    "            writer = csv.writer(file, delimiter=',')\n",
    "            \n",
    "            # zapisz nagłówek\n",
    "            writer.writerow(['col1', 'col2', 'col3', 'col4', 'prediction'])\n",
    "            \n",
    "            # zapisz dane i przewidywania\n",
    "            for i in range(len(data)):\n",
    "                row = data[i] + [predictions[i]]\n",
    "                writer.writerow(row)\n",
    "\n"
   ]
  }
 ],
 "metadata": {
  "kernelspec": {
   "display_name": "Python 3",
   "language": "python",
   "name": "python3"
  },
  "language_info": {
   "codemirror_mode": {
    "name": "ipython",
    "version": 3
   },
   "file_extension": ".py",
   "mimetype": "text/x-python",
   "name": "python",
   "nbconvert_exporter": "python",
   "pygments_lexer": "ipython3",
   "version": "3.10.8"
  },
  "orig_nbformat": 4
 },
 "nbformat": 4,
 "nbformat_minor": 2
}
