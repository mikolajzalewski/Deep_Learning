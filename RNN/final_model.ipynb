{
 "cells": [
  {
   "cell_type": "code",
   "execution_count": 3,
   "metadata": {},
   "outputs": [
    {
     "name": "stderr",
     "output_type": "stream",
     "text": [
      "c:\\Users\\mikol\\AppData\\Local\\Programs\\Python\\Python310\\lib\\site-packages\\tqdm\\auto.py:22: TqdmWarning: IProgress not found. Please update jupyter and ipywidgets. See https://ipywidgets.readthedocs.io/en/stable/user_install.html\n",
      "  from .autonotebook import tqdm as notebook_tqdm\n"
     ]
    }
   ],
   "source": [
    "from dataset import TensorflowDataset\n",
    "import tensorflow as tf\n",
    "import numpy as np\n",
    "import pandas as pd\n",
    "import csv\n",
    "# "
   ]
  },
  {
   "cell_type": "code",
   "execution_count": 84,
   "metadata": {},
   "outputs": [],
   "source": [
    "test_data = pd.read_pickle('extracted_features/features_training.pkl')"
   ]
  },
  {
   "cell_type": "code",
   "execution_count": 87,
   "metadata": {},
   "outputs": [],
   "source": [
    "X = [test_data[0] for i in range(len(test_data))]\n",
    "y = [test_data[1] for i in range(len(test_data))]"
   ]
  },
  {
   "cell_type": "code",
   "execution_count": 90,
   "metadata": {},
   "outputs": [],
   "source": [
    "y = []\n",
    "for i in range(len(test_data)):\n",
    "    y.append(test_data[i][1])"
   ]
  },
  {
   "cell_type": "code",
   "execution_count": 96,
   "metadata": {},
   "outputs": [
    {
     "data": {
      "text/plain": [
       "[array([[-2.9815796e+02, -2.9586832e+02, -2.9795453e+02, ...,\n",
       "         -5.3454541e+02, -5.3454541e+02, -5.3422302e+02],\n",
       "        [ 1.4022797e+02,  1.5817764e+02,  1.5618311e+02, ...,\n",
       "          0.0000000e+00,  0.0000000e+00, -2.5148785e-01],\n",
       "        [-4.4323803e+01, -5.4732460e+01, -5.8279625e+01, ...,\n",
       "          0.0000000e+00,  0.0000000e+00, -1.7819440e-01],\n",
       "        ...,\n",
       "        [-7.3177934e-01, -7.3177934e-01, -7.3177934e-01, ...,\n",
       "          1.8217701e-01,  1.8217701e-01,  1.8217701e-01],\n",
       "        [-2.8881460e-01, -2.8881460e-01, -2.8881460e-01, ...,\n",
       "         -3.7775323e-01, -3.7775323e-01, -3.7775323e-01],\n",
       "        [ 8.0281861e-02,  8.0281861e-02,  8.0281861e-02, ...,\n",
       "          5.4750210e-01,  5.4750210e-01,  5.4750210e-01]], dtype=float32),\n",
       " 'bed']"
      ]
     },
     "execution_count": 96,
     "metadata": {},
     "output_type": "execute_result"
    }
   ],
   "source": [
    "test_data[0]"
   ]
  },
  {
   "cell_type": "code",
   "execution_count": 54,
   "metadata": {},
   "outputs": [],
   "source": [
    "test_data = pd.read_pickle('extracted_features\\\\features_test.pkl')\n",
    "test = tf.data.Dataset.from_tensor_slices((test_data, np.zeros(len(test_data))))"
   ]
  },
  {
   "cell_type": "code",
   "execution_count": 22,
   "metadata": {},
   "outputs": [],
   "source": [
    "# test_silence_data = pd.read_pickle('extracted_features\\\\features_test_silence.pkl')\n",
    "# test_silence = tf.data.Dataset.from_tensor_slices((test_silence_data, np.zeros(len(test_silence_data))))"
   ]
  },
  {
   "attachments": {},
   "cell_type": "markdown",
   "metadata": {},
   "source": [
    "# silence + unknown + labels model"
   ]
  },
  {
   "cell_type": "code",
   "execution_count": 82,
   "metadata": {},
   "outputs": [],
   "source": [
    "import numpy as np\n",
    "import models\n",
    "from models import Lstm, Gru, Transformer, TransformerBlock\n",
    "from dataset import LABELS\n",
    "import pandas as pd\n",
    "\n",
    "class final_model_SKL:\n",
    "    def __init__(self, name, test, batch_size=32):\n",
    "\n",
    "        # try:\n",
    "        #     model_known = tf.keras.models.load_model(f'models\\\\final\\\\TEST_{name}_known.h5')\n",
    "        #     model_label = tf.keras.models.load_model(f'models\\\\final\\\\TEST_{name}_labels_only.h5')\n",
    "        # except:\n",
    "        #     model_known = tf.keras.models.load_model(f'models\\\\final\\\\FINAL_{name}_known.h5',custom_objects={\"TransformerBlock\": TransformerBlock})\n",
    "        #     model_label = tf.keras.models.load_model(f'models\\\\final\\\\FINAL_{name}_labels_only.h5',custom_objects={\"TransformerBlock\": TransformerBlock})\n",
    "\n",
    "        model_known = tf.keras.models.load_model('models/best_gru_known_vs_unknown.h5')\n",
    "        model_label = tf.keras.models.load_model('models/best_gru_label_detection.h5')\n",
    "            \n",
    "        self.model_known = model_known\n",
    "        self.model_label = model_label\n",
    "        self.test = test\n",
    "        self.batch_size = batch_size\n",
    "        self.name = name\n",
    "\n",
    "        LABELS_dict = {i:LABELS[i] for i in range(len(LABELS))}\n",
    "        LABELS_dict[10] = 'unknown'\n",
    "        self.LABELS_dict = LABELS_dict\n",
    "\n",
    "        self.predicted_labels = None\n",
    "        self.silence_labels = None\n",
    "\n",
    "        self.predict_if_known()\n",
    "        self.predict_label()\n",
    "        self.predict_silence()\n",
    "        self.save_results()\n",
    "\n",
    "    def predict_silence(self):\n",
    "        self.silence_labels = pd.read_pickle('silence_detected.pkl')\n",
    "    \n",
    "    def predict_label(self):\n",
    "        self.predicted_labels = self.model_label.predict(self.test.batch(self.batch_size))\n",
    "\n",
    "    def predict_if_known(self):\n",
    "        self.predicted_labels_known = self.model_known.predict(self.test.batch(self.batch_size))\n",
    "\n",
    "    def save_results(self):\n",
    "        df = pd.read_csv('sample_submission.csv')\n",
    "        x = pd.concat([pd.DataFrame(np.argmax(self.predicted_labels, axis=1)),pd.DataFrame(self.silence_labels), pd.DataFrame(np.argmax(self.predicted_labels_known, axis=1))], axis=1)\n",
    "        x.columns = ['label', 'silence','unknown']\n",
    "        # unknown == 1 => unknown\n",
    "        res = np.where(x['silence'] == 0 , 'silence', np.where((x['unknown'] == 1) , 'unknown', [self.LABELS_dict[i] for i in x['label']]))\n",
    "        df['label'] = res\n",
    "        df.to_csv(f'results/FINAL_submission_SKL_{self.name}.csv', index=False, header=True)"
   ]
  },
  {
   "cell_type": "code",
   "execution_count": 83,
   "metadata": {},
   "outputs": [
    {
     "name": "stdout",
     "output_type": "stream",
     "text": [
      "4955/4955 [==============================] - 137s 27ms/step\n",
      "4955/4955 [==============================] - 67s 13ms/step\n"
     ]
    }
   ],
   "source": [
    "d = final_model_SKL('gru', test)"
   ]
  },
  {
   "cell_type": "code",
   "execution_count": 46,
   "metadata": {},
   "outputs": [
    {
     "data": {
      "text/plain": [
       "6    25662\n",
       "5    22376\n",
       "4    20986\n",
       "9    16418\n",
       "1    15329\n",
       "0    15095\n",
       "7    14354\n",
       "3    11969\n",
       "2     8242\n",
       "8     8107\n",
       "dtype: int64"
      ]
     },
     "execution_count": 46,
     "metadata": {},
     "output_type": "execute_result"
    }
   ],
   "source": [
    "pd.DataFrame(np.argmax(d.predicted_labels,axis=1)).value_counts()"
   ]
  },
  {
   "cell_type": "code",
   "execution_count": 33,
   "metadata": {},
   "outputs": [
    {
     "name": "stdout",
     "output_type": "stream",
     "text": [
      "4955/4955 [==============================] - 92s 18ms/step\n",
      "4955/4955 [==============================] - 70s 14ms/step\n"
     ]
    }
   ],
   "source": [
    "d.predict_if_known()\n",
    "d.predict_label()\n",
    "d.predict_silence()"
   ]
  },
  {
   "attachments": {},
   "cell_type": "markdown",
   "metadata": {},
   "source": [
    "# SILENCE - labels/unknown HIPERPARAMS"
   ]
  },
  {
   "cell_type": "code",
   "execution_count": 72,
   "metadata": {},
   "outputs": [],
   "source": [
    "import numpy as np\n",
    "import models\n",
    "from models import Lstm, Gru, Transformer, TransformerBlock\n",
    "from dataset import LABELS\n",
    "import pandas as pd\n",
    "\n",
    "class final_model_SL:\n",
    "    def __init__(self, name, test, batch_size=32, path = None):\n",
    "\n",
    "        if path is None:\n",
    "            try:\n",
    "                model_label = tf.keras.models.load_model(f'models\\\\final\\\\FINAL_{name}_simple_predict.h5')\n",
    "            except:\n",
    "                model_label = tf.keras.models.load_model(f'models\\\\final\\\\FINAL_{name}_simple_predict.h5',custom_objects={\"TransformerBlock\": TransformerBlock})\n",
    "        else:\n",
    "            try:\n",
    "                model_label = tf.keras.models.load_model(path)\n",
    "            except:\n",
    "                model_label = tf.keras.models.load_model(path,custom_objects={\"TransformerBlock\": TransformerBlock})\n",
    "\n",
    "        self.model_label = model_label\n",
    "        self.test = test\n",
    "        self.batch_size = batch_size\n",
    "        self.name = name\n",
    "\n",
    "        LABELS_dict = {i:LABELS[i] for i in range(len(LABELS))}\n",
    "        LABELS_dict[10] = 'unknown'\n",
    "        self.LABELS_dict = LABELS_dict\n",
    "\n",
    "        self.predicted_labels = None\n",
    "        self.silence_labels = None\n",
    "        self.predict_silence()\n",
    "        self.predict_label()\n",
    "        self.save_results()\n",
    "\n",
    "    def predict_silence(self):\n",
    "        self.silence_labels = pd.read_pickle('silence_detected.pkl')\n",
    "    \n",
    "    def predict_label(self):\n",
    "        self.predicted_labels = self.model_label.predict(self.test.batch(self.batch_size))\n",
    "\n",
    "    def save_results(self):\n",
    "        df = pd.read_csv('sample_submission.csv')\n",
    "        x = pd.concat([pd.DataFrame(np.argmax(self.predicted_labels, axis=1)),pd.DataFrame(self.silence_labels)], axis=1)\n",
    "        x.columns = ['label', 'silence']\n",
    "        res = np.where(x['silence'] == 0 , 'silence', [self.LABELS_dict[i] for i in x['label']])\n",
    "        df['label'] = res\n",
    "        df.to_csv(f'results/FINAL_submission_SL_{self.name}.csv', index=False, header=True)"
   ]
  },
  {
   "cell_type": "code",
   "execution_count": 81,
   "metadata": {},
   "outputs": [
    {
     "name": "stdout",
     "output_type": "stream",
     "text": [
      "4955/4955 [==============================] - 44s 9ms/step\n"
     ]
    }
   ],
   "source": [
    "d = final_model_SL('gru', test, path = 'models/best_gru_label_vs_unknown.h5')"
   ]
  },
  {
   "cell_type": "code",
   "execution_count": 65,
   "metadata": {},
   "outputs": [
    {
     "name": "stdout",
     "output_type": "stream",
     "text": [
      "4955/4955 [==============================] - 77s 15ms/step\n"
     ]
    }
   ],
   "source": [
    "d = final_model_SL('gru', test)"
   ]
  },
  {
   "cell_type": "code",
   "execution_count": null,
   "metadata": {},
   "outputs": [],
   "source": [
    "tf.keras.models.load_model(f'models\\\\final\\\\FINAL_{name}_simple_predict.h5',custom_objects={\"TransformerBlock\": TransformerBlock})"
   ]
  },
  {
   "cell_type": "code",
   "execution_count": null,
   "metadata": {},
   "outputs": [],
   "source": []
  },
  {
   "cell_type": "code",
   "execution_count": 61,
   "metadata": {},
   "outputs": [],
   "source": [
    "gru = pd.read_pickle('results/gru_wyniki_.pkl')"
   ]
  },
  {
   "cell_type": "code",
   "execution_count": 62,
   "metadata": {},
   "outputs": [],
   "source": [
    "lstm = pd.read_pickle('results/lstm_wyniki_.pkl')\n",
    "transformer = pd.read_pickle('results/transformer_wyniki_.pkl')"
   ]
  },
  {
   "cell_type": "code",
   "execution_count": 65,
   "metadata": {},
   "outputs": [
    {
     "name": "stdout",
     "output_type": "stream",
     "text": [
      "Best parameter for LSTM model to predict known labels and \"unknown\":\n"
     ]
    },
    {
     "data": {
      "text/html": [
       "<div>\n",
       "<style scoped>\n",
       "    .dataframe tbody tr th:only-of-type {\n",
       "        vertical-align: middle;\n",
       "    }\n",
       "\n",
       "    .dataframe tbody tr th {\n",
       "        vertical-align: top;\n",
       "    }\n",
       "\n",
       "    .dataframe thead th {\n",
       "        text-align: right;\n",
       "    }\n",
       "</style>\n",
       "<table border=\"1\" class=\"dataframe\">\n",
       "  <thead>\n",
       "    <tr style=\"text-align: right;\">\n",
       "      <th></th>\n",
       "      <th>lstm_units</th>\n",
       "      <th>dropout_rate</th>\n",
       "      <th>learning_rate</th>\n",
       "      <th>epoch</th>\n",
       "      <th>batch</th>\n",
       "      <th>loss_max</th>\n",
       "      <th>accuracy_max</th>\n",
       "      <th>val_loss_max</th>\n",
       "      <th>val_accuracy_max</th>\n",
       "    </tr>\n",
       "  </thead>\n",
       "  <tbody>\n",
       "    <tr>\n",
       "      <th>18</th>\n",
       "      <td>128.0</td>\n",
       "      <td>0.2</td>\n",
       "      <td>0.001</td>\n",
       "      <td>20.0</td>\n",
       "      <td>32.0</td>\n",
       "      <td>0.122819</td>\n",
       "      <td>0.960497</td>\n",
       "      <td>1.240723</td>\n",
       "      <td>0.752133</td>\n",
       "    </tr>\n",
       "  </tbody>\n",
       "</table>\n",
       "</div>"
      ],
      "text/plain": [
       "   lstm_units dropout_rate learning_rate epoch batch  loss_max accuracy_max  \\\n",
       "18      128.0          0.2         0.001  20.0  32.0  0.122819     0.960497   \n",
       "\n",
       "   val_loss_max val_accuracy_max  \n",
       "18     1.240723         0.752133  "
      ]
     },
     "execution_count": 65,
     "metadata": {},
     "output_type": "execute_result"
    }
   ],
   "source": [
    "print('Best parameter for LSTM model to predict known labels and \"unknown\":')\n",
    "lstm[lstm.val_accuracy_max == lstm.val_accuracy_max.max()]"
   ]
  },
  {
   "cell_type": "code",
   "execution_count": 64,
   "metadata": {},
   "outputs": [
    {
     "name": "stdout",
     "output_type": "stream",
     "text": [
      "Best parameter for GRU model to predict known labels and \"unknown\":\n"
     ]
    },
    {
     "data": {
      "text/html": [
       "<div>\n",
       "<style scoped>\n",
       "    .dataframe tbody tr th:only-of-type {\n",
       "        vertical-align: middle;\n",
       "    }\n",
       "\n",
       "    .dataframe tbody tr th {\n",
       "        vertical-align: top;\n",
       "    }\n",
       "\n",
       "    .dataframe thead th {\n",
       "        text-align: right;\n",
       "    }\n",
       "</style>\n",
       "<table border=\"1\" class=\"dataframe\">\n",
       "  <thead>\n",
       "    <tr style=\"text-align: right;\">\n",
       "      <th></th>\n",
       "      <th>gru_units</th>\n",
       "      <th>dropout_rate</th>\n",
       "      <th>learning_rate</th>\n",
       "      <th>epoch</th>\n",
       "      <th>batch</th>\n",
       "      <th>loss_max</th>\n",
       "      <th>accuracy_max</th>\n",
       "      <th>val_loss_max</th>\n",
       "      <th>val_accuracy_max</th>\n",
       "    </tr>\n",
       "  </thead>\n",
       "  <tbody>\n",
       "    <tr>\n",
       "      <th>10</th>\n",
       "      <td>64.0</td>\n",
       "      <td>0.2</td>\n",
       "      <td>0.001</td>\n",
       "      <td>30.0</td>\n",
       "      <td>64.0</td>\n",
       "      <td>0.367678</td>\n",
       "      <td>0.881785</td>\n",
       "      <td>0.63184</td>\n",
       "      <td>0.820683</td>\n",
       "    </tr>\n",
       "  </tbody>\n",
       "</table>\n",
       "</div>"
      ],
      "text/plain": [
       "   gru_units dropout_rate learning_rate epoch batch  loss_max accuracy_max  \\\n",
       "10      64.0          0.2         0.001  30.0  64.0  0.367678     0.881785   \n",
       "\n",
       "   val_loss_max val_accuracy_max  \n",
       "10      0.63184         0.820683  "
      ]
     },
     "execution_count": 64,
     "metadata": {},
     "output_type": "execute_result"
    }
   ],
   "source": [
    "print('Best parameter for GRU model to predict known labels and \"unknown\":')\n",
    "gru[gru.val_accuracy_max == gru.val_accuracy_max.max()]"
   ]
  },
  {
   "cell_type": "code",
   "execution_count": 66,
   "metadata": {},
   "outputs": [
    {
     "name": "stdout",
     "output_type": "stream",
     "text": [
      "Best parameter for Transformer model to predict known labels and \"unknown\":\n"
     ]
    },
    {
     "data": {
      "text/html": [
       "<div>\n",
       "<style scoped>\n",
       "    .dataframe tbody tr th:only-of-type {\n",
       "        vertical-align: middle;\n",
       "    }\n",
       "\n",
       "    .dataframe tbody tr th {\n",
       "        vertical-align: top;\n",
       "    }\n",
       "\n",
       "    .dataframe thead th {\n",
       "        text-align: right;\n",
       "    }\n",
       "</style>\n",
       "<table border=\"1\" class=\"dataframe\">\n",
       "  <thead>\n",
       "    <tr style=\"text-align: right;\">\n",
       "      <th></th>\n",
       "      <th>num_heads</th>\n",
       "      <th>dropout_rate</th>\n",
       "      <th>learning_rate</th>\n",
       "      <th>epoch</th>\n",
       "      <th>batch</th>\n",
       "      <th>num_layer</th>\n",
       "      <th>loss_max</th>\n",
       "      <th>accuracy_max</th>\n",
       "      <th>val_loss_max</th>\n",
       "      <th>val_accuracy_max</th>\n",
       "    </tr>\n",
       "  </thead>\n",
       "  <tbody>\n",
       "    <tr>\n",
       "      <th>0</th>\n",
       "      <td>2.0</td>\n",
       "      <td>0.2</td>\n",
       "      <td>0.001</td>\n",
       "      <td>20.0</td>\n",
       "      <td>64.0</td>\n",
       "      <td>2.0</td>\n",
       "      <td>0.524436</td>\n",
       "      <td>0.830724</td>\n",
       "      <td>0.692129</td>\n",
       "      <td>0.800677</td>\n",
       "    </tr>\n",
       "  </tbody>\n",
       "</table>\n",
       "</div>"
      ],
      "text/plain": [
       "  num_heads dropout_rate learning_rate epoch batch num_layer  loss_max  \\\n",
       "0       2.0          0.2         0.001  20.0  64.0       2.0  0.524436   \n",
       "\n",
       "  accuracy_max val_loss_max val_accuracy_max  \n",
       "0     0.830724     0.692129         0.800677  "
      ]
     },
     "execution_count": 66,
     "metadata": {},
     "output_type": "execute_result"
    }
   ],
   "source": [
    "print('Best parameter for Transformer model to predict known labels and \"unknown\":')\n",
    "transformer[transformer.val_accuracy_max == transformer.val_accuracy_max.max()]"
   ]
  },
  {
   "attachments": {},
   "cell_type": "markdown",
   "metadata": {},
   "source": [
    "# Silence +unknown + label HIPERPARAMS"
   ]
  },
  {
   "cell_type": "code",
   "execution_count": 47,
   "metadata": {},
   "outputs": [],
   "source": [
    "df_kn_lstm = pd.read_pickle('results/lstm_wyniki_known_pred.pkl')\n",
    "df_lat_lstm = pd.read_pickle('results/lstm_wyniki_only_labels.pkl')"
   ]
  },
  {
   "cell_type": "code",
   "execution_count": 48,
   "metadata": {},
   "outputs": [],
   "source": [
    "df_kn_gru = pd.read_pickle('results/gru_wyniki_known_pred.pkl')\n",
    "df_lat_gru = pd.read_pickle('results/gru_wyniki_only_labels.pkl')\n",
    "\n",
    "df_kn_transformer = pd.read_pickle('results/transformer_wyniki_known_pred.pkl')\n",
    "df_lat_transformer = pd.read_pickle('results/transformer_wyniki_only_labels.pkl')"
   ]
  },
  {
   "cell_type": "code",
   "execution_count": 53,
   "metadata": {},
   "outputs": [
    {
     "name": "stdout",
     "output_type": "stream",
     "text": [
      "Best hiperparameters for LSTM model to predict unknown labels:\n"
     ]
    },
    {
     "data": {
      "text/html": [
       "<div>\n",
       "<style scoped>\n",
       "    .dataframe tbody tr th:only-of-type {\n",
       "        vertical-align: middle;\n",
       "    }\n",
       "\n",
       "    .dataframe tbody tr th {\n",
       "        vertical-align: top;\n",
       "    }\n",
       "\n",
       "    .dataframe thead th {\n",
       "        text-align: right;\n",
       "    }\n",
       "</style>\n",
       "<table border=\"1\" class=\"dataframe\">\n",
       "  <thead>\n",
       "    <tr style=\"text-align: right;\">\n",
       "      <th></th>\n",
       "      <th>lstm_units</th>\n",
       "      <th>dropout_rate</th>\n",
       "      <th>learning_rate</th>\n",
       "      <th>epoch</th>\n",
       "      <th>batch</th>\n",
       "      <th>loss_max</th>\n",
       "      <th>accuracy_max</th>\n",
       "      <th>val_loss_max</th>\n",
       "      <th>val_accuracy_max</th>\n",
       "    </tr>\n",
       "  </thead>\n",
       "  <tbody>\n",
       "    <tr>\n",
       "      <th>20</th>\n",
       "      <td>128.0</td>\n",
       "      <td>0.1</td>\n",
       "      <td>0.001</td>\n",
       "      <td>20.0</td>\n",
       "      <td>128.0</td>\n",
       "      <td>0.032814</td>\n",
       "      <td>0.988296</td>\n",
       "      <td>1.067564</td>\n",
       "      <td>0.789644</td>\n",
       "    </tr>\n",
       "  </tbody>\n",
       "</table>\n",
       "</div>"
      ],
      "text/plain": [
       "   lstm_units dropout_rate learning_rate epoch  batch  loss_max accuracy_max  \\\n",
       "20      128.0          0.1         0.001  20.0  128.0  0.032814     0.988296   \n",
       "\n",
       "   val_loss_max val_accuracy_max  \n",
       "20     1.067564         0.789644  "
      ]
     },
     "execution_count": 53,
     "metadata": {},
     "output_type": "execute_result"
    }
   ],
   "source": [
    "print('Best hiperparameters for LSTM model to predict unknown labels:')\n",
    "df_kn_lstm[df_kn_lstm.val_accuracy_max == df_kn_lstm.val_accuracy_max.max()]"
   ]
  },
  {
   "cell_type": "code",
   "execution_count": 54,
   "metadata": {},
   "outputs": [
    {
     "name": "stdout",
     "output_type": "stream",
     "text": [
      "Best hiperparameters for LSTM model to predict known labels:\n"
     ]
    },
    {
     "data": {
      "text/html": [
       "<div>\n",
       "<style scoped>\n",
       "    .dataframe tbody tr th:only-of-type {\n",
       "        vertical-align: middle;\n",
       "    }\n",
       "\n",
       "    .dataframe tbody tr th {\n",
       "        vertical-align: top;\n",
       "    }\n",
       "\n",
       "    .dataframe thead th {\n",
       "        text-align: right;\n",
       "    }\n",
       "</style>\n",
       "<table border=\"1\" class=\"dataframe\">\n",
       "  <thead>\n",
       "    <tr style=\"text-align: right;\">\n",
       "      <th></th>\n",
       "      <th>lstm_units</th>\n",
       "      <th>dropout_rate</th>\n",
       "      <th>learning_rate</th>\n",
       "      <th>epoch</th>\n",
       "      <th>batch</th>\n",
       "      <th>loss_max</th>\n",
       "      <th>accuracy_max</th>\n",
       "      <th>val_loss_max</th>\n",
       "      <th>val_accuracy_max</th>\n",
       "    </tr>\n",
       "  </thead>\n",
       "  <tbody>\n",
       "    <tr>\n",
       "      <th>27</th>\n",
       "      <td>128.0</td>\n",
       "      <td>0.2</td>\n",
       "      <td>0.001</td>\n",
       "      <td>30.0</td>\n",
       "      <td>32.0</td>\n",
       "      <td>0.182577</td>\n",
       "      <td>0.944293</td>\n",
       "      <td>1.821681</td>\n",
       "      <td>0.611564</td>\n",
       "    </tr>\n",
       "  </tbody>\n",
       "</table>\n",
       "</div>"
      ],
      "text/plain": [
       "   lstm_units dropout_rate learning_rate epoch batch  loss_max accuracy_max  \\\n",
       "27      128.0          0.2         0.001  30.0  32.0  0.182577     0.944293   \n",
       "\n",
       "   val_loss_max val_accuracy_max  \n",
       "27     1.821681         0.611564  "
      ]
     },
     "execution_count": 54,
     "metadata": {},
     "output_type": "execute_result"
    }
   ],
   "source": [
    "print('Best hiperparameters for LSTM model to predict known labels:')\n",
    "df_lat_lstm[df_lat_lstm.val_accuracy_max == df_lat_lstm.val_accuracy_max.max()]"
   ]
  },
  {
   "cell_type": "code",
   "execution_count": 56,
   "metadata": {},
   "outputs": [
    {
     "name": "stdout",
     "output_type": "stream",
     "text": [
      "Best hiperparameters for GRU model to predict unknown labels:\n"
     ]
    },
    {
     "data": {
      "text/html": [
       "<div>\n",
       "<style scoped>\n",
       "    .dataframe tbody tr th:only-of-type {\n",
       "        vertical-align: middle;\n",
       "    }\n",
       "\n",
       "    .dataframe tbody tr th {\n",
       "        vertical-align: top;\n",
       "    }\n",
       "\n",
       "    .dataframe thead th {\n",
       "        text-align: right;\n",
       "    }\n",
       "</style>\n",
       "<table border=\"1\" class=\"dataframe\">\n",
       "  <thead>\n",
       "    <tr style=\"text-align: right;\">\n",
       "      <th></th>\n",
       "      <th>gru_units</th>\n",
       "      <th>dropout_rate</th>\n",
       "      <th>learning_rate</th>\n",
       "      <th>epoch</th>\n",
       "      <th>batch</th>\n",
       "      <th>loss_max</th>\n",
       "      <th>accuracy_max</th>\n",
       "      <th>val_loss_max</th>\n",
       "      <th>val_accuracy_max</th>\n",
       "    </tr>\n",
       "  </thead>\n",
       "  <tbody>\n",
       "    <tr>\n",
       "      <th>18</th>\n",
       "      <td>128.0</td>\n",
       "      <td>0.1</td>\n",
       "      <td>0.001</td>\n",
       "      <td>20.0</td>\n",
       "      <td>32.0</td>\n",
       "      <td>0.126454</td>\n",
       "      <td>0.953914</td>\n",
       "      <td>0.341508</td>\n",
       "      <td>0.85584</td>\n",
       "    </tr>\n",
       "  </tbody>\n",
       "</table>\n",
       "</div>"
      ],
      "text/plain": [
       "   gru_units dropout_rate learning_rate epoch batch  loss_max accuracy_max  \\\n",
       "18     128.0          0.1         0.001  20.0  32.0  0.126454     0.953914   \n",
       "\n",
       "   val_loss_max val_accuracy_max  \n",
       "18     0.341508          0.85584  "
      ]
     },
     "execution_count": 56,
     "metadata": {},
     "output_type": "execute_result"
    }
   ],
   "source": [
    "print('Best hiperparameters for GRU model to predict unknown labels:')\n",
    "df_kn_gru[df_kn_gru.val_accuracy_max == df_kn_gru.val_accuracy_max.max()]"
   ]
  },
  {
   "cell_type": "code",
   "execution_count": 57,
   "metadata": {},
   "outputs": [
    {
     "name": "stdout",
     "output_type": "stream",
     "text": [
      "Best hiperparameters for GRU model to predict known labels:\n"
     ]
    },
    {
     "data": {
      "text/html": [
       "<div>\n",
       "<style scoped>\n",
       "    .dataframe tbody tr th:only-of-type {\n",
       "        vertical-align: middle;\n",
       "    }\n",
       "\n",
       "    .dataframe tbody tr th {\n",
       "        vertical-align: top;\n",
       "    }\n",
       "\n",
       "    .dataframe thead th {\n",
       "        text-align: right;\n",
       "    }\n",
       "</style>\n",
       "<table border=\"1\" class=\"dataframe\">\n",
       "  <thead>\n",
       "    <tr style=\"text-align: right;\">\n",
       "      <th></th>\n",
       "      <th>gru_units</th>\n",
       "      <th>dropout_rate</th>\n",
       "      <th>learning_rate</th>\n",
       "      <th>epoch</th>\n",
       "      <th>batch</th>\n",
       "      <th>loss_max</th>\n",
       "      <th>accuracy_max</th>\n",
       "      <th>val_loss_max</th>\n",
       "      <th>val_accuracy_max</th>\n",
       "    </tr>\n",
       "  </thead>\n",
       "  <tbody>\n",
       "    <tr>\n",
       "      <th>28</th>\n",
       "      <td>128.0</td>\n",
       "      <td>0.2</td>\n",
       "      <td>0.001</td>\n",
       "      <td>30.0</td>\n",
       "      <td>64.0</td>\n",
       "      <td>0.481092</td>\n",
       "      <td>0.837943</td>\n",
       "      <td>0.764989</td>\n",
       "      <td>0.751649</td>\n",
       "    </tr>\n",
       "  </tbody>\n",
       "</table>\n",
       "</div>"
      ],
      "text/plain": [
       "   gru_units dropout_rate learning_rate epoch batch  loss_max accuracy_max  \\\n",
       "28     128.0          0.2         0.001  30.0  64.0  0.481092     0.837943   \n",
       "\n",
       "   val_loss_max val_accuracy_max  \n",
       "28     0.764989         0.751649  "
      ]
     },
     "execution_count": 57,
     "metadata": {},
     "output_type": "execute_result"
    }
   ],
   "source": [
    "print('Best hiperparameters for GRU model to predict known labels:')\n",
    "df_lat_gru[df_lat_gru.val_accuracy_max == df_lat_gru.val_accuracy_max.max()]"
   ]
  },
  {
   "cell_type": "code",
   "execution_count": 58,
   "metadata": {},
   "outputs": [
    {
     "name": "stdout",
     "output_type": "stream",
     "text": [
      "Best hiperparameters for Transformer model to predict unknown labels:\n"
     ]
    },
    {
     "data": {
      "text/html": [
       "<div>\n",
       "<style scoped>\n",
       "    .dataframe tbody tr th:only-of-type {\n",
       "        vertical-align: middle;\n",
       "    }\n",
       "\n",
       "    .dataframe tbody tr th {\n",
       "        vertical-align: top;\n",
       "    }\n",
       "\n",
       "    .dataframe thead th {\n",
       "        text-align: right;\n",
       "    }\n",
       "</style>\n",
       "<table border=\"1\" class=\"dataframe\">\n",
       "  <thead>\n",
       "    <tr style=\"text-align: right;\">\n",
       "      <th></th>\n",
       "      <th>num_heads</th>\n",
       "      <th>dropout_rate</th>\n",
       "      <th>learning_rate</th>\n",
       "      <th>epoch</th>\n",
       "      <th>batch</th>\n",
       "      <th>num_layer</th>\n",
       "      <th>loss_max</th>\n",
       "      <th>accuracy_max</th>\n",
       "      <th>val_loss_max</th>\n",
       "      <th>val_accuracy_max</th>\n",
       "    </tr>\n",
       "  </thead>\n",
       "  <tbody>\n",
       "    <tr>\n",
       "      <th>25</th>\n",
       "      <td>4.0</td>\n",
       "      <td>0.1</td>\n",
       "      <td>0.001</td>\n",
       "      <td>20.0</td>\n",
       "      <td>128.0</td>\n",
       "      <td>2.0</td>\n",
       "      <td>0.190858</td>\n",
       "      <td>0.922019</td>\n",
       "      <td>0.457584</td>\n",
       "      <td>0.834951</td>\n",
       "    </tr>\n",
       "  </tbody>\n",
       "</table>\n",
       "</div>"
      ],
      "text/plain": [
       "   num_heads dropout_rate learning_rate epoch  batch num_layer  loss_max  \\\n",
       "25       4.0          0.1         0.001  20.0  128.0       2.0  0.190858   \n",
       "\n",
       "   accuracy_max val_loss_max val_accuracy_max  \n",
       "25     0.922019     0.457584         0.834951  "
      ]
     },
     "execution_count": 58,
     "metadata": {},
     "output_type": "execute_result"
    }
   ],
   "source": [
    "print('Best hiperparameters for Transformer model to predict unknown labels:')\n",
    "df_kn_transformer[df_kn_transformer.val_accuracy_max == df_kn_transformer.val_accuracy_max.max()]"
   ]
  },
  {
   "cell_type": "code",
   "execution_count": 59,
   "metadata": {},
   "outputs": [
    {
     "name": "stdout",
     "output_type": "stream",
     "text": [
      "Best hiperparameters for Transformer model to predict known labels:\n"
     ]
    },
    {
     "data": {
      "text/html": [
       "<div>\n",
       "<style scoped>\n",
       "    .dataframe tbody tr th:only-of-type {\n",
       "        vertical-align: middle;\n",
       "    }\n",
       "\n",
       "    .dataframe tbody tr th {\n",
       "        vertical-align: top;\n",
       "    }\n",
       "\n",
       "    .dataframe thead th {\n",
       "        text-align: right;\n",
       "    }\n",
       "</style>\n",
       "<table border=\"1\" class=\"dataframe\">\n",
       "  <thead>\n",
       "    <tr style=\"text-align: right;\">\n",
       "      <th></th>\n",
       "      <th>num_heads</th>\n",
       "      <th>dropout_rate</th>\n",
       "      <th>learning_rate</th>\n",
       "      <th>epoch</th>\n",
       "      <th>batch</th>\n",
       "      <th>num_layer</th>\n",
       "      <th>loss_max</th>\n",
       "      <th>accuracy_max</th>\n",
       "      <th>val_loss_max</th>\n",
       "      <th>val_accuracy_max</th>\n",
       "    </tr>\n",
       "  </thead>\n",
       "  <tbody>\n",
       "    <tr>\n",
       "      <th>30</th>\n",
       "      <td>4.0</td>\n",
       "      <td>0.2</td>\n",
       "      <td>0.001</td>\n",
       "      <td>30.0</td>\n",
       "      <td>64.0</td>\n",
       "      <td>2.0</td>\n",
       "      <td>0.555792</td>\n",
       "      <td>0.808337</td>\n",
       "      <td>0.941868</td>\n",
       "      <td>0.717113</td>\n",
       "    </tr>\n",
       "  </tbody>\n",
       "</table>\n",
       "</div>"
      ],
      "text/plain": [
       "   num_heads dropout_rate learning_rate epoch batch num_layer  loss_max  \\\n",
       "30       4.0          0.2         0.001  30.0  64.0       2.0  0.555792   \n",
       "\n",
       "   accuracy_max val_loss_max val_accuracy_max  \n",
       "30     0.808337     0.941868         0.717113  "
      ]
     },
     "execution_count": 59,
     "metadata": {},
     "output_type": "execute_result"
    }
   ],
   "source": [
    "print('Best hiperparameters for Transformer model to predict known labels:')\n",
    "df_lat_transformer[df_lat_transformer.val_accuracy_max == df_lat_transformer.val_accuracy_max.max()]"
   ]
  },
  {
   "attachments": {},
   "cell_type": "markdown",
   "metadata": {},
   "source": [
    "# Silence + Unknown + Label"
   ]
  },
  {
   "cell_type": "code",
   "execution_count": 2,
   "metadata": {},
   "outputs": [],
   "source": [
    "import tensorflow as tf\n",
    "model = tf.keras.models.load_model('models\\\\final\\\\FINAL_gru_known.h5')"
   ]
  },
  {
   "cell_type": "code",
   "execution_count": 39,
   "metadata": {},
   "outputs": [],
   "source": [
    "# model.predict(test.batch(32))"
   ]
  },
  {
   "cell_type": "code",
   "execution_count": 11,
   "metadata": {},
   "outputs": [],
   "source": [
    "import numpy as np\n",
    "import models\n",
    "from models import Lstm, Gru, Transformer, TransformerBlock\n",
    "from dataset import LABELS\n",
    "import pandas as pd\n",
    "\n",
    "class final_model_SKL:\n",
    "    def __init__(self, name, test, batch_size=32):\n",
    "\n",
    "        model_known = tf.keras.models.load_model(f'models\\\\final\\\\FINAL_{name}_known.h5')\n",
    "        model_label = tf.keras.models.load_model(f'models\\\\final\\\\FINAL_{name}_labels_only.h5')\n",
    "        \n",
    "        self.model_known = model_known\n",
    "        self.model_label = model_label\n",
    "        self.test = test\n",
    "        self.batch_size = batch_size\n",
    "        self.name = name\n",
    "\n",
    "        LABELS_dict = {i:LABELS[i] for i in range(len(LABELS))}\n",
    "        LABELS_dict[10] = 'unknown'\n",
    "        self.LABELS_dict = LABELS_dict\n",
    "\n",
    "        self.predicted_labels = None\n",
    "        self.silence_labels = None\n",
    "\n",
    "    def predict_silence(self):\n",
    "        self.silence_labels = pd.read_pickle('silence_detected.pkl')\n",
    "    \n",
    "    def predict_label(self):\n",
    "        self.predicted_labels = self.model_label.predict(self.test.batch(self.batch_size))\n",
    "\n",
    "    def predict_if_known(self):\n",
    "        self.predicted_labels_known = self.model_known.predict(self.test.batch(self.batch_size))\n",
    "\n",
    "    def save_results(self, name):\n",
    "        df = pd.read_csv('sample_submission.csv')\n",
    "        x = pd.concat([pd.DataFrame(self.predicted_labels), pd.DataFrame(self.silence_labels)], axis=1)\n",
    "        x.columns = ['label', 'silence']\n",
    "        res = np.where(x['silence'] == 0 , 'silence', x['label'].apply(lambda x: self.LABELS_dict[x]))\n",
    "        df['label'] = res\n",
    "        df.to_csv(f'results\\\\submission_{name}.csv', index=False, header=True)"
   ]
  },
  {
   "cell_type": "code",
   "execution_count": 12,
   "metadata": {},
   "outputs": [],
   "source": [
    "d = final_model_SKL('lstm', test, batch_size=32)"
   ]
  },
  {
   "cell_type": "code",
   "execution_count": 15,
   "metadata": {},
   "outputs": [
    {
     "name": "stdout",
     "output_type": "stream",
     "text": [
      "4955/4955 [==============================] - 311s 62ms/step\n",
      "4955/4955 [==============================] - 484s 97ms/step\n"
     ]
    }
   ],
   "source": [
    "d.predict_label()\n",
    "d.predict_silence()\n",
    "d.predict_if_known()"
   ]
  },
  {
   "cell_type": "code",
   "execution_count": 34,
   "metadata": {},
   "outputs": [],
   "source": [
    "df = pd.read_csv('sample_submission.csv')\n",
    "x = pd.concat([pd.DataFrame(np.argmax(d.predicted_labels, axis=1)),pd.DataFrame(d.silence_labels), pd.DataFrame(np.argmax(d.predicted_labels_known, axis=1))], axis=1)\n",
    "x.columns = ['label', 'silence','unknown']\n",
    "# unknown == 1 => unknown\n",
    "res = np.where(x['silence'] == 0 , 'silence', np.where((x['unknown'] == 1) , 'unknown', 'dupa'))\n",
    "df['label'] = res\n",
    "name = 'lstm'\n",
    "df.to_csv(f'results/FINAL_submission_SKL_{name}.csv', index=False, header=True)"
   ]
  },
  {
   "cell_type": "code",
   "execution_count": 40,
   "metadata": {},
   "outputs": [
    {
     "name": "stdout",
     "output_type": "stream",
     "text": [
      "213/213 [==============================] - 27s 106ms/step\n"
     ]
    }
   ],
   "source": [
    "from dataset import unknown_detection_validation\n",
    "x = d.model_known.predict(unknown_detection_validation.batch(32))"
   ]
  },
  {
   "cell_type": "code",
   "execution_count": 46,
   "metadata": {},
   "outputs": [
    {
     "data": {
      "text/plain": [
       "1    4203\n",
       "0    2595\n",
       "dtype: int64"
      ]
     },
     "execution_count": 46,
     "metadata": {},
     "output_type": "execute_result"
    }
   ],
   "source": [
    "pd.DataFrame(np.argmax(x,axis=1)).value_counts()"
   ]
  },
  {
   "cell_type": "code",
   "execution_count": 36,
   "metadata": {},
   "outputs": [
    {
     "data": {
      "text/plain": [
       "1    93924\n",
       "0    64614\n",
       "Name: unknown, dtype: int64"
      ]
     },
     "execution_count": 36,
     "metadata": {},
     "output_type": "execute_result"
    }
   ],
   "source": [
    "x.unknown.value_counts()"
   ]
  },
  {
   "attachments": {},
   "cell_type": "markdown",
   "metadata": {},
   "source": [
    "# Gru"
   ]
  },
  {
   "cell_type": "code",
   "execution_count": 37,
   "metadata": {},
   "outputs": [
    {
     "ename": "OSError",
     "evalue": "No file or directory found at models\\final\\FINAL_gru_known.h5",
     "output_type": "error",
     "traceback": [
      "\u001b[1;31m---------------------------------------------------------------------------\u001b[0m",
      "\u001b[1;31mOSError\u001b[0m                                   Traceback (most recent call last)",
      "\u001b[1;32md:\\deep\\Deep_Learning\\RNN\\final_model.ipynb Cell 13\u001b[0m in \u001b[0;36m1\n\u001b[1;32m----> <a href='vscode-notebook-cell:/d%3A/deep/Deep_Learning/RNN/final_model.ipynb#X33sZmlsZQ%3D%3D?line=0'>1</a>\u001b[0m d \u001b[39m=\u001b[39m final_model_SKL(\u001b[39m'\u001b[39;49m\u001b[39mgru\u001b[39;49m\u001b[39m'\u001b[39;49m, test, batch_size\u001b[39m=\u001b[39;49m\u001b[39m32\u001b[39;49m)\n",
      "\u001b[1;32md:\\deep\\Deep_Learning\\RNN\\final_model.ipynb Cell 13\u001b[0m in \u001b[0;36m1\n\u001b[0;32m      <a href='vscode-notebook-cell:/d%3A/deep/Deep_Learning/RNN/final_model.ipynb#X33sZmlsZQ%3D%3D?line=7'>8</a>\u001b[0m \u001b[39mdef\u001b[39;00m \u001b[39m__init__\u001b[39m(\u001b[39mself\u001b[39m, name, test, batch_size\u001b[39m=\u001b[39m\u001b[39m32\u001b[39m):\n\u001b[1;32m---> <a href='vscode-notebook-cell:/d%3A/deep/Deep_Learning/RNN/final_model.ipynb#X33sZmlsZQ%3D%3D?line=9'>10</a>\u001b[0m     model_known \u001b[39m=\u001b[39m tf\u001b[39m.\u001b[39;49mkeras\u001b[39m.\u001b[39;49mmodels\u001b[39m.\u001b[39;49mload_model(\u001b[39mf\u001b[39;49m\u001b[39m'\u001b[39;49m\u001b[39mmodels\u001b[39;49m\u001b[39m\\\\\u001b[39;49;00m\u001b[39mfinal\u001b[39;49m\u001b[39m\\\\\u001b[39;49;00m\u001b[39mFINAL_\u001b[39;49m\u001b[39m{\u001b[39;49;00mname\u001b[39m}\u001b[39;49;00m\u001b[39m_known.h5\u001b[39;49m\u001b[39m'\u001b[39;49m)\n\u001b[0;32m     <a href='vscode-notebook-cell:/d%3A/deep/Deep_Learning/RNN/final_model.ipynb#X33sZmlsZQ%3D%3D?line=10'>11</a>\u001b[0m     model_label \u001b[39m=\u001b[39m tf\u001b[39m.\u001b[39mkeras\u001b[39m.\u001b[39mmodels\u001b[39m.\u001b[39mload_model(\u001b[39mf\u001b[39m\u001b[39m'\u001b[39m\u001b[39mmodels\u001b[39m\u001b[39m\\\\\u001b[39;00m\u001b[39mfinal\u001b[39m\u001b[39m\\\\\u001b[39;00m\u001b[39mFINAL_\u001b[39m\u001b[39m{\u001b[39;00mname\u001b[39m}\u001b[39;00m\u001b[39m_labels_only.h5\u001b[39m\u001b[39m'\u001b[39m)\n\u001b[0;32m     <a href='vscode-notebook-cell:/d%3A/deep/Deep_Learning/RNN/final_model.ipynb#X33sZmlsZQ%3D%3D?line=12'>13</a>\u001b[0m     \u001b[39mself\u001b[39m\u001b[39m.\u001b[39mmodel_known \u001b[39m=\u001b[39m model_known\n",
      "File \u001b[1;32mc:\\Users\\mikol\\AppData\\Local\\Programs\\Python\\Python310\\lib\\site-packages\\keras\\utils\\traceback_utils.py:70\u001b[0m, in \u001b[0;36mfilter_traceback.<locals>.error_handler\u001b[1;34m(*args, **kwargs)\u001b[0m\n\u001b[0;32m     67\u001b[0m     filtered_tb \u001b[39m=\u001b[39m _process_traceback_frames(e\u001b[39m.\u001b[39m__traceback__)\n\u001b[0;32m     68\u001b[0m     \u001b[39m# To get the full stack trace, call:\u001b[39;00m\n\u001b[0;32m     69\u001b[0m     \u001b[39m# `tf.debugging.disable_traceback_filtering()`\u001b[39;00m\n\u001b[1;32m---> 70\u001b[0m     \u001b[39mraise\u001b[39;00m e\u001b[39m.\u001b[39mwith_traceback(filtered_tb) \u001b[39mfrom\u001b[39;00m \u001b[39mNone\u001b[39m\n\u001b[0;32m     71\u001b[0m \u001b[39mfinally\u001b[39;00m:\n\u001b[0;32m     72\u001b[0m     \u001b[39mdel\u001b[39;00m filtered_tb\n",
      "File \u001b[1;32mc:\\Users\\mikol\\AppData\\Local\\Programs\\Python\\Python310\\lib\\site-packages\\keras\\saving\\legacy\\save.py:227\u001b[0m, in \u001b[0;36mload_model\u001b[1;34m(filepath, custom_objects, compile, options)\u001b[0m\n\u001b[0;32m    225\u001b[0m \u001b[39mif\u001b[39;00m \u001b[39misinstance\u001b[39m(filepath_str, \u001b[39mstr\u001b[39m):\n\u001b[0;32m    226\u001b[0m     \u001b[39mif\u001b[39;00m \u001b[39mnot\u001b[39;00m tf\u001b[39m.\u001b[39mio\u001b[39m.\u001b[39mgfile\u001b[39m.\u001b[39mexists(filepath_str):\n\u001b[1;32m--> 227\u001b[0m         \u001b[39mraise\u001b[39;00m \u001b[39mIOError\u001b[39;00m(\n\u001b[0;32m    228\u001b[0m             \u001b[39mf\u001b[39m\u001b[39m\"\u001b[39m\u001b[39mNo file or directory found at \u001b[39m\u001b[39m{\u001b[39;00mfilepath_str\u001b[39m}\u001b[39;00m\u001b[39m\"\u001b[39m\n\u001b[0;32m    229\u001b[0m         )\n\u001b[0;32m    231\u001b[0m     \u001b[39mif\u001b[39;00m tf\u001b[39m.\u001b[39mio\u001b[39m.\u001b[39mgfile\u001b[39m.\u001b[39misdir(filepath_str):\n\u001b[0;32m    232\u001b[0m         \u001b[39mreturn\u001b[39;00m saved_model_load\u001b[39m.\u001b[39mload(\n\u001b[0;32m    233\u001b[0m             filepath_str, \u001b[39mcompile\u001b[39m, options\n\u001b[0;32m    234\u001b[0m         )\n",
      "\u001b[1;31mOSError\u001b[0m: No file or directory found at models\\final\\FINAL_gru_known.h5"
     ]
    }
   ],
   "source": [
    "d = final_model_SKL('gru', test, batch_size=32)"
   ]
  },
  {
   "cell_type": "code",
   "execution_count": null,
   "metadata": {},
   "outputs": [],
   "source": []
  },
  {
   "cell_type": "code",
   "execution_count": null,
   "metadata": {},
   "outputs": [],
   "source": []
  },
  {
   "cell_type": "code",
   "execution_count": null,
   "metadata": {},
   "outputs": [],
   "source": []
  },
  {
   "cell_type": "code",
   "execution_count": null,
   "metadata": {},
   "outputs": [],
   "source": []
  },
  {
   "cell_type": "code",
   "execution_count": 4,
   "metadata": {},
   "outputs": [],
   "source": [
    "model = Gru(from_path = 'models\\\\gru_mod.h5')\n",
    "model2 = Transformer(from_path = 'models\\\\transformer_mod.h5')\n",
    "d = final_model(model, test, test_silence)"
   ]
  },
  {
   "cell_type": "code",
   "execution_count": 24,
   "metadata": {},
   "outputs": [],
   "source": [
    "d.predict_silence()"
   ]
  },
  {
   "cell_type": "code",
   "execution_count": null,
   "metadata": {},
   "outputs": [],
   "source": [
    "d.predict_label()"
   ]
  },
  {
   "cell_type": "code",
   "execution_count": 32,
   "metadata": {},
   "outputs": [
    {
     "name": "stdout",
     "output_type": "stream",
     "text": [
      "Number of silences: 801\n",
      "Total number of observations: 158538\n"
     ]
    }
   ],
   "source": [
    "print('Number of silences:', len(d.test) - d.silence_labels.sum())\n",
    "print('Total number of observations:', len(d.test))"
   ]
  },
  {
   "cell_type": "code",
   "execution_count": null,
   "metadata": {},
   "outputs": [],
   "source": [
    "d.save_results()"
   ]
  },
  {
   "cell_type": "code",
   "execution_count": 33,
   "metadata": {},
   "outputs": [],
   "source": [
    "\n",
    "class ensamble_model:\n",
    "    def __init__(self):\n",
    "        # train = pd.read_pickle('features_test_silence.pkl')\n",
    "        # y_train = np.array([x[1] for x in train])\n",
    "        # labels = list(np.unique(y_train))\n",
    "        # self.labels_silence = labels\n",
    "        # self.silence_det = TensorflowDataset('features_test_silence.pkl', labels=self.labels_silence).dataset\n",
    "        \n",
    "        train = pd.read_pickle('features_test.pkl')\n",
    "        y_train = np.array([x[1] for x in train])\n",
    "        labels = list(np.unique(y_train))\n",
    "        self.labels_label = labels\n",
    "        self.label_det = TensorflowDataset('features_test.pkl', labels=self.labels_label).dataset\n",
    "    \n",
    "        self.silence_model = tf.keras.models.load_model('models\\\\silence_model.h5')\n",
    "        self.final_model = 'dupa'#tf.keras.models.load_model('models\\\\final_model.h5')\n",
    "    \n",
    "    def predict_silence(self):\n",
    "        pred = self.silence_model.predict(self.silence_det)\n",
    "\n",
    "\n",
    "    def save():\n",
    "        # otwórz plik csv do zapisu\n",
    "        with open('predictions.csv', mode='w', newline='') as file:\n",
    "            # utwórz obiekt writer i ustaw separator na przecinek\n",
    "            writer = csv.writer(file, delimiter=',')\n",
    "            \n",
    "            # zapisz nagłówek\n",
    "            writer.writerow(['col1', 'col2', 'col3', 'col4', 'prediction'])\n",
    "            \n",
    "            # zapisz dane i przewidywania\n",
    "            for i in range(len(data)):\n",
    "                row = data[i] + [predictions[i]]\n",
    "                writer.writerow(row)\n",
    "\n"
   ]
  }
 ],
 "metadata": {
  "kernelspec": {
   "display_name": "Python 3",
   "language": "python",
   "name": "python3"
  },
  "language_info": {
   "codemirror_mode": {
    "name": "ipython",
    "version": 3
   },
   "file_extension": ".py",
   "mimetype": "text/x-python",
   "name": "python",
   "nbconvert_exporter": "python",
   "pygments_lexer": "ipython3",
   "version": "3.10.8"
  },
  "orig_nbformat": 4
 },
 "nbformat": 4,
 "nbformat_minor": 2
}
