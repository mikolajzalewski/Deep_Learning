{
 "cells": [
  {
   "cell_type": "code",
   "execution_count": 1,
   "metadata": {},
   "outputs": [],
   "source": [
    "from models import Ensemble, Gru\n",
    "import pandas as pd\n",
    "import tensorflow as tf\n",
    "import numpy as np\n",
    "import os\n",
    "from dataset import LABELS"
   ]
  },
  {
   "attachments": {},
   "cell_type": "markdown",
   "metadata": {},
   "source": [
    "# Prepare data"
   ]
  },
  {
   "cell_type": "code",
   "execution_count": 3,
   "metadata": {},
   "outputs": [],
   "source": [
    "# If you download the file from https://drive.google.com/file/d/1DVdjHTMePQvo_fouEO17QIcfPPstDpmm/view?usp=sharing save features_test.pkl as test data and silence_detected.pkl as silence.\n",
    "\n",
    "test_data = pd.read_pickle('extracted_features\\\\features_test.pkl')\n",
    "test = tf.data.Dataset.from_tensor_slices((test_data, np.zeros(len(test_data))))\n",
    "\n",
    "silence = pd.read_pickle('extracted_features\\\\silence_detected.pkl')"
   ]
  },
  {
   "cell_type": "code",
   "execution_count": 5,
   "metadata": {},
   "outputs": [],
   "source": [
    "LABELS_dict = {i:LABELS[i] for i in range(len(LABELS))}\n",
    "LABELS_dict[10] = 'unknown'"
   ]
  },
  {
   "attachments": {},
   "cell_type": "markdown",
   "metadata": {},
   "source": [
    "# Single, best GRU model submission"
   ]
  },
  {
   "cell_type": "code",
   "execution_count": null,
   "metadata": {},
   "outputs": [],
   "source": [
    "pred = Gru(from_path='models\\\\best_gru_label_vs_unknown.h5').predict(test)"
   ]
  },
  {
   "cell_type": "code",
   "execution_count": null,
   "metadata": {},
   "outputs": [],
   "source": [
    "x = pd.concat([pd.DataFrame(pred), pd.DataFrame(silence)], axis=1)\n",
    "x.columns = ['label', 'silence']\n",
    "res = np.where(x['silence'] == 0 , 'silence', x['label'].apply(lambda x: LABELS_dict[x]))\n",
    "res = pd.DataFrame(res)\n",
    "res.columns = ['label_prediction']"
   ]
  },
  {
   "cell_type": "code",
   "execution_count": null,
   "metadata": {},
   "outputs": [],
   "source": [
    "df = pd.read_csv('submissions\\\\sample_submission.csv', header = 0)\n",
    "df['label'] = res\n",
    "df.to_csv(f'submissions\\\\submission_best_gru.csv', index=False, header=True)"
   ]
  },
  {
   "attachments": {},
   "cell_type": "markdown",
   "metadata": {},
   "source": [
    "# Ensemble submission"
   ]
  },
  {
   "cell_type": "code",
   "execution_count": 3,
   "metadata": {},
   "outputs": [],
   "source": [
    "model_paths = os.listdir('models\\\\ensemble\\\\')\n",
    "model_paths = ['models\\\\ensemble\\\\' + path for path in model_paths]"
   ]
  },
  {
   "cell_type": "code",
   "execution_count": 4,
   "metadata": {},
   "outputs": [],
   "source": [
    "ensemble = Ensemble(model_paths=model_paths)"
   ]
  },
  {
   "attachments": {},
   "cell_type": "markdown",
   "metadata": {},
   "source": [
    "## Prepare submission mean"
   ]
  },
  {
   "cell_type": "code",
   "execution_count": null,
   "metadata": {},
   "outputs": [],
   "source": [
    "pred = ensemble.predict_mean(test.batch(10))"
   ]
  },
  {
   "cell_type": "code",
   "execution_count": 7,
   "metadata": {},
   "outputs": [],
   "source": [
    "x = pd.concat([pd.DataFrame(pred), pd.DataFrame(silence)], axis=1)\n",
    "x.columns = ['label', 'silence']\n",
    "res = np.where(x['silence'] == 0 , 'silence', x['label'].apply(lambda x: LABELS_dict[x]))\n",
    "res = pd.DataFrame(res)\n",
    "res.columns = ['label_prediction']"
   ]
  },
  {
   "cell_type": "code",
   "execution_count": 8,
   "metadata": {},
   "outputs": [],
   "source": [
    "df = pd.read_csv('submissions\\\\sample_submission.csv', header = 0)\n",
    "df['label'] = res\n",
    "df.to_csv(f'submissions\\\\submission_ensemble_mean.csv', index=False, header=True)"
   ]
  },
  {
   "attachments": {},
   "cell_type": "markdown",
   "metadata": {},
   "source": [
    "## Prepare submission max"
   ]
  },
  {
   "cell_type": "code",
   "execution_count": null,
   "metadata": {},
   "outputs": [],
   "source": [
    "pred2 = ensemble.predict_max(test.batch(10))"
   ]
  },
  {
   "cell_type": "code",
   "execution_count": null,
   "metadata": {},
   "outputs": [],
   "source": [
    "x = pd.concat([pd.DataFrame(pred2), pd.DataFrame(silence)], axis=1)\n",
    "x.columns = ['label', 'silence']\n",
    "res = np.where(x['silence'] == 0 , 'silence', x['label'].apply(lambda x: LABELS_dict[x]))\n",
    "res = pd.DataFrame(res)\n",
    "res.columns = ['label_prediction']"
   ]
  },
  {
   "cell_type": "code",
   "execution_count": null,
   "metadata": {},
   "outputs": [],
   "source": [
    "df = pd.read_csv('submissions\\\\sample_submission.csv', header = 0)\n",
    "df['label'] = res\n",
    "df.to_csv(f'submissions\\\\submission_ensemble_max.csv', index=False, header=True)"
   ]
  }
 ],
 "metadata": {
  "kernelspec": {
   "display_name": "venv",
   "language": "python",
   "name": "python3"
  },
  "language_info": {
   "codemirror_mode": {
    "name": "ipython",
    "version": 3
   },
   "file_extension": ".py",
   "mimetype": "text/x-python",
   "name": "python",
   "nbconvert_exporter": "python",
   "pygments_lexer": "ipython3",
   "version": "3.10.7"
  },
  "orig_nbformat": 4
 },
 "nbformat": 4,
 "nbformat_minor": 2
}
