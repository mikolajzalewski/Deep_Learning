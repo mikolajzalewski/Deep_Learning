{
 "cells": [
  {
   "cell_type": "code",
   "execution_count": 1,
   "metadata": {},
   "outputs": [
    {
     "name": "stderr",
     "output_type": "stream",
     "text": [
      "c:\\Users\\mikol\\AppData\\Local\\Programs\\Python\\Python310\\lib\\site-packages\\tqdm\\auto.py:22: TqdmWarning: IProgress not found. Please update jupyter and ipywidgets. See https://ipywidgets.readthedocs.io/en/stable/user_install.html\n",
      "  from .autonotebook import tqdm as notebook_tqdm\n"
     ]
    }
   ],
   "source": [
    "from dataset import TensorflowDataset\n",
    "import tensorflow as tf\n",
    "import numpy as np\n",
    "import pandas as pd\n",
    "import csv\n",
    "# \n",
    "test_data = pd.read_pickle('extracted_features\\\\features_test.pkl')\n",
    "test = tf.data.Dataset.from_tensor_slices((test_data, np.zeros(len(test_data))))"
   ]
  },
  {
   "cell_type": "code",
   "execution_count": 2,
   "metadata": {},
   "outputs": [],
   "source": [
    "import numpy as np\n",
    "import models\n",
    "from models import Lstm, Gru, Transformer, TransformerBlock\n",
    "from dataset import LABELS\n",
    "import pandas as pd\n",
    "\n",
    "class final_model:\n",
    "    def __init__(self, model, test, batch_size=32):\n",
    "\n",
    "        self.model = model\n",
    "        self.test = test\n",
    "        # self.test_silence = test_silence\n",
    "        self.batch_size = batch_size\n",
    "\n",
    "        LABELS_dict = {i:LABELS[i] for i in range(len(LABELS))}\n",
    "        LABELS_dict[10] = 'unknown'\n",
    "        self.LABELS_dict = LABELS_dict\n",
    "\n",
    "        self.predicted_labels = None\n",
    "        self.silence_labels = None\n",
    "\n",
    "    def predict_silence(self):#, model_path='models\\\\lstm_silence.h5'):\n",
    "        # model_sil = tf.keras.models.load_model(model_path)\n",
    "        # self.silence_labels = np.argmax(model_sil.predict(self.test.batch(self.batch_size)), axis=1)\n",
    "        self.silence_labels = lis = pd.read_pickle('silence_detected.pkl')\n",
    "    \n",
    "    def predict_label(self):\n",
    "        self.predicted_labels = np.argmax(self.model.predict(self.test.batch(self.batch_size)), axis=1)\n",
    "\n",
    "    def predict_if_known(self):\n",
    "        self.model_known = tf.keras.models.load_model('models/final/TEST_lstm_known.h5')\n",
    "        self.predicted_labels_known = np.argmax(self.model_known.predict(self.test.batch(self.batch_size)), axis=1)\n",
    "    \n",
    "    def predict_label_transformer(self):\n",
    "        model  = tf.keras.models.load_model('models\\\\transformer.h5')\n",
    "        self.predicted_labels = self.model.predict(self.test)\n",
    "\n",
    "    # def save_results(self, submission_name=''):\n",
    "    #     x = pd.concat([pd.DataFrame(self.predicted_labels), pd.DataFrame(self.silence_labels)], axis=1)\n",
    "    #     x.columns = ['label', 'silence']\n",
    "    #     res = np.where(x['silence'] == 0 , 'silence', x['label'].apply(lambda x: self.LABELS_dict[x]))\n",
    "    #     res = pd.DataFrame(res)\n",
    "    #     res.columns = ['label_prediction']\n",
    "    #     res.to_csv(f'results\\\\submission_{submission_name}.csv', index=False, header=True)\n",
    "\n",
    "    def save_results(self, name):\n",
    "        df = pd.read_csv('sample_submission.csv')\n",
    "        x = pd.concat([pd.DataFrame(self.predicted_labels), pd.DataFrame(self.silence_labels)], axis=1)\n",
    "        x.columns = ['label', 'silence']\n",
    "        res = np.where(x['silence'] == 0 , 'silence', x['label'].apply(lambda x: self.LABELS_dict[x]))\n",
    "        df['label'] = res\n",
    "        df.to_csv(f'results\\\\submission_{name}.csv', index=False, header=True)"
   ]
  },
  {
   "cell_type": "code",
   "execution_count": null,
   "metadata": {},
   "outputs": [],
   "source": []
  }
 ],
 "metadata": {
  "kernelspec": {
   "display_name": "Python 3",
   "language": "python",
   "name": "python3"
  },
  "language_info": {
   "codemirror_mode": {
    "name": "ipython",
    "version": 3
   },
   "file_extension": ".py",
   "mimetype": "text/x-python",
   "name": "python",
   "nbconvert_exporter": "python",
   "pygments_lexer": "ipython3",
   "version": "3.10.8"
  },
  "orig_nbformat": 4
 },
 "nbformat": 4,
 "nbformat_minor": 2
}
