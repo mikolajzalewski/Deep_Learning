{
 "cells": [
  {
   "cell_type": "code",
   "execution_count": 15,
   "metadata": {},
   "outputs": [],
   "source": [
    "import librosa\n",
    "import os\n",
    "import pickle\n",
    "import numpy as np\n",
    "import pandas as pd\n",
    "import random\n",
    "from tqdm import tqdm\n",
    "\n",
    "from preprocessing import perform_vad, resample_wav, padding, cut_wav_into_clips, extract_features\n"
   ]
  },
  {
   "attachments": {},
   "cell_type": "markdown",
   "metadata": {},
   "source": [
    "# Feature extraction"
   ]
  },
  {
   "cell_type": "code",
   "execution_count": 9,
   "metadata": {},
   "outputs": [],
   "source": [
    "wav_dir = \"train\\\\audio\""
   ]
  },
  {
   "attachments": {},
   "cell_type": "markdown",
   "metadata": {},
   "source": [
    "## `unknown` detection / `label` classification"
   ]
  },
  {
   "attachments": {},
   "cell_type": "markdown",
   "metadata": {},
   "source": [
    "### Training part"
   ]
  },
  {
   "cell_type": "code",
   "execution_count": 10,
   "metadata": {},
   "outputs": [],
   "source": [
    "labels_path = 'train\\\\testing_list.txt'\n",
    "with open(labels_path, \"r\") as f:\n",
    "    lines = f.readlines()\n",
    "file_paths_train = [line.strip() for line in lines]\n"
   ]
  },
  {
   "cell_type": "code",
   "execution_count": 11,
   "metadata": {},
   "outputs": [
    {
     "name": "stderr",
     "output_type": "stream",
     "text": [
      "  1%|          | 73/6835 [00:03<05:46, 19.50it/s]\n"
     ]
    },
    {
     "ename": "KeyboardInterrupt",
     "evalue": "",
     "output_type": "error",
     "traceback": [
      "\u001b[1;31m---------------------------------------------------------------------------\u001b[0m",
      "\u001b[1;31mKeyboardInterrupt\u001b[0m                         Traceback (most recent call last)",
      "Cell \u001b[1;32mIn[11], line 14\u001b[0m\n\u001b[0;32m     11\u001b[0m resample_wav(wav_file2, wav_file2, \u001b[39m8000\u001b[39m)\n\u001b[0;32m     13\u001b[0m \u001b[39m# Extract features\u001b[39;00m\n\u001b[1;32m---> 14\u001b[0m features \u001b[39m=\u001b[39m extract_features(wav_file2)\n\u001b[0;32m     16\u001b[0m \u001b[39m# Add to the list\u001b[39;00m\n\u001b[0;32m     17\u001b[0m features_train\u001b[39m.\u001b[39mappend([features, label])\n",
      "File \u001b[1;32mc:\\Users\\jan20\\OneDrive\\Pulpit\\DS\\sem2\\Deep_learning\\Deep_Learning\\RNN\\preprocessing.py:212\u001b[0m, in \u001b[0;36mextract_features\u001b[1;34m(wav_file_path, mfccs, deltas, delta_deltas)\u001b[0m\n\u001b[0;32m    202\u001b[0m \u001b[39mdef\u001b[39;00m \u001b[39mextract_features\u001b[39m(wav_file_path, mfccs\u001b[39m=\u001b[39m\u001b[39mTrue\u001b[39;00m, deltas\u001b[39m=\u001b[39m\u001b[39mTrue\u001b[39;00m, delta_deltas\u001b[39m=\u001b[39m\u001b[39mTrue\u001b[39;00m):\n\u001b[0;32m    203\u001b[0m \u001b[39m    \u001b[39m\u001b[39m\"\"\"\u001b[39;00m\n\u001b[0;32m    204\u001b[0m \u001b[39m    Extracts features from a wav file.\u001b[39;00m\n\u001b[0;32m    205\u001b[0m \u001b[39m    Parameters:\u001b[39;00m\n\u001b[1;32m   (...)\u001b[0m\n\u001b[0;32m    209\u001b[0m \u001b[39m    label: label of the wav file\u001b[39;00m\n\u001b[0;32m    210\u001b[0m \u001b[39m    \"\"\"\u001b[39;00m\n\u001b[1;32m--> 212\u001b[0m     audio, sample_rate \u001b[39m=\u001b[39m librosa\u001b[39m.\u001b[39;49mload(wav_file_path)\n\u001b[0;32m    214\u001b[0m     \u001b[39mif\u001b[39;00m mfccs:\n\u001b[0;32m    215\u001b[0m         mfccs \u001b[39m=\u001b[39m librosa\u001b[39m.\u001b[39mfeature\u001b[39m.\u001b[39mmfcc(y\u001b[39m=\u001b[39maudio, sr\u001b[39m=\u001b[39msample_rate, n_mfcc\u001b[39m=\u001b[39m\u001b[39m13\u001b[39m)\n",
      "File \u001b[1;32mc:\\Users\\jan20\\PycharmProjects\\PytorchProjects\\venv\\lib\\site-packages\\librosa\\core\\audio.py:176\u001b[0m, in \u001b[0;36mload\u001b[1;34m(path, sr, mono, offset, duration, dtype, res_type)\u001b[0m\n\u001b[0;32m    173\u001b[0m \u001b[39melse\u001b[39;00m:\n\u001b[0;32m    174\u001b[0m     \u001b[39m# Otherwise try soundfile first, and then fall back if necessary\u001b[39;00m\n\u001b[0;32m    175\u001b[0m     \u001b[39mtry\u001b[39;00m:\n\u001b[1;32m--> 176\u001b[0m         y, sr_native \u001b[39m=\u001b[39m __soundfile_load(path, offset, duration, dtype)\n\u001b[0;32m    178\u001b[0m     \u001b[39mexcept\u001b[39;00m sf\u001b[39m.\u001b[39mSoundFileRuntimeError \u001b[39mas\u001b[39;00m exc:\n\u001b[0;32m    179\u001b[0m         \u001b[39m# If soundfile failed, try audioread instead\u001b[39;00m\n\u001b[0;32m    180\u001b[0m         \u001b[39mif\u001b[39;00m \u001b[39misinstance\u001b[39m(path, (\u001b[39mstr\u001b[39m, pathlib\u001b[39m.\u001b[39mPurePath)):\n",
      "File \u001b[1;32mc:\\Users\\jan20\\PycharmProjects\\PytorchProjects\\venv\\lib\\site-packages\\librosa\\core\\audio.py:209\u001b[0m, in \u001b[0;36m__soundfile_load\u001b[1;34m(path, offset, duration, dtype)\u001b[0m\n\u001b[0;32m    206\u001b[0m     context \u001b[39m=\u001b[39m path\n\u001b[0;32m    207\u001b[0m \u001b[39melse\u001b[39;00m:\n\u001b[0;32m    208\u001b[0m     \u001b[39m# Otherwise, create the soundfile object\u001b[39;00m\n\u001b[1;32m--> 209\u001b[0m     context \u001b[39m=\u001b[39m sf\u001b[39m.\u001b[39;49mSoundFile(path)\n\u001b[0;32m    211\u001b[0m \u001b[39mwith\u001b[39;00m context \u001b[39mas\u001b[39;00m sf_desc:\n\u001b[0;32m    212\u001b[0m     sr_native \u001b[39m=\u001b[39m sf_desc\u001b[39m.\u001b[39msamplerate\n",
      "File \u001b[1;32mc:\\Users\\jan20\\PycharmProjects\\PytorchProjects\\venv\\lib\\site-packages\\soundfile.py:658\u001b[0m, in \u001b[0;36mSoundFile.__init__\u001b[1;34m(self, file, mode, samplerate, channels, subtype, endian, format, closefd)\u001b[0m\n\u001b[0;32m    655\u001b[0m \u001b[39mself\u001b[39m\u001b[39m.\u001b[39m_mode \u001b[39m=\u001b[39m mode\n\u001b[0;32m    656\u001b[0m \u001b[39mself\u001b[39m\u001b[39m.\u001b[39m_info \u001b[39m=\u001b[39m _create_info_struct(file, mode, samplerate, channels,\n\u001b[0;32m    657\u001b[0m                                  \u001b[39mformat\u001b[39m, subtype, endian)\n\u001b[1;32m--> 658\u001b[0m \u001b[39mself\u001b[39m\u001b[39m.\u001b[39m_file \u001b[39m=\u001b[39m \u001b[39mself\u001b[39;49m\u001b[39m.\u001b[39;49m_open(file, mode_int, closefd)\n\u001b[0;32m    659\u001b[0m \u001b[39mif\u001b[39;00m \u001b[39mset\u001b[39m(mode)\u001b[39m.\u001b[39missuperset(\u001b[39m'\u001b[39m\u001b[39mr+\u001b[39m\u001b[39m'\u001b[39m) \u001b[39mand\u001b[39;00m \u001b[39mself\u001b[39m\u001b[39m.\u001b[39mseekable():\n\u001b[0;32m    660\u001b[0m     \u001b[39m# Move write position to 0 (like in Python file objects)\u001b[39;00m\n\u001b[0;32m    661\u001b[0m     \u001b[39mself\u001b[39m\u001b[39m.\u001b[39mseek(\u001b[39m0\u001b[39m)\n",
      "File \u001b[1;32mc:\\Users\\jan20\\PycharmProjects\\PytorchProjects\\venv\\lib\\site-packages\\soundfile.py:1205\u001b[0m, in \u001b[0;36mSoundFile._open\u001b[1;34m(self, file, mode_int, closefd)\u001b[0m\n\u001b[0;32m   1203\u001b[0m         \u001b[39melse\u001b[39;00m:\n\u001b[0;32m   1204\u001b[0m             file \u001b[39m=\u001b[39m file\u001b[39m.\u001b[39mencode(_sys\u001b[39m.\u001b[39mgetfilesystemencoding())\n\u001b[1;32m-> 1205\u001b[0m     file_ptr \u001b[39m=\u001b[39m openfunction(file, mode_int, \u001b[39mself\u001b[39;49m\u001b[39m.\u001b[39;49m_info)\n\u001b[0;32m   1206\u001b[0m \u001b[39melif\u001b[39;00m \u001b[39misinstance\u001b[39m(file, \u001b[39mint\u001b[39m):\n\u001b[0;32m   1207\u001b[0m     file_ptr \u001b[39m=\u001b[39m _snd\u001b[39m.\u001b[39msf_open_fd(file, mode_int, \u001b[39mself\u001b[39m\u001b[39m.\u001b[39m_info, closefd)\n",
      "\u001b[1;31mKeyboardInterrupt\u001b[0m: "
     ]
    }
   ],
   "source": [
    "features_train = []\n",
    "\n",
    "for i, file in tqdm(enumerate(file_paths_train), total=len(file_paths_train), leave=True):\n",
    "    wav_file = os.path.join(dir,file)\n",
    "    wav_file2 = 'working_sample.wav'\n",
    "    label = file.split('/')[0]\n",
    "\n",
    "    # Preprocess the data  \n",
    "    perform_vad(wav_file, wav_file2)\n",
    "    padding(wav_file2, wav_file2, 1000)\n",
    "    resample_wav(wav_file2, wav_file2, 8000)\n",
    "\n",
    "    # Extract features\n",
    "    features = extract_features(wav_file2)\n",
    "\n",
    "    # Add to the list\n",
    "    features_train.append([features, label])"
   ]
  },
  {
   "cell_type": "code",
   "execution_count": 15,
   "metadata": {},
   "outputs": [],
   "source": [
    "with open('extracted_features\\\\features_training.pkl', 'wb') as f:\n",
    "    pickle.dump(features_train, f)"
   ]
  },
  {
   "attachments": {},
   "cell_type": "markdown",
   "metadata": {},
   "source": [
    "### Validation part"
   ]
  },
  {
   "cell_type": "code",
   "execution_count": 12,
   "metadata": {},
   "outputs": [],
   "source": [
    "labels_path = 'train\\\\validation_list.txt'\n",
    "with open(labels_path, \"r\") as f:\n",
    "    lines = f.readlines()\n",
    "file_paths_val = [line.strip() for line in lines]"
   ]
  },
  {
   "cell_type": "code",
   "execution_count": 13,
   "metadata": {},
   "outputs": [
    {
     "name": "stderr",
     "output_type": "stream",
     "text": [
      "  1%|          | 69/6798 [00:04<06:36, 16.96it/s]\n"
     ]
    },
    {
     "ename": "KeyboardInterrupt",
     "evalue": "",
     "output_type": "error",
     "traceback": [
      "\u001b[1;31m---------------------------------------------------------------------------\u001b[0m",
      "\u001b[1;31mKeyboardInterrupt\u001b[0m                         Traceback (most recent call last)",
      "Cell \u001b[1;32mIn[13], line 10\u001b[0m\n\u001b[0;32m      8\u001b[0m \u001b[39m# Preprocess the data  \u001b[39;00m\n\u001b[0;32m      9\u001b[0m perform_vad(wav_file, wav_file2)\n\u001b[1;32m---> 10\u001b[0m padding(wav_file2, wav_file2, \u001b[39m1000\u001b[39;49m)\n\u001b[0;32m     11\u001b[0m resample_wav(wav_file2, wav_file2, \u001b[39m8000\u001b[39m)\n\u001b[0;32m     13\u001b[0m \u001b[39m# Extract features\u001b[39;00m\n",
      "File \u001b[1;32mc:\\Users\\jan20\\OneDrive\\Pulpit\\DS\\sem2\\Deep_learning\\Deep_Learning\\RNN\\preprocessing.py:180\u001b[0m, in \u001b[0;36mpadding\u001b[1;34m(wav_file_path, new_path, pad_ms)\u001b[0m\n\u001b[0;32m    170\u001b[0m \u001b[39mdef\u001b[39;00m \u001b[39mpadding\u001b[39m(wav_file_path, new_path, pad_ms\u001b[39m=\u001b[39m\u001b[39m1000\u001b[39m):\n\u001b[0;32m    172\u001b[0m \u001b[39m    \u001b[39m\u001b[39m\"\"\"\u001b[39;00m\n\u001b[0;32m    173\u001b[0m \u001b[39m    Pads a wav file with silence.\u001b[39;00m\n\u001b[0;32m    174\u001b[0m \u001b[39m    Parameters:\u001b[39;00m\n\u001b[1;32m   (...)\u001b[0m\n\u001b[0;32m    177\u001b[0m \u001b[39m    pad_ms: clip duration in milliseconds after padding\u001b[39;00m\n\u001b[0;32m    178\u001b[0m \u001b[39m    \"\"\"\u001b[39;00m\n\u001b[1;32m--> 180\u001b[0m     audio \u001b[39m=\u001b[39m AudioSegment\u001b[39m.\u001b[39;49mfrom_wav(wav_file_path)\n\u001b[0;32m    181\u001b[0m     silence \u001b[39m=\u001b[39m AudioSegment\u001b[39m.\u001b[39msilent(duration\u001b[39m=\u001b[39mpad_ms\u001b[39m-\u001b[39m\u001b[39mlen\u001b[39m(audio)\u001b[39m+\u001b[39m\u001b[39m1\u001b[39m)\n\u001b[0;32m    184\u001b[0m     padded \u001b[39m=\u001b[39m audio \u001b[39m+\u001b[39m silence\n",
      "File \u001b[1;32mc:\\Users\\jan20\\PycharmProjects\\PytorchProjects\\venv\\lib\\site-packages\\pydub\\audio_segment.py:808\u001b[0m, in \u001b[0;36mAudioSegment.from_wav\u001b[1;34m(cls, file, parameters)\u001b[0m\n\u001b[0;32m    806\u001b[0m \u001b[39m@classmethod\u001b[39m\n\u001b[0;32m    807\u001b[0m \u001b[39mdef\u001b[39;00m \u001b[39mfrom_wav\u001b[39m(\u001b[39mcls\u001b[39m, file, parameters\u001b[39m=\u001b[39m\u001b[39mNone\u001b[39;00m):\n\u001b[1;32m--> 808\u001b[0m     \u001b[39mreturn\u001b[39;00m \u001b[39mcls\u001b[39;49m\u001b[39m.\u001b[39;49mfrom_file(file, \u001b[39m'\u001b[39;49m\u001b[39mwav\u001b[39;49m\u001b[39m'\u001b[39;49m, parameters\u001b[39m=\u001b[39;49mparameters)\n",
      "\u001b[1;31mKeyboardInterrupt\u001b[0m: "
     ]
    }
   ],
   "source": [
    "features_val = []\n",
    "\n",
    "for i, file in tqdm(enumerate(file_paths_val), total=len(file_paths_val), leave=True):\n",
    "    wav_file = os.path.join(dir,file)\n",
    "    wav_file2 = 'working_sample.wav'\n",
    "    label = file.split('/')[0]\n",
    "\n",
    "    # Preprocess the data  \n",
    "    perform_vad(wav_file, wav_file2)\n",
    "    padding(wav_file2, wav_file2, 1000)\n",
    "    resample_wav(wav_file2, wav_file2, 8000)\n",
    "\n",
    "    # Extract features\n",
    "    features = extract_features(wav_file2)\n",
    "\n",
    "    # Add to the list\n",
    "    features_train.append([features, label])"
   ]
  },
  {
   "cell_type": "code",
   "execution_count": 4,
   "metadata": {},
   "outputs": [],
   "source": [
    "with open('extracted_features\\\\features_validation.pkl', 'wb') as f:\n",
    "    pickle.dump(features_val, f)"
   ]
  },
  {
   "attachments": {},
   "cell_type": "markdown",
   "metadata": {},
   "source": [
    "## `silence` detection"
   ]
  },
  {
   "attachments": {},
   "cell_type": "markdown",
   "metadata": {},
   "source": [
    "### Silence clips list creation"
   ]
  },
  {
   "cell_type": "code",
   "execution_count": null,
   "metadata": {},
   "outputs": [],
   "source": [
    "input_folder = \"train\\\\audio\\\\_background_noise_\"\n",
    "output_folder = \"train\\\\audio\\\\silence\"\n",
    "\n",
    "if not os.path.exists(output_folder):\n",
    "    os.makedirs(output_folder)\n",
    "\n",
    "for filename in os.listdir(input_folder):\n",
    "    if filename.endswith(\".wav\"):\n",
    "        cut_wav_into_clips(f\"{input_folder}\\\\{filename}\", output_folder, filename, clip_duration_ms=1000)"
   ]
  },
  {
   "cell_type": "code",
   "execution_count": 23,
   "metadata": {},
   "outputs": [],
   "source": [
    "dir_path = \"train\\\\audio\\\\silence\"\n",
    "\n",
    "file_list = os.listdir(dir_path)\n",
    "\n",
    "random.shuffle(file_list)\n",
    "\n",
    "# Split the list into two parts\n",
    "split_index = int(len(file_list) * 0.5)\n",
    "part1 = file_list[:split_index]\n",
    "part2 = file_list[split_index:]\n",
    "\n",
    "# Define the output file paths\n",
    "file1_path = \"train\\\\silence_testing_list.txt\"\n",
    "file2_path = \"train\\\\silence_validation_list.txt\"\n",
    "\n",
    "# Write the paths to the files to the output text files\n",
    "with open(file1_path, \"w\") as f1:\n",
    "    for file in part1:\n",
    "        f1.write(\"silence/\" + file + \"\\n\")\n",
    "\n",
    "with open(file2_path, \"w\") as f2:\n",
    "    for file in part2:\n",
    "        f2.write(\"silence/\" + file + \"\\n\")"
   ]
  },
  {
   "attachments": {},
   "cell_type": "markdown",
   "metadata": {},
   "source": [
    "### Training part"
   ]
  },
  {
   "cell_type": "code",
   "execution_count": 34,
   "metadata": {},
   "outputs": [],
   "source": [
    "with open('train\\\\testing_list.txt', 'r') as file1, open('train\\\\silence_testing_list.txt', 'r') as file2, open('combined.txt', 'w') as outfile:\n",
    "    lines = file1.readlines() + file2.readlines()\n",
    "file_paths_train_silence = [line.strip() for line in lines]"
   ]
  },
  {
   "cell_type": "code",
   "execution_count": 35,
   "metadata": {},
   "outputs": [
    {
     "name": "stderr",
     "output_type": "stream",
     "text": [
      "100%|██████████| 7036/7036 [07:15<00:00, 16.14it/s]\n"
     ]
    }
   ],
   "source": [
    "features_train_silence = []\n",
    "\n",
    "for i, file in tqdm(enumerate(file_paths_train_silence), total=len(file_paths_train_silence), leave=True):\n",
    "    wav_file = os.path.join(dir,file)\n",
    "    wav_file2 = 'working_sample.wav'\n",
    "    label = file.split('/')[0]\n",
    "\n",
    "    # Preprocess the data  (without VAD)\n",
    "    padding(wav_file, wav_file2, 1000)\n",
    "    resample_wav(wav_file2, wav_file2, 8000)\n",
    "\n",
    "    # Extract features\n",
    "    features = extract_features(wav_file2)\n",
    "\n",
    "    # Add to the list\n",
    "    features_train_silence.append([features, label])"
   ]
  },
  {
   "cell_type": "code",
   "execution_count": 36,
   "metadata": {},
   "outputs": [],
   "source": [
    "with open('extracted_features\\\\silence_detection_training.pkl', 'wb') as f:\n",
    "    pickle.dump(features_train_silence, f)"
   ]
  },
  {
   "attachments": {},
   "cell_type": "markdown",
   "metadata": {},
   "source": [
    "### Validation part"
   ]
  },
  {
   "cell_type": "code",
   "execution_count": 37,
   "metadata": {},
   "outputs": [],
   "source": [
    "with open('train\\\\validation_list.txt', 'r') as file1, open('train\\\\silence_validation_list.txt', 'r') as file2:\n",
    "    lines = file1.readlines() + file2.readlines()\n",
    "file_paths_val_silence = [line.strip() for line in lines]"
   ]
  },
  {
   "cell_type": "code",
   "execution_count": 38,
   "metadata": {},
   "outputs": [
    {
     "name": "stderr",
     "output_type": "stream",
     "text": [
      "100%|██████████| 6999/6999 [07:52<00:00, 14.81it/s]\n"
     ]
    }
   ],
   "source": [
    "features_val_silence = []\n",
    "\n",
    "for i, file in tqdm(enumerate(file_paths_val_silence), total=len(file_paths_val_silence), leave=True):\n",
    "    wav_file = os.path.join(dir,file)\n",
    "    wav_file2 = 'working_sample.wav'\n",
    "    label = file.split('/')[0]\n",
    "\n",
    "    # Preprocess the data  (without VAD)\n",
    "    padding(wav_file, wav_file2, 1000)\n",
    "    resample_wav(wav_file2, wav_file2, 8000)\n",
    "\n",
    "    # Extract features\n",
    "    features = extract_features(wav_file2)\n",
    "\n",
    "    # Add to the list\n",
    "    features_val_silence.append([features, label])"
   ]
  },
  {
   "cell_type": "code",
   "execution_count": 39,
   "metadata": {},
   "outputs": [],
   "source": [
    "with open('extracted_features\\\\silence_detection_validation.pkl', 'wb') as f:\n",
    "    pickle.dump(features_val_silence, f)"
   ]
  }
 ],
 "metadata": {
  "kernelspec": {
   "display_name": "venv",
   "language": "python",
   "name": "python3"
  },
  "language_info": {
   "codemirror_mode": {
    "name": "ipython",
    "version": 3
   },
   "file_extension": ".py",
   "mimetype": "text/x-python",
   "name": "python",
   "nbconvert_exporter": "python",
   "pygments_lexer": "ipython3",
   "version": "3.10.7"
  },
  "orig_nbformat": 4
 },
 "nbformat": 4,
 "nbformat_minor": 2
}
