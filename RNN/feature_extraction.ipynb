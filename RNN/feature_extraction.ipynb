{
 "cells": [
  {
   "cell_type": "code",
   "execution_count": 1,
   "metadata": {},
   "outputs": [
    {
     "name": "stderr",
     "output_type": "stream",
     "text": [
      "c:\\Users\\jan20\\PycharmProjects\\PytorchProjects\\venv\\lib\\site-packages\\pydub\\utils.py:170: RuntimeWarning: Couldn't find ffmpeg or avconv - defaulting to ffmpeg, but may not work\n",
      "  warn(\"Couldn't find ffmpeg or avconv - defaulting to ffmpeg, but may not work\", RuntimeWarning)\n"
     ]
    }
   ],
   "source": [
    "import librosa\n",
    "import os\n",
    "from tqdm import tqdm\n",
    "import numpy as np\n",
    "import pandas as pd\n",
    "from dataset import training_dataset\n",
    "from preprocessing import perform_vad, resample_wav, padding\n",
    "from torch.utils.data import DataLoader\n",
    "import pickle"
   ]
  },
  {
   "attachments": {},
   "cell_type": "markdown",
   "metadata": {},
   "source": [
    "# Feature extraction"
   ]
  },
  {
   "attachments": {},
   "cell_type": "markdown",
   "metadata": {},
   "source": [
    "## Training part"
   ]
  },
  {
   "cell_type": "code",
   "execution_count": 2,
   "metadata": {},
   "outputs": [
    {
     "data": {
      "text/plain": [
       "['bed/0c40e715_nohash_0.wav',\n",
       " 'bed/0ea0e2f4_nohash_0.wav',\n",
       " 'bed/0ea0e2f4_nohash_1.wav',\n",
       " 'bed/105a0eea_nohash_0.wav',\n",
       " 'bed/1528225c_nohash_0.wav']"
      ]
     },
     "execution_count": 2,
     "metadata": {},
     "output_type": "execute_result"
    }
   ],
   "source": [
    "labels_path = 'train\\\\testing_list.txt'\n",
    "with open(labels_path, \"r\") as f:\n",
    "    lines = f.readlines()\n",
    "file_paths = [line.strip() for line in lines]\n"
   ]
  },
  {
   "cell_type": "code",
   "execution_count": 12,
   "metadata": {},
   "outputs": [
    {
     "name": "stderr",
     "output_type": "stream",
     "text": [
      "100%|██████████| 6835/6835 [06:57<00:00, 16.39it/s]\n"
     ]
    }
   ],
   "source": [
    "features_train = []\n",
    "\n",
    "for i, file in tqdm(enumerate(file_paths), total=len(file_paths), leave=True):\n",
    "    wav_file = os.path.join('train\\\\audio',file)\n",
    "    wav_file2 = 'working_sample.wav'\n",
    "    label = file.split('/')[0]\n",
    "\n",
    "    perform_vad(wav_file, wav_file2)\n",
    "    padding(wav_file2, wav_file2, 1000)\n",
    "    resample_wav(wav_file2, 8000)\n",
    "    audio, sample_rate = librosa.load(wav_file2)\n",
    "  \n",
    "    mfccs = librosa.feature.mfcc(y=audio, sr=sample_rate, n_mfcc=13)\n",
    "    delta = librosa.feature.delta(mfccs)\n",
    "    delta_delta = librosa.feature.delta(mfccs, order=2)\n",
    " \n",
    "    obs = np.concatenate([mfccs, delta, delta_delta], axis=0)\n",
    "    features_train.append([obs, label])"
   ]
  },
  {
   "attachments": {},
   "cell_type": "markdown",
   "metadata": {},
   "source": [
    "## Validation part"
   ]
  },
  {
   "cell_type": "code",
   "execution_count": 15,
   "metadata": {},
   "outputs": [],
   "source": [
    "with open('features_training.pkl', 'wb') as f:\n",
    "    pickle.dump(features_train, f)"
   ]
  },
  {
   "cell_type": "code",
   "execution_count": 2,
   "metadata": {},
   "outputs": [],
   "source": [
    "labels_path = 'train\\\\validation_list.txt'\n",
    "with open(labels_path, \"r\") as f:\n",
    "    lines = f.readlines()\n",
    "file_paths = [line.strip() for line in lines]"
   ]
  },
  {
   "cell_type": "code",
   "execution_count": 3,
   "metadata": {},
   "outputs": [
    {
     "name": "stderr",
     "output_type": "stream",
     "text": [
      "100%|██████████| 6798/6798 [07:23<00:00, 15.34it/s]\n"
     ]
    }
   ],
   "source": [
    "features_val = []\n",
    "\n",
    "for i, file in tqdm(enumerate(file_paths), total=len(file_paths), leave=True):\n",
    "    wav_file = os.path.join('train\\\\audio',file)\n",
    "    wav_file2 = 'working_sample.wav'\n",
    "    label = file.split('/')[0]\n",
    "\n",
    "    perform_vad(wav_file, wav_file2)\n",
    "    padding(wav_file2, wav_file2, 1000)\n",
    "    resample_wav(wav_file2, 8000)\n",
    "    audio, sample_rate = librosa.load(wav_file2)\n",
    "  \n",
    "    mfccs = librosa.feature.mfcc(y=audio, sr=sample_rate, n_mfcc=13)\n",
    "    delta = librosa.feature.delta(mfccs)\n",
    "    delta_delta = librosa.feature.delta(mfccs, order=2)\n",
    " \n",
    "    obs = np.concatenate([mfccs, delta, delta_delta], axis=0)\n",
    "    features_val.append([obs, label])"
   ]
  },
  {
   "cell_type": "code",
   "execution_count": 4,
   "metadata": {},
   "outputs": [],
   "source": [
    "with open('features_validation.pkl', 'wb') as f:\n",
    "    pickle.dump(features_val, f)"
   ]
  }
 ],
 "metadata": {
  "kernelspec": {
   "display_name": "venv",
   "language": "python",
   "name": "python3"
  },
  "language_info": {
   "codemirror_mode": {
    "name": "ipython",
    "version": 3
   },
   "file_extension": ".py",
   "mimetype": "text/x-python",
   "name": "python",
   "nbconvert_exporter": "python",
   "pygments_lexer": "ipython3",
   "version": "3.10.7"
  },
  "orig_nbformat": 4
 },
 "nbformat": 4,
 "nbformat_minor": 2
}
