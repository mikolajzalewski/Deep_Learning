{
 "cells": [
  {
   "cell_type": "code",
   "execution_count": 1,
   "metadata": {},
   "outputs": [
    {
     "name": "stderr",
     "output_type": "stream",
     "text": [
      "c:\\Users\\jan20\\PycharmProjects\\PytorchProjects\\venv\\lib\\site-packages\\pydub\\utils.py:170: RuntimeWarning: Couldn't find ffmpeg or avconv - defaulting to ffmpeg, but may not work\n",
      "  warn(\"Couldn't find ffmpeg or avconv - defaulting to ffmpeg, but may not work\", RuntimeWarning)\n"
     ]
    }
   ],
   "source": [
    "import librosa\n",
    "import os\n",
    "import pickle\n",
    "from scipy.io import wavfile\n",
    "import numpy as np\n",
    "import pandas as pd\n",
    "import random\n",
    "from pydub import AudioSegment\n",
    "from tqdm import tqdm\n",
    "\n",
    "from preprocessing import perform_vad, resample_wav, padding, cut_wav_into_clips, extract_features\n"
   ]
  },
  {
   "cell_type": "code",
   "execution_count": 5,
   "metadata": {},
   "outputs": [],
   "source": [
    "wav_dir = \"test\\\\audio\""
   ]
  },
  {
   "cell_type": "code",
   "execution_count": 7,
   "metadata": {},
   "outputs": [
    {
     "name": "stderr",
     "output_type": "stream",
     "text": [
      "100%|██████████| 158538/158538 [2:34:39<00:00, 17.08it/s]  \n"
     ]
    }
   ],
   "source": [
    "features_test = []\n",
    "\n",
    "for file in tqdm(os.listdir(wav_dir)):\n",
    "    wav_file2 = 'working_sample.wav'\n",
    "    if file.endswith(\".wav\"):\n",
    "        wav_file = os.path.join(wav_dir, file)\n",
    "        perform_vad(wav_file, wav_file2)\n",
    "        padding(wav_file2, wav_file2, 1000)\n",
    "        resample_wav(wav_file2, wav_file2, 8000)\n",
    "        features = extract_features(wav_file2)\n",
    "    features_test.append(features)"
   ]
  },
  {
   "cell_type": "code",
   "execution_count": 8,
   "metadata": {},
   "outputs": [],
   "source": [
    "with open('extracted_features\\\\features_test.pkl', 'wb') as f:\n",
    "    pickle.dump(features_test, f)"
   ]
  },
  {
   "cell_type": "code",
   "execution_count": null,
   "metadata": {},
   "outputs": [],
   "source": [
    "features_test_silence = []\n",
    "\n",
    "for file in tqdm(os.listdir(wav_dir)):\n",
    "    wav_file2 = 'working_sample.wav'\n",
    "    if file.endswith(\".wav\"):\n",
    "        wav_file = os.path.join(wav_dir, file)\n",
    "        perform_vad(wav_file, wav_file2)\n",
    "        padding(wav_file2, wav_file2, 1000)\n",
    "        resample_wav(wav_file2, wav_file2, 8000)\n",
    "        features = extract_features(wav_file2)\n",
    "    features_test_silence.append(features)"
   ]
  },
  {
   "cell_type": "code",
   "execution_count": null,
   "metadata": {},
   "outputs": [],
   "source": [
    "with open('extracted_features\\\\features_test_silence.pkl', 'wb') as f:\n",
    "    pickle.dump(features_test, f)"
   ]
  }
 ],
 "metadata": {
  "kernelspec": {
   "display_name": "venv",
   "language": "python",
   "name": "python3"
  },
  "language_info": {
   "codemirror_mode": {
    "name": "ipython",
    "version": 3
   },
   "file_extension": ".py",
   "mimetype": "text/x-python",
   "name": "python",
   "nbconvert_exporter": "python",
   "pygments_lexer": "ipython3",
   "version": "3.10.7"
  },
  "orig_nbformat": 4
 },
 "nbformat": 4,
 "nbformat_minor": 2
}
