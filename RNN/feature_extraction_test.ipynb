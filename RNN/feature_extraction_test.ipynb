{
 "cells": [
  {
   "cell_type": "code",
   "execution_count": 2,
   "metadata": {},
   "outputs": [
    {
     "name": "stderr",
     "output_type": "stream",
     "text": [
      "c:\\Users\\jan20\\PycharmProjects\\PytorchProjects\\venv\\lib\\site-packages\\pydub\\utils.py:170: RuntimeWarning: Couldn't find ffmpeg or avconv - defaulting to ffmpeg, but may not work\n",
      "  warn(\"Couldn't find ffmpeg or avconv - defaulting to ffmpeg, but may not work\", RuntimeWarning)\n"
     ]
    }
   ],
   "source": [
    "import librosa\n",
    "import os\n",
    "import pickle\n",
    "from scipy.io import wavfile\n",
    "import numpy as np\n",
    "import pandas as pd\n",
    "import random\n",
    "from pydub import AudioSegment\n",
    "from tqdm import tqdm\n",
    "\n",
    "from preprocessing import perform_vad, resample_wav, padding, cut_wav_into_clips, extract_features\n"
   ]
  },
  {
   "cell_type": "code",
   "execution_count": 3,
   "metadata": {},
   "outputs": [],
   "source": [
    "wav_dir = \"test\\\\audio\""
   ]
  },
  {
   "cell_type": "code",
   "execution_count": 6,
   "metadata": {},
   "outputs": [
    {
     "name": "stdout",
     "output_type": "stream",
     "text": [
      "clip_000044442.wav\n",
      "clip_0000adecb.wav\n",
      "clip_0000d4322.wav\n",
      "clip_0000fb6fe.wav\n",
      "clip_0001d1559.wav\n",
      "clip_0002256ed.wav\n",
      "clip_0002a4a1f.wav\n",
      "clip_0002d9b83.wav\n",
      "clip_000373a5b.wav\n",
      "clip_0003c7122.wav\n",
      "clip_0003e6aee.wav\n"
     ]
    }
   ],
   "source": [
    "k=0\n",
    "for file in os.listdir(wav_dir):\n",
    "    print(file)\n",
    "    k+=1\n",
    "    if k > 10:\n",
    "        break"
   ]
  },
  {
   "cell_type": "code",
   "execution_count": 23,
   "metadata": {},
   "outputs": [],
   "source": [
    "perform_vad('test\\\\audio\\\\clip_ffffc7358.wav', 'working_sample0.wav')"
   ]
  },
  {
   "cell_type": "code",
   "execution_count": 10,
   "metadata": {},
   "outputs": [],
   "source": [
    "import time"
   ]
  },
  {
   "cell_type": "code",
   "execution_count": 17,
   "metadata": {},
   "outputs": [],
   "source": [
    "for i in range(10):\n",
    "    wav_file2 = f'working_sample{i}.wav'\n",
    "    open(wav_file2, \"w\").close()"
   ]
  },
  {
   "cell_type": "code",
   "execution_count": 5,
   "metadata": {},
   "outputs": [],
   "source": [
    "features_test = []\n",
    "silence = []\n",
    "for file in tqdm(os.listdir(wav_dir)):\n",
    "\n",
    "    wav_file2 = 'working_sample.wav'\n",
    "    if file.endswith(\".wav\"):\n",
    "        wav_file = os.path.join(wav_dir, file)\n",
    "        k = perform_vad(wav_file, wav_file2)\n",
    "        padding(wav_file2, wav_file2, 1000)\n",
    "        resample_wav(wav_file2, wav_file2, 8000)\n",
    "        features = extract_features(wav_file2)\n",
    "    features_test.append(features)\n",
    "    if k == 0:\n",
    "        silence.append(0)\n",
    "    else:\n",
    "        silence.append(1)"
   ]
  },
  {
   "cell_type": "code",
   "execution_count": 8,
   "metadata": {},
   "outputs": [],
   "source": [
    "with open('extracted_features\\\\features_test.pkl', 'wb') as f:\n",
    "    pickle.dump(features_test, f)"
   ]
  },
  {
   "cell_type": "code",
   "execution_count": null,
   "metadata": {},
   "outputs": [],
   "source": [
    "features_test_silence = []\n",
    "\n",
    "for file in tqdm(os.listdir(wav_dir)):\n",
    "    wav_file2 = 'working_sample.wav'\n",
    "    if file.endswith(\".wav\"):\n",
    "        wav_file = os.path.join(wav_dir, file)\n",
    "        perform_vad(wav_file, wav_file2)\n",
    "        padding(wav_file2, wav_file2, 1000)\n",
    "        resample_wav(wav_file2, wav_file2, 8000)\n",
    "        features = extract_features(wav_file2)\n",
    "    features_test_silence.append(features)"
   ]
  },
  {
   "cell_type": "code",
   "execution_count": null,
   "metadata": {},
   "outputs": [],
   "source": [
    "with open('extracted_features\\\\features_test_silence.pkl', 'wb') as f:\n",
    "    pickle.dump(features_test, f)"
   ]
  }
 ],
 "metadata": {
  "kernelspec": {
   "display_name": "venv",
   "language": "python",
   "name": "python3"
  },
  "language_info": {
   "codemirror_mode": {
    "name": "ipython",
    "version": 3
   },
   "file_extension": ".py",
   "mimetype": "text/x-python",
   "name": "python",
   "nbconvert_exporter": "python",
   "pygments_lexer": "ipython3",
   "version": "3.10.7"
  },
  "orig_nbformat": 4
 },
 "nbformat": 4,
 "nbformat_minor": 2
}
