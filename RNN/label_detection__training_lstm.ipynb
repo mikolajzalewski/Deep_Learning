{
 "cells": [
  {
   "attachments": {},
   "cell_type": "markdown",
   "metadata": {},
   "source": [
    "# LSTM TRAINING"
   ]
  },
  {
   "cell_type": "code",
   "execution_count": 1,
   "metadata": {},
   "outputs": [],
   "source": [
    "import pandas as pd\n",
    "import numpy as np\n",
    "import random\n",
    "from dataset import label_detection_training, label_detection_validation\n",
    "from models import Lstm, Gru, Transformer"
   ]
  },
  {
   "cell_type": "code",
   "execution_count": 2,
   "metadata": {},
   "outputs": [
    {
     "name": "stdout",
     "output_type": "stream",
     "text": [
      "{'lstm_units': 32, 'dropout_rate': 0.1, 'epoch': 20, 'batch_size': 128, 'learning_rate': 0.001}\n"
     ]
    },
    {
     "ename": "TypeError",
     "evalue": "Gru.__init__() got an unexpected keyword argument 'lstm_units'",
     "output_type": "error",
     "traceback": [
      "\u001b[1;31m---------------------------------------------------------------------------\u001b[0m",
      "\u001b[1;31mTypeError\u001b[0m                                 Traceback (most recent call last)",
      "Cell \u001b[1;32mIn[2], line 20\u001b[0m\n\u001b[0;32m     16\u001b[0m lstm_params \u001b[39m=\u001b[39m {param: random\u001b[39m.\u001b[39mchoice(values) \u001b[39mfor\u001b[39;00m param, values \u001b[39min\u001b[39;00m hyperparameters\u001b[39m.\u001b[39mitems()}\n\u001b[0;32m     17\u001b[0m \u001b[39mprint\u001b[39m(lstm_params)\n\u001b[1;32m---> 20\u001b[0m lstm \u001b[39m=\u001b[39m Gru(\u001b[39m*\u001b[39m\u001b[39m*\u001b[39mlstm_params, num_classes\u001b[39m=\u001b[39m\u001b[39m11\u001b[39m)\n\u001b[0;32m     22\u001b[0m lstm\u001b[39m.\u001b[39mtrain(label_detection_training, label_detection_validation)\n\u001b[0;32m     23\u001b[0m results \u001b[39m=\u001b[39m np\u001b[39m.\u001b[39mconcatenate((results, pd\u001b[39m.\u001b[39mDataFrame([[lstm_params[\u001b[39m'\u001b[39m\u001b[39mlstm_units\u001b[39m\u001b[39m'\u001b[39m], lstm_params[\u001b[39m'\u001b[39m\u001b[39mdropout_rate\u001b[39m\u001b[39m'\u001b[39m], lstm_params[\u001b[39m'\u001b[39m\u001b[39mepoch\u001b[39m\u001b[39m'\u001b[39m], lstm_params[\u001b[39m'\u001b[39m\u001b[39mbatch_size\u001b[39m\u001b[39m'\u001b[39m], lstm_params[\u001b[39m'\u001b[39m\u001b[39mlearning_rate\u001b[39m\u001b[39m'\u001b[39m], lstm\u001b[39m.\u001b[39mhistory\u001b[39m.\u001b[39mhistory[\u001b[39m'\u001b[39m\u001b[39mloss\u001b[39m\u001b[39m'\u001b[39m][\u001b[39m-\u001b[39m\u001b[39m1\u001b[39m], lstm\u001b[39m.\u001b[39mhistory\u001b[39m.\u001b[39mhistory[\u001b[39m'\u001b[39m\u001b[39mloss\u001b[39m\u001b[39m'\u001b[39m], lstm\u001b[39m.\u001b[39mhistory\u001b[39m.\u001b[39mhistory[\u001b[39m'\u001b[39m\u001b[39maccuracy\u001b[39m\u001b[39m'\u001b[39m][\u001b[39m-\u001b[39m\u001b[39m1\u001b[39m], lstm\u001b[39m.\u001b[39mhistory\u001b[39m.\u001b[39mhistory[\u001b[39m'\u001b[39m\u001b[39maccuracy\u001b[39m\u001b[39m'\u001b[39m], lstm\u001b[39m.\u001b[39mhistory\u001b[39m.\u001b[39mhistory[\u001b[39m'\u001b[39m\u001b[39mval_loss\u001b[39m\u001b[39m'\u001b[39m][\u001b[39m-\u001b[39m\u001b[39m1\u001b[39m], lstm\u001b[39m.\u001b[39mhistory\u001b[39m.\u001b[39mhistory[\u001b[39m'\u001b[39m\u001b[39mval_loss\u001b[39m\u001b[39m'\u001b[39m], lstm\u001b[39m.\u001b[39mhistory\u001b[39m.\u001b[39mhistory[\u001b[39m'\u001b[39m\u001b[39mval_accuracy\u001b[39m\u001b[39m'\u001b[39m][\u001b[39m-\u001b[39m\u001b[39m1\u001b[39m], lstm\u001b[39m.\u001b[39mhistory\u001b[39m.\u001b[39mhistory[\u001b[39m'\u001b[39m\u001b[39mval_accuracy\u001b[39m\u001b[39m'\u001b[39m]]], \n\u001b[0;32m     24\u001b[0m                                                                     columns\u001b[39m=\u001b[39m[\u001b[39m'\u001b[39m\u001b[39mgru_units\u001b[39m\u001b[39m'\u001b[39m, \u001b[39m'\u001b[39m\u001b[39mdropout_rate\u001b[39m\u001b[39m'\u001b[39m, \u001b[39m'\u001b[39m\u001b[39mepoch\u001b[39m\u001b[39m'\u001b[39m, \u001b[39m'\u001b[39m\u001b[39mbatch\u001b[39m\u001b[39m'\u001b[39m, \u001b[39m'\u001b[39m\u001b[39mlearning_rate\u001b[39m\u001b[39m'\u001b[39m, \u001b[39m'\u001b[39m\u001b[39mloss\u001b[39m\u001b[39m'\u001b[39m, \u001b[39m'\u001b[39m\u001b[39mloss_max\u001b[39m\u001b[39m'\u001b[39m, \u001b[39m'\u001b[39m\u001b[39maccuracy\u001b[39m\u001b[39m'\u001b[39m, \u001b[39m'\u001b[39m\u001b[39maccuracy_max\u001b[39m\u001b[39m'\u001b[39m, \u001b[39m'\u001b[39m\u001b[39mval_loss\u001b[39m\u001b[39m'\u001b[39m, \u001b[39m'\u001b[39m\u001b[39mval_loss_max\u001b[39m\u001b[39m'\u001b[39m, \u001b[39m'\u001b[39m\u001b[39mval_accuracy\u001b[39m\u001b[39m'\u001b[39m, \u001b[39m'\u001b[39m\u001b[39mval_accuracy_max\u001b[39m\u001b[39m'\u001b[39m])), axis\u001b[39m=\u001b[39m\u001b[39m0\u001b[39m)\n",
      "\u001b[1;31mTypeError\u001b[0m: Gru.__init__() got an unexpected keyword argument 'lstm_units'"
     ]
    }
   ],
   "source": [
    "results = pd.DataFrame(columns=['lstm_units', 'dropout_rate', 'epoch', 'batch', 'learning_rate', 'loss', 'loss_max', 'accuracy', 'accuracy_max', 'val_loss', 'val_loss_max', 'val_accuracy', 'val_accuracy_max'])\n",
    "\n",
    "hyperparameters = {\n",
    "    'lstm_units': [32, 64, 128],\n",
    "    'dropout_rate': [0.1, 0.2, 0.3, 0.4, 0.5],\n",
    "    'epoch': [10, 15, 20, 25],\n",
    "    'batch_size': [16, 32, 64, 128],\n",
    "    'learning_rate': [0.0001, 0.001, 0.01]\n",
    "}\n",
    "\n",
    "\n",
    "n_iter = 10\n",
    "\n",
    "for n in range(n_iter):\n",
    "    \n",
    "    lstm_params = {param: random.choice(values) for param, values in hyperparameters.items()}\n",
    "    print(lstm_params)\n",
    "\n",
    " \n",
    "    lstm = Lstm(**lstm_params, num_classes=11)\n",
    "\n",
    "    lstm.train(label_detection_training, label_detection_validation)\n",
    "    results = np.concatenate((results, pd.DataFrame([[lstm_params['lstm_units'], lstm_params['dropout_rate'], lstm_params['epoch'], lstm_params['batch_size'], lstm_params['learning_rate'], lstm.history.history['loss'][-1], lstm.history.history['loss'], lstm.history.history['accuracy'][-1], lstm.history.history['accuracy'], lstm.history.history['val_loss'][-1], lstm.history.history['val_loss'], lstm.history.history['val_accuracy'][-1], lstm.history.history['val_accuracy']]], \n",
    "                                                                        columns=['gru_units', 'dropout_rate', 'epoch', 'batch', 'learning_rate', 'loss', 'loss_max', 'accuracy', 'accuracy_max', 'val_loss', 'val_loss_max', 'val_accuracy', 'val_accuracy_max'])), axis=0)\n",
    "\n",
    "    \n",
    "\n"
   ]
  },
  {
   "cell_type": "code",
   "execution_count": null,
   "metadata": {},
   "outputs": [],
   "source": [
    "results = pd.DataFrame(results)\n",
    "results"
   ]
  }
 ],
 "metadata": {
  "kernelspec": {
   "display_name": "venv",
   "language": "python",
   "name": "python3"
  },
  "language_info": {
   "codemirror_mode": {
    "name": "ipython",
    "version": 3
   },
   "file_extension": ".py",
   "mimetype": "text/x-python",
   "name": "python",
   "nbconvert_exporter": "python",
   "pygments_lexer": "ipython3",
   "version": "3.10.7"
  },
  "orig_nbformat": 4
 },
 "nbformat": 4,
 "nbformat_minor": 2
}
