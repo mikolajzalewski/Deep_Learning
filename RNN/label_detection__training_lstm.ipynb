{
 "cells": [
  {
   "attachments": {},
   "cell_type": "markdown",
   "metadata": {},
   "source": [
    "# GRU TRAINING"
   ]
  },
  {
   "cell_type": "code",
   "execution_count": 3,
   "metadata": {},
   "outputs": [],
   "source": [
    "import pandas as pd\n",
    "import numpy as np\n",
    "import random\n",
    "from dataset import label_detection_training, label_detection_validation\n",
    "from models import Lstm, Gru, Transformer"
   ]
  },
  {
   "cell_type": "code",
   "execution_count": 4,
   "metadata": {},
   "outputs": [
    {
     "name": "stdout",
     "output_type": "stream",
     "text": [
      "{'gru_units': 128, 'dropout_rate': 0.5, 'epoch': 10, 'batch_size': 16, 'learning_rate': 0.001}\n",
      "Epoch 1/10\n",
      " 559/3621 [===>..........................] - ETA: 7:05 - loss: 2.2673 - accuracy: 0.4151"
     ]
    }
   ],
   "source": [
    "import random\n",
    "\n",
    "results = pd.DataFrame(columns=['lstm_units', 'dropout_rate', 'epoch', 'batch', 'learning_rate', 'loss', 'loss_max', 'accuracy', 'accuracy_max', 'val_loss', 'val_loss_max', 'val_accuracy', 'val_accuracy_max'])\n",
    "\n",
    "# Define hyperparameters to search over\n",
    "hyperparameters = {\n",
    "    'lstm_units': [32, 64, 128],\n",
    "    'dropout_rate': [0.1, 0.2, 0.3, 0.4, 0.5],\n",
    "    'epoch': [10, 15, 20, 25],\n",
    "    'batch_size': [16, 32, 64, 128],\n",
    "    'learning_rate': [0.0001, 0.001, 0.01]\n",
    "}\n",
    "\n",
    "#number of trials\n",
    "n_iter = 10\n",
    "for n in range(n_iter):\n",
    "    # Randomly sample hyperparameters\n",
    "    lstm_params = {param: random.choice(values) for param, values in hyperparameters.items()}\n",
    "    print(lstm_params)\n",
    "\n",
    "    # Create an instance of the Gru class with the randomly sampled hyperparameters\n",
    "    lstm = Gru(**lstm_params, num_classes=11)\n",
    "\n",
    "    # Train the model on your training dataset\n",
    "    lstm.train(label_detection_training, label_detection_validation)\n",
    "    results = np.concatenate((results, pd.DataFrame([[lstm_params['lstm_units'], lstm_params['dropout_rate'], lstm_params['epoch'], lstm_params['batch_size'], lstm_params['learning_rate'], lstm.history.history['loss'][-1], lstm.history.history['loss'], lstm.history.history['accuracy'][-1], lstm.history.history['accuracy'], lstm.history.history['val_loss'][-1], lstm.history.history['val_loss'], lstm.history.history['val_accuracy'][-1], lstm.history.history['val_accuracy']]], \n",
    "                                                                        columns=['gru_units', 'dropout_rate', 'epoch', 'batch', 'learning_rate', 'loss', 'loss_max', 'accuracy', 'accuracy_max', 'val_loss', 'val_loss_max', 'val_accuracy', 'val_accuracy_max'])), axis=0)\n",
    "\n",
    "    \n",
    "\n"
   ]
  },
  {
   "cell_type": "code",
   "execution_count": null,
   "metadata": {},
   "outputs": [],
   "source": [
    "results = pd.DataFrame(results)\n",
    "results"
   ]
  }
 ],
 "metadata": {
  "kernelspec": {
   "display_name": "venv",
   "language": "python",
   "name": "python3"
  },
  "language_info": {
   "codemirror_mode": {
    "name": "ipython",
    "version": 3
   },
   "file_extension": ".py",
   "mimetype": "text/x-python",
   "name": "python",
   "nbconvert_exporter": "python",
   "pygments_lexer": "ipython3",
   "version": "3.10.7"
  },
  "orig_nbformat": 4
 },
 "nbformat": 4,
 "nbformat_minor": 2
}
