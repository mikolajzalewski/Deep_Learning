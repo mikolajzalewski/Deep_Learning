{
 "cells": [
  {
   "cell_type": "code",
   "execution_count": 1,
   "metadata": {},
   "outputs": [],
   "source": [
    "import pandas as pd\n",
    "import numpy as np\n",
    "import os\n",
    "from sklearn.model_selection import train_test_split"
   ]
  },
  {
   "cell_type": "code",
   "execution_count": 2,
   "metadata": {},
   "outputs": [],
   "source": [
    "image_train_path = 'Cifar10\\\\train'\n",
    "image_labels_path = 'Cifar10\\\\trainLabels_backup.csv'\n",
    "image_val_path = 'Cifar10\\\\val'"
   ]
  },
  {
   "cell_type": "code",
   "execution_count": null,
   "metadata": {},
   "outputs": [],
   "source": [
    "# duplicate the trainLabels.csv file as trainLabels_backup.csv"
   ]
  },
  {
   "cell_type": "code",
   "execution_count": 4,
   "metadata": {},
   "outputs": [],
   "source": [
    "df = pd.read_csv(image_labels_path, header=0)\n",
    "X, y = df['id'].values, df['label']\n",
    "X_train, X_val, y_train, y_val = train_test_split(X, y, test_size=0.2, stratify=y)\n",
    "index_train = list(range(1, int(0.8 * len(y)) + 1))\n",
    "index_val = list(range(1, int(0.2 * len(y)) + 1))\n",
    "\n",
    "df_train = pd.DataFrame({'id': index_train, 'label': y_train})\n",
    "df_val = pd.DataFrame({'id': index_val, 'label': y_val})"
   ]
  },
  {
   "cell_type": "code",
   "execution_count": 5,
   "metadata": {},
   "outputs": [],
   "source": [
    "df_train.to_csv('trainLabels.csv', index=False)\n",
    "df_val.to_csv('valLabels.csv', index=False)"
   ]
  },
  {
   "attachments": {},
   "cell_type": "markdown",
   "metadata": {},
   "source": [
    "### Check if there is good number of each class in training and validation set"
   ]
  },
  {
   "cell_type": "code",
   "execution_count": 6,
   "metadata": {},
   "outputs": [],
   "source": [
    "def class_count(y):\n",
    "\n",
    "    unique_labels = np.unique(y)\n",
    "    counts = {}\n",
    "\n",
    "    for label in unique_labels:\n",
    "        counts[label] = np.sum(y == label)\n",
    "    \n",
    "    return counts"
   ]
  },
  {
   "cell_type": "code",
   "execution_count": 7,
   "metadata": {},
   "outputs": [
    {
     "name": "stdout",
     "output_type": "stream",
     "text": [
      "{'airplane': 4000, 'automobile': 4000, 'bird': 4000, 'cat': 4000, 'deer': 4000, 'dog': 4000, 'frog': 4000, 'horse': 4000, 'ship': 4000, 'truck': 4000} {'airplane': 1000, 'automobile': 1000, 'bird': 1000, 'cat': 1000, 'deer': 1000, 'dog': 1000, 'frog': 1000, 'horse': 1000, 'ship': 1000, 'truck': 1000}\n"
     ]
    }
   ],
   "source": [
    "print(class_count(y_train), class_count(y_val))"
   ]
  },
  {
   "attachments": {},
   "cell_type": "markdown",
   "metadata": {},
   "source": [
    "### Move and rename images "
   ]
  },
  {
   "attachments": {},
   "cell_type": "markdown",
   "metadata": {},
   "source": [
    "#### In validation folder"
   ]
  },
  {
   "cell_type": "code",
   "execution_count": null,
   "metadata": {},
   "outputs": [],
   "source": [
    "# add subfolder 'val' in cifar10 folder"
   ]
  },
  {
   "cell_type": "code",
   "execution_count": 9,
   "metadata": {},
   "outputs": [],
   "source": [
    "i = 1\n",
    "for index in X_val:\n",
    "    os.rename(os.path.join(image_train_path, str(index) + '.png'), os.path.join(image_val_path, str(i) + '.png'))\n",
    "    i+=1"
   ]
  },
  {
   "attachments": {},
   "cell_type": "markdown",
   "metadata": {},
   "source": [
    "#### In training folder"
   ]
  },
  {
   "cell_type": "code",
   "execution_count": 10,
   "metadata": {},
   "outputs": [],
   "source": [
    "i = 1\n",
    "for index in X_train:\n",
    "    os.rename(os.path.join(image_train_path, str(index) + '.png'), os.path.join(image_train_path, str(i) + 'x.png'))\n",
    "    i+=1\n",
    "for j in range(len(y_train)):\n",
    "    os.rename(os.path.join(image_train_path, str(j+1) + 'x.png'), os.path.join(image_train_path, str(j+1) + '.png'))"
   ]
  },
  {
   "cell_type": "code",
   "execution_count": null,
   "metadata": {},
   "outputs": [],
   "source": [
    "# at the end remove the trainLabels_backup.csv file from cifar10 folder and move there the trainLabels.csv and valLabels.csv files"
   ]
  }
 ],
 "metadata": {
  "kernelspec": {
   "display_name": "venv",
   "language": "python",
   "name": "python3"
  },
  "language_info": {
   "codemirror_mode": {
    "name": "ipython",
    "version": 3
   },
   "file_extension": ".py",
   "mimetype": "text/x-python",
   "name": "python",
   "nbconvert_exporter": "python",
   "pygments_lexer": "ipython3",
   "version": "3.10.8"
  },
  "orig_nbformat": 4
 },
 "nbformat": 4,
 "nbformat_minor": 2
}
