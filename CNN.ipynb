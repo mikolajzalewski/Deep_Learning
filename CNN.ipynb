{
 "cells": [
  {
   "cell_type": "code",
   "execution_count": 1,
   "metadata": {},
   "outputs": [
    {
     "name": "stderr",
     "output_type": "stream",
     "text": [
      "c:\\Users\\mikol\\AppData\\Local\\Programs\\Python\\Python310\\lib\\site-packages\\tqdm\\auto.py:22: TqdmWarning: IProgress not found. Please update jupyter and ipywidgets. See https://ipywidgets.readthedocs.io/en/stable/user_install.html\n",
      "  from .autonotebook import tqdm as notebook_tqdm\n"
     ]
    }
   ],
   "source": [
    "import torch\n",
    "import torch.nn as nn\n",
    "import torch.optim as optim\n",
    "import datasets\n",
    "from torch.utils.data import DataLoader\n",
    "from torchvision.datasets import MNIST\n",
    "from torchvision.transforms import ToTensor\n",
    "from tqdm import tqdm\n"
   ]
  },
  {
   "cell_type": "code",
   "execution_count": 12,
   "metadata": {},
   "outputs": [],
   "source": [
    "# Hyperparameters\n",
    "# num_classes = 10\n",
    "# learning_rate = 0.001\n",
    "# batch_size = 64\n",
    "# num_epochs = 5\n",
    "# optimizer = optim.Adam\n",
    "# activation_func = nn.ReLU()\n",
    "# dropout_rate = 0.1\n",
    "# no_neurons = 128\n",
    "# criterion = nn.CrossEntropyLoss()\n",
    "# kernel_size=3\n",
    "# stride=1\n",
    "# padding=1\n",
    "# number_of_filters0=32\n",
    "# number_of_filters1=32\n",
    "# length_of_input0=32\n",
    "\n",
    "\n",
    "\n",
    "class CNN_3_class(nn.Module):\n",
    "    def __init__(self, num_classes = 10\n",
    "                    ,kernel_size=3\n",
    "                    ,stride=1\n",
    "                    ,padding=1\n",
    "                    ,number_of_filters0=32\n",
    "                    ,number_of_filters1=32\n",
    "                    ,length_of_input0=32\n",
    "                    ,no_neurons = 128):\n",
    "        super(CNN_3_class, self).__init__()\n",
    "        self.conv1 = nn.Conv2d(3, number_of_filters0, kernel_size, stride, padding)\n",
    "        self.pool1 = nn.MaxPool2d(2)\n",
    "        length_of_input1 = self.Conv2d_output_size(length_of_input0, kernel_size, stride, padding)/2\n",
    "        self.conv2 = nn.Conv2d(number_of_filters0, number_of_filters1, kernel_size, stride, padding)\n",
    "        self.pool2 = nn.MaxPool2d(2)\n",
    "        length_of_input2 = self.Conv2d_output_size(length_of_input1, kernel_size, stride, padding)/2\n",
    "        self.fc1 = nn.Linear(int(number_of_filters1*length_of_input2*length_of_input2), no_neurons)\n",
    "        self.fc2 = nn.Linear(no_neurons, num_classes)\n",
    "        # parameters\n",
    "        self.num_classes = num_classes\n",
    "        self.kernel_size = kernel_size\n",
    "        self.stride = stride\n",
    "        self.padding = padding\n",
    "        self.number_of_filters0 = number_of_filters0\n",
    "        self.number_of_filters1 = number_of_filters1\n",
    "        self.length_of_input0 = length_of_input0\n",
    "        self.no_neurons = no_neurons\n",
    "\n",
    "\n",
    "    def Conv2d_output_size(self, w, k, s, p):\n",
    "        '''\n",
    "        w - width of input image\n",
    "        k - kernel size\n",
    "        s - stride\n",
    "        p - padding\n",
    "        '''\n",
    "        return (w - k + 2 * p) / s + 1\n",
    "        \n",
    "    def forward(self, x):\n",
    "        x = self.pool1(torch.relu(self.conv1(x)))\n",
    "        length_of_input1 = self.Conv2d_output_size(self.length_of_input0, self.kernel_size, self.stride, self.padding)/2\n",
    "        x = self.pool2(torch.relu(self.conv2(x)))\n",
    "        length_of_input2 = self.Conv2d_output_size(length_of_input1, self.kernel_size, self.stride, self.padding)/2\n",
    "        x = x.view(-1, int(self.number_of_filters1*length_of_input2*length_of_input2))\n",
    "        x = torch.relu(self.fc1(x))\n",
    "        x = self.fc2(x)\n",
    "        return x\n",
    "    \n",
    "    def train_step(self, data, optimizer, criterion):\n",
    "        x, y = data\n",
    "\n",
    "        optimizer.zero_grad()\n",
    "\n",
    "        logits = self(x)\n",
    "        loss = criterion(logits, y)\n",
    "        loss.backward()\n",
    "        optimizer.step()\n",
    "\n",
    "        accuracy = (logits.argmax(dim=1) == y).float().mean()\n",
    "\n",
    "        return {'loss': loss, 'accuracy': accuracy}\n",
    "\n",
    "    def test_step(self, data, criterion):\n",
    "        x, y = data\n",
    "\n",
    "        logits = self(x)\n",
    "        loss = criterion(logits, y)\n",
    "        accuracy = (logits.argmax(dim=1) == y).float().mean()\n",
    "\n",
    "        return {'loss': loss, 'accuracy': accuracy}"
   ]
  },
  {
   "cell_type": "code",
   "execution_count": 13,
   "metadata": {},
   "outputs": [],
   "source": [
    "\n",
    "test_loader = datasets.val_loader\n",
    "train_loader = datasets.train_loader\n",
    "augmentation1_loader = datasets.augmentation1_loader\n",
    "augmentation2_loader = datasets.augmentation2_loader"
   ]
  },
  {
   "cell_type": "code",
   "execution_count": 18,
   "metadata": {},
   "outputs": [
    {
     "name": "stdout",
     "output_type": "stream",
     "text": [
      "Epoch 1/2\n"
     ]
    },
    {
     "name": "stderr",
     "output_type": "stream",
     "text": [
      "100%|██████████| 1250/1250 [02:30<00:00,  8.31it/s]\n"
     ]
    },
    {
     "name": "stdout",
     "output_type": "stream",
     "text": [
      "Train loss: 1.6507, Train accuracy: 0.3935\n"
     ]
    },
    {
     "name": "stderr",
     "output_type": "stream",
     "text": [
      "100%|██████████| 313/313 [00:49<00:00,  6.30it/s]\n"
     ]
    },
    {
     "name": "stdout",
     "output_type": "stream",
     "text": [
      "Validation loss: 1.4032, Validation accuracy: 0.4810\n",
      "Epoch 2/2\n"
     ]
    },
    {
     "name": "stderr",
     "output_type": "stream",
     "text": [
      "100%|██████████| 1250/1250 [00:52<00:00, 23.60it/s]\n"
     ]
    },
    {
     "name": "stdout",
     "output_type": "stream",
     "text": [
      "Train loss: 1.3090, Train accuracy: 0.5227\n"
     ]
    },
    {
     "name": "stderr",
     "output_type": "stream",
     "text": [
      "100%|██████████| 313/313 [00:06<00:00, 45.12it/s]"
     ]
    },
    {
     "name": "stdout",
     "output_type": "stream",
     "text": [
      "Validation loss: 1.2547, Validation accuracy: 0.5353\n"
     ]
    },
    {
     "name": "stderr",
     "output_type": "stream",
     "text": [
      "\n"
     ]
    }
   ],
   "source": [
    "learning_rate = 0.001\n",
    "# batch_size = 64 TEGO NIE UZYWAMY A JESLI CHCEMY TO W LOADERZE TRZEBA DODAC\n",
    "num_epochs = 2\n",
    "optimizer = optim.Adam\n",
    "activation_func = nn.ReLU()\n",
    "# dropout_rate = 0.1\n",
    "criterion = nn.CrossEntropyLoss()\n",
    "\n",
    "# Create model, criterion, and optimizer\n",
    "model = CNN_3_class(num_classes = 10,\n",
    "                    kernel_size=3,\n",
    "                    stride=1,\n",
    "                    padding=1,\n",
    "                    number_of_filters0=64,\n",
    "                    number_of_filters1=64,\n",
    "                    length_of_input0=32,\n",
    "                    no_neurons = 16)\n",
    "\n",
    "optimizer = optim.Adam(model.parameters(), lr=learning_rate)\n",
    "\n",
    "# Train the model\n",
    "epochs = num_epochs\n",
    "for epoch in range(epochs):\n",
    "    print(f'Epoch {epoch+1}/{epochs}')\n",
    "    train_losses = []\n",
    "    train_accuracies = []\n",
    "    for data in tqdm(train_loader):\n",
    "        results = model.train_step(data, optimizer, criterion)\n",
    "        train_losses.append(results['loss'].item())\n",
    "        train_accuracies.append(results['accuracy'].item())\n",
    "\n",
    "    # Calculate average training loss and accuracy for the epoch\n",
    "    avg_train_loss = sum(train_losses) / len(train_losses)\n",
    "    avg_train_accuracy = sum(train_accuracies) / len(train_accuracies)\n",
    "    print(f'Train loss: {avg_train_loss:.4f}, Train accuracy: {avg_train_accuracy:.4f}')\n",
    "\n",
    "    # Test the model\n",
    "    val_losses = []\n",
    "    val_accuracies = []\n",
    "    with torch.no_grad():\n",
    "        for data in tqdm(test_loader):\n",
    "            results = model.test_step(data, criterion)\n",
    "            val_losses.append(results['loss'].item())\n",
    "            val_accuracies.append(results['accuracy'].item())\n",
    "\n",
    "    # Calculate average test loss and accuracy for the epoch\n",
    "    avg_validation_loss = sum(val_losses) / len(val_losses)\n",
    "    avg_validation_accuracy = sum(val_accuracies) / len(val_accuracies)\n",
    "    print(f'Validation loss: {avg_validation_loss:.4f}, Validation accuracy: {avg_validation_accuracy:.4f}')\n"
   ]
  },
  {
   "attachments": {},
   "cell_type": "markdown",
   "metadata": {},
   "source": [
    "### CNN from article about weighted random search"
   ]
  },
  {
   "cell_type": "code",
   "execution_count": null,
   "metadata": {},
   "outputs": [],
   "source": [
    "import torch\n",
    "import torch.nn as nn\n",
    "import torch.optim as optim\n",
    "import datasets\n",
    "from torch.utils.data import DataLoader\n",
    "from torchvision.datasets import MNIST\n",
    "from torchvision.transforms import ToTensor\n",
    "from tqdm import tqdm\n",
    "\n",
    "class MyCNN(nn.Module):\n",
    "    def __init__(self):\n",
    "        super(MyCNN, self).__init__()\n",
    "        self.conv1 = nn.Conv2d(in_channels=3, out_channels=736, kernel_size=3, padding=1)\n",
    "        self.conv2 = nn.Conv2d(in_channels=736, out_channels=508, kernel_size=3, padding=1)\n",
    "        self.maxpool1 = nn.MaxPool2d(kernel_size=2, stride=2)\n",
    "        self.conv3 = nn.Conv2d(in_channels=508, out_channels=664, kernel_size=3, padding=1)\n",
    "        self.conv4 = nn.Conv2d(in_channels=664, out_channels=916, kernel_size=3, padding=1)\n",
    "        self.maxpool2 = nn.MaxPool2d(kernel_size=2, stride=2)\n",
    "        self.conv5 = nn.Conv2d(in_channels=916, out_channels=186, kernel_size=3, padding=1)\n",
    "        self.conv6 = nn.Conv2d(in_channels=186, out_channels=352, kernel_size=3, padding=1)\n",
    "        self.linear = nn.Linear(in_features=22528, out_features=1229)\n",
    "        self.output = nn.Linear(in_features=1229, out_features=num_classes)\n",
    "\n",
    "    def forward(self, x):\n",
    "        x = self.conv1(x)\n",
    "        x = nn.functional.relu(x)\n",
    "        x = self.conv2(x)\n",
    "        x = nn.functional.relu(x)\n",
    "        x = self.maxpool1(x)\n",
    "        x = self.conv3(x)\n",
    "        x = nn.functional.relu(x)\n",
    "        x = self.conv4(x)\n",
    "        x = nn.functional.relu(x)\n",
    "        x = self.maxpool2(x)\n",
    "        x = self.conv5(x)\n",
    "        x = nn.functional.relu(x)\n",
    "        x = self.conv6(x)\n",
    "        x = nn.functional.relu(x)\n",
    "        x = x.view(x.size(0), -1)\n",
    "        x = self.linear(x)\n",
    "        x = nn.functional.relu(x)\n",
    "        x = self.output(x)\n",
    "        return x\n",
    "\n",
    "\n",
    "\n",
    "    def train_step(self, data, optimizer, criterion):\n",
    "        x, y = data\n",
    "\n",
    "        optimizer.zero_grad()\n",
    "\n",
    "        logits = self(x)\n",
    "        loss = criterion(logits, y)\n",
    "        loss.backward()\n",
    "        optimizer.step()\n",
    "\n",
    "        accuracy = (logits.argmax(dim=1) == y).float().mean()\n",
    "\n",
    "        return {'loss': loss, 'accuracy': accuracy}\n",
    "\n",
    "    def test_step(self, data, criterion):\n",
    "        x, y = data\n",
    "\n",
    "        logits = self(x)\n",
    "        loss = criterion(logits, y)\n",
    "        accuracy = (logits.argmax(dim=1) == y).float().mean()\n",
    "\n",
    "        return {'loss': loss, 'accuracy': accuracy}"
   ]
  }
 ],
 "metadata": {
  "kernelspec": {
   "display_name": "Python 3",
   "language": "python",
   "name": "python3"
  },
  "language_info": {
   "codemirror_mode": {
    "name": "ipython",
    "version": 3
   },
   "file_extension": ".py",
   "mimetype": "text/x-python",
   "name": "python",
   "nbconvert_exporter": "python",
   "pygments_lexer": "ipython3",
   "version": "3.10.8"
  },
  "orig_nbformat": 4
 },
 "nbformat": 4,
 "nbformat_minor": 2
}
