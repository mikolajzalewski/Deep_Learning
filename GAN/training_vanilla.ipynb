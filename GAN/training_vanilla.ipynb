{
 "cells": [
  {
   "attachments": {},
   "cell_type": "markdown",
   "metadata": {},
   "source": [
    "# Imports"
   ]
  },
  {
   "cell_type": "code",
   "execution_count": 1,
   "metadata": {},
   "outputs": [],
   "source": [
    "import torch\n",
    "import torch.nn as nn\n",
    "import torch.optim as optim\n",
    "import torchvision.datasets as dset\n",
    "import matplotlib.pyplot as plt\n",
    "\n",
    "from torchvision.models import inception_v3\n",
    "from torchvision import transforms\n",
    "from torch.utils.data import DataLoader\n",
    "from gan_package.gan import GAN\n",
    "from gan_package.vanillaGAN import VanillaGAN_Generator, VanillaGAN_Discriminator"
   ]
  },
  {
   "attachments": {},
   "cell_type": "markdown",
   "metadata": {},
   "source": [
    "# Create dataset"
   ]
  },
  {
   "cell_type": "code",
   "execution_count": 2,
   "metadata": {},
   "outputs": [],
   "source": [
    "image_size = 256\n",
    "batch_size = 256\n",
    "root = 'lsun/bedroom'\n",
    "\n",
    "dataset = dset.ImageFolder(root=root,\n",
    "                           transform=transforms.Compose([\n",
    "                               transforms.Resize(image_size),\n",
    "                               transforms.CenterCrop(image_size),\n",
    "                               transforms.ToTensor(),\n",
    "                               transforms.Normalize((0.5, 0.5, 0.5), (0.5, 0.5, 0.5)),\n",
    "                           ]))\n",
    "dataloader = DataLoader(dataset, batch_size=batch_size, shuffle=True, num_workers=2)\n",
    "    "
   ]
  },
  {
   "attachments": {},
   "cell_type": "markdown",
   "metadata": {},
   "source": [
    "# Set parameters"
   ]
  },
  {
   "cell_type": "code",
   "execution_count": null,
   "metadata": {},
   "outputs": [],
   "source": [
    "batch_size = 256\n",
    "learning_rate_gen = 0.0005\n",
    "learning_rate_dis = 0.005"
   ]
  },
  {
   "cell_type": "code",
   "execution_count": null,
   "metadata": {},
   "outputs": [],
   "source": [
    "img_shape = dataloader.dataset[0][0].shape\n",
    "n_out = torch.prod(torch.tensor(img_shape))\n",
    "latent_dim = 100\n",
    "\n",
    "inception_model = inception_v3(pretrained=True, transform_input=False, aux_logits=True)\n",
    "vanilla_generator = VanillaGAN_Generator(latent_dim=latent_dim, img_shape=img_shape, n_out=n_out)\n",
    "vanilla_discriminator = VanillaGAN_Discriminator(img_shape=img_shape)\n",
    "vanilla_gan = GAN(generator=vanilla_generator, discriminator=vanilla_discriminator, inception_model=inception_model)\n",
    "\n",
    "\n",
    "criterion = nn.BCELoss()\n",
    "\n",
    "vanilla_generator_optimizer = optim.Adam(vanilla_generator.parameters(), lr=learning_rate_gen)\n",
    "vanilla_discriminator_optimizer = optim.Adam(vanilla_discriminator.parameters(), lr=learning_rate_dis)"
   ]
  },
  {
   "attachments": {},
   "cell_type": "markdown",
   "metadata": {},
   "source": [
    "# Training loop"
   ]
  },
  {
   "cell_type": "code",
   "execution_count": 4,
   "metadata": {},
   "outputs": [
    {
     "name": "stderr",
     "output_type": "stream",
     "text": [
      "  3%|▎         | 41/1185 [10:19<4:15:19, 13.39s/it]"
     ]
    }
   ],
   "source": [
    "vanilla_gan.train(dataset=dataset,\n",
    "                    dataloader=dataloader,\n",
    "                    discriminator_optimizer=vanilla_discriminator_optimizer,\n",
    "                    generator_optimizer=vanilla_generator_optimizer,\n",
    "                    criterion=criterion,\n",
    "                    num_epochs=20)"
   ]
  },
  {
   "cell_type": "code",
   "execution_count": null,
   "metadata": {},
   "outputs": [],
   "source": [
    "vanilla_gan.save_generator('models/vanilla_generator.pt')\n",
    "vanilla_gan.save_discriminator('models/vanilla_discriminator.pt')"
   ]
  }
 ],
 "metadata": {
  "kernelspec": {
   "display_name": "venv",
   "language": "python",
   "name": "python3"
  },
  "language_info": {
   "codemirror_mode": {
    "name": "ipython",
    "version": 3
   },
   "file_extension": ".py",
   "mimetype": "text/x-python",
   "name": "python",
   "nbconvert_exporter": "python",
   "pygments_lexer": "ipython3",
   "version": "3.10.7"
  },
  "orig_nbformat": 4
 },
 "nbformat": 4,
 "nbformat_minor": 2
}
