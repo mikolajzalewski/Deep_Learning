{
 "cells": [
  {
   "cell_type": "code",
   "execution_count": 14,
   "metadata": {},
   "outputs": [
    {
     "name": "stdout",
     "output_type": "stream",
     "text": [
      "D:\\deep\\data0\\lsun\\bedroom\\0\\0\\0\n",
      "D:\\deep\\data0\\lsun\\bedroom\\0\\0\\1\n",
      "D:\\deep\\data0\\lsun\\bedroom\\0\\0\\2\n",
      "D:\\deep\\data0\\lsun\\bedroom\\0\\0\\3\n",
      "D:\\deep\\data0\\lsun\\bedroom\\0\\0\\4\n",
      "D:\\deep\\data0\\lsun\\bedroom\\0\\0\\5\n",
      "D:\\deep\\data0\\lsun\\bedroom\\0\\0\\6\n",
      "D:\\deep\\data0\\lsun\\bedroom\\0\\0\\7\n",
      "D:\\deep\\data0\\lsun\\bedroom\\0\\0\\8\n",
      "D:\\deep\\data0\\lsun\\bedroom\\0\\0\\9\n",
      "D:\\deep\\data0\\lsun\\bedroom\\0\\0\\a\n",
      "D:\\deep\\data0\\lsun\\bedroom\\0\\0\\b\n",
      "D:\\deep\\data0\\lsun\\bedroom\\0\\0\\c\n",
      "D:\\deep\\data0\\lsun\\bedroom\\0\\0\\d\n",
      "D:\\deep\\data0\\lsun\\bedroom\\0\\0\\e\n",
      "D:\\deep\\data0\\lsun\\bedroom\\0\\0\\f\n"
     ]
    }
   ],
   "source": [
    "import os\n",
    "import cv2\n",
    "import numpy as np\n",
    "\n",
    "# Ścieżka do folderu z danymi LSUN\n",
    "dataset_path = \"D:\\\\deep\\\\data0\\\\lsun\\\\bedroom\"\n",
    "\n",
    "# Funkcja do odczytywania zdjęć z folderu\n",
    "def load_images_from_folder(folder_path):\n",
    "    images = []\n",
    "    for root, _, files in os.walk(folder_path):\n",
    "        for file in files:\n",
    "            if file.endswith(\".jpg\"):\n",
    "                image_path = os.path.join(root, file)\n",
    "                image = cv2.imread(image_path)\n",
    "                if image is not None:\n",
    "                    images.append(image)\n",
    "    return images\n",
    "\n",
    "# Przykładowe użycie\n",
    "images = []\n",
    "for folder1 in [0]:\n",
    "    for folder2 in [0]:\n",
    "        for folder3 in [0,1,2,3,4,5,6,7,8,9,'a','b','c','d','e','f']:\n",
    "            print(os.path.join(dataset_path, str(folder1), str(folder2), str(folder3)))\n",
    "            current_folder_path = os.path.join(dataset_path, str(folder1), str(folder2), str(folder3))\n",
    "            images += load_images_from_folder(current_folder_path)\n",
    "\n",
    "\n"
   ]
  },
  {
   "cell_type": "code",
   "execution_count": 15,
   "metadata": {},
   "outputs": [],
   "source": [
    "import numpy as np\n",
    "\n",
    "def reshape_matrices(array):\n",
    "    size_x = 64\n",
    "    size_y = 64\n",
    "    size_z = 3\n",
    "\n",
    "    num_matrices = array.shape[0]\n",
    "    reshaped_array = np.zeros((num_matrices, size_x, size_y, size_z))\n",
    "\n",
    "    for i in range(num_matrices):\n",
    "        reshaped_array[i] = np.resize(array[i], (size_x, size_y, size_z))\n",
    "\n",
    "    return reshaped_array\n"
   ]
  },
  {
   "cell_type": "code",
   "execution_count": 16,
   "metadata": {},
   "outputs": [
    {
     "name": "stderr",
     "output_type": "stream",
     "text": [
      "C:\\Users\\mikol\\AppData\\Local\\Temp\\ipykernel_18044\\46907662.py:2: VisibleDeprecationWarning: Creating an ndarray from ragged nested sequences (which is a list-or-tuple of lists-or-tuples-or ndarrays with different lengths or shapes) is deprecated. If you meant to do this, you must specify 'dtype=object' when creating the ndarray.\n",
      "  images = np.array(images)\n",
      "c:\\Users\\mikol\\AppData\\Local\\Programs\\Python\\Python310\\lib\\site-packages\\tqdm\\auto.py:22: TqdmWarning: IProgress not found. Please update jupyter and ipywidgets. See https://ipywidgets.readthedocs.io/en/stable/user_install.html\n",
      "  from .autonotebook import tqdm as notebook_tqdm\n"
     ]
    }
   ],
   "source": [
    "# preprocessing by resizing images to 64x64 and normalizing them\n",
    "images = np.array(images)\n",
    "images = images / 255.\n",
    "images = reshape_matrices(images)\n",
    "\n",
    "# convert images to tensors\n",
    "import torch\n",
    "images = torch.from_numpy(images)\n",
    "\n",
    "# save tensors to file\n",
    "torch.save(images, 'lsun_bedroom.pt')"
   ]
  },
  {
   "cell_type": "code",
   "execution_count": 18,
   "metadata": {},
   "outputs": [
    {
     "data": {
      "text/plain": [
       "torch.Size([1208, 64, 64, 3])"
      ]
     },
     "execution_count": 18,
     "metadata": {},
     "output_type": "execute_result"
    }
   ],
   "source": [
    "images.shape"
   ]
  },
  {
   "cell_type": "code",
   "execution_count": null,
   "metadata": {},
   "outputs": [],
   "source": []
  }
 ],
 "metadata": {
  "kernelspec": {
   "display_name": "Python 3",
   "language": "python",
   "name": "python3"
  },
  "language_info": {
   "codemirror_mode": {
    "name": "ipython",
    "version": 3
   },
   "file_extension": ".py",
   "mimetype": "text/x-python",
   "name": "python",
   "nbconvert_exporter": "python",
   "pygments_lexer": "ipython3",
   "version": "3.10.8"
  },
  "orig_nbformat": 4
 },
 "nbformat": 4,
 "nbformat_minor": 2
}
